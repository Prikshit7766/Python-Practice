{
 "cells": [
  {
   "cell_type": "markdown",
   "id": "171424ff",
   "metadata": {},
   "source": [
    "# function \n"
   ]
  },
  {
   "cell_type": "code",
   "execution_count": 1,
   "id": "50737e8a",
   "metadata": {},
   "outputs": [],
   "source": [
    "def test(a,b):\n",
    "    return a+b\n",
    "\n",
    "    "
   ]
  },
  {
   "cell_type": "code",
   "execution_count": 2,
   "id": "99148c02",
   "metadata": {},
   "outputs": [
    {
     "data": {
      "text/plain": [
       "10"
      ]
     },
     "execution_count": 2,
     "metadata": {},
     "output_type": "execute_result"
    }
   ],
   "source": [
    "test(2,8)"
   ]
  },
  {
   "cell_type": "code",
   "execution_count": 3,
   "id": "12d75da7",
   "metadata": {},
   "outputs": [
    {
     "data": {
      "text/plain": [
       "'hiswsws'"
      ]
     },
     "execution_count": 3,
     "metadata": {},
     "output_type": "execute_result"
    }
   ],
   "source": [
    "test(\"hi\",\"swsws\") # no docstring is avilable   \n"
   ]
  },
  {
   "cell_type": "code",
   "execution_count": null,
   "id": "5e866476",
   "metadata": {},
   "outputs": [],
   "source": [
    "print() #doc string is avilable "
   ]
  },
  {
   "cell_type": "code",
   "execution_count": null,
   "id": "c03b8262",
   "metadata": {},
   "outputs": [],
   "source": [
    "# docstring is a readable info  , by default is avialbe with the inbuild functions \n",
    "# so we can create our own doc string "
   ]
  },
  {
   "cell_type": "code",
   "execution_count": 4,
   "id": "4c9baa82",
   "metadata": {},
   "outputs": [],
   "source": [
    "# to do that\n",
    "def test(a,b):\n",
    "    '''this is my function  for concatination or addition'''\n",
    "    return a+b\n"
   ]
  },
  {
   "cell_type": "code",
   "execution_count": 6,
   "id": "d9ea6c99",
   "metadata": {},
   "outputs": [
    {
     "data": {
      "text/plain": [
       "10"
      ]
     },
     "execution_count": 6,
     "metadata": {},
     "output_type": "execute_result"
    }
   ],
   "source": [
    "test(2,8) # use shift + tab so see it"
   ]
  },
  {
   "cell_type": "code",
   "execution_count": 8,
   "id": "f8062e31",
   "metadata": {},
   "outputs": [],
   "source": [
    "def test1(a,b,c,d,e):\n",
    "    return a,b,c,d,e"
   ]
  },
  {
   "cell_type": "code",
   "execution_count": 9,
   "id": "31e1d955",
   "metadata": {},
   "outputs": [
    {
     "ename": "TypeError",
     "evalue": "test() takes 5 positional arguments but 8 were given",
     "output_type": "error",
     "traceback": [
      "\u001b[1;31m---------------------------------------------------------------------------\u001b[0m",
      "\u001b[1;31mTypeError\u001b[0m                                 Traceback (most recent call last)",
      "\u001b[1;32m<ipython-input-9-597f1ce9433a>\u001b[0m in \u001b[0;36m<module>\u001b[1;34m\u001b[0m\n\u001b[1;32m----> 1\u001b[1;33m \u001b[0mtest\u001b[0m\u001b[1;33m(\u001b[0m\u001b[1;36m1\u001b[0m\u001b[1;33m,\u001b[0m\u001b[1;36m2\u001b[0m\u001b[1;33m,\u001b[0m\u001b[1;36m3\u001b[0m\u001b[1;33m,\u001b[0m\u001b[1;36m4\u001b[0m\u001b[1;33m,\u001b[0m\u001b[1;36m5\u001b[0m\u001b[1;33m,\u001b[0m\u001b[1;36m6\u001b[0m\u001b[1;33m,\u001b[0m\u001b[1;36m7\u001b[0m\u001b[1;33m,\u001b[0m\u001b[1;36m8\u001b[0m\u001b[1;33m)\u001b[0m\u001b[1;33m\u001b[0m\u001b[1;33m\u001b[0m\u001b[0m\n\u001b[0m",
      "\u001b[1;31mTypeError\u001b[0m: test() takes 5 positional arguments but 8 were given"
     ]
    }
   ],
   "source": [
    "test(1,2,3,4,5,6,7,8) # it ecpecting 5 element but you have passed more"
   ]
  },
  {
   "cell_type": "code",
   "execution_count": 13,
   "id": "fa378a88",
   "metadata": {},
   "outputs": [],
   "source": [
    "# to avoid this limitation\n",
    "def test(*a):\n",
    "    return (a)"
   ]
  },
  {
   "cell_type": "code",
   "execution_count": 14,
   "id": "2e986261",
   "metadata": {},
   "outputs": [
    {
     "data": {
      "text/plain": [
       "(1, 2, 3, 4, 5)"
      ]
     },
     "execution_count": 14,
     "metadata": {},
     "output_type": "execute_result"
    }
   ],
   "source": [
    "\n",
    "test(1,2,3,4,5)"
   ]
  },
  {
   "cell_type": "code",
   "execution_count": 16,
   "id": "c7b10280",
   "metadata": {},
   "outputs": [],
   "source": [
    "def test3(*arg):\n",
    "    return arg"
   ]
  },
  {
   "cell_type": "code",
   "execution_count": 17,
   "id": "fb0480fd",
   "metadata": {},
   "outputs": [
    {
     "data": {
      "text/plain": [
       "(34, 23, 321)"
      ]
     },
     "execution_count": 17,
     "metadata": {},
     "output_type": "execute_result"
    }
   ],
   "source": [
    "test3(34,23,321)"
   ]
  },
  {
   "cell_type": "code",
   "execution_count": 20,
   "id": "ec47dc7e",
   "metadata": {},
   "outputs": [],
   "source": [
    "# as if now ir is returning as tuple  by default but what if we need list\n",
    "def test5(*a):\n",
    "    l=[]\n",
    "    for i in a:\n",
    "        l.append(i)\n",
    "    return l"
   ]
  },
  {
   "cell_type": "code",
   "execution_count": 22,
   "id": "683ac7c0",
   "metadata": {},
   "outputs": [
    {
     "data": {
      "text/plain": [
       "[2, 3, 4, 'dfsd', 5456, 'dddc5', 5, 't', [23, 444, 34, 4, 433, 4]]"
      ]
     },
     "execution_count": 22,
     "metadata": {},
     "output_type": "execute_result"
    }
   ],
   "source": [
    "test5(2,3,4,\"dfsd\",5456,\"dddc5\",5,\"t\",[23,444,34,4,433,4])"
   ]
  },
  {
   "cell_type": "code",
   "execution_count": 24,
   "id": "d59106e3",
   "metadata": {},
   "outputs": [
    {
     "data": {
      "text/plain": [
       "[1]"
      ]
     },
     "execution_count": 24,
     "metadata": {},
     "output_type": "execute_result"
    }
   ],
   "source": [
    "test5(1)"
   ]
  },
  {
   "cell_type": "code",
   "execution_count": 25,
   "id": "f0e7c1a6",
   "metadata": {},
   "outputs": [],
   "source": [
    "def test6(a,b,c,d,*m):\n",
    "    return a,b,c,d,m"
   ]
  },
  {
   "cell_type": "code",
   "execution_count": 26,
   "id": "0f5ed49f",
   "metadata": {},
   "outputs": [
    {
     "data": {
      "text/plain": [
       "(1, 2, 3, 4, (5, 6, 7, 8, 9, 0, 111))"
      ]
     },
     "execution_count": 26,
     "metadata": {},
     "output_type": "execute_result"
    }
   ],
   "source": [
    "test6(1,2,3,4,5,6,7,8,9,0,111,)"
   ]
  },
  {
   "cell_type": "code",
   "execution_count": 29,
   "id": "c2cb6a62",
   "metadata": {},
   "outputs": [],
   "source": [
    "def test7(*m,a,d,c,b,n,g):\n",
    "    return m,a,d,c,b,n,g"
   ]
  },
  {
   "cell_type": "code",
   "execution_count": 30,
   "id": "98de7841",
   "metadata": {},
   "outputs": [
    {
     "ename": "TypeError",
     "evalue": "test7() missing 6 required keyword-only arguments: 'a', 'd', 'c', 'b', 'n', and 'g'",
     "output_type": "error",
     "traceback": [
      "\u001b[1;31m---------------------------------------------------------------------------\u001b[0m",
      "\u001b[1;31mTypeError\u001b[0m                                 Traceback (most recent call last)",
      "\u001b[1;32m<ipython-input-30-a0f39c854de9>\u001b[0m in \u001b[0;36m<module>\u001b[1;34m\u001b[0m\n\u001b[1;32m----> 1\u001b[1;33m \u001b[0mtest7\u001b[0m\u001b[1;33m(\u001b[0m\u001b[1;36m4\u001b[0m\u001b[1;33m,\u001b[0m\u001b[1;36m5\u001b[0m\u001b[1;33m,\u001b[0m\u001b[1;36m6\u001b[0m\u001b[1;33m,\u001b[0m\u001b[1;36m7\u001b[0m\u001b[1;33m,\u001b[0m\u001b[1;36m8\u001b[0m\u001b[1;33m,\u001b[0m\u001b[1;36m9\u001b[0m\u001b[1;33m,\u001b[0m\u001b[1;36m0\u001b[0m\u001b[1;33m,\u001b[0m\u001b[1;36m1\u001b[0m\u001b[1;33m,\u001b[0m\u001b[1;36m2\u001b[0m\u001b[1;33m,\u001b[0m\u001b[1;36m3\u001b[0m\u001b[1;33m,\u001b[0m\u001b[1;36m4\u001b[0m\u001b[1;33m,\u001b[0m\u001b[1;36m5\u001b[0m\u001b[1;33m,\u001b[0m\u001b[1;36m6\u001b[0m\u001b[1;33m,\u001b[0m\u001b[1;36m7\u001b[0m\u001b[1;33m,\u001b[0m\u001b[1;36m8\u001b[0m\u001b[1;33m,\u001b[0m\u001b[1;36m9\u001b[0m\u001b[1;33m,\u001b[0m\u001b[1;36m0\u001b[0m\u001b[1;33m)\u001b[0m\u001b[1;33m\u001b[0m\u001b[1;33m\u001b[0m\u001b[0m\n\u001b[0m",
      "\u001b[1;31mTypeError\u001b[0m: test7() missing 6 required keyword-only arguments: 'a', 'd', 'c', 'b', 'n', and 'g'"
     ]
    }
   ],
   "source": [
    "test7(4,5,6,7,8,9,0,1,2,3,4,5,6,7,8,9,0)\n",
    "\n",
    "#TypeError: test7() missing 6 required keyword-only arguments: 'a', 'd', 'c', 'b', 'n', and 'g'\n"
   ]
  },
  {
   "cell_type": "code",
   "execution_count": 32,
   "id": "d497efb0",
   "metadata": {},
   "outputs": [
    {
     "data": {
      "text/plain": [
       "((4, 5, 6, 7), 8, 9, 0, 1, 2, 3)"
      ]
     },
     "execution_count": 32,
     "metadata": {},
     "output_type": "execute_result"
    }
   ],
   "source": [
    "# to solve this \n",
    "test7(4,5,6,7,a=8,d=9,c=0,b=1,n=2,g=3)\n"
   ]
  },
  {
   "cell_type": "code",
   "execution_count": 33,
   "id": "5ec36e56",
   "metadata": {},
   "outputs": [
    {
     "ename": "SyntaxError",
     "evalue": "invalid syntax (<ipython-input-33-8d2d0cd22ec0>, line 1)",
     "output_type": "error",
     "traceback": [
      "\u001b[1;36m  File \u001b[1;32m\"<ipython-input-33-8d2d0cd22ec0>\"\u001b[1;36m, line \u001b[1;32m1\u001b[0m\n\u001b[1;33m    def (*a,*b):\u001b[0m\n\u001b[1;37m        ^\u001b[0m\n\u001b[1;31mSyntaxError\u001b[0m\u001b[1;31m:\u001b[0m invalid syntax\n"
     ]
    }
   ],
   "source": [
    "def (*a,*b):\n",
    "    pass\n",
    "# we can not used two "
   ]
  },
  {
   "cell_type": "code",
   "execution_count": 34,
   "id": "e805c674",
   "metadata": {},
   "outputs": [],
   "source": [
    "# for passing keyword kind of thing  like key -value\n",
    "\n",
    "def test8(**a):\n",
    "    return a"
   ]
  },
  {
   "cell_type": "code",
   "execution_count": 38,
   "id": "6d715b68",
   "metadata": {},
   "outputs": [
    {
     "ename": "SyntaxError",
     "evalue": "invalid syntax (<ipython-input-38-20cd6becb0d4>, line 1)",
     "output_type": "error",
     "traceback": [
      "\u001b[1;36m  File \u001b[1;32m\"<ipython-input-38-20cd6becb0d4>\"\u001b[1;36m, line \u001b[1;32m1\u001b[0m\n\u001b[1;33m    test8(3:88) # as it is expecting dict kind of thing\u001b[0m\n\u001b[1;37m           ^\u001b[0m\n\u001b[1;31mSyntaxError\u001b[0m\u001b[1;31m:\u001b[0m invalid syntax\n"
     ]
    }
   ],
   "source": [
    "test8(3:88) # as it is expecting dict kind of thing"
   ]
  },
  {
   "cell_type": "code",
   "execution_count": 46,
   "id": "00c9ac9f",
   "metadata": {},
   "outputs": [
    {
     "data": {
      "text/plain": [
       "{'b': 1, 'c': 4, 'a': 44, 'd': [1, 2, 3, 4]}"
      ]
     },
     "execution_count": 46,
     "metadata": {},
     "output_type": "execute_result"
    }
   ],
   "source": [
    "test8(b = 1,c=4,a=44,d=[1,2,3,4])"
   ]
  },
  {
   "cell_type": "code",
   "execution_count": 45,
   "id": "47f07cef",
   "metadata": {},
   "outputs": [],
   "source": [
    "d={'b': 1, 'c': 4, 'a': 44, 'd': [1,2,3,4]}"
   ]
  },
  {
   "cell_type": "code",
   "execution_count": 44,
   "id": "85bcaa70",
   "metadata": {},
   "outputs": [
    {
     "ename": "TypeError",
     "evalue": "test8() takes 0 positional arguments but 1 was given",
     "output_type": "error",
     "traceback": [
      "\u001b[1;31m---------------------------------------------------------------------------\u001b[0m",
      "\u001b[1;31mTypeError\u001b[0m                                 Traceback (most recent call last)",
      "\u001b[1;32m<ipython-input-44-d7ad81b53beb>\u001b[0m in \u001b[0;36m<module>\u001b[1;34m\u001b[0m\n\u001b[1;32m----> 1\u001b[1;33m \u001b[0mtest8\u001b[0m\u001b[1;33m(\u001b[0m\u001b[0md\u001b[0m\u001b[1;33m)\u001b[0m\u001b[1;31m# not going to consider\u001b[0m\u001b[1;33m\u001b[0m\u001b[1;33m\u001b[0m\u001b[0m\n\u001b[0m",
      "\u001b[1;31mTypeError\u001b[0m: test8() takes 0 positional arguments but 1 was given"
     ]
    }
   ],
   "source": [
    "test8(d)# not going to consider"
   ]
  },
  {
   "cell_type": "code",
   "execution_count": 49,
   "id": "c592bb29",
   "metadata": {},
   "outputs": [],
   "source": [
    "def test9(*m,**s):\n",
    "    return (m,s)"
   ]
  },
  {
   "cell_type": "code",
   "execution_count": 52,
   "id": "a3ad955a",
   "metadata": {},
   "outputs": [
    {
     "data": {
      "text/plain": [
       "((2, 3, 4, 5, 6, 7), {'b': 1, 'c': 4, 'a': 44, 'd': [1, 2, 3, 4]})"
      ]
     },
     "execution_count": 52,
     "metadata": {},
     "output_type": "execute_result"
    }
   ],
   "source": [
    "test9 (2,3,4,5,6,7,b = 1,c=4,a=44,d=[1,2,3,4])"
   ]
  },
  {
   "cell_type": "code",
   "execution_count": 57,
   "id": "8353afba",
   "metadata": {},
   "outputs": [],
   "source": [
    "def test10(*m):\n",
    "    n=0\n",
    "    for i in m:\n",
    "        if type(i) == int:\n",
    "            n=n+1\n",
    "    return n"
   ]
  },
  {
   "cell_type": "code",
   "execution_count": 59,
   "id": "63a505a7",
   "metadata": {},
   "outputs": [
    {
     "data": {
      "text/plain": [
       "12"
      ]
     },
     "execution_count": 59,
     "metadata": {},
     "output_type": "execute_result"
    }
   ],
   "source": [
    "test10(1,2,3,4,5,6,79,9,9,9,9,9)"
   ]
  },
  {
   "cell_type": "code",
   "execution_count": 61,
   "id": "63ec2df4",
   "metadata": {},
   "outputs": [],
   "source": [
    "def test11(*m):\n",
    "    n=-1\n",
    "    for i in m:\n",
    "        if type(i) == int:\n",
    "            n=n*i\n",
    "    return n"
   ]
  },
  {
   "cell_type": "code",
   "execution_count": 62,
   "id": "4cb886bc",
   "metadata": {},
   "outputs": [
    {
     "data": {
      "text/plain": [
       "-3358707120"
      ]
     },
     "execution_count": 62,
     "metadata": {},
     "output_type": "execute_result"
    }
   ],
   "source": [
    "test11(1,2,3,4,5,6,79,9,9,9,9,9)"
   ]
  },
  {
   "cell_type": "code",
   "execution_count": 64,
   "id": "9a60ee6f",
   "metadata": {},
   "outputs": [],
   "source": [
    "# function without a name- lamda function or anonymous function \n",
    "\n"
   ]
  },
  {
   "cell_type": "code",
   "execution_count": 66,
   "id": "38183b49",
   "metadata": {},
   "outputs": [],
   "source": [
    "n=lambda  a,b :a+b # for simple logic \n",
    "# no name "
   ]
  },
  {
   "cell_type": "code",
   "execution_count": 72,
   "id": "0ba5499d",
   "metadata": {},
   "outputs": [
    {
     "data": {
      "text/plain": [
       "4"
      ]
     },
     "execution_count": 72,
     "metadata": {},
     "output_type": "execute_result"
    }
   ],
   "source": [
    "n(1,3) # to call it we are using n as we are storing the function in n\n",
    "#here er are passing a and b"
   ]
  },
  {
   "cell_type": "code",
   "execution_count": 69,
   "id": "b9244458",
   "metadata": {},
   "outputs": [],
   "source": [
    "def test5(a,b):\n",
    "    return a+b\n",
    "# given a name to function"
   ]
  },
  {
   "cell_type": "code",
   "execution_count": 70,
   "id": "903a48b2",
   "metadata": {},
   "outputs": [
    {
     "data": {
      "text/plain": [
       "4"
      ]
     },
     "execution_count": 70,
     "metadata": {},
     "output_type": "execute_result"
    }
   ],
   "source": [
    "test5(1,3)"
   ]
  },
  {
   "cell_type": "code",
   "execution_count": 76,
   "id": "8b6e5236",
   "metadata": {},
   "outputs": [],
   "source": [
    "b= lambda *a: a"
   ]
  },
  {
   "cell_type": "code",
   "execution_count": 77,
   "id": "16ed7023",
   "metadata": {},
   "outputs": [
    {
     "data": {
      "text/plain": [
       "(4, 5, 6)"
      ]
     },
     "execution_count": 77,
     "metadata": {},
     "output_type": "execute_result"
    }
   ],
   "source": [
    "b(4,5,6)"
   ]
  },
  {
   "cell_type": "markdown",
   "id": "b04e6e77",
   "metadata": {},
   "source": [
    "# comprehension operation in python\n"
   ]
  },
  {
   "cell_type": "code",
   "execution_count": 80,
   "id": "d10b588d",
   "metadata": {},
   "outputs": [],
   "source": [
    "t=(3,4,5,6,7,8,9,11,223,4)\n",
    "l=[]\n",
    "for i in t :\n",
    "    l.append(i)\n"
   ]
  },
  {
   "cell_type": "code",
   "execution_count": 81,
   "id": "cfa50e50",
   "metadata": {},
   "outputs": [
    {
     "data": {
      "text/plain": [
       "[3, 4, 5, 6, 7, 8, 9, 11, 223, 4]"
      ]
     },
     "execution_count": 81,
     "metadata": {},
     "output_type": "execute_result"
    }
   ],
   "source": [
    "l"
   ]
  },
  {
   "cell_type": "code",
   "execution_count": 82,
   "id": "86870b3a",
   "metadata": {},
   "outputs": [
    {
     "data": {
      "text/plain": [
       "[3, 4, 5, 6, 7, 8, 9, 11, 223, 4]"
      ]
     },
     "execution_count": 82,
     "metadata": {},
     "output_type": "execute_result"
    }
   ],
   "source": [
    "# other way\n",
    "[i for i in t]# for in in t then return i ( written in the left side which we have to return)"
   ]
  },
  {
   "cell_type": "code",
   "execution_count": 84,
   "id": "ac3413b3",
   "metadata": {},
   "outputs": [],
   "source": [
    "a=\"sudh\"\n",
    "# convert it into list using comprehension operation "
   ]
  },
  {
   "cell_type": "code",
   "execution_count": 85,
   "id": "417d903c",
   "metadata": {},
   "outputs": [
    {
     "data": {
      "text/plain": [
       "['s', 'u', 'd', 'h']"
      ]
     },
     "execution_count": 85,
     "metadata": {},
     "output_type": "execute_result"
    }
   ],
   "source": [
    "[i for i in a] # here we are not calling append operation "
   ]
  },
  {
   "cell_type": "code",
   "execution_count": 87,
   "id": "6faf5071",
   "metadata": {},
   "outputs": [
    {
     "data": {
      "text/plain": [
       "[0, 1, 4, 9, 16, 25, 36, 49, 64, 81, 100]"
      ]
     },
     "execution_count": 87,
     "metadata": {},
     "output_type": "execute_result"
    }
   ],
   "source": [
    " # list of square of numbers till 10\n",
    "[i*i for i in range(0,11) ]"
   ]
  },
  {
   "cell_type": "code",
   "execution_count": 92,
   "id": "c856e13d",
   "metadata": {},
   "outputs": [],
   "source": [
    "# or \n",
    "l=[]\n",
    "for i in range(11):\n",
    "    l.append(i*i)\n",
    "    "
   ]
  },
  {
   "cell_type": "code",
   "execution_count": 93,
   "id": "529c8b16",
   "metadata": {},
   "outputs": [
    {
     "data": {
      "text/plain": [
       "[0, 1, 4, 9, 16, 25, 36, 49, 64, 81, 100]"
      ]
     },
     "execution_count": 93,
     "metadata": {},
     "output_type": "execute_result"
    }
   ],
   "source": [
    "l"
   ]
  },
  {
   "cell_type": "code",
   "execution_count": 104,
   "id": "dfdf9976",
   "metadata": {},
   "outputs": [],
   "source": [
    "#lambd + comprehension function\n",
    "\n",
    "l=lambda *x : [i for i in x]"
   ]
  },
  {
   "cell_type": "code",
   "execution_count": 107,
   "id": "7c4712fe",
   "metadata": {},
   "outputs": [
    {
     "data": {
      "text/plain": [
       "[1, 2, 3, 4]"
      ]
     },
     "execution_count": 107,
     "metadata": {},
     "output_type": "execute_result"
    }
   ],
   "source": [
    "l(1,2,3,4)"
   ]
  },
  {
   "cell_type": "code",
   "execution_count": 115,
   "id": "141352ad",
   "metadata": {},
   "outputs": [],
   "source": [
    "l=lambda *x : [i**2 for i in x]"
   ]
  },
  {
   "cell_type": "code",
   "execution_count": 116,
   "id": "06811c69",
   "metadata": {},
   "outputs": [
    {
     "data": {
      "text/plain": [
       "[1, 4, 9, 16]"
      ]
     },
     "execution_count": 116,
     "metadata": {},
     "output_type": "execute_result"
    }
   ],
   "source": [
    "l(1,2,3,4)"
   ]
  },
  {
   "cell_type": "code",
   "execution_count": 124,
   "id": "5d3b6331",
   "metadata": {},
   "outputs": [],
   "source": [
    "def test14(**k):\n",
    "    l=[]\n",
    "    for i in k.items():\n",
    "        if type(i[0])==str:\n",
    "            l.append(i[0])\n",
    "        if type(i[1])==str:\n",
    "            l.append(i[1])\n",
    "    return len(l)"
   ]
  },
  {
   "cell_type": "code",
   "execution_count": 125,
   "id": "ddcd6342",
   "metadata": {},
   "outputs": [
    {
     "data": {
      "text/plain": [
       "7"
      ]
     },
     "execution_count": 125,
     "metadata": {},
     "output_type": "execute_result"
    }
   ],
   "source": [
    "# find how many time  string is passed\n",
    "test14(a=7,n=\"sudh\",c=354,d=\"sudh\",i=[2,3,4,5,'sudh'])"
   ]
  },
  {
   "cell_type": "code",
   "execution_count": 127,
   "id": "b14b01c1",
   "metadata": {},
   "outputs": [],
   "source": [
    "def test15(**z):\n",
    "    return list(z.\n",
    "                values())"
   ]
  },
  {
   "cell_type": "code",
   "execution_count": 128,
   "id": "d3333a9d",
   "metadata": {},
   "outputs": [
    {
     "data": {
      "text/plain": [
       "[7, 'sudh', 354, 'sudh', [2, 3, 4, 5, 'sudh']]"
      ]
     },
     "execution_count": 128,
     "metadata": {},
     "output_type": "execute_result"
    }
   ],
   "source": [
    "test15(a=7,n=\"sudh\",c=354,d=\"sudh\",i=[2,3,4,5,'sudh'])"
   ]
  },
  {
   "cell_type": "code",
   "execution_count": null,
   "id": "5e895e22",
   "metadata": {},
   "outputs": [],
   "source": []
  }
 ],
 "metadata": {
  "kernelspec": {
   "display_name": "Python 3",
   "language": "python",
   "name": "python3"
  },
  "language_info": {
   "codemirror_mode": {
    "name": "ipython",
    "version": 3
   },
   "file_extension": ".py",
   "mimetype": "text/x-python",
   "name": "python",
   "nbconvert_exporter": "python",
   "pygments_lexer": "ipython3",
   "version": "3.6.13"
  }
 },
 "nbformat": 4,
 "nbformat_minor": 5
}
