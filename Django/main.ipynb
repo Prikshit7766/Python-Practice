{
 "cells": [
  {
   "cell_type": "markdown",
   "metadata": {},
   "source": [
    "# Django \n",
    "\n",
    "Django is a high-level Python web framework that encourages rapid development and clean, pragmatic design. A Django project can consist of multiple apps, where each app is designed to do one specific thing."
   ]
  },
  {
   "cell_type": "markdown",
   "metadata": {
    "vscode": {
     "languageId": "bat"
    }
   },
   "source": [
    "### Topic \n",
    "\n",
    "- Url Routing And Django Apps\n",
    "- Django Template Language\n",
    "- Sending Data To Template File\n",
    "- Building A Word Counter In Django"
   ]
  },
  {
   "cell_type": "markdown",
   "metadata": {
    "vscode": {
     "languageId": "plaintext"
    }
   },
   "source": [
    "### commands \n",
    "\n",
    "-  Creating a New Project\n",
    "\n",
    "    ```bash\n",
    "    django-admin startproject myproject\n",
    "    ```\n",
    "    It sets up the basic directory structure needed for a Django project, including the main settings, URLs, WSGI, and ASGI configuration files.\n",
    "\n",
    "- Creating a New App\n",
    "\n",
    "    ```bash\n",
    "    python manage.py startapp myapp\n",
    "    ```\n",
    "    \n",
    "    This command creates a new app named myapp within your Django project. Apps are modules that encapsulate specific functionalities. An app can be reused in multiple projects.\n",
    "\n",
    "\n",
    "   **Resulting Structure:**\n",
    "\n",
    "    ```bash\n",
    "    myapp/\n",
    "        __init__.py\n",
    "        admin.py\n",
    "        apps.py\n",
    "        models.py\n",
    "        tests.py\n",
    "        views.py\n",
    "        migrations/\n",
    "            __init__.py\n",
    "\n",
    "    ```\n",
    "\n",
    "- Running the Development Server\n",
    "\n",
    "    ```bash\n",
    "    python manage.py runserver\n",
    "    ```\n",
    "\n",
    "    This command starts the Django development server."
   ]
  },
  {
   "cell_type": "markdown",
   "metadata": {},
   "source": []
  }
 ],
 "metadata": {
  "language_info": {
   "name": "python"
  }
 },
 "nbformat": 4,
 "nbformat_minor": 2
}
