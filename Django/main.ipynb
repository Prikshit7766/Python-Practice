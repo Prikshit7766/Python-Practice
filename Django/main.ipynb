{
 "cells": [
  {
   "cell_type": "markdown",
   "metadata": {},
   "source": [
    "# Django \n",
    "\n",
    "Django is a high-level Python web framework that encourages rapid development and clean, pragmatic design. A Django project can consist of multiple apps, where each app is designed to do one specific thing."
   ]
  },
  {
   "cell_type": "markdown",
   "metadata": {
    "vscode": {
     "languageId": "bat"
    }
   },
   "source": [
    "### Topic \n",
    "\n",
    "- Url Routing And Django Apps\n",
    "- Django Template Language\n",
    "- Sending Data To Template File\n",
    "- Building A Word Counter In Django\n",
    "- Get vs Post In Django\n",
    "- Static Files In Django\n",
    "- Introduction To Django Models\n",
    "- Django Admin Panel & Manipulation Of Database\n",
    "- User Registration In Django\n",
    "- User Login And Logout In Django"
   ]
  },
  {
   "cell_type": "markdown",
   "metadata": {
    "vscode": {
     "languageId": "plaintext"
    }
   },
   "source": [
    "### commands \n",
    "\n",
    "-  Creating a New Project\n",
    "\n",
    "    ```bash\n",
    "    django-admin startproject myproject\n",
    "    ```\n",
    "    It sets up the basic directory structure needed for a Django project, including the main settings, URLs, WSGI, and ASGI configuration files.\n",
    "\n",
    "- Creating a New App\n",
    "\n",
    "    ```bash\n",
    "    python manage.py startapp myapp\n",
    "    ```\n",
    "    \n",
    "    This command creates a new app named myapp within your Django project. Apps are modules that encapsulate specific functionalities. An app can be reused in multiple projects.\n",
    "\n",
    "\n",
    "   **Resulting Structure:**\n",
    "\n",
    "    ```bash\n",
    "    myapp/\n",
    "        __init__.py\n",
    "        admin.py\n",
    "        apps.py\n",
    "        models.py\n",
    "        tests.py\n",
    "        views.py\n",
    "        migrations/\n",
    "            __init__.py\n",
    "\n",
    "    ```\n",
    "\n",
    "- Running the Development Server\n",
    "\n",
    "    ```bash\n",
    "    python manage.py runserver\n",
    "    ```\n",
    "\n",
    "    This command starts the Django development server.\n",
    "\n",
    "\n",
    "- Making Migrations\n",
    "\n",
    "    ```bash\n",
    "    python manage.py makemigrations\n",
    "    ```\n",
    "\n",
    "    This command detects changes made to your models (in the models.py file) and prepares them to be sent to the database.\n",
    "\n",
    "\n",
    "- Applying Migrations\n",
    "    ```bash\n",
    "    python manage.py migrate\n",
    "    ```\n",
    "\n",
    "    This command applies the changes prepared by makemigrations to the database, updating it to match your models.\n",
    "\n",
    "- Creating a Superuser\n",
    "\n",
    "    ```bash\n",
    "    python manage.py createsuperuser\n",
    "    ```\n",
    "    This command creates a superuser account for accessing the Django admin site. You will be prompted to enter a username, email address, and password.\n"
   ]
  },
  {
   "cell_type": "markdown",
   "metadata": {},
   "source": []
  }
 ],
 "metadata": {
  "language_info": {
   "name": "python"
  }
 },
 "nbformat": 4,
 "nbformat_minor": 2
}
