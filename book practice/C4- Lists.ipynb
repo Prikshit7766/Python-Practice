{
 "cells": [
  {
   "cell_type": "markdown",
   "id": "9cc7d5b4",
   "metadata": {},
   "source": [
    "## LIST\n",
    "\n",
    "- A list is a value that contains multiple values in an ordered sequence.\n",
    "- Values inside the list are also called items."
   ]
  },
  {
   "cell_type": "markdown",
   "id": "69bd4f65",
   "metadata": {},
   "source": [
    "- indexing \n",
    "- slicing\n",
    "- getting the len()\n",
    "- cahnging the value in a list\n",
    "- list concatenation and list replication\n",
    "- remove values from list with del statement"
   ]
  },
  {
   "cell_type": "markdown",
   "id": "ba353e0a",
   "metadata": {},
   "source": [
    "The benefit of using a list is that your data is now in a structure, so your program is much more flexible in processing the data than it would be with several repetitive variables.\n"
   ]
  },
  {
   "cell_type": "markdown",
   "id": "2525cee9",
   "metadata": {},
   "source": [
    "- For loop with list\n",
    "- in and not in Operators --> return bool"
   ]
  },
  {
   "attachments": {
    "image-2.png": {
     "image/png": "[encoded data removed]"
    }
   },
   "cell_type": "markdown",
   "id": "6ea7d99d",
   "metadata": {},
   "source": [
    "Augmented Assignment Operators\n",
    "![image-2.png](attachment:image-2.png)"
   ]
  },
  {
   "cell_type": "markdown",
   "id": "eb6f49d0",
   "metadata": {},
   "source": [
    "## operator"
   ]
  },
  {
   "cell_type": "markdown",
   "id": "e147e743",
   "metadata": {},
   "source": [
    "- in and not in operators"
   ]
  },
  {
   "cell_type": "code",
   "execution_count": 4,
   "id": "b648efa1",
   "metadata": {},
   "outputs": [],
   "source": [
    "## The Multiple Assignment Tric\n",
    "\n",
    "cat = ['fat', 'black', 'loud']\n",
    "size, color, disposition = cat"
   ]
  },
  {
   "cell_type": "code",
   "execution_count": 6,
   "id": "443295fa",
   "metadata": {},
   "outputs": [
    {
     "data": {
      "text/plain": [
       "43"
      ]
     },
     "execution_count": 6,
     "metadata": {},
     "output_type": "execute_result"
    }
   ],
   "source": [
    "##Augmented Assignment Operators\n",
    "\n",
    "spam = 42\n",
    "spam = spam + 1\n",
    "spam"
   ]
  },
  {
   "cell_type": "markdown",
   "id": "70a75aff",
   "metadata": {},
   "source": [
    "## Methods"
   ]
  },
  {
   "cell_type": "markdown",
   "id": "bd554adc",
   "metadata": {},
   "source": [
    "**index()**"
   ]
  },
  {
   "cell_type": "code",
   "execution_count": null,
   "id": "7809959a",
   "metadata": {},
   "outputs": [],
   "source": [
    "# an index() method that can be passed a value,if that value exists in the list, the index of the value is returned. If the value isn’t in the list, then Python produces a ValueError error. "
   ]
  },
  {
   "cell_type": "code",
   "execution_count": 9,
   "id": "8076a384",
   "metadata": {},
   "outputs": [
    {
     "data": {
      "text/plain": [
       "0"
      ]
     },
     "execution_count": 9,
     "metadata": {},
     "output_type": "execute_result"
    }
   ],
   "source": [
    "spam = ['hello', 'hi', 'howdy', 'heyas']\n",
    "spam.index('hello')"
   ]
  },
  {
   "cell_type": "code",
   "execution_count": 10,
   "id": "fbf76394",
   "metadata": {},
   "outputs": [],
   "source": [
    "#When there are duplicates of the value in the list, the index of its first  appearance is returned"
   ]
  },
  {
   "cell_type": "markdown",
   "id": "3fde3300",
   "metadata": {},
   "source": [
    "- **Adding Values to Lists with the append() and insert() Methods**"
   ]
  },
  {
   "cell_type": "code",
   "execution_count": 16,
   "id": "f652dadd",
   "metadata": {},
   "outputs": [
    {
     "data": {
      "text/plain": [
       "['cat', 'dog', 'bat', 'moose']"
      ]
     },
     "execution_count": 16,
     "metadata": {},
     "output_type": "execute_result"
    }
   ],
   "source": [
    "spam = ['cat', 'dog', 'bat']\n",
    "spam.append('moose')\n",
    "spam"
   ]
  },
  {
   "cell_type": "code",
   "execution_count": 17,
   "id": "d2df98b9",
   "metadata": {},
   "outputs": [
    {
     "data": {
      "text/plain": [
       "['cat', 'chicken', 'dog', 'bat', 'moose']"
      ]
     },
     "execution_count": 17,
     "metadata": {},
     "output_type": "execute_result"
    }
   ],
   "source": [
    "spam.insert(1, 'chicken')\n",
    "spam"
   ]
  },
  {
   "cell_type": "markdown",
   "id": "1b6dd9bb",
   "metadata": {},
   "source": [
    "**Removing Values from Lists with remove()**"
   ]
  },
  {
   "cell_type": "code",
   "execution_count": 19,
   "id": "4e473397",
   "metadata": {},
   "outputs": [
    {
     "data": {
      "text/plain": [
       "['cat', 'rat', 'elephant']"
      ]
     },
     "execution_count": 19,
     "metadata": {},
     "output_type": "execute_result"
    }
   ],
   "source": [
    "##Removing Values from Lists with remove()\n",
    "spam =a ['cat', 'bat', 'rat', 'elephant']\n",
    "spam.remove('bat')\n",
    "spam"
   ]
  },
  {
   "cell_type": "code",
   "execution_count": 20,
   "id": "08962595",
   "metadata": {},
   "outputs": [
    {
     "ename": "ValueError",
     "evalue": "list.remove(x): x not in list",
     "output_type": "error",
     "traceback": [
      "\u001b[1;31m---------------------------------------------------------------------------\u001b[0m",
      "\u001b[1;31mValueError\u001b[0m                                Traceback (most recent call last)",
      "Cell \u001b[1;32mIn[20], line 3\u001b[0m\n\u001b[0;32m      1\u001b[0m \u001b[38;5;66;03m# Attempting to delete a value that does not exist in the list will result in a ValueError error\u001b[39;00m\n\u001b[0;32m      2\u001b[0m spam \u001b[38;5;241m=\u001b[39m [\u001b[38;5;124m'\u001b[39m\u001b[38;5;124mcat\u001b[39m\u001b[38;5;124m'\u001b[39m, \u001b[38;5;124m'\u001b[39m\u001b[38;5;124mbat\u001b[39m\u001b[38;5;124m'\u001b[39m, \u001b[38;5;124m'\u001b[39m\u001b[38;5;124mrat\u001b[39m\u001b[38;5;124m'\u001b[39m, \u001b[38;5;124m'\u001b[39m\u001b[38;5;124melephant\u001b[39m\u001b[38;5;124m'\u001b[39m]\n\u001b[1;32m----> 3\u001b[0m \u001b[43mspam\u001b[49m\u001b[38;5;241;43m.\u001b[39;49m\u001b[43mremove\u001b[49m\u001b[43m(\u001b[49m\u001b[38;5;124;43m'\u001b[39;49m\u001b[38;5;124;43mchicken\u001b[39;49m\u001b[38;5;124;43m'\u001b[39;49m\u001b[43m)\u001b[49m\n",
      "\u001b[1;31mValueError\u001b[0m: list.remove(x): x not in list"
     ]
    }
   ],
   "source": [
    "# Attempting to delete a value that does not exist in the list will result in a ValueError error\n",
    "spam = ['cat', 'bat', 'rat', 'elephant']\n",
    "spam.remove('chicken')"
   ]
  },
  {
   "cell_type": "code",
   "execution_count": 21,
   "id": "467635a5",
   "metadata": {},
   "outputs": [
    {
     "data": {
      "text/plain": [
       "['bat', 'rat', 'cat', 'hat', 'cat']"
      ]
     },
     "execution_count": 21,
     "metadata": {},
     "output_type": "execute_result"
    }
   ],
   "source": [
    "# If the value appears multiple times in the list, only the first instance of the value will be removed. Enter the following into the interactive shell:\n",
    "spam = ['cat', 'bat', 'rat', 'cat', 'hat', 'cat']\n",
    "spam.remove('cat')\n",
    "spam"
   ]
  },
  {
   "cell_type": "markdown",
   "id": "de1fca86",
   "metadata": {},
   "source": [
    "#### Sorting the Values in a List with the sort() Method"
   ]
  },
  {
   "cell_type": "code",
   "execution_count": 22,
   "id": "53c4b2e1",
   "metadata": {},
   "outputs": [
    {
     "data": {
      "text/plain": [
       "[-7, 1, 2, 3.14, 5]"
      ]
     },
     "execution_count": 22,
     "metadata": {},
     "output_type": "execute_result"
    }
   ],
   "source": [
    "## Sorting the Values in a List with the sort() Method\n",
    "\n",
    "spam = [2, 5, 3.14, 1, -7]\n",
    "spam.sort()\n",
    "spam"
   ]
  },
  {
   "cell_type": "code",
   "execution_count": 23,
   "id": "46734a63",
   "metadata": {},
   "outputs": [
    {
     "data": {
      "text/plain": [
       "['ants', 'badgers', 'cats', 'dogs', 'elephants']"
      ]
     },
     "execution_count": 23,
     "metadata": {},
     "output_type": "execute_result"
    }
   ],
   "source": [
    "spam = ['ants', 'cats', 'dogs', 'badgers', 'elephants']\n",
    "spam.sort()\n",
    "spam"
   ]
  },
  {
   "cell_type": "code",
   "execution_count": 24,
   "id": "4849fc54",
   "metadata": {},
   "outputs": [
    {
     "data": {
      "text/plain": [
       "['elephants', 'dogs', 'cats', 'badgers', 'ants']"
      ]
     },
     "execution_count": 24,
     "metadata": {},
     "output_type": "execute_result"
    }
   ],
   "source": [
    "spam.sort(reverse=True)\n",
    "spam"
   ]
  },
  {
   "cell_type": "code",
   "execution_count": 26,
   "id": "e11bd238",
   "metadata": {},
   "outputs": [
    {
     "ename": "TypeError",
     "evalue": "'<' not supported between instances of 'str' and 'int'",
     "output_type": "error",
     "traceback": [
      "\u001b[1;31m---------------------------------------------------------------------------\u001b[0m",
      "\u001b[1;31mTypeError\u001b[0m                                 Traceback (most recent call last)",
      "Cell \u001b[1;32mIn[26], line 2\u001b[0m\n\u001b[0;32m      1\u001b[0m spam \u001b[38;5;241m=\u001b[39m [\u001b[38;5;241m1\u001b[39m, \u001b[38;5;241m3\u001b[39m, \u001b[38;5;241m2\u001b[39m, \u001b[38;5;241m4\u001b[39m, \u001b[38;5;124m'\u001b[39m\u001b[38;5;124mAlice\u001b[39m\u001b[38;5;124m'\u001b[39m, \u001b[38;5;124m'\u001b[39m\u001b[38;5;124mBob\u001b[39m\u001b[38;5;124m'\u001b[39m]\n\u001b[1;32m----> 2\u001b[0m \u001b[43mspam\u001b[49m\u001b[38;5;241;43m.\u001b[39;49m\u001b[43msort\u001b[49m\u001b[43m(\u001b[49m\u001b[43m)\u001b[49m\n",
      "\u001b[1;31mTypeError\u001b[0m: '<' not supported between instances of 'str' and 'int'"
     ]
    }
   ],
   "source": [
    "spam = [1, 3, 2, 4, 'Alice', 'Bob']\n",
    "spam.sort()"
   ]
  },
  {
   "cell_type": "code",
   "execution_count": 27,
   "id": "9a67e0a7",
   "metadata": {},
   "outputs": [
    {
     "data": {
      "text/plain": [
       "['Alice', 'Bob', 'Carol', 'ants', 'badgers', 'cats']"
      ]
     },
     "execution_count": 27,
     "metadata": {},
     "output_type": "execute_result"
    }
   ],
   "source": [
    "spam = ['Alice', 'ants', 'Bob', 'badgers', 'Carol', 'cats']\n",
    "spam.sort()\n",
    "spam"
   ]
  },
  {
   "cell_type": "code",
   "execution_count": 29,
   "id": "cd4ab43b",
   "metadata": {},
   "outputs": [],
   "source": [
    "#\"ASCIIbetical order” rather than actual alphabetical order for sorting strings. This means uppercase letters come before lower\u0002case letters."
   ]
  },
  {
   "cell_type": "code",
   "execution_count": 30,
   "id": "f0ed09a5",
   "metadata": {},
   "outputs": [
    {
     "data": {
      "text/plain": [
       "['a', 'A', 'z', 'Z']"
      ]
     },
     "execution_count": 30,
     "metadata": {},
     "output_type": "execute_result"
    }
   ],
   "source": [
    "spam = ['a', 'z', 'A', 'Z']\n",
    "spam.sort(key=str.lower)\n",
    "spam"
   ]
  },
  {
   "cell_type": "code",
   "execution_count": 31,
   "id": "e887a96e",
   "metadata": {},
   "outputs": [
    {
     "data": {
      "text/plain": [
       "['z', 'a', 'Z', 'A']"
      ]
     },
     "execution_count": 31,
     "metadata": {},
     "output_type": "execute_result"
    }
   ],
   "source": [
    "spam = ['a', 'z', 'A', 'Z']\n",
    "spam.sort(reverse=True)\n",
    "spam"
   ]
  },
  {
   "cell_type": "markdown",
   "id": "e47cf4d5",
   "metadata": {},
   "source": [
    "## Magic 8 Ball with a List"
   ]
  },
  {
   "cell_type": "code",
   "execution_count": 33,
   "id": "0220a029",
   "metadata": {},
   "outputs": [
    {
     "name": "stdout",
     "output_type": "stream",
     "text": [
      "Very doubtful\n"
     ]
    }
   ],
   "source": [
    "import random\n",
    "messages = ['It is certain',\n",
    " 'It is decidedly so',\n",
    " 'Yes definitely',\n",
    " 'Reply hazy try again',\n",
    " 'Ask again later',\n",
    " 'Concentrate and ask again',\n",
    " 'My reply is no',\n",
    " 'Outlook not so good',\n",
    " 'Very doubtful']\n",
    "print(messages[random.randint(0, len(messages) - 1)])"
   ]
  },
  {
   "cell_type": "markdown",
   "id": "3b27af4a",
   "metadata": {},
   "source": [
    "## Mutable and Immutable Data Types"
   ]
  },
  {
   "cell_type": "code",
   "execution_count": 34,
   "id": "8d474d0f",
   "metadata": {},
   "outputs": [
    {
     "ename": "TypeError",
     "evalue": "'str' object does not support item assignment",
     "output_type": "error",
     "traceback": [
      "\u001b[1;31m---------------------------------------------------------------------------\u001b[0m",
      "\u001b[1;31mTypeError\u001b[0m                                 Traceback (most recent call last)",
      "Cell \u001b[1;32mIn[34], line 2\u001b[0m\n\u001b[0;32m      1\u001b[0m name \u001b[38;5;241m=\u001b[39m \u001b[38;5;124m'\u001b[39m\u001b[38;5;124mZophie a cat\u001b[39m\u001b[38;5;124m'\u001b[39m\n\u001b[1;32m----> 2\u001b[0m \u001b[43mname\u001b[49m\u001b[43m[\u001b[49m\u001b[38;5;241;43m7\u001b[39;49m\u001b[43m]\u001b[49m \u001b[38;5;241m=\u001b[39m \u001b[38;5;124m'\u001b[39m\u001b[38;5;124mthe\u001b[39m\u001b[38;5;124m'\u001b[39m\n",
      "\u001b[1;31mTypeError\u001b[0m: 'str' object does not support item assignment"
     ]
    }
   ],
   "source": [
    "name = 'Zophie a cat'\n",
    "name[7] = 'the'"
   ]
  },
  {
   "cell_type": "code",
   "execution_count": 36,
   "id": "3ab84e1e",
   "metadata": {},
   "outputs": [
    {
     "data": {
      "text/plain": [
       "'Zophie a cat'"
      ]
     },
     "execution_count": 36,
     "metadata": {},
     "output_type": "execute_result"
    }
   ],
   "source": [
    "name = 'Zophie a cat'\n",
    "newName = name[0:7] + 'the' + name[8:12]\n",
    "name"
   ]
  },
  {
   "cell_type": "code",
   "execution_count": 37,
   "id": "f47ee4c2",
   "metadata": {},
   "outputs": [
    {
     "data": {
      "text/plain": [
       "'Zophie the cat'"
      ]
     },
     "execution_count": 37,
     "metadata": {},
     "output_type": "execute_result"
    }
   ],
   "source": [
    "newName"
   ]
  },
  {
   "cell_type": "code",
   "execution_count": 38,
   "id": "218b2620",
   "metadata": {},
   "outputs": [
    {
     "data": {
      "text/plain": [
       "[4, 5, 6]"
      ]
     },
     "execution_count": 38,
     "metadata": {},
     "output_type": "execute_result"
    }
   ],
   "source": [
    "eggs = [1, 2, 3]\n",
    "eggs = [4, 5, 6]\n",
    "eggs  "
   ]
  },
  {
   "cell_type": "code",
   "execution_count": 39,
   "id": "4b89d253",
   "metadata": {},
   "outputs": [
    {
     "data": {
      "text/plain": [
       "[4, 5, 6]"
      ]
     },
     "execution_count": 39,
     "metadata": {},
     "output_type": "execute_result"
    }
   ],
   "source": [
    "eggs = [1, 2, 3]\n",
    "del eggs[2]\n",
    "del eggs[1]\n",
    "del eggs[0]\n",
    "eggs.append(4)\n",
    "eggs.append(5)\n",
    "eggs.append(6)\n",
    "eggs"
   ]
  },
  {
   "cell_type": "markdown",
   "id": "7f4e45ae",
   "metadata": {},
   "source": [
    "## The Tuple Data Type"
   ]
  },
  {
   "cell_type": "code",
   "execution_count": 40,
   "id": "c975b91f",
   "metadata": {},
   "outputs": [
    {
     "data": {
      "text/plain": [
       "3"
      ]
     },
     "execution_count": 40,
     "metadata": {},
     "output_type": "execute_result"
    }
   ],
   "source": [
    "eggs = ('hello', 42, 0.5)\n",
    "eggs[0]\n",
    "eggs[1:3]\n",
    "len(eggs)"
   ]
  },
  {
   "cell_type": "code",
   "execution_count": 1,
   "id": "4ddcfd4c",
   "metadata": {},
   "outputs": [],
   "source": [
    "# Tuples cannot have their values modified, appended, or removed. "
   ]
  },
  {
   "cell_type": "markdown",
   "id": "35a2ad57",
   "metadata": {},
   "source": [
    "## References"
   ]
  },
  {
   "cell_type": "code",
   "execution_count": 5,
   "id": "043e215c",
   "metadata": {},
   "outputs": [
    {
     "data": {
      "text/plain": [
       "[0, 'Hello!', 2, 3, 4, 5]"
      ]
     },
     "execution_count": 5,
     "metadata": {},
     "output_type": "execute_result"
    }
   ],
   "source": [
    "spam = [0, 1, 2, 3, 4, 5]\n",
    "cheese = spam\n",
    "cheese[1] = 'Hello!'\n",
    "spam"
   ]
  },
  {
   "cell_type": "markdown",
   "id": "4b4f369b",
   "metadata": {},
   "source": [
    "Python uses references whenever variables must \n",
    "store values of mutable data types, such as lists or dictionaries. For values \n",
    "of immutable data types such as strings, integers, or tuples, Python variables will store the value itself."
   ]
  },
  {
   "cell_type": "markdown",
   "id": "03672791",
   "metadata": {},
   "source": [
    "## passing a reference "
   ]
  },
  {
   "cell_type": "code",
   "execution_count": 3,
   "id": "ddd7598f",
   "metadata": {},
   "outputs": [
    {
     "name": "stdout",
     "output_type": "stream",
     "text": [
      "Before function call: [1, 2, 3]\n",
      "After function call: [1, 2, 3, 4]\n"
     ]
    }
   ],
   "source": [
    "def modify_list(my_list):\n",
    "    my_list.append(4)  # Modify the list by adding an element\n",
    "\n",
    "numbers = [1, 2, 3]\n",
    "print(\"Before function call:\", numbers)  # [1, 2, 3]\n",
    "\n",
    "modify_list(numbers)  # Pass the reference to the list\n",
    "\n",
    "print(\"After function call:\", numbers)  # [1, 2, 3, 4]"
   ]
  },
  {
   "cell_type": "markdown",
   "id": "17544d8a",
   "metadata": {},
   "source": [
    "## The copy Module’s copy() and deepcopy() Functions"
   ]
  },
  {
   "cell_type": "code",
   "execution_count": 6,
   "id": "2110353b",
   "metadata": {},
   "outputs": [
    {
     "data": {
      "text/plain": [
       "(['A', 'B', 'C', 'D'], ['A', 42, 'C', 'D'])"
      ]
     },
     "execution_count": 6,
     "metadata": {},
     "output_type": "execute_result"
    }
   ],
   "source": [
    "import copy\n",
    "spam = ['A', 'B', 'C', 'D']\n",
    "cheese = copy.copy(spam)\n",
    "cheese[1] = 42\n",
    "spam,cheese"
   ]
  },
  {
   "cell_type": "markdown",
   "id": "fe433336",
   "metadata": {},
   "source": [
    "## Using the copy() method:c"
   ]
  },
  {
   "cell_type": "code",
   "execution_count": 7,
   "id": "c3ce3bb2",
   "metadata": {
    "scrolled": true
   },
   "outputs": [
    {
     "name": "stdout",
     "output_type": "stream",
     "text": [
      "[0, 1, 2, 3, 4, 5]\n",
      "[0, 'Hello!', 2, 3, 4, 5]\n"
     ]
    }
   ],
   "source": [
    "spam = [0, 1, 2, 3, 4, 5]\n",
    "cheese = spam.copy()  # Create a copy of the spam list\n",
    "\n",
    "cheese[1] = 'Hello!'\n",
    "print(spam)  # [0, 1, 2, 3, 4, 5]\n",
    "print(cheese)  # [0, 'Hello!', 2, 3, 4, 5]"
   ]
  },
  {
   "cell_type": "markdown",
   "id": "128dc2a1",
   "metadata": {},
   "source": [
    "Lists are useful data types since they allow you to write code that works on a \n",
    "modifiable number of values in a single variable. \n",
    "\n",
    "Lists are mutable, meaning that their contents can change. Tuples and \n",
    "strings, although list-like in some respects, are immutable and cannot be \n",
    "changed. A variable that contains a tuple or string value can be overwritten \n",
    "with a new tuple or string value, but this is not the same thing as modifying \n",
    "the existing value in place—like, say, the append() or remove() methods do on \n",
    "lists.\n",
    "\n",
    "Variables do not store list values directly; they store references to lists. \n",
    "This is an important distinction when copying variables or passing lists as \n",
    "arguments in function calls. Because the value that is being copied is the \n",
    "list reference, be aware that any changes you make to the list might impact \n",
    "another variable in your program. You can use copy() or deepcopy() if you \n",
    "want to make changes to a list in one variable without modifying the origi\u0002nal list"
   ]
  },
  {
   "cell_type": "code",
   "execution_count": null,
   "id": "533c5865",
   "metadata": {},
   "outputs": [],
   "source": []
  }
 ],
 "metadata": {
  "kernelspec": {
   "display_name": "Python 3 (ipykernel)",
   "language": "python",
   "name": "python3"
  },
  "language_info": {
   "codemirror_mode": {
    "name": "ipython",
    "version": 3
   },
   "file_extension": ".py",
   "mimetype": "text/x-python",
   "name": "python",
   "nbconvert_exporter": "python",
   "pygments_lexer": "ipython3",
   "version": "3.7.15"
  }
 },
 "nbformat": 4,
 "nbformat_minor": 5
}
