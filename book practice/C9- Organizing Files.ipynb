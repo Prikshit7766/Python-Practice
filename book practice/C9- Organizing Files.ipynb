{
 "cells": [
  {
   "attachments": {},
   "cell_type": "markdown",
   "id": "751b894b",
   "metadata": {},
   "source": [
    "\n",
    "## The shutil Module"
   ]
  },
  {
   "attachments": {},
   "cell_type": "markdown",
   "id": "91d0fe78",
   "metadata": {},
   "source": [
    "- copy, move,rename, and delete files in your Python programs."
   ]
  },
  {
   "attachments": {},
   "cell_type": "markdown",
   "id": "713a9e05",
   "metadata": {},
   "source": [
    "### Copying Files and Folders"
   ]
  },
  {
   "cell_type": "code",
   "execution_count": 10,
   "id": "a4dc1249",
   "metadata": {},
   "outputs": [
    {
     "data": {
      "text/plain": [
       "'D:\\\\full_stack\\\\MyPractice\\\\Python\\\\book practice\\\\walnut\\\\capitalsquiz_answers1.txt'"
      ]
     },
     "execution_count": 10,
     "metadata": {},
     "output_type": "execute_result"
    }
   ],
   "source": [
    "# for copying files from one folder to another we use shutil module\n",
    "import shutil ,os\n",
    "os.chdir(r\"D:\\full_stack\\MyPractice\\Python\\book practice\\quizzes\")\n",
    "shutil.copy(r\"D:\\full_stack\\MyPractice\\Python\\book practice\\quizzes\\capitalsquiz_answers1.txt\",r\"D:\\full_stack\\MyPractice\\Python\\book practice\\walnut\") \n",
    "# here we first give the source file path and then the destination path where we want to copy the file"
   ]
  },
  {
   "cell_type": "code",
   "execution_count": 11,
   "id": "cdf4af45",
   "metadata": {},
   "outputs": [
    {
     "data": {
      "text/plain": [
       "'D:\\\\full_stack\\\\MyPractice\\\\Python\\\\book practice\\\\walnut\\\\quizzes'"
      ]
     },
     "execution_count": 11,
     "metadata": {},
     "output_type": "execute_result"
    }
   ],
   "source": [
    "# for copying a folder from one place to another we use shutil module\n",
    "import shutil, os\n",
    "os.chdir(r\"D:\\full_stack\\MyPractice\\Python\\book practice\\quizzes\")\n",
    "shutil.copytree(r\"D:\\full_stack\\MyPractice\\Python\\book practice\\quizzes\",r\"D:\\full_stack\\MyPractice\\Python\\book practice\\walnut\\quizzes\")\n",
    "# here we first give the source folder path and then the destination path where we want to copy the folder"
   ]
  },
  {
   "attachments": {},
   "cell_type": "markdown",
   "id": "ec65d613",
   "metadata": {},
   "source": [
    "### Moving and Renaming Files and Folders"
   ]
  },
  {
   "cell_type": "code",
   "execution_count": 12,
   "id": "84e5aab3",
   "metadata": {},
   "outputs": [
    {
     "data": {
      "text/plain": [
       "'D:\\\\full_stack\\\\MyPractice\\\\Python\\\\book practice\\\\walnut\\\\waffles\\\\capitalsquiz_answers1.txt'"
      ]
     },
     "execution_count": 12,
     "metadata": {},
     "output_type": "execute_result"
    }
   ],
   "source": [
    "# for moving a file from one place to another we use shutil module\n",
    "import shutil\n",
    "shutil.move(r\"D:\\full_stack\\MyPractice\\Python\\book practice\\walnut\\capitalsquiz_answers1.txt\",r\"D:\\full_stack\\MyPractice\\Python\\book practice\\walnut\\waffles\")"
   ]
  },
  {
   "cell_type": "code",
   "execution_count": 16,
   "id": "f89d8709",
   "metadata": {},
   "outputs": [
    {
     "data": {
      "text/plain": [
       "'D:\\\\filexyz'"
      ]
     },
     "execution_count": 16,
     "metadata": {},
     "output_type": "execute_result"
    }
   ],
   "source": [
    "# when destination is a folder  path is not valid , but it will rename the file with the name of destination folder\n",
    "\n",
    "source=r\"D:\\full_stack\\MyPractice\\Python\\book practice\\file operation txt\\file1.txt\"\n",
    "dstination=r\"D:\\filexyz\"\n",
    "\n",
    "shutil.move(source,dstination)"
   ]
  },
  {
   "cell_type": "code",
   "execution_count": 18,
   "id": "3ef8b1c8",
   "metadata": {},
   "outputs": [
    {
     "ename": "FileNotFoundError",
     "evalue": "[Errno 2] No such file or directory: 'D:\\\\full_stack\\\\MyPractice\\\\Python\\\\book practice\\\\file operation txt\\\\file1.txt'",
     "output_type": "error",
     "traceback": [
      "\u001b[1;31m---------------------------------------------------------------------------\u001b[0m",
      "\u001b[1;31mFileNotFoundError\u001b[0m                         Traceback (most recent call last)",
      "File \u001b[1;32mc:\\Users\\HP\\Anaconda3\\lib\\shutil.py:823\u001b[0m, in \u001b[0;36mmove\u001b[1;34m(src, dst, copy_function)\u001b[0m\n\u001b[0;32m    822\u001b[0m \u001b[39mtry\u001b[39;00m:\n\u001b[1;32m--> 823\u001b[0m     os\u001b[39m.\u001b[39;49mrename(src, real_dst)\n\u001b[0;32m    824\u001b[0m \u001b[39mexcept\u001b[39;00m \u001b[39mOSError\u001b[39;00m:\n",
      "\u001b[1;31mFileNotFoundError\u001b[0m: [WinError 2] The system cannot find the file specified: 'D:\\\\full_stack\\\\MyPractice\\\\Python\\\\book practice\\\\file operation txt\\\\file1.txt' -> 'D:\\\\full_stack\\\\MyPractice\\\\Python\\\\book practice\\\\walnutwdwdwd'",
      "\nDuring handling of the above exception, another exception occurred:\n",
      "\u001b[1;31mFileNotFoundError\u001b[0m                         Traceback (most recent call last)",
      "Cell \u001b[1;32mIn[18], line 4\u001b[0m\n\u001b[0;32m      1\u001b[0m source\u001b[39m=\u001b[39m\u001b[39mr\u001b[39m\u001b[39m\"\u001b[39m\u001b[39mD:\u001b[39m\u001b[39m\\\u001b[39m\u001b[39mfull_stack\u001b[39m\u001b[39m\\\u001b[39m\u001b[39mMyPractice\u001b[39m\u001b[39m\\\u001b[39m\u001b[39mPython\u001b[39m\u001b[39m\\\u001b[39m\u001b[39mbook practice\u001b[39m\u001b[39m\\\u001b[39m\u001b[39mfile operation txt\u001b[39m\u001b[39m\\\u001b[39m\u001b[39mfile1.txt\u001b[39m\u001b[39m\"\u001b[39m\n\u001b[0;32m      2\u001b[0m dstination\u001b[39m=\u001b[39m\u001b[39mr\u001b[39m\u001b[39m\"\u001b[39m\u001b[39mD:\u001b[39m\u001b[39m\\\u001b[39m\u001b[39mfull_stack\u001b[39m\u001b[39m\\\u001b[39m\u001b[39mMyPractice\u001b[39m\u001b[39m\\\u001b[39m\u001b[39mPython\u001b[39m\u001b[39m\\\u001b[39m\u001b[39mbook practice\u001b[39m\u001b[39m\\\u001b[39m\u001b[39mwalnutwdwdwd\u001b[39m\u001b[39m\"\u001b[39m\n\u001b[1;32m----> 4\u001b[0m shutil\u001b[39m.\u001b[39;49mmove(source,dstination)\n\u001b[0;32m      5\u001b[0m \u001b[39m# here it is diffent then previous case \u001b[39;00m\n\u001b[0;32m      6\u001b[0m \u001b[39m# here the destination path is does not exist , that way it throughs an error\u001b[39;00m\n",
      "File \u001b[1;32mc:\\Users\\HP\\Anaconda3\\lib\\shutil.py:843\u001b[0m, in \u001b[0;36mmove\u001b[1;34m(src, dst, copy_function)\u001b[0m\n\u001b[0;32m    841\u001b[0m         rmtree(src)\n\u001b[0;32m    842\u001b[0m     \u001b[39melse\u001b[39;00m:\n\u001b[1;32m--> 843\u001b[0m         copy_function(src, real_dst)\n\u001b[0;32m    844\u001b[0m         os\u001b[39m.\u001b[39munlink(src)\n\u001b[0;32m    845\u001b[0m \u001b[39mreturn\u001b[39;00m real_dst\n",
      "File \u001b[1;32mc:\\Users\\HP\\Anaconda3\\lib\\shutil.py:444\u001b[0m, in \u001b[0;36mcopy2\u001b[1;34m(src, dst, follow_symlinks)\u001b[0m\n\u001b[0;32m    442\u001b[0m \u001b[39mif\u001b[39;00m os\u001b[39m.\u001b[39mpath\u001b[39m.\u001b[39misdir(dst):\n\u001b[0;32m    443\u001b[0m     dst \u001b[39m=\u001b[39m os\u001b[39m.\u001b[39mpath\u001b[39m.\u001b[39mjoin(dst, os\u001b[39m.\u001b[39mpath\u001b[39m.\u001b[39mbasename(src))\n\u001b[1;32m--> 444\u001b[0m copyfile(src, dst, follow_symlinks\u001b[39m=\u001b[39;49mfollow_symlinks)\n\u001b[0;32m    445\u001b[0m copystat(src, dst, follow_symlinks\u001b[39m=\u001b[39mfollow_symlinks)\n\u001b[0;32m    446\u001b[0m \u001b[39mreturn\u001b[39;00m dst\n",
      "File \u001b[1;32mc:\\Users\\HP\\Anaconda3\\lib\\shutil.py:264\u001b[0m, in \u001b[0;36mcopyfile\u001b[1;34m(src, dst, follow_symlinks)\u001b[0m\n\u001b[0;32m    262\u001b[0m     os\u001b[39m.\u001b[39msymlink(os\u001b[39m.\u001b[39mreadlink(src), dst)\n\u001b[0;32m    263\u001b[0m \u001b[39melse\u001b[39;00m:\n\u001b[1;32m--> 264\u001b[0m     \u001b[39mwith\u001b[39;00m \u001b[39mopen\u001b[39;49m(src, \u001b[39m'\u001b[39;49m\u001b[39mrb\u001b[39;49m\u001b[39m'\u001b[39;49m) \u001b[39mas\u001b[39;00m fsrc:\n\u001b[0;32m    265\u001b[0m         \u001b[39mtry\u001b[39;00m:\n\u001b[0;32m    266\u001b[0m             \u001b[39mwith\u001b[39;00m \u001b[39mopen\u001b[39m(dst, \u001b[39m'\u001b[39m\u001b[39mwb\u001b[39m\u001b[39m'\u001b[39m) \u001b[39mas\u001b[39;00m fdst:\n\u001b[0;32m    267\u001b[0m                 \u001b[39m# macOS\u001b[39;00m\n",
      "\u001b[1;31mFileNotFoundError\u001b[0m: [Errno 2] No such file or directory: 'D:\\\\full_stack\\\\MyPractice\\\\Python\\\\book practice\\\\file operation txt\\\\file1.txt'"
     ]
    }
   ],
   "source": [
    "\n",
    "source=r\"D:\\full_stack\\MyPractice\\Python\\book practice\\file operation txt\\file1.txt\"\n",
    "dstination=r\"D:\\full_stack\\MyPractice\\Python\\book practice\\walnutwdwdwd\"\n",
    "\n",
    "shutil.move(source,dstination)\n",
    "# here it is diffent then previous case \n",
    "# here the destination path is does not exist , that way it throughs an error"
   ]
  },
  {
   "attachments": {},
   "cell_type": "markdown",
   "id": "78dc988e",
   "metadata": {},
   "source": [
    "## Permanently Deleting Files and Folders"
   ]
  },
  {
   "attachments": {},
   "cell_type": "markdown",
   "id": "73999ce9",
   "metadata": {},
   "source": [
    "•\t Calling os.unlink(path) will delete the file at path.\n",
    "\n",
    "•\t Calling os.rmdir(path) will delete the folder at path. This folder must be \n",
    "empty of any files or folders.\n",
    "\n",
    "•\t Calling shutil.rmtree(path) will remove the folder at path, and all files \n",
    "and folders it contains will also be deleted."
   ]
  },
  {
   "cell_type": "code",
   "execution_count": 19,
   "id": "48d6ed90",
   "metadata": {},
   "outputs": [
    {
     "data": {
      "text/plain": [
       "'D:\\\\full_stack\\\\MyPractice\\\\Python\\\\book practice\\\\quizzes'"
      ]
     },
     "execution_count": 19,
     "metadata": {},
     "output_type": "execute_result"
    }
   ],
   "source": [
    "pwd"
   ]
  },
  {
   "cell_type": "code",
   "execution_count": 20,
   "id": "1ac24190",
   "metadata": {},
   "outputs": [],
   "source": [
    "# emove the .txt files from the current working directory\n",
    "\n",
    "import os\n",
    "for filename in os.listdir():\n",
    "  if filename.endswith('.txt'):\n",
    "   os.unlink(filename)"
   ]
  },
  {
   "cell_type": "code",
   "execution_count": 21,
   "id": "0c0eab74",
   "metadata": {},
   "outputs": [],
   "source": [
    "# \n",
    "\n",
    "import os\n",
    "for filename in os.listdir():\n",
    " if filename.endswith('.txt'):\n",
    " #os.unlink(filename)\n",
    "    print(filename)\n",
    "\n",
    "#os.unlink() call is commented, so Python ignores it. Instead, you  will print the filename of the file that would have been deleted."
   ]
  },
  {
   "attachments": {},
   "cell_type": "markdown",
   "id": "40cd31f1",
   "metadata": {},
   "source": [
    "## Safe Deletes with the send2trash Module"
   ]
  },
  {
   "attachments": {},
   "cell_type": "markdown",
   "id": "07d88799",
   "metadata": {},
   "source": [
    "Using send2trash is much safer than Python’s regular delete functions, \n",
    "because it will send folders and files to your computer’s trash or recycle bin \n",
    "instead of permanently deleting them."
   ]
  },
  {
   "cell_type": "code",
   "execution_count": 22,
   "id": "8702e77e",
   "metadata": {},
   "outputs": [],
   "source": [
    "import send2trash\n",
    "baconFile = open('bacon.txt', 'a') # creates the file\n",
    "baconFile.write('Bacon is not a vegetable.')\n",
    "baconFile.close()\n",
    "send2trash.send2trash('bacon.txt') # will send to recycle bin"
   ]
  },
  {
   "attachments": {},
   "cell_type": "markdown",
   "id": "d1443c1d",
   "metadata": {},
   "source": [
    "## Walking a Directory Tree"
   ]
  },
  {
   "cell_type": "code",
   "execution_count": 25,
   "id": "296f0f60",
   "metadata": {},
   "outputs": [
    {
     "name": "stdout",
     "output_type": "stream",
     "text": [
      "The current folder is D:\\content\n",
      "SUBFOLDER OF D:\\content: logs\n",
      "SUBFOLDER OF D:\\content: SAVED_MODELS\n",
      "\n",
      "The current folder is D:\\content\\logs\n",
      "SUBFOLDER OF D:\\content\\logs: fit\n",
      "\n",
      "The current folder is D:\\content\\logs\\fit\n",
      "SUBFOLDER OF D:\\content\\logs\\fit: log_2023_02_09_00_52_38\n",
      "\n",
      "The current folder is D:\\content\\logs\\fit\\log_2023_02_09_00_52_38\n",
      "SUBFOLDER OF D:\\content\\logs\\fit\\log_2023_02_09_00_52_38: train\n",
      "SUBFOLDER OF D:\\content\\logs\\fit\\log_2023_02_09_00_52_38: validation\n",
      "\n",
      "The current folder is D:\\content\\logs\\fit\\log_2023_02_09_00_52_38\\train\n",
      "FILE INSIDE D:\\content\\logs\\fit\\log_2023_02_09_00_52_38\\train: events.out.tfevents.1675884225.DESKTOP-TC481I5.13344.0.v2\n",
      "\n",
      "The current folder is D:\\content\\logs\\fit\\log_2023_02_09_00_52_38\\validation\n",
      "FILE INSIDE D:\\content\\logs\\fit\\log_2023_02_09_00_52_38\\validation: events.out.tfevents.1675884239.DESKTOP-TC481I5.13344.1.v2\n",
      "\n",
      "The current folder is D:\\content\\SAVED_MODELS\n",
      "FILE INSIDE D:\\content\\SAVED_MODELS: Model_2023_02_08_19_30_37_.h5\n",
      "\n"
     ]
    }
   ],
   "source": [
    "import os\n",
    "for folderName, subfolders, filenames in os.walk(r'D:\\content'):\n",
    " print('The current folder is ' + folderName)\n",
    " for subfolder in subfolders:\n",
    "    print('SUBFOLDER OF ' + folderName + ': ' + subfolder)\n",
    " for filename in filenames:\n",
    "    print('FILE INSIDE ' + folderName + ': '+ filename)\n",
    " \n",
    " print('')"
   ]
  },
  {
   "attachments": {},
   "cell_type": "markdown",
   "id": "881f3b1e",
   "metadata": {},
   "source": [
    "## Compressing Files with the zipfile Module"
   ]
  },
  {
   "attachments": {},
   "cell_type": "markdown",
   "id": "25ad4d7d",
   "metadata": {},
   "source": [
    "### Reading ZIP Files"
   ]
  },
  {
   "cell_type": "code",
   "execution_count": 28,
   "id": "6b1aea3e",
   "metadata": {},
   "outputs": [
    {
     "data": {
      "text/plain": [
       "['file operation txt/file.bak',\n",
       " 'file operation txt/file.dat',\n",
       " 'file operation txt/file.dir',\n",
       " 'file operation txt/file.txt.bak',\n",
       " 'file operation txt/file.txt.dat',\n",
       " 'file operation txt/file.txt.dir',\n",
       " 'file operation txt/file.txt.zip']"
      ]
     },
     "execution_count": 28,
     "metadata": {},
     "output_type": "execute_result"
    }
   ],
   "source": [
    "import zipfile, os\n",
    "exampleZip = zipfile.ZipFile(r\"D:\\full_stack\\MyPractice\\Python\\book practice\\file operation txt.zip\")\n",
    "exampleZip.namelist()\n"
   ]
  },
  {
   "cell_type": "code",
   "execution_count": 29,
   "id": "b99526b9",
   "metadata": {},
   "outputs": [
    {
     "data": {
      "text/plain": [
       "17"
      ]
     },
     "execution_count": 29,
     "metadata": {},
     "output_type": "execute_result"
    }
   ],
   "source": [
    "spamInfo = exampleZip.getinfo('file operation txt/file.bak')\n",
    "spamInfo.file_size"
   ]
  },
  {
   "cell_type": "code",
   "execution_count": 30,
   "id": "822de13e",
   "metadata": {},
   "outputs": [
    {
     "data": {
      "text/plain": [
       "17"
      ]
     },
     "execution_count": 30,
     "metadata": {},
     "output_type": "execute_result"
    }
   ],
   "source": [
    "spamInfo.compress_size"
   ]
  },
  {
   "cell_type": "code",
   "execution_count": 31,
   "id": "d2195a91",
   "metadata": {},
   "outputs": [],
   "source": [
    "exampleZip.close()"
   ]
  },
  {
   "attachments": {},
   "cell_type": "markdown",
   "id": "255f1e5b",
   "metadata": {},
   "source": [
    "## Extracting from ZIP Files"
   ]
  },
  {
   "cell_type": "code",
   "execution_count": 45,
   "id": "c9cbd4a1",
   "metadata": {},
   "outputs": [],
   "source": [
    "import zipfile, os\n",
    "exampleZip = zipfile.ZipFile(\"file-operation-txt.zip\")\n",
    "exampleZip.extractall(\"hi\")  # here we are extracting the zip file in the folder hi\n",
    "exampleZip.close()"
   ]
  },
  {
   "attachments": {},
   "cell_type": "markdown",
   "id": "f2d9137b",
   "metadata": {},
   "source": [
    "## Creating and Adding to ZIP Files"
   ]
  },
  {
   "cell_type": "code",
   "execution_count": 47,
   "id": "092efd33",
   "metadata": {},
   "outputs": [],
   "source": [
    "import zipfile\n",
    "newZip = zipfile.ZipFile('new.zip', 'w') # here we are creating a new zip file by the name new.zip in write mode\n",
    "newZip.write('hi', compress_type=zipfile.ZIP_DEFLATED) # here we are adding the folder hi in the new zip file\n",
    "newZip.close()"
   ]
  },
  {
   "attachments": {},
   "cell_type": "markdown",
   "id": "b376a30d",
   "metadata": {},
   "source": [
    "### Project: Renaming Files with American-Style Dates to European-Style Dates"
   ]
  },
  {
   "cell_type": "code",
   "execution_count": 50,
   "id": "0dfc30c5",
   "metadata": {},
   "outputs": [
    {
     "name": "stdout",
     "output_type": "stream",
     "text": [
      "Renaming \"D:\\full_stack\\MyPractice\\Python\\book practice\\test02-02-2023.txt\" to \"D:\\full_stack\\MyPractice\\Python\\book practice\\test02-02-2023.txt\"...\n"
     ]
    }
   ],
   "source": [
    "import shutil, os,re\n",
    "\n",
    "datePattern = re.compile(r\"\"\"^(.*?) # all text before the date\n",
    "((0|1)?\\d)- # one or two digits for the month\n",
    "((0|1|2|3)?\\d)- # one or two digits for the day\n",
    "((19|20)\\d\\d) # four digits for the year\n",
    "(.*?)$ # all text after the date\n",
    "\"\"\", re.VERBOSE)\n",
    "\n",
    "for amerFilename in os.listdir('.'):\n",
    "    mo = datePattern.search(amerFilename)\n",
    "    if mo == None:\n",
    "        continue\n",
    "    beforePart = mo.group(1)\n",
    "    monthPart = mo.group(2)\n",
    "    dayPart = mo.group(4)\n",
    "    yearPart = mo.group(6)\n",
    "    afterPart = mo.group(8)\n",
    "    euroFilename = beforePart + dayPart + '-' + monthPart + '-' + yearPart + afterPart\n",
    "    absWorkingDir = os.path.abspath('.')\n",
    "    amerFilename = os.path.join(absWorkingDir, amerFilename)\n",
    "    euroFilename = os.path.join(absWorkingDir, euroFilename)\n",
    "    print('Renaming \"%s\" to \"%s\"...' % (amerFilename, euroFilename))\n",
    "    shutil.move(amerFilename, euroFilename) # uncomment after testing\n",
    "    \n"
   ]
  },
  {
   "attachments": {},
   "cell_type": "markdown",
   "id": "3a1afb85",
   "metadata": {},
   "source": [
    "### Project: Backing Up a Folder into a ZIP File"
   ]
  },
  {
   "cell_type": "code",
   "execution_count": 51,
   "id": "c216d05e",
   "metadata": {},
   "outputs": [
    {
     "name": "stdout",
     "output_type": "stream",
     "text": [
      "D:\\full_stack\\MyPractice\\Python\\book practice\\walnut\n"
     ]
    }
   ],
   "source": [
    "cd D:\\full_stack\\MyPractice\\Python\\book practice\\walnut"
   ]
  },
  {
   "cell_type": "code",
   "execution_count": 54,
   "id": "c836d977",
   "metadata": {},
   "outputs": [],
   "source": [
    "import zipfile, os\n",
    "def backupToZip(folder):\n",
    "    folder = os.path.abspath(folder) # make sure folder is absolute\n",
    "    # Figure out the filename this code should use based on\n",
    "    # what files already exist.\n",
    "    number = 1\n",
    "    while True:\n",
    "        zipFilename = os.path.basename(folder) + '_' + str(number) + '.zip'\n",
    "        if not os.path.exists(zipFilename):\n",
    "            break\n",
    "        number = number + 1\n",
    "    # Create the ZIP file.\n",
    "    print('Creating %s...' % (zipFilename))\n",
    "    backupZip = zipfile.ZipFile(zipFilename, 'w')\n",
    "    # Walk the entire folder tree and compress the files in each folder.\n",
    "    for foldername, subfolders, filenames in os.walk(folder):\n",
    "        print('Adding files in %s...' % (foldername))\n",
    "    # Add the current folder to the ZIP file.\n",
    "        backupZip.write(foldername)\n",
    "    # Add all the files in this folder to the ZIP file.\n",
    "        for filename in filenames:\n",
    "            newBase = os.path.basename(folder) + '_'\n",
    "            if filename.startswith(newBase) and filename.endswith('.zip'):\n",
    "                continue # don't backup the backup ZIP files\n",
    "            backupZip.write(os.path.join(foldername, filename))\n",
    "    backupZip.close()\n",
    "    print('Done.')"
   ]
  },
  {
   "cell_type": "code",
   "execution_count": 55,
   "id": "75c4e57c",
   "metadata": {},
   "outputs": [
    {
     "name": "stdout",
     "output_type": "stream",
     "text": [
      "Creating walnut_2.zip...\n",
      "Adding files in D:\\full_stack\\MyPractice\\Python\\book practice\\walnut...\n",
      "Adding files in D:\\full_stack\\MyPractice\\Python\\book practice\\walnut\\quizzes...\n",
      "Adding files in D:\\full_stack\\MyPractice\\Python\\book practice\\walnut\\waffles...\n",
      "Done.\n"
     ]
    }
   ],
   "source": [
    "backupToZip(r'D:\\full_stack\\MyPractice\\Python\\book practice\\walnut')"
   ]
  },
  {
   "cell_type": "code",
   "execution_count": null,
   "id": "393e23bf",
   "metadata": {},
   "outputs": [],
   "source": []
  }
 ],
 "metadata": {
  "kernelspec": {
   "display_name": "Python 3 (ipykernel)",
   "language": "python",
   "name": "python3"
  },
  "language_info": {
   "codemirror_mode": {
    "name": "ipython",
    "version": 3
   },
   "file_extension": ".py",
   "mimetype": "text/x-python",
   "name": "python",
   "nbconvert_exporter": "python",
   "pygments_lexer": "ipython3",
   "version": "3.9.12"
  }
 },
 "nbformat": 4,
 "nbformat_minor": 5
}
