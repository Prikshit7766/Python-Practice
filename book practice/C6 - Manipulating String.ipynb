{
 "cells": [
  {
   "cell_type": "markdown",
   "id": "92c4e922",
   "metadata": {},
   "source": [
    "## ## String Literals"
   ]
  },
  {
   "cell_type": "code",
   "execution_count": 7,
   "id": "4b677f5d",
   "metadata": {},
   "outputs": [
    {
     "data": {
      "text/plain": [
       "\"That is Alice's cat.\""
      ]
     },
     "execution_count": 7,
     "metadata": {},
     "output_type": "execute_result"
    }
   ],
   "source": [
    "spam = \"That is Alice's cat.\"\n",
    "spam"
   ]
  },
  {
   "cell_type": "markdown",
   "id": "b5747896",
   "metadata": {},
   "source": [
    "## Escape Characters"
   ]
  },
  {
   "cell_type": "code",
   "execution_count": 8,
   "id": "47917be5",
   "metadata": {},
   "outputs": [
    {
     "data": {
      "text/plain": [
       "\"Say hi to Bob's mother.\""
      ]
     },
     "execution_count": 8,
     "metadata": {},
     "output_type": "execute_result"
    }
   ],
   "source": [
    "spam = 'Say hi to Bob\\'s mother.'\n",
    "spam"
   ]
  },
  {
   "attachments": {
    "image.png": {
     "image/png": "[encoded data removed]"
    }
   },
   "cell_type": "markdown",
   "id": "dadf4c50",
   "metadata": {},
   "source": [
    "![image.png](attachment:image.png)"
   ]
  },
  {
   "cell_type": "code",
   "execution_count": 9,
   "id": "84d58cbe",
   "metadata": {},
   "outputs": [
    {
     "name": "stdout",
     "output_type": "stream",
     "text": [
      "Hello there!\n",
      "How are you?\n",
      "I'm doing fine.\n"
     ]
    }
   ],
   "source": [
    " print(\"Hello there!\\nHow are you?\\nI\\'m doing fine.\")"
   ]
  },
  {
   "cell_type": "markdown",
   "id": "4111a8c7",
   "metadata": {},
   "source": [
    "## Raw Strings"
   ]
  },
  {
   "cell_type": "code",
   "execution_count": 10,
   "id": "108159f2",
   "metadata": {},
   "outputs": [
    {
     "name": "stdout",
     "output_type": "stream",
     "text": [
      "That is Carol\\'s cat.\n"
     ]
    }
   ],
   "source": [
    "print(r'That is Carol\\'s cat.')"
   ]
  },
  {
   "cell_type": "markdown",
   "id": "225fb450",
   "metadata": {},
   "source": [
    "## Multiline Strings with Triple Quotes"
   ]
  },
  {
   "cell_type": "code",
   "execution_count": 11,
   "id": "0291cde4",
   "metadata": {},
   "outputs": [
    {
     "name": "stdout",
     "output_type": "stream",
     "text": [
      "Dear Alice,\n",
      "Eve's cat has been arrested for catnapping, cat burglary, and extortion.\n",
      "Sincerely,\n",
      "Bob\n"
     ]
    }
   ],
   "source": [
    "print('''Dear Alice,\n",
    "Eve's cat has been arrested for catnapping, cat burglary, and extortion.\n",
    "Sincerely,\n",
    "Bob''')"
   ]
  },
  {
   "cell_type": "markdown",
   "id": "f82379cd",
   "metadata": {},
   "source": [
    "## Multiline Comments"
   ]
  },
  {
   "cell_type": "code",
   "execution_count": 14,
   "id": "5b12ba87",
   "metadata": {},
   "outputs": [],
   "source": [
    "\"\"\"hay \n",
    "how\n",
    "are \n",
    "you\"\"\"\n",
    "a=\"sas\""
   ]
  },
  {
   "cell_type": "markdown",
   "id": "43ca4b19",
   "metadata": {},
   "source": [
    "- Indexing and Slicing Strings\n",
    "- The in and not in Operators with Strings\n",
    "- The upper(), lower(), isupper(), and islower() String Methods\n",
    "- The isX String Methods\n",
    " - isalpha() \n",
    " - isalnum()\n",
    " - isdecimal()\n",
    " - isspace()\n",
    " - istitle()\n",
    "- The startswith() and endswith() String Methods\n",
    "- Justifying Text with rjust(), ljust(), and center()   -> add space by default or you can mauplate it \n",
    "- Removing Whitespace with strip(), rstrip(), and lstrip()\n",
    "- Copying and Pasting Strings with the pyperclip Module\n"
   ]
  },
  {
   "cell_type": "code",
   "execution_count": 3,
   "id": "d57f0a86",
   "metadata": {},
   "outputs": [
    {
     "name": "stdout",
     "output_type": "stream",
     "text": [
      "---PICNIC ITEMS--\n",
      "sandwiches..    4\n",
      "apples......   12\n",
      "cups........    4\n",
      "cookies..... 8000\n",
      "-------PICNIC ITEMS-------\n",
      "sandwiches..........     4\n",
      "apples..............    12\n",
      "cups................     4\n",
      "cookies.............  8000\n"
     ]
    }
   ],
   "source": [
    "def printPicnic(itemsDict, leftWidth, rightWidth):\n",
    " print('PICNIC ITEMS'.center(leftWidth + rightWidth, '-'))\n",
    " for k, v in itemsDict.items():\n",
    "     print(k.ljust(leftWidth, '.') + str(v).rjust(rightWidth))\n",
    "picnicItems = {'sandwiches': 4, 'apples': 12, 'cups': 4, 'cookies': 8000}\n",
    "printPicnic(picnicItems, 12, 5)\n",
    "printPicnic(picnicItems, 20, 6)"
   ]
  },
  {
   "cell_type": "code",
   "execution_count": 4,
   "id": "0259a7de",
   "metadata": {},
   "outputs": [
    {
     "data": {
      "text/plain": [
       "'Hello world!'"
      ]
     },
     "execution_count": 4,
     "metadata": {},
     "output_type": "execute_result"
    }
   ],
   "source": [
    "import pyperclip\n",
    "pyperclip.copy('Hello world!')\n",
    "pyperclip.paste()"
   ]
  },
  {
   "cell_type": "code",
   "execution_count": 6,
   "id": "b82919ec",
   "metadata": {},
   "outputs": [
    {
     "data": {
      "text/plain": [
       "'copy() and paste() functions that can send text \\r\\nto and receive text from your computer’s clipboard.'"
      ]
     },
     "execution_count": 6,
     "metadata": {},
     "output_type": "execute_result"
    }
   ],
   "source": [
    "pyperclip.paste()"
   ]
  },
  {
   "cell_type": "code",
   "execution_count": null,
   "id": "674da557",
   "metadata": {},
   "outputs": [],
   "source": [
    "## copy() and paste() functions that can send text \\r\\nto and receive text from your computer’s clipboard.'"
   ]
  }
 ],
 "metadata": {
  "kernelspec": {
   "display_name": "Python 3 (ipykernel)",
   "language": "python",
   "name": "python3"
  },
  "language_info": {
   "codemirror_mode": {
    "name": "ipython",
    "version": 3
   },
   "file_extension": ".py",
   "mimetype": "text/x-python",
   "name": "python",
   "nbconvert_exporter": "python",
   "pygments_lexer": "ipython3",
   "version": "3.9.12"
  }
 },
 "nbformat": 4,
 "nbformat_minor": 5
}
