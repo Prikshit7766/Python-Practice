{
 "cells": [
  {
   "cell_type": "markdown",
   "metadata": {},
   "source": [
    "### Raising Exceptions"
   ]
  },
  {
   "cell_type": "markdown",
   "metadata": {},
   "source": [
    "Stop running the code in this function and move the program execution to the except statement.\n",
    "- The raise keyword\n",
    "- A call to the Exception() function\n",
    "- A string with a helpful error message passed to the Exception() function"
   ]
  },
  {
   "cell_type": "code",
   "execution_count": 2,
   "metadata": {},
   "outputs": [
    {
     "ename": "Exception",
     "evalue": "This is the error message.",
     "output_type": "error",
     "traceback": [
      "\u001b[1;31m---------------------------------------------------------------------------\u001b[0m",
      "\u001b[1;31mException\u001b[0m                                 Traceback (most recent call last)",
      "Cell \u001b[1;32mIn[2], line 1\u001b[0m\n\u001b[1;32m----> 1\u001b[0m \u001b[39mraise\u001b[39;00m \u001b[39mException\u001b[39;00m(\u001b[39m'\u001b[39m\u001b[39mThis is the error message.\u001b[39m\u001b[39m'\u001b[39m)\n\u001b[0;32m      2\u001b[0m \u001b[39m\"\"\"If there are no try and except statements covering the raise statement \u001b[39;00m\n\u001b[0;32m      3\u001b[0m \u001b[39mthat raised the exception, the program simply crashes and displays the \u001b[39;00m\n\u001b[0;32m      4\u001b[0m \u001b[39mexception’s error message\"\"\"\u001b[39;00m\n",
      "\u001b[1;31mException\u001b[0m: This is the error message."
     ]
    }
   ],
   "source": [
    "raise Exception('This is the error message.')\n",
    "\"\"\"If there are no try and except statements covering the raise statement \n",
    "that raised the exception, the program simply crashes and displays the \n",
    "exception’s error message\"\"\""
   ]
  },
  {
   "cell_type": "markdown",
   "metadata": {},
   "source": [
    "#### boxPrint"
   ]
  },
  {
   "cell_type": "code",
   "execution_count": 3,
   "metadata": {},
   "outputs": [
    {
     "name": "stdout",
     "output_type": "stream",
     "text": [
      "****\n",
      "*  *\n",
      "*  *\n",
      "****\n",
      "00000000000000000000\n",
      "0                  0\n",
      "0                  0\n",
      "0                  0\n",
      "00000000000000000000\n",
      "An exception happened: Width must be greater than 2.\n",
      "An exception happened: Symbol must be a single character string.\n"
     ]
    }
   ],
   "source": [
    "def bocPrint(symbols, width, hight):\n",
    "    if len(symbols) != 1:\n",
    "        raise Exception('Symbol must be a single character string.')\n",
    "    if width <= 2:\n",
    "        raise Exception('Width must be greater than 2.')\n",
    "    if hight <= 2:\n",
    "        raise Exception('Hight must be greater than 2.')\n",
    "    print(symbols * width)\n",
    "    for i in range(hight - 2):\n",
    "        print(symbols + (' ' * (width - 2)) + symbols)\n",
    "    print(symbols * width)\n",
    "\n",
    "for sym, w, h in (('*', 4, 4), ('0', 20, 5), ('x', 1, 3), ('ZZ', 3, 3)):\n",
    "    try:\n",
    "        bocPrint(sym, w, h)\n",
    "    except Exception as err:\n",
    "        print('An exception happened: ' + str(err))"
   ]
  },
  {
   "cell_type": "markdown",
   "metadata": {},
   "source": [
    "### Getting the Traceback as a String"
   ]
  },
  {
   "cell_type": "markdown",
   "metadata": {},
   "source": [
    "When Python encounters an error, it produces a treasure trove of error \n",
    "information called the traceback. The traceback includes the error message, \n",
    "the line number of the line that caused the error, and the sequence of the \n",
    "function calls that led to the error. This sequence of calls is called the call stack. "
   ]
  },
  {
   "cell_type": "code",
   "execution_count": 6,
   "metadata": {},
   "outputs": [],
   "source": [
    "def spam():\n",
    "  bacon()\n",
    "\n",
    "def bacon():\n",
    "    raise Exception('This is the error message.')\n",
    " \n"
   ]
  },
  {
   "cell_type": "code",
   "execution_count": 7,
   "metadata": {},
   "outputs": [
    {
     "ename": "Exception",
     "evalue": "This is the error message.",
     "output_type": "error",
     "traceback": [
      "\u001b[1;31m---------------------------------------------------------------------------\u001b[0m",
      "\u001b[1;31mException\u001b[0m                                 Traceback (most recent call last)",
      "Cell \u001b[1;32mIn[7], line 1\u001b[0m\n\u001b[1;32m----> 1\u001b[0m spam()\n",
      "Cell \u001b[1;32mIn[6], line 2\u001b[0m, in \u001b[0;36mspam\u001b[1;34m()\u001b[0m\n\u001b[0;32m      1\u001b[0m \u001b[39mdef\u001b[39;00m \u001b[39mspam\u001b[39m():\n\u001b[1;32m----> 2\u001b[0m   bacon()\n",
      "Cell \u001b[1;32mIn[6], line 5\u001b[0m, in \u001b[0;36mbacon\u001b[1;34m()\u001b[0m\n\u001b[0;32m      4\u001b[0m \u001b[39mdef\u001b[39;00m \u001b[39mbacon\u001b[39m():\n\u001b[1;32m----> 5\u001b[0m     \u001b[39mraise\u001b[39;00m \u001b[39mException\u001b[39;00m(\u001b[39m'\u001b[39m\u001b[39mThis is the error message.\u001b[39m\u001b[39m'\u001b[39m)\n",
      "\u001b[1;31mException\u001b[0m: This is the error message."
     ]
    }
   ],
   "source": [
    "spam()"
   ]
  },
  {
   "cell_type": "markdown",
   "metadata": {},
   "source": [
    "####  write the traceback information to a log file"
   ]
  },
  {
   "cell_type": "code",
   "execution_count": 8,
   "metadata": {},
   "outputs": [
    {
     "name": "stdout",
     "output_type": "stream",
     "text": [
      "The traceback info was written to errorInfo.txt.\n"
     ]
    }
   ],
   "source": [
    "import traceback\n",
    "\n",
    "try:\n",
    "    raise Exception('This is the error message.')\n",
    "\n",
    "except:\n",
    "    errorFile = open('errorInfo.txt', 'w')\n",
    "    errorFile.write(traceback.format_exc())\n",
    "    errorFile.close()\n",
    "    print('The traceback info was written to errorInfo.txt.')"
   ]
  },
  {
   "cell_type": "markdown",
   "metadata": {},
   "source": [
    "## Assertions"
   ]
  },
  {
   "cell_type": "markdown",
   "metadata": {},
   "source": [
    "An assertion is a sanity check to make sure your code isn’t doing something \n",
    "obviously wrong. These sanity checks are performed by assert statements. If \n",
    "the sanity check fails, then an AssertionError exception is raised. In code, an \n",
    "assert statement consists of the following:\n",
    "\n",
    "•\t The assert keyword\n",
    "\n",
    "•\t A condition (that is, an expression that evaluates to True or False)\n",
    "\n",
    "•\t A comma\n",
    "\n",
    "•\t A string to display when the condition is False"
   ]
  },
  {
   "cell_type": "code",
   "execution_count": 10,
   "metadata": {},
   "outputs": [],
   "source": [
    "podBayDoorStatus = 'open'\n",
    "assert podBayDoorStatus == 'open', 'The pod bay doors need to be \"open\".'"
   ]
  },
  {
   "cell_type": "code",
   "execution_count": 11,
   "metadata": {},
   "outputs": [
    {
     "ename": "AssertionError",
     "evalue": "The pod bay doors need to be \"open\".",
     "output_type": "error",
     "traceback": [
      "\u001b[1;31m---------------------------------------------------------------------------\u001b[0m",
      "\u001b[1;31mAssertionError\u001b[0m                            Traceback (most recent call last)",
      "Cell \u001b[1;32mIn[11], line 2\u001b[0m\n\u001b[0;32m      1\u001b[0m podBayDoorStatus \u001b[39m=\u001b[39m \u001b[39m'\u001b[39m\u001b[39mI\u001b[39m\u001b[39m\\'\u001b[39;00m\u001b[39mm sorry, Dave. I\u001b[39m\u001b[39m\\'\u001b[39;00m\u001b[39mm afraid I can\u001b[39m\u001b[39m\\'\u001b[39;00m\u001b[39mt do that.\u001b[39m\u001b[39m'\u001b[39m\n\u001b[1;32m----> 2\u001b[0m \u001b[39massert\u001b[39;00m podBayDoorStatus \u001b[39m==\u001b[39m \u001b[39m'\u001b[39m\u001b[39mopen\u001b[39m\u001b[39m'\u001b[39m, \u001b[39m'\u001b[39m\u001b[39mThe pod bay doors need to be \u001b[39m\u001b[39m\"\u001b[39m\u001b[39mopen\u001b[39m\u001b[39m\"\u001b[39m\u001b[39m.\u001b[39m\u001b[39m'\u001b[39m\n",
      "\u001b[1;31mAssertionError\u001b[0m: The pod bay doors need to be \"open\"."
     ]
    }
   ],
   "source": [
    "podBayDoorStatus = 'I\\'m sorry, Dave. I\\'m afraid I can\\'t do that.'\n",
    "assert podBayDoorStatus == 'open', 'The pod bay doors need to be \"open\".'\n"
   ]
  },
  {
   "cell_type": "markdown",
   "metadata": {},
   "source": [
    "Unlike exceptions, your code should not handle assert statements with try and except; if an assert fails, your program should crash"
   ]
  },
  {
   "cell_type": "code",
   "execution_count": 20,
   "metadata": {},
   "outputs": [],
   "source": [
    "### Using an Assertion in a Traffic Light Simulation\n",
    "\n",
    "market_2nd = {'ns': 'green', 'ew': 'red'}\n",
    "mission_16th = {'ns': 'red', 'ew': 'green'}\n",
    "\n",
    "def switchLights(stoplight):\n",
    "    for key in stoplight.keys():\n",
    "        if stoplight[key] == 'green':\n",
    "            stoplight[key] = 'yellow'\n",
    "        elif stoplight[key] == 'yellow':\n",
    "            stoplight[key] = 'red'\n",
    "        elif stoplight[key] == 'red':\n",
    "            stoplight[key] = 'green'\n",
    "    assert 'red' in stoplight.values(), 'Neither light is red! ' + str(stoplight)\n",
    "\n",
    "\n"
   ]
  },
  {
   "cell_type": "code",
   "execution_count": 21,
   "metadata": {},
   "outputs": [
    {
     "ename": "AssertionError",
     "evalue": "Neither light is red! {'ns': 'yellow', 'ew': 'green'}",
     "output_type": "error",
     "traceback": [
      "\u001b[1;31m---------------------------------------------------------------------------\u001b[0m",
      "\u001b[1;31mAssertionError\u001b[0m                            Traceback (most recent call last)",
      "Cell \u001b[1;32mIn[21], line 1\u001b[0m\n\u001b[1;32m----> 1\u001b[0m switchLights(market_2nd)\n",
      "Cell \u001b[1;32mIn[20], line 14\u001b[0m, in \u001b[0;36mswitchLights\u001b[1;34m(stoplight)\u001b[0m\n\u001b[0;32m     12\u001b[0m     \u001b[39melif\u001b[39;00m stoplight[key] \u001b[39m==\u001b[39m \u001b[39m'\u001b[39m\u001b[39mred\u001b[39m\u001b[39m'\u001b[39m:\n\u001b[0;32m     13\u001b[0m         stoplight[key] \u001b[39m=\u001b[39m \u001b[39m'\u001b[39m\u001b[39mgreen\u001b[39m\u001b[39m'\u001b[39m\n\u001b[1;32m---> 14\u001b[0m \u001b[39massert\u001b[39;00m \u001b[39m'\u001b[39m\u001b[39mred\u001b[39m\u001b[39m'\u001b[39m \u001b[39min\u001b[39;00m stoplight\u001b[39m.\u001b[39mvalues(), \u001b[39m'\u001b[39m\u001b[39mNeither light is red! \u001b[39m\u001b[39m'\u001b[39m \u001b[39m+\u001b[39m \u001b[39mstr\u001b[39m(stoplight)\n",
      "\u001b[1;31mAssertionError\u001b[0m: Neither light is red! {'ns': 'yellow', 'ew': 'green'}"
     ]
    }
   ],
   "source": [
    "\n",
    "switchLights(market_2nd)"
   ]
  },
  {
   "cell_type": "code",
   "execution_count": 22,
   "metadata": {},
   "outputs": [
    {
     "ename": "AssertionError",
     "evalue": "Neither light is red! {'ns': 'green', 'ew': 'yellow'}",
     "output_type": "error",
     "traceback": [
      "\u001b[1;31m---------------------------------------------------------------------------\u001b[0m",
      "\u001b[1;31mAssertionError\u001b[0m                            Traceback (most recent call last)",
      "Cell \u001b[1;32mIn[22], line 1\u001b[0m\n\u001b[1;32m----> 1\u001b[0m switchLights(mission_16th)\n",
      "Cell \u001b[1;32mIn[20], line 14\u001b[0m, in \u001b[0;36mswitchLights\u001b[1;34m(stoplight)\u001b[0m\n\u001b[0;32m     12\u001b[0m     \u001b[39melif\u001b[39;00m stoplight[key] \u001b[39m==\u001b[39m \u001b[39m'\u001b[39m\u001b[39mred\u001b[39m\u001b[39m'\u001b[39m:\n\u001b[0;32m     13\u001b[0m         stoplight[key] \u001b[39m=\u001b[39m \u001b[39m'\u001b[39m\u001b[39mgreen\u001b[39m\u001b[39m'\u001b[39m\n\u001b[1;32m---> 14\u001b[0m \u001b[39massert\u001b[39;00m \u001b[39m'\u001b[39m\u001b[39mred\u001b[39m\u001b[39m'\u001b[39m \u001b[39min\u001b[39;00m stoplight\u001b[39m.\u001b[39mvalues(), \u001b[39m'\u001b[39m\u001b[39mNeither light is red! \u001b[39m\u001b[39m'\u001b[39m \u001b[39m+\u001b[39m \u001b[39mstr\u001b[39m(stoplight)\n",
      "\u001b[1;31mAssertionError\u001b[0m: Neither light is red! {'ns': 'green', 'ew': 'yellow'}"
     ]
    }
   ],
   "source": [
    "switchLights(mission_16th)"
   ]
  },
  {
   "cell_type": "markdown",
   "metadata": {},
   "source": [
    "## Logging"
   ]
  },
  {
   "cell_type": "code",
   "execution_count": 1,
   "metadata": {},
   "outputs": [],
   "source": [
    "import logging\n",
    "logging.basicConfig(level=logging.DEBUG, format=' %(asctime)s - %(levelname)s - %(message)s')"
   ]
  },
  {
   "cell_type": "code",
   "execution_count": 5,
   "metadata": {},
   "outputs": [
    {
     "name": "stderr",
     "output_type": "stream",
     "text": [
      " 2023-07-18 12:29:32,137 - DEBUG - Start of program\n",
      " 2023-07-18 12:29:32,139 - DEBUG - start of program\n",
      " 2023-07-18 12:29:32,140 - DEBUG - i is 0, total is 0\n",
      " 2023-07-18 12:29:32,142 - DEBUG - i is 1, total is 0\n",
      " 2023-07-18 12:29:32,143 - DEBUG - i is 2, total is 0\n",
      " 2023-07-18 12:29:32,144 - DEBUG - i is 3, total is 0\n",
      " 2023-07-18 12:29:32,145 - DEBUG - i is 4, total is 0\n",
      " 2023-07-18 12:29:32,145 - DEBUG - i is 5, total is 0\n",
      " 2023-07-18 12:29:32,146 - DEBUG - End of factorial(5%)\n",
      " 2023-07-18 12:29:32,147 - DEBUG - End of program\n"
     ]
    }
   ],
   "source": [
    "## Logging\n",
    "import logging\n",
    "logging.basicConfig(level=logging.DEBUG, format=' %(asctime)s - %(levelname)s - %(message)s')\n",
    "logging.debug('Start of program')\n",
    "def factorial(n):\n",
    "    logging.debug('start of program')\n",
    "    total=1\n",
    "    for i in range(n + 1):\n",
    "            total *= i\n",
    "            logging.debug('i is ' + str(i) + ', total is ' + str(total))\n",
    "    logging.debug('End of factorial(%s%%)' % (n))\n",
    "    return total\n",
    "(factorial(5))\n",
    "logging.debug('End of program')\n"
   ]
  },
  {
   "cell_type": "code",
   "execution_count": 6,
   "metadata": {},
   "outputs": [
    {
     "name": "stderr",
     "output_type": "stream",
     "text": [
      " 2023-07-18 12:30:22,746 - DEBUG - Start of program\n",
      " 2023-07-18 12:30:22,747 - DEBUG - start of program\n",
      " 2023-07-18 12:30:22,749 - DEBUG - i is 1, total is 1\n",
      " 2023-07-18 12:30:22,750 - DEBUG - i is 2, total is 2\n",
      " 2023-07-18 12:30:22,750 - DEBUG - i is 3, total is 6\n",
      " 2023-07-18 12:30:22,751 - DEBUG - i is 4, total is 24\n",
      " 2023-07-18 12:30:22,752 - DEBUG - i is 5, total is 120\n",
      " 2023-07-18 12:30:22,754 - DEBUG - End of factorial(5%)\n",
      " 2023-07-18 12:30:22,755 - DEBUG - End of program\n"
     ]
    }
   ],
   "source": [
    "## AFTER correction Logging\n",
    "import logging\n",
    "logging.basicConfig(level=logging.DEBUG, format=' %(asctime)s - %(levelname)s - %(message)s')\n",
    "logging.debug('Start of program')\n",
    "def factorial(n):\n",
    "    logging.debug('start of program')\n",
    "    total=1\n",
    "    for i in range(1,n + 1):\n",
    "            total *= i\n",
    "            logging.debug('i is ' + str(i) + ', total is ' + str(total))\n",
    "    logging.debug('End of factorial(%s%%)' % (n))\n",
    "    return total\n",
    "(factorial(5))\n",
    "logging.debug('End of program')"
   ]
  },
  {
   "cell_type": "markdown",
   "metadata": {},
   "source": [
    "## Don’t Debug with print()"
   ]
  },
  {
   "cell_type": "code",
   "execution_count": 7,
   "metadata": {},
   "outputs": [],
   "source": [
    "#You may \n",
    "# want to use print() calls instead, but don’t give in to this temptation! Once \n",
    "# you’re done debugging, you’ll end up spending a lot of time removing \n",
    "# print() calls from your code for each log message"
   ]
  },
  {
   "cell_type": "code",
   "execution_count": null,
   "metadata": {},
   "outputs": [],
   "source": [
    "#  you’re free to fill your program \n",
    "# with as many as you like, and you can always disable them later by adding \n",
    "# a single \n",
    "logging.disable(logging.CRITICAL)"
   ]
  },
  {
   "cell_type": "markdown",
   "metadata": {},
   "source": [
    "## Logging level"
   ]
  },
  {
   "attachments": {
    "image-3.png": {
     "image/png": "[encoded data removed]"
    },
    "image.png": {
     "image/png": "[encoded data removed]"
    }
   },
   "cell_type": "markdown",
   "metadata": {},
   "source": [
    "![image.png](attachment:image.png)\n",
    "![image-3.png](attachment:image-3.png)\n",
    "\n",
    "Passing logging.DEBUG to the basicConfig()\n",
    "function’s level keyword argument will show messages from all the logging \n",
    "levels (DEBUG being the lowest level). But after developing your program \n",
    "some more, you may be interested only in errors. In that case, you can set \n",
    "basicConfig()’s level argument to logging.ERROR. This will show only ERROR \n",
    "and CRITICAL messages and skip the DEBUG, INFO, and WARNING \n",
    "messages."
   ]
  },
  {
   "cell_type": "markdown",
   "metadata": {},
   "source": [
    "## Disabling Logging"
   ]
  },
  {
   "cell_type": "code",
   "execution_count": 9,
   "metadata": {},
   "outputs": [
    {
     "name": "stderr",
     "output_type": "stream",
     "text": [
      " 2023-07-18 14:00:40,662 - CRITICAL - Critical error! Critical error!\n"
     ]
    }
   ],
   "source": [
    "## Disabling Logging\n",
    "\n",
    "import logging\n",
    "logging.basicConfig(level=logging.INFO, format=' %(asctime)s - %(levelname)s - %(message)s')\n",
    "\n",
    "\n",
    "logging.critical('Critical error! Critical error!')"
   ]
  },
  {
   "cell_type": "code",
   "execution_count": 10,
   "metadata": {},
   "outputs": [],
   "source": [
    "logging.disable(logging.CRITICAL)\n",
    "logging.critical('Critical error! Critical error!')\n",
    "logging.error('Error! Error!')"
   ]
  },
  {
   "cell_type": "code",
   "execution_count": 11,
   "metadata": {},
   "outputs": [],
   "source": [
    "## Logging to a File"
   ]
  },
  {
   "cell_type": "markdown",
   "metadata": {},
   "source": [
    "## Logging to a File"
   ]
  },
  {
   "cell_type": "code",
   "execution_count": 12,
   "metadata": {},
   "outputs": [],
   "source": [
    "import logging\n",
    "logging.basicConfig(filename='myProgramLog.txt', level=logging.DEBUG, format=' %(asctime)s - %(levelname)s - %(message)s')"
   ]
  },
  {
   "cell_type": "markdown",
   "metadata": {},
   "source": [
    "## IDLE’s Debugger"
   ]
  },
  {
   "cell_type": "markdown",
   "metadata": {},
   "source": [
    "- Go\n",
    "\n",
    "Clicking the Go button will cause the program to execute normally until it \n",
    "terminates or reaches a breakpoint. (Breakpoints are described later in this \n",
    "chapter.) If you are done debugging and want the program to continue nor\u0002mally, click the Go button.\n",
    "\n",
    "- Step\n",
    "\n",
    "Clicking the Step button will cause the debugger to execute the next line \n",
    "of code and then pause again. The Debug Control window’s list of global \n",
    "and local variables will be updated if their values change. If the next line of \n",
    "code is a function call, the debugger will “step into” that function and jump \n",
    "to the first line of code of that function.\n",
    "\n",
    "- Over\n",
    "\n",
    "Clicking \n",
    "Step button. However, if the next line of code is a function call, the Over \n",
    "button will “step over” the code in the function. The function’s code will be \n",
    "executed at full speed, and the debugger will pause as soon as the function \n",
    "will pause as soon as the function call returns. For example, if the next line of code is a print() call, you don’t really care about code inside the built-in print() function; you just want the \n",
    "string you pass it printed to the screen. For this reason, using the Over but\u0002ton is more common than the Step button. \n",
    "\n",
    "- Out\n",
    "\n",
    "Clicking the Out button will cause the debugger to execute lines of code \n",
    "at full speed until it returns from the current function. If you have stepped \n",
    "into a function call with the Step button and now simply want to keep exe\u0002cuting instructions until you get back out, click the Out button to “step out” \n",
    "of the current function call.\n",
    "\n",
    "- Quit\n",
    "\n",
    "If you want to stop debugging entirely and not bother to continue executing \n",
    "the rest of the program, click the Quit button. The Quit button will imme\u0002diately terminate the program. If you want to run your program normally \n",
    "again, select Debug4Debugger again to disable the debugger"
   ]
  },
  {
   "cell_type": "code",
   "execution_count": 14,
   "metadata": {},
   "outputs": [
    {
     "name": "stdout",
     "output_type": "stream",
     "text": [
      "Enter the first number to add:\n",
      "Enter the second number to add:\n",
      "Enter the third number to add:\n",
      "The sum is 121\n"
     ]
    }
   ],
   "source": [
    "print('Enter the first number to add:')\n",
    "first = input()\n",
    "print('Enter the second number to add:')\n",
    "second = input()\n",
    "print('Enter the third number to add:')\n",
    "third = input()\n",
    "print('The sum is ' + first + second + third)"
   ]
  },
  {
   "cell_type": "markdown",
   "metadata": {},
   "source": [
    "### Breakpoints\n",
    "\n",
    "A breakpoint can be set on a specific line of code and forces the debugger to \n",
    "pause whenever the program execution reaches that line. Open a new file \n",
    "editor window and enter the following program, which simulates flipping a \n",
    "coin 1,000 times. Save it as coinFlip.py"
   ]
  },
  {
   "cell_type": "code",
   "execution_count": null,
   "metadata": {},
   "outputs": [],
   "source": []
  }
 ],
 "metadata": {
  "kernelspec": {
   "display_name": "base",
   "language": "python",
   "name": "python3"
  },
  "language_info": {
   "codemirror_mode": {
    "name": "ipython",
    "version": 3
   },
   "file_extension": ".py",
   "mimetype": "text/x-python",
   "name": "python",
   "nbconvert_exporter": "python",
   "pygments_lexer": "ipython3",
   "version": "3.9.16"
  },
  "orig_nbformat": 4
 },
 "nbformat": 4,
 "nbformat_minor": 2
}
