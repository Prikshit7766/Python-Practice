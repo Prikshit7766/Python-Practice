{
 "cells": [
  {
   "cell_type": "code",
   "execution_count": 2,
   "id": "64e01a1d",
   "metadata": {},
   "outputs": [],
   "source": [
    "#compilere genereate syntax error"
   ]
  },
  {
   "cell_type": "code",
   "execution_count": 1,
   "id": "c306b7ee",
   "metadata": {},
   "outputs": [
    {
     "ename": "TypeError",
     "evalue": "unsupported operand type(s) for +: 'int' and 'str'",
     "output_type": "error",
     "traceback": [
      "\u001b[1;31m---------------------------------------------------------------------------\u001b[0m",
      "\u001b[1;31mTypeError\u001b[0m                                 Traceback (most recent call last)",
      "\u001b[1;32m~\\AppData\\Local\\Temp\\ipykernel_8176\\1770489526.py\u001b[0m in \u001b[0;36m<module>\u001b[1;34m\u001b[0m\n\u001b[0;32m      1\u001b[0m \u001b[0ma\u001b[0m\u001b[1;33m=\u001b[0m\u001b[1;36m10\u001b[0m\u001b[1;33m\u001b[0m\u001b[1;33m\u001b[0m\u001b[0m\n\u001b[0;32m      2\u001b[0m \u001b[0mb\u001b[0m\u001b[1;33m=\u001b[0m\u001b[1;34m\"s\"\u001b[0m\u001b[1;33m\u001b[0m\u001b[1;33m\u001b[0m\u001b[0m\n\u001b[1;32m----> 3\u001b[1;33m \u001b[0mc\u001b[0m\u001b[1;33m=\u001b[0m\u001b[0ma\u001b[0m\u001b[1;33m+\u001b[0m\u001b[0mb\u001b[0m\u001b[1;33m\u001b[0m\u001b[1;33m\u001b[0m\u001b[0m\n\u001b[0m",
      "\u001b[1;31mTypeError\u001b[0m: unsupported operand type(s) for +: 'int' and 'str'"
     ]
    }
   ],
   "source": [
    "a=10\n",
    "b=\"s\"\n",
    "c=a+b #at the time of interpretation  it see that we can't add these two as thet have diff data type\n",
    "#value error ---- it is inet"
   ]
  },
  {
   "cell_type": "code",
   "execution_count": 3,
   "id": "13da7ad3",
   "metadata": {},
   "outputs": [
    {
     "name": "stdout",
     "output_type": "stream",
     "text": [
      "30\n"
     ]
    }
   ],
   "source": [
    "a=10\n",
    "b=20\n",
    "c=a+b\n",
    "print(c)"
   ]
  },
  {
   "cell_type": "code",
   "execution_count": 4,
   "id": "da496e44",
   "metadata": {},
   "outputs": [
    {
     "ename": "SyntaxError",
     "evalue": "unexpected EOF while parsing (1031891880.py, line 4)",
     "output_type": "error",
     "traceback": [
      "\u001b[1;36m  File \u001b[1;32m\"C:\\Users\\HP\\AppData\\Local\\Temp\\ipykernel_8176\\1031891880.py\"\u001b[1;36m, line \u001b[1;32m4\u001b[0m\n\u001b[1;33m    print (c\u001b[0m\n\u001b[1;37m            ^\u001b[0m\n\u001b[1;31mSyntaxError\u001b[0m\u001b[1;31m:\u001b[0m unexpected EOF while parsing\n"
     ]
    }
   ],
   "source": [
    "a=10\n",
    "b=20\n",
    "c=a+b\n",
    "print (c   \n",
    "# source code \n"
   ]
  },
  {
   "cell_type": "code",
   "execution_count": 5,
   "id": "6280df84",
   "metadata": {},
   "outputs": [],
   "source": [
    "# error because of the syntax\n",
    "#error at the compile time"
   ]
  },
  {
   "cell_type": "code",
   "execution_count": 6,
   "id": "6c9eb48f",
   "metadata": {},
   "outputs": [
    {
     "ename": "TypeError",
     "evalue": "unsupported operand type(s) for +: 'int' and 'str'",
     "output_type": "error",
     "traceback": [
      "\u001b[1;31m---------------------------------------------------------------------------\u001b[0m",
      "\u001b[1;31mTypeError\u001b[0m                                 Traceback (most recent call last)",
      "\u001b[1;32m~\\AppData\\Local\\Temp\\ipykernel_8176\\4262078544.py\u001b[0m in \u001b[0;36m<module>\u001b[1;34m\u001b[0m\n\u001b[0;32m      1\u001b[0m \u001b[0ma\u001b[0m\u001b[1;33m=\u001b[0m\u001b[1;36m10\u001b[0m\u001b[1;33m\u001b[0m\u001b[1;33m\u001b[0m\u001b[0m\n\u001b[0;32m      2\u001b[0m \u001b[0mb\u001b[0m\u001b[1;33m=\u001b[0m\u001b[1;34m\"s\"\u001b[0m\u001b[1;33m\u001b[0m\u001b[1;33m\u001b[0m\u001b[0m\n\u001b[1;32m----> 3\u001b[1;33m \u001b[0mc\u001b[0m\u001b[1;33m=\u001b[0m\u001b[0ma\u001b[0m\u001b[1;33m+\u001b[0m\u001b[0mb\u001b[0m\u001b[1;33m\u001b[0m\u001b[1;33m\u001b[0m\u001b[0m\n\u001b[0m\u001b[0;32m      4\u001b[0m \u001b[0mpint\u001b[0m\u001b[1;33m(\u001b[0m\u001b[0mc\u001b[0m\u001b[1;33m)\u001b[0m\u001b[1;33m\u001b[0m\u001b[1;33m\u001b[0m\u001b[0m\n",
      "\u001b[1;31mTypeError\u001b[0m: unsupported operand type(s) for +: 'int' and 'str'"
     ]
    }
   ],
   "source": [
    "a=10\n",
    "b=\"s\"\n",
    "c=a+b\n",
    "pint(c)\n",
    "# synatax is correct but  after complitation it will generate byte code ------->to interpretator\n",
    "# at interpreator it will check c=a+b it see that we can't add these two as thet have diff data type\n",
    " # so we get run time error ---- so handle this exception    which is called as  exception handling"
   ]
  },
  {
   "cell_type": "code",
   "execution_count": null,
   "id": "20bed4dd",
   "metadata": {},
   "outputs": [],
   "source": [
    "#why we do exception handling"
   ]
  },
  {
   "cell_type": "code",
   "execution_count": 11,
   "id": "c40e84d6",
   "metadata": {},
   "outputs": [
    {
     "name": "stdout",
     "output_type": "stream",
     "text": [
      "enter first number1\n",
      "enter second number2\n",
      "0.5\n"
     ]
    }
   ],
   "source": [
    "a= int(input(\"enter first number\"))\n",
    "b= int(input(\"enter second number\"))\n",
    "c=a/b\n",
    "\n",
    "print (c)"
   ]
  },
  {
   "cell_type": "code",
   "execution_count": 12,
   "id": "ba223596",
   "metadata": {},
   "outputs": [
    {
     "name": "stdout",
     "output_type": "stream",
     "text": [
      "enter first number1\n",
      "enter second number0\n"
     ]
    },
    {
     "ename": "ZeroDivisionError",
     "evalue": "division by zero",
     "output_type": "error",
     "traceback": [
      "\u001b[1;31m---------------------------------------------------------------------------\u001b[0m",
      "\u001b[1;31mZeroDivisionError\u001b[0m                         Traceback (most recent call last)",
      "\u001b[1;32m~\\AppData\\Local\\Temp\\ipykernel_8176\\919208278.py\u001b[0m in \u001b[0;36m<module>\u001b[1;34m\u001b[0m\n\u001b[0;32m      1\u001b[0m \u001b[0ma\u001b[0m\u001b[1;33m=\u001b[0m \u001b[0mint\u001b[0m\u001b[1;33m(\u001b[0m\u001b[0minput\u001b[0m\u001b[1;33m(\u001b[0m\u001b[1;34m\"enter first number\"\u001b[0m\u001b[1;33m)\u001b[0m\u001b[1;33m)\u001b[0m\u001b[1;33m\u001b[0m\u001b[1;33m\u001b[0m\u001b[0m\n\u001b[0;32m      2\u001b[0m \u001b[0mb\u001b[0m\u001b[1;33m=\u001b[0m \u001b[0mint\u001b[0m\u001b[1;33m(\u001b[0m\u001b[0minput\u001b[0m\u001b[1;33m(\u001b[0m\u001b[1;34m\"enter second number\"\u001b[0m\u001b[1;33m)\u001b[0m\u001b[1;33m)\u001b[0m\u001b[1;33m\u001b[0m\u001b[1;33m\u001b[0m\u001b[0m\n\u001b[1;32m----> 3\u001b[1;33m \u001b[0mc\u001b[0m\u001b[1;33m=\u001b[0m\u001b[0ma\u001b[0m\u001b[1;33m/\u001b[0m\u001b[0mb\u001b[0m\u001b[1;33m\u001b[0m\u001b[1;33m\u001b[0m\u001b[0m\n\u001b[0m\u001b[0;32m      4\u001b[0m \u001b[1;33m\u001b[0m\u001b[0m\n\u001b[0;32m      5\u001b[0m \u001b[0mprint\u001b[0m \u001b[1;33m(\u001b[0m\u001b[0mc\u001b[0m\u001b[1;33m)\u001b[0m\u001b[1;33m\u001b[0m\u001b[1;33m\u001b[0m\u001b[0m\n",
      "\u001b[1;31mZeroDivisionError\u001b[0m: division by zero"
     ]
    }
   ],
   "source": [
    "a= int(input(\"enter first number\"))\n",
    "b= int(input(\"enter second number\"))\n",
    "c=a/b\n",
    "\n",
    "print (c)\n",
    "# error \n",
    "# exception error \n",
    "# so we need to handle it\n"
   ]
  },
  {
   "cell_type": "code",
   "execution_count": 14,
   "id": "705c6c53",
   "metadata": {},
   "outputs": [
    {
     "name": "stdout",
     "output_type": "stream",
     "text": [
      "enter first number10\n",
      "enter second number0\n"
     ]
    },
    {
     "ename": "ZeroDivisionError",
     "evalue": "division by zero",
     "output_type": "error",
     "traceback": [
      "\u001b[1;31m---------------------------------------------------------------------------\u001b[0m",
      "\u001b[1;31mZeroDivisionError\u001b[0m                         Traceback (most recent call last)",
      "\u001b[1;32m~\\AppData\\Local\\Temp\\ipykernel_8176\\4081271246.py\u001b[0m in \u001b[0;36m<module>\u001b[1;34m\u001b[0m\n\u001b[0;32m      1\u001b[0m \u001b[0ma\u001b[0m\u001b[1;33m=\u001b[0m \u001b[0mint\u001b[0m\u001b[1;33m(\u001b[0m\u001b[0minput\u001b[0m\u001b[1;33m(\u001b[0m\u001b[1;34m\"enter first number\"\u001b[0m\u001b[1;33m)\u001b[0m\u001b[1;33m)\u001b[0m\u001b[1;33m\u001b[0m\u001b[1;33m\u001b[0m\u001b[0m\n\u001b[0;32m      2\u001b[0m \u001b[0mb\u001b[0m\u001b[1;33m=\u001b[0m \u001b[0mint\u001b[0m\u001b[1;33m(\u001b[0m\u001b[0minput\u001b[0m\u001b[1;33m(\u001b[0m\u001b[1;34m\"enter second number\"\u001b[0m\u001b[1;33m)\u001b[0m\u001b[1;33m)\u001b[0m\u001b[1;33m\u001b[0m\u001b[1;33m\u001b[0m\u001b[0m\n\u001b[1;32m----> 3\u001b[1;33m \u001b[0mc\u001b[0m\u001b[1;33m=\u001b[0m\u001b[0ma\u001b[0m\u001b[1;33m/\u001b[0m\u001b[0mb\u001b[0m\u001b[1;33m\u001b[0m\u001b[1;33m\u001b[0m\u001b[0m\n\u001b[0m\u001b[0;32m      4\u001b[0m \u001b[1;33m\u001b[0m\u001b[0m\n\u001b[0;32m      5\u001b[0m \u001b[0mprint\u001b[0m \u001b[1;33m(\u001b[0m\u001b[0mc\u001b[0m\u001b[1;33m)\u001b[0m\u001b[1;33m\u001b[0m\u001b[1;33m\u001b[0m\u001b[0m\n",
      "\u001b[1;31mZeroDivisionError\u001b[0m: division by zero"
     ]
    }
   ],
   "source": [
    "a= int(input(\"enter first number\"))\n",
    "b= int(input(\"enter second number\"))\n",
    "c=a/b                 #10/0 not possible\n",
    "\n",
    "print (c) \n",
    "d=a*b                  #10/0 possible\n",
    "print(d)\n",
    "\n",
    "# so exception handling is important  to avoid such problem"
   ]
  },
  {
   "cell_type": "code",
   "execution_count": null,
   "id": "67c0aee3",
   "metadata": {},
   "outputs": [],
   "source": [
    "#2 reason for exception handling\n",
    "'''1--> my futher code execution will stop\n",
    "2--> this is not user friendly'''\n"
   ]
  },
  {
   "cell_type": "code",
   "execution_count": null,
   "id": "ced7f67d",
   "metadata": {},
   "outputs": [],
   "source": [
    "# ways of doing exception handling in python\n",
    "#keyword to handle exception handling\n",
    "\n",
    "1 try\n",
    "2 except\n",
    "3 else\n",
    "4 raise\n",
    "5 finally\n"
   ]
  },
  {
   "cell_type": "markdown",
   "id": "bbcc0ec0",
   "metadata": {},
   "source": [
    "# try and except"
   ]
  },
  {
   "cell_type": "code",
   "execution_count": 17,
   "id": "60b52f78",
   "metadata": {},
   "outputs": [
    {
     "name": "stdout",
     "output_type": "stream",
     "text": [
      "enter first number1\n",
      "enter second number0\n",
      "b should not be zero\n"
     ]
    }
   ],
   "source": [
    "a= int(input(\"enter first number\"))\n",
    "b= int(input(\"enter second number\"))\n",
    "try:\n",
    "    c=a/b                 #10/0 not possible  --------- we may get error here\n",
    "    print (c) \n",
    "except:                      # message if that case occure\n",
    "    print(\"b should not be zero\")"
   ]
  },
  {
   "cell_type": "code",
   "execution_count": 20,
   "id": "25959e5b",
   "metadata": {
    "scrolled": false
   },
   "outputs": [
    {
     "name": "stdout",
     "output_type": "stream",
     "text": [
      "enter first number1\n",
      "enter second number0\n",
      "b should not be zero\n"
     ]
    }
   ],
   "source": [
    "a= int(input(\"enter first number\"))\n",
    "b= int(input(\"enter second number\"))\n",
    "try:\n",
    "    c=a/b                 #10/0 not possible  --------- we may get error here\n",
    "    print (c) \n",
    "except ZeroDivisionError:                      # ZeroDivisionError is as class as we getting  ZeroDivisionError \n",
    "    print(\"b should not be zero\")"
   ]
  },
  {
   "cell_type": "code",
   "execution_count": 21,
   "id": "46ae904c",
   "metadata": {},
   "outputs": [
    {
     "ename": "SyntaxError",
     "evalue": "invalid syntax (1809654385.py, line 5)",
     "output_type": "error",
     "traceback": [
      "\u001b[1;36m  File \u001b[1;32m\"C:\\Users\\HP\\AppData\\Local\\Temp\\ipykernel_8176\\1809654385.py\"\u001b[1;36m, line \u001b[1;32m5\u001b[0m\n\u001b[1;33m    print (c))\u001b[0m\n\u001b[1;37m             ^\u001b[0m\n\u001b[1;31mSyntaxError\u001b[0m\u001b[1;31m:\u001b[0m invalid syntax\n"
     ]
    }
   ],
   "source": [
    "a= int(input(\"enter first number\"))\n",
    "b= int(input(\"enter second number\"))\n",
    "try:\n",
    "    c=a/b                \n",
    "    print (c))     # -> sytax error ( compile time error) ---> we can't do any   thing this is the work of ccompileer\n",
    "except ZeroDivisionError:                   \n",
    "    print(\"wrong syntax\")\n",
    "d=a+b\n"
   ]
  },
  {
   "cell_type": "code",
   "execution_count": null,
   "id": "b0b1c833",
   "metadata": {},
   "outputs": [],
   "source": [
    "Write a program to ask the user to input 2 integers and calculate and print their division. Make sure your program behaves as follows:\n",
    "\n",
    "If the user enters a non integer value then ask him to enter only integers\n",
    "\n",
    "If denominator is 0 , then ask him to input non-zero denominator\n",
    "\n",
    "-Repeat the process until correct input is given\n",
    "\n",
    "Only if the inputs are correct then display their division and terminate the code"
   ]
  },
  {
   "cell_type": "code",
   "execution_count": null,
   "id": "f149eeb1",
   "metadata": {},
   "outputs": [],
   "source": [
    "# this is what we have to do\n",
    "a\n",
    "b\n",
    "a/b\n",
    "a=\"s\"\n",
    "print(only int)\n",
    "b=0\n",
    "print(only non zero)"
   ]
  },
  {
   "cell_type": "code",
   "execution_count": 76,
   "id": "de87e0e1",
   "metadata": {},
   "outputs": [
    {
     "name": "stdout",
     "output_type": "stream",
     "text": [
      "write your first number1\n",
      "write your second numbers\n",
      "there should not be string\n",
      "write your first number1\n",
      "write your second numberdd\n",
      "there should not be string\n",
      "write your first number1\n",
      "write your second number0\n",
      "zero denominator\n",
      "write your first number1\n",
      "write your second number5\n",
      "0.2\n"
     ]
    }
   ],
   "source": [
    "while True:\n",
    "\n",
    "    try:\n",
    "        a= int(input(\"write your first number\"))\n",
    "        b= int(input(\"write your second number\"))\n",
    "        c=a/b\n",
    "        print(c)\n",
    "        break\n",
    "    except ValueError:\n",
    "            print( \"there should not be string\")\n",
    "\n",
    "    except ZeroDivisionError:\n",
    "        print(\"zero denominator\")\n",
    "        \n",
    "    \n"
   ]
  },
  {
   "cell_type": "code",
   "execution_count": null,
   "id": "2e81adba",
   "metadata": {},
   "outputs": [],
   "source": []
  },
  {
   "cell_type": "code",
   "execution_count": 61,
   "id": "be5805e5",
   "metadata": {},
   "outputs": [
    {
     "name": "stdout",
     "output_type": "stream",
     "text": [
      "enter first number: 1\n",
      "second number:2\n"
     ]
    },
    {
     "ename": "TypeError",
     "evalue": "unsupported operand type(s) for +: 'int' and 'str'",
     "output_type": "error",
     "traceback": [
      "\u001b[1;31m---------------------------------------------------------------------------\u001b[0m",
      "\u001b[1;31mTypeError\u001b[0m                                 Traceback (most recent call last)",
      "\u001b[1;32m~\\AppData\\Local\\Temp\\ipykernel_8176\\3993162337.py\u001b[0m in \u001b[0;36m<module>\u001b[1;34m\u001b[0m\n\u001b[0;32m      3\u001b[0m \u001b[1;33m\u001b[0m\u001b[0m\n\u001b[0;32m      4\u001b[0m \u001b[1;32mtry\u001b[0m\u001b[1;33m:\u001b[0m\u001b[1;33m\u001b[0m\u001b[1;33m\u001b[0m\u001b[0m\n\u001b[1;32m----> 5\u001b[1;33m     \u001b[0md\u001b[0m\u001b[1;33m=\u001b[0m\u001b[0ma\u001b[0m\u001b[1;33m+\u001b[0m\u001b[0mb\u001b[0m\u001b[1;33m\u001b[0m\u001b[1;33m\u001b[0m\u001b[0m\n\u001b[0m\u001b[0;32m      6\u001b[0m     \u001b[0mprint\u001b[0m\u001b[1;33m(\u001b[0m\u001b[0md\u001b[0m\u001b[1;33m)\u001b[0m\u001b[1;33m\u001b[0m\u001b[1;33m\u001b[0m\u001b[0m\n\u001b[0;32m      7\u001b[0m \u001b[1;32mexcept\u001b[0m \u001b[0mValueError\u001b[0m\u001b[1;33m:\u001b[0m\u001b[1;33m\u001b[0m\u001b[1;33m\u001b[0m\u001b[0m\n",
      "\u001b[1;31mTypeError\u001b[0m: unsupported operand type(s) for +: 'int' and 'str'"
     ]
    }
   ],
   "source": [
    "a=int(input(\"enter first number: \"))\n",
    "b=input(\"second number:\")\n",
    "\n",
    "try:\n",
    "    d=a+b\n",
    "    print(d)\n",
    "except ValueError:\n",
    "    print(\"please input number only\")"
   ]
  },
  {
   "cell_type": "markdown",
   "id": "71452d9b",
   "metadata": {},
   "source": [
    "a=int(input(\"enter first number\"))\n",
    "b= int(input(\"eneter second number\"))\n",
    "try:\n",
    "    c=a/b\n",
    "    print(c)\n",
    "    d =  a+str(b)\n",
    "    print(d)\n",
    "except ZeroDivisionError:\n",
    "    print(\"b should not be a zero\")\n",
    "except TypeError :\n",
    "    print(\"plz input number only\")"
   ]
  },
  {
   "cell_type": "code",
   "execution_count": 48,
   "id": "5837c2f0",
   "metadata": {},
   "outputs": [
    {
     "name": "stdout",
     "output_type": "stream",
     "text": [
      "enter first number1\n",
      "eneter second number0\n",
      "b should not be a zero\n"
     ]
    }
   ],
   "source": [
    "a=int(input(\"enter first number\"))\n",
    "b= int(input(\"eneter second number\"))\n",
    "try:\n",
    "    c=a/b\n",
    "    print(c)\n",
    "    d=(a)+str(b)\n",
    "    print(d)\n",
    "except ZeroDivisionError:\n",
    "    print(\"b should not be a zero\")\n",
    "\n"
   ]
  },
  {
   "cell_type": "code",
   "execution_count": 46,
   "id": "15826b7b",
   "metadata": {},
   "outputs": [
    {
     "name": "stdout",
     "output_type": "stream",
     "text": [
      "enter first number1\n",
      "eneter second number2\n",
      "0.5\n",
      "b should not be a zero\n"
     ]
    }
   ],
   "source": [
    "a=int(input(\"enter first number\"))\n",
    "b= int(input(\"eneter second number\"))\n",
    "try:\n",
    "    c=a/b\n",
    "    print(c)\n",
    "    d=(a)+str(b) # ----------> nothing for this !!!!!!\n",
    "    print(d)\n",
    "except :\n",
    "    print(\"b should not be a zero\")\n"
   ]
  },
  {
   "cell_type": "code",
   "execution_count": 59,
   "id": "d43c3ee1",
   "metadata": {},
   "outputs": [
    {
     "name": "stdout",
     "output_type": "stream",
     "text": [
      "enter first number1\n",
      "eneter second number2\n",
      "0.5\n",
      "b should not be a zero  and plz input number only\n"
     ]
    }
   ],
   "source": [
    "a=int(input(\"enter first number\"))\n",
    "b= int(input(\"eneter second number\"))\n",
    "try:\n",
    "    c=a/b\n",
    "    print(c)\n",
    "    d =  a+str(b)\n",
    "    print(d)\n",
    "except (ZeroDivisionError, TypeError):\n",
    "    print(\"b should not be a zero  and plz input number only\")\n"
   ]
  },
  {
   "cell_type": "code",
   "execution_count": 1,
   "id": "f2004091",
   "metadata": {},
   "outputs": [
    {
     "name": "stdout",
     "output_type": "stream",
     "text": [
      "enter aasas\n",
      "string not allow \n"
     ]
    }
   ],
   "source": [
    "try :\n",
    "    int( input(\"enter \"))\n",
    "except:\n",
    "    print(\"string not allow \")"
   ]
  },
  {
   "cell_type": "code",
   "execution_count": 6,
   "id": "3330780d",
   "metadata": {},
   "outputs": [
    {
     "name": "stdout",
     "output_type": "stream",
     "text": [
      "first number: 1\n",
      "second number: 0\n",
      "n should not be zero\n",
      "first number: 1\n",
      "second number: 332232323\n",
      "division c 3.0099419315079707e-09\n"
     ]
    }
   ],
   "source": [
    "while True:\n",
    "    try:\n",
    "        a=int(input(\"first number: \"))\n",
    "        b=int(input(\"second number: \"))\n",
    "        c=a/b\n",
    "        print(\"division c\",c)\n",
    "        break\n",
    "    except:\n",
    "        print(\"n should not be zero\")\n",
    "        "
   ]
  },
  {
   "cell_type": "code",
   "execution_count": 5,
   "id": "d981cd52",
   "metadata": {},
   "outputs": [
    {
     "name": "stdout",
     "output_type": "stream",
     "text": [
      "first number: 1\n",
      "second number: 0\n",
      "division by zero\n",
      "first number: 1\n",
      "second number: 3232323\n",
      "division c 3.0937502223632974e-07\n"
     ]
    }
   ],
   "source": [
    "while True:\n",
    "    try:\n",
    "        a=int(input(\"first number: \"))\n",
    "        b=int(input(\"second number: \"))\n",
    "        c=a/b\n",
    "        print(\"division c\",c)\n",
    "        break\n",
    "    except ZeroDivisionError as e:\n",
    "        print(e)\n",
    "        "
   ]
  },
  {
   "cell_type": "code",
   "execution_count": null,
   "id": "1746ff40",
   "metadata": {},
   "outputs": [],
   "source": [
    "sys.exc_info()"
   ]
  },
  {
   "cell_type": "code",
   "execution_count": 10,
   "id": "6c2d082b",
   "metadata": {},
   "outputs": [
    {
     "name": "stdout",
     "output_type": "stream",
     "text": [
      "first number: 1\n",
      "second number: 0\n",
      "(<class 'ZeroDivisionError'>, ZeroDivisionError('division by zero'), <traceback object at 0x000001B546E0B088>)\n",
      "first number: 1\n",
      "second number: 32323\n",
      "division  3.09377223648795e-05\n"
     ]
    }
   ],
   "source": [
    "import sys\n",
    "while True:\n",
    "    try:\n",
    "        a=int(input(\"first number: \"))\n",
    "        b=int(input(\"second number: \"))\n",
    "        c=a/b\n",
    "        print(\"division \",c)\n",
    "        break\n",
    "    except :\n",
    "        print(sys.exc_info())\n",
    " # giving more detail        "
   ]
  },
  {
   "cell_type": "code",
   "execution_count": 11,
   "id": "7fecb3f0",
   "metadata": {},
   "outputs": [],
   "source": [
    "# .py file is a module so we directly i can import this so that we can use this method\n",
    "#module is of two type \n",
    "#built in and other is custom typle"
   ]
  },
  {
   "cell_type": "code",
   "execution_count": 12,
   "id": "a1f5e0ab",
   "metadata": {},
   "outputs": [],
   "source": [
    "a,b,c=(1,2,3)  # packing and unpacking"
   ]
  },
  {
   "cell_type": "code",
   "execution_count": 13,
   "id": "b204315f",
   "metadata": {},
   "outputs": [
    {
     "data": {
      "text/plain": [
       "1"
      ]
     },
     "execution_count": 13,
     "metadata": {},
     "output_type": "execute_result"
    }
   ],
   "source": [
    "a"
   ]
  },
  {
   "cell_type": "code",
   "execution_count": 16,
   "id": "10d04090",
   "metadata": {},
   "outputs": [
    {
     "data": {
      "text/plain": [
       "2"
      ]
     },
     "execution_count": 16,
     "metadata": {},
     "output_type": "execute_result"
    }
   ],
   "source": [
    "b"
   ]
  },
  {
   "cell_type": "code",
   "execution_count": 15,
   "id": "3882c82d",
   "metadata": {},
   "outputs": [
    {
     "data": {
      "text/plain": [
       "3"
      ]
     },
     "execution_count": 15,
     "metadata": {},
     "output_type": "execute_result"
    }
   ],
   "source": [
    "c"
   ]
  },
  {
   "cell_type": "code",
   "execution_count": 18,
   "id": "7c8c9ef2",
   "metadata": {},
   "outputs": [
    {
     "name": "stdout",
     "output_type": "stream",
     "text": [
      "first number: 1\n",
      "second number: 0\n",
      "exception class  <class 'ZeroDivisionError'>\n",
      "exception message  division by zero\n",
      "line number  7\n",
      "first number: 1\n",
      "second number: 0\n",
      "exception class  <class 'ZeroDivisionError'>\n",
      "exception message  division by zero\n",
      "line number  7\n",
      "first number: 0\n",
      "second number: 1\n",
      "division  0.0\n"
     ]
    }
   ],
   "source": [
    "# so what can we do here is ------>\n",
    "import sys\n",
    "while True:\n",
    "    try:\n",
    "        a=int(input(\"first number: \"))\n",
    "        b=int(input(\"second number: \"))\n",
    "        c=a/b\n",
    "        print(\"division \",c)\n",
    "        break\n",
    "    except :\n",
    "        a,b,c=sys.exc_info()\n",
    "        print(\"exception class \",a)\n",
    "        print(\"exception message \",b)\n",
    "        print(\"line number \",c.tb_lineno)\n",
    " # giving more detail        "
   ]
  },
  {
   "cell_type": "code",
   "execution_count": null,
   "id": "170a2bea",
   "metadata": {},
   "outputs": [],
   "source": [
    "# Import sys.exc_info() --> earlier we are using this\n",
    " # ----> also give the same function\n",
    "import traceback.format_exc()"
   ]
  },
  {
   "cell_type": "code",
   "execution_count": 24,
   "id": "00c3a5eb",
   "metadata": {},
   "outputs": [
    {
     "name": "stdout",
     "output_type": "stream",
     "text": [
      "first number: 1\n",
      "second number: 0\n",
      "Traceback (most recent call last):\n",
      "  File \"C:\\Users\\HP\\AppData\\Local\\Temp\\ipykernel_15484\\3389821210.py\", line 6, in <module>\n",
      "    c=a/b\n",
      "ZeroDivisionError: division by zero\n",
      "\n",
      "first number: 1\n",
      "second number: 10\n",
      "division  0.1\n"
     ]
    }
   ],
   "source": [
    "import traceback\n",
    "while True:\n",
    "    try:\n",
    "        a=int(input(\"first number: \"))\n",
    "        b=int(input(\"second number: \"))\n",
    "        c=a/b\n",
    "        print(\"division \",c)\n",
    "        break\n",
    "    except :\n",
    "        print(traceback.format_exc())\n",
    "  1\n",
    "2\n"
   ]
  },
  {
   "cell_type": "code",
   "execution_count": 25,
   "id": "66aac602",
   "metadata": {},
   "outputs": [],
   "source": [
    "# we are getting discription of the exception help in debugging"
   ]
  },
  {
   "cell_type": "markdown",
   "id": "edfb1369",
   "metadata": {},
   "source": [
    "# rase exception"
   ]
  },
  {
   "cell_type": "code",
   "execution_count": 26,
   "id": "9f6047ee",
   "metadata": {},
   "outputs": [],
   "source": [
    "#at custom line"
   ]
  },
  {
   "cell_type": "code",
   "execution_count": 29,
   "id": "63074415",
   "metadata": {},
   "outputs": [
    {
     "name": "stdout",
     "output_type": "stream",
     "text": [
      "first number :0\n",
      "second number :10\n"
     ]
    },
    {
     "data": {
      "text/plain": [
       "0.0"
      ]
     },
     "execution_count": 29,
     "metadata": {},
     "output_type": "execute_result"
    }
   ],
   "source": [
    "a=int(input(\"first number :\"))\n",
    "b=int(input(\"second number :\"))\n",
    "a/b"
   ]
  },
  {
   "cell_type": "code",
   "execution_count": 34,
   "id": "b66275ea",
   "metadata": {},
   "outputs": [
    {
     "name": "stdout",
     "output_type": "stream",
     "text": [
      "first number :1\n",
      "second number :0\n",
      "please enter non zero denomitor\n",
      "first number :1\n",
      "second number :-1\n",
      "neg number is not allowed \n",
      "first number :1\n",
      "second number :sss\n",
      "enter int only\n",
      "first number :222\n",
      "second number :2222222\n",
      "div is   9.9900009990001e-05\n"
     ]
    }
   ],
   "source": [
    "while True:\n",
    "    try:\n",
    "        a=int(input(\"first number :\"))\n",
    "        b=int(input(\"second number :\"))\n",
    "\n",
    "        if a<0 or b<0: \n",
    "            raise Exception(\"neg number is not allowed \") \n",
    "        c=a/b\n",
    "        print(\"div is  \",c)\n",
    "        break\n",
    "    except ValueError:\n",
    "        print(\"enter int only\")\n",
    "    except ZeroDivisionError:\n",
    "        print(\"please enter non zero denomitor\")\n",
    "    except Exception as e:\n",
    "        print(e)\n",
    "        \n",
    "#exception class in python already they have define and we are calling this class."
   ]
  },
  {
   "cell_type": "code",
   "execution_count": 35,
   "id": "118f24a6",
   "metadata": {},
   "outputs": [
    {
     "name": "stdout",
     "output_type": "stream",
     "text": [
      "first number :1\n",
      "second number :-1\n"
     ]
    },
    {
     "ename": "NameError",
     "evalue": "name 'NegativeNumberException' is not defined",
     "output_type": "error",
     "traceback": [
      "\u001b[1;31m---------------------------------------------------------------------------\u001b[0m",
      "\u001b[1;31mNameError\u001b[0m                                 Traceback (most recent call last)",
      "\u001b[1;32m~\\AppData\\Local\\Temp\\ipykernel_15484\\4153695393.py\u001b[0m in \u001b[0;36m<module>\u001b[1;34m\u001b[0m\n\u001b[0;32m      8\u001b[0m         \u001b[1;32mif\u001b[0m \u001b[0ma\u001b[0m\u001b[1;33m<\u001b[0m\u001b[1;36m0\u001b[0m \u001b[1;32mor\u001b[0m \u001b[0mb\u001b[0m\u001b[1;33m<\u001b[0m\u001b[1;36m0\u001b[0m\u001b[1;33m:\u001b[0m\u001b[1;33m\u001b[0m\u001b[1;33m\u001b[0m\u001b[0m\n\u001b[1;32m----> 9\u001b[1;33m             \u001b[1;32mraise\u001b[0m \u001b[0mNegativeNumberException\u001b[0m\u001b[1;33m(\u001b[0m\u001b[1;34m\"neg number is not allowed \"\u001b[0m\u001b[1;33m)\u001b[0m \u001b[1;31m# custom exception\u001b[0m\u001b[1;33m\u001b[0m\u001b[1;33m\u001b[0m\u001b[0m\n\u001b[0m\u001b[0;32m     10\u001b[0m         \u001b[0mc\u001b[0m\u001b[1;33m=\u001b[0m\u001b[0ma\u001b[0m\u001b[1;33m/\u001b[0m\u001b[0mb\u001b[0m\u001b[1;33m\u001b[0m\u001b[1;33m\u001b[0m\u001b[0m\n",
      "\u001b[1;31mNameError\u001b[0m: name 'NegativeNumberException' is not defined",
      "\nDuring handling of the above exception, another exception occurred:\n",
      "\u001b[1;31mNameError\u001b[0m                                 Traceback (most recent call last)",
      "\u001b[1;32m~\\AppData\\Local\\Temp\\ipykernel_15484\\4153695393.py\u001b[0m in \u001b[0;36m<module>\u001b[1;34m\u001b[0m\n\u001b[0;32m     15\u001b[0m     \u001b[1;32mexcept\u001b[0m \u001b[0mZeroDivisionError\u001b[0m\u001b[1;33m:\u001b[0m\u001b[1;33m\u001b[0m\u001b[1;33m\u001b[0m\u001b[0m\n\u001b[0;32m     16\u001b[0m         \u001b[0mprint\u001b[0m\u001b[1;33m(\u001b[0m\u001b[1;34m\"please enter non zero denomitor\"\u001b[0m\u001b[1;33m)\u001b[0m\u001b[1;33m\u001b[0m\u001b[1;33m\u001b[0m\u001b[0m\n\u001b[1;32m---> 17\u001b[1;33m     \u001b[1;32mexcept\u001b[0m \u001b[0mNegativeNumberException\u001b[0m \u001b[1;32mas\u001b[0m \u001b[0me\u001b[0m\u001b[1;33m:\u001b[0m\u001b[1;33m\u001b[0m\u001b[1;33m\u001b[0m\u001b[0m\n\u001b[0m\u001b[0;32m     18\u001b[0m         \u001b[0mprint\u001b[0m\u001b[1;33m(\u001b[0m\u001b[0me\u001b[0m\u001b[1;33m)\u001b[0m\u001b[1;33m\u001b[0m\u001b[1;33m\u001b[0m\u001b[0m\n",
      "\u001b[1;31mNameError\u001b[0m: name 'NegativeNumberException' is not defined"
     ]
    }
   ],
   "source": [
    "# custom exception \n",
    "\n",
    "while True:\n",
    "    try:\n",
    "        a=int(input(\"first number :\"))\n",
    "        b=int(input(\"second number :\"))\n",
    "\n",
    "        if a<0 or b<0: \n",
    "            raise NegativeNumberException(\"neg number is not allowed \") # custom exception\n",
    "        c=a/b\n",
    "        print(\"div is  \",c)\n",
    "        break\n",
    "    except ValueError:\n",
    "        print(\"enter int only\")\n",
    "    except ZeroDivisionError:\n",
    "        print(\"please enter non zero denomitor\")\n",
    "    except NegativeNumberException as e:\n",
    "        print(e)\n",
    "        \n",
    "        \n",
    "        \n",
    "# giving NameError  \n",
    "# as NegativeNumberException is not defined"
   ]
  },
  {
   "cell_type": "code",
   "execution_count": 36,
   "id": "85cf2c8f",
   "metadata": {},
   "outputs": [],
   "source": [
    "#if you are going to define this class in your code so it will run\n",
    "class NegativeNumberException(Exception):\n",
    "    pass"
   ]
  },
  {
   "cell_type": "code",
   "execution_count": 37,
   "id": "cf51b034",
   "metadata": {},
   "outputs": [
    {
     "name": "stdout",
     "output_type": "stream",
     "text": [
      "first number :1\n",
      "second number :-1\n",
      "neg number is not allowed \n",
      "first number :1\n",
      "second number :10\n",
      "div is   0.1\n"
     ]
    }
   ],
   "source": [
    "\n",
    "\n",
    "while True:\n",
    "    try:\n",
    "        a=int(input(\"first number :\"))\n",
    "        b=int(input(\"second number :\"))\n",
    "\n",
    "        if a<0 or b<0: \n",
    "            raise NegativeNumberException(\"neg number is not allowed \") # custom exception\n",
    "        c=a/b\n",
    "        print(\"div is  \",c)\n",
    "        break\n",
    "    except ValueError:\n",
    "        print(\"enter int only\")\n",
    "    except ZeroDivisionError:\n",
    "        print(\"please enter non zero denomitor\")\n",
    "    except NegativeNumberException as e:\n",
    "        print(e)\n",
    "        "
   ]
  },
  {
   "cell_type": "markdown",
   "id": "7e0d41d3",
   "metadata": {},
   "source": [
    "# Final Block"
   ]
  },
  {
   "cell_type": "code",
   "execution_count": null,
   "id": "2c99eadd",
   "metadata": {},
   "outputs": [],
   "source": [
    "# finally:---------------> why we need it"
   ]
  },
  {
   "cell_type": "code",
   "execution_count": 38,
   "id": "996258b1",
   "metadata": {},
   "outputs": [
    {
     "name": "stdout",
     "output_type": "stream",
     "text": [
      "first number :10\n",
      "second number :0\n",
      "dont use zero in denominator\n",
      "hello\n",
      "python\n"
     ]
    }
   ],
   "source": [
    "try:\n",
    "    a=int(input(\"first number :\"))\n",
    "    b=int(input(\"second number :\"))\n",
    "    c=a/b\n",
    "    print(c)\n",
    "except:\n",
    "    print(\"dont use zero in denominator\")\n",
    "print(\"hello\")\n",
    "print(\"python\")"
   ]
  },
  {
   "cell_type": "code",
   "execution_count": null,
   "id": "12ffddb6",
   "metadata": {},
   "outputs": [],
   "source": [
    "#where to use\n",
    "\n",
    "1 we have crate one database \n",
    "we forgot to close the connection\n",
    "\n",
    "2. cloud service\n",
    "those app we forgot to terminate"
   ]
  },
  {
   "cell_type": "code",
   "execution_count": 39,
   "id": "d86297e0",
   "metadata": {},
   "outputs": [
    {
     "name": "stdout",
     "output_type": "stream",
     "text": [
      "first number :10\n",
      "second number :0\n",
      "dont use zero in denominator\n",
      "hello\n",
      "python\n"
     ]
    }
   ],
   "source": [
    "try:\n",
    "    a=int(input(\"first number :\"))\n",
    "    b=int(input(\"second number :\"))\n",
    "    c=a/b\n",
    "    print(c)\n",
    "except:\n",
    "    print(\"dont use zero in denominator\")\n",
    "finally:  #if this is code is important and we need this to run in any case\n",
    "    print(\"hello\")\n",
    "    print(\"python\")"
   ]
  },
  {
   "cell_type": "code",
   "execution_count": 41,
   "id": "ba771615",
   "metadata": {},
   "outputs": [
    {
     "name": "stdout",
     "output_type": "stream",
     "text": [
      "first number :10\n",
      "second number :20\n",
      "0.5\n",
      " python rock\n"
     ]
    }
   ],
   "source": [
    "try:\n",
    "    a=int(input(\"first number :\"))\n",
    "    b=int(input(\"second number :\"))\n",
    "    c=a/b\n",
    "    print(c)\n",
    "except:\n",
    "    print(\"dont use zero in denominator\")\n",
    "else:\n",
    "    print(\" python rock\")"
   ]
  },
  {
   "cell_type": "code",
   "execution_count": null,
   "id": "b0da0626",
   "metadata": {},
   "outputs": [],
   "source": [
    "# we are getting any exception in except block then else block message will not be print but if exception block not executed then else block will execute"
   ]
  },
  {
   "cell_type": "code",
   "execution_count": null,
   "id": "9a2250d4",
   "metadata": {},
   "outputs": [],
   "source": []
  },
  {
   "cell_type": "code",
   "execution_count": null,
   "id": "9df398cc",
   "metadata": {},
   "outputs": [],
   "source": []
  },
  {
   "cell_type": "code",
   "execution_count": null,
   "id": "9dd66726",
   "metadata": {},
   "outputs": [],
   "source": []
  }
 ],
 "metadata": {
  "kernelspec": {
   "display_name": "Python 3 (ipykernel)",
   "language": "python",
   "name": "python3"
  },
  "language_info": {
   "codemirror_mode": {
    "name": "ipython",
    "version": 3
   },
   "file_extension": ".py",
   "mimetype": "text/x-python",
   "name": "python",
   "nbconvert_exporter": "python",
   "pygments_lexer": "ipython3",
   "version": "3.9.12"
  }
 },
 "nbformat": 4,
 "nbformat_minor": 5
}
