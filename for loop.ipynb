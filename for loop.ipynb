{
 "cells": [
  {
   "cell_type": "code",
   "execution_count": 1,
   "id": "10b728c0",
   "metadata": {},
   "outputs": [],
   "source": [
    "l=[1,2,3,4,5,\"sudh\",\"kumar\",46.2]"
   ]
  },
  {
   "cell_type": "code",
   "execution_count": 2,
   "id": "8569beab",
   "metadata": {},
   "outputs": [
    {
     "name": "stdout",
     "output_type": "stream",
     "text": [
      "1\n",
      "2\n",
      "3\n",
      "4\n",
      "5\n",
      "sudh\n",
      "kumar\n",
      "46.2\n"
     ]
    }
   ],
   "source": [
    "for i in l :\n",
    "    print(i)"
   ]
  },
  {
   "cell_type": "code",
   "execution_count": 5,
   "id": "bac2004d",
   "metadata": {},
   "outputs": [],
   "source": [
    "  for i in l :\n",
    "        pass"
   ]
  },
  {
   "cell_type": "code",
   "execution_count": 8,
   "id": "14f28c8f",
   "metadata": {},
   "outputs": [
    {
     "name": "stdout",
     "output_type": "stream",
     "text": [
      "s\n",
      "u\n",
      "d\n",
      "h\n"
     ]
    }
   ],
   "source": [
    "s=\"sudh\"\n",
    "for i in s:\n",
    "    print (i)"
   ]
  },
  {
   "cell_type": "code",
   "execution_count": 9,
   "id": "6cb9f93d",
   "metadata": {},
   "outputs": [
    {
     "name": "stdout",
     "output_type": "stream",
     "text": [
      "s u d h\n"
     ]
    }
   ],
   "source": [
    "print(*s)"
   ]
  },
  {
   "cell_type": "code",
   "execution_count": 10,
   "id": "fde55637",
   "metadata": {},
   "outputs": [
    {
     "name": "stdout",
     "output_type": "stream",
     "text": [
      "1\n",
      "2\n",
      "3\n",
      "4\n",
      "5\n",
      "sudh\n",
      "kumar\n",
      "46.2\n",
      "if for loop ends then this will execute\n"
     ]
    }
   ],
   "source": [
    "for i in l:\n",
    "    print(i)\n",
    "else:\n",
    "    print(\"if for loop ends then this will execute\")"
   ]
  },
  {
   "cell_type": "code",
   "execution_count": 11,
   "id": "8b491296",
   "metadata": {},
   "outputs": [
    {
     "name": "stdout",
     "output_type": "stream",
     "text": [
      "1\n",
      "2\n",
      "3\n"
     ]
    }
   ],
   "source": [
    "for i in l:\n",
    "    if i==4:\n",
    "        break\n",
    "    print(i)\n",
    "else:\n",
    "    print(\"if for loop ends then this will execute\")\n",
    "# due to break statement it is not going to execute else block\n",
    "\n",
    "        "
   ]
  },
  {
   "cell_type": "code",
   "execution_count": 13,
   "id": "5f703eb2",
   "metadata": {},
   "outputs": [
    {
     "name": "stdout",
     "output_type": "stream",
     "text": [
      "p\n",
      "r\n",
      "i\n",
      "k\n",
      "s\n"
     ]
    }
   ],
   "source": [
    " s=\"prikshit\"\n",
    "for i in s:\n",
    "    if i==\"h\":\n",
    "        break\n",
    "    print(i)\n",
    "else:\n",
    "    print(\"bye\")\n",
    "# due to break statement it is not going to execute else block"
   ]
  },
  {
   "cell_type": "code",
   "execution_count": 18,
   "id": "1207fc11",
   "metadata": {},
   "outputs": [],
   "source": [
    " t=(1,2,3,4,\"sudh\",34.4)"
   ]
  },
  {
   "cell_type": "code",
   "execution_count": 16,
   "id": "1e2cfcea",
   "metadata": {},
   "outputs": [
    {
     "name": "stdout",
     "output_type": "stream",
     "text": [
      "1\n",
      "2\n",
      "3\n",
      "4\n",
      "sudh\n",
      "34.4\n"
     ]
    }
   ],
   "source": [
    "for i in t:\n",
    "    print(i)"
   ]
  },
  {
   "cell_type": "code",
   "execution_count": 21,
   "id": "f936696f",
   "metadata": {},
   "outputs": [],
   "source": [
    "s={1,24,5,32,\"2xc0\",32.4,1}"
   ]
  },
  {
   "cell_type": "code",
   "execution_count": 22,
   "id": "7ee7a7bd",
   "metadata": {},
   "outputs": [
    {
     "name": "stdout",
     "output_type": "stream",
     "text": [
      "32\n",
      "1\n",
      "32.4\n",
      "5\n",
      "24\n",
      "2xc0\n"
     ]
    }
   ],
   "source": [
    "for i in s:\n",
    "    print(i)"
   ]
  },
  {
   "cell_type": "code",
   "execution_count": 24,
   "id": "a509286f",
   "metadata": {},
   "outputs": [],
   "source": [
    "d={\"key1\":\"sudh\",\"contact\":\"prikshitsharma8024@gmail.com\",\"position\":\"csq\"}"
   ]
  },
  {
   "cell_type": "code",
   "execution_count": 30,
   "id": "91d720b2",
   "metadata": {},
   "outputs": [
    {
     "name": "stdout",
     "output_type": "stream",
     "text": [
      "key1  --->  sudh\n",
      "contact  --->  prikshitsharma8024@gmail.com\n",
      "position  --->  csq\n"
     ]
    }
   ],
   "source": [
    "for i in d:\n",
    "    print(i,\" ---> \" ,d[i])"
   ]
  },
  {
   "cell_type": "code",
   "execution_count": 45,
   "id": "2aafff5a",
   "metadata": {},
   "outputs": [
    {
     "name": "stdout",
     "output_type": "stream",
     "text": [
      "sudh sudh sudh sudh \n",
      "\n",
      "sudh sudh sudh \n",
      "\n",
      "sudh sudh \n",
      "\n",
      "sudh \n",
      "\n"
     ]
    }
   ],
   "source": [
    " for i in range(4,0,-1):\n",
    "    \n",
    "        for j in range(i):\n",
    "            print(\"sudh\",end=\" \")\n",
    "        print(\"\\n\")"
   ]
  },
  {
   "cell_type": "code",
   "execution_count": 35,
   "id": "4da63fb6",
   "metadata": {},
   "outputs": [
    {
     "data": {
      "text/plain": [
       "range(1, 10)"
      ]
     },
     "execution_count": 35,
     "metadata": {},
     "output_type": "execute_result"
    }
   ],
   "source": [
    "range(1,10)"
   ]
  },
  {
   "cell_type": "code",
   "execution_count": 36,
   "id": "eb68adfc",
   "metadata": {},
   "outputs": [
    {
     "data": {
      "text/plain": [
       "[1, 2, 3, 4, 5, 6, 7, 8, 9]"
      ]
     },
     "execution_count": 36,
     "metadata": {},
     "output_type": "execute_result"
    }
   ],
   "source": [
    "list(range(1,10))"
   ]
  },
  {
   "cell_type": "code",
   "execution_count": 40,
   "id": "63b05cf5",
   "metadata": {},
   "outputs": [
    {
     "data": {
      "text/plain": [
       "[10, 9, 8, 7, 6, 5, 4, 3, 2]"
      ]
     },
     "execution_count": 40,
     "metadata": {},
     "output_type": "execute_result"
    }
   ],
   "source": [
    "list(range(10,1,-1))"
   ]
  },
  {
   "cell_type": "code",
   "execution_count": 42,
   "id": "3918a676",
   "metadata": {},
   "outputs": [
    {
     "name": "stdout",
     "output_type": "stream",
     "text": [
      "sudh \n",
      "\n",
      "sudh sudh \n",
      "\n",
      "sudh sudh sudh \n",
      "\n",
      "sudh sudh sudh sudh \n",
      "\n"
     ]
    }
   ],
   "source": [
    " for i in range(1,5):\n",
    "    \n",
    "        for j in range(i):\n",
    "            print(\"sudh\",end=\" \")\n",
    "        print(\"\\n\")"
   ]
  },
  {
   "cell_type": "code",
   "execution_count": 129,
   "id": "7e4a832f",
   "metadata": {},
   "outputs": [
    {
     "name": "stdout",
     "output_type": "stream",
     "text": [
      "        \n",
      "      sudh \n",
      "    sudh sudh \n",
      "  sudh sudh sudh \n",
      "sudh sudh sudh sudh \n"
     ]
    }
   ],
   "source": [
    "#wrong\n",
    "n=5\n",
    "k=n//2\n",
    "\n",
    "for i in range(n):\n",
    "    for j in range(i,n-1):\n",
    "        print(\" \"*(k//2),end=\" \")\n",
    "    for j in range(i):\n",
    "        print(\"sudh\",end=\" \")\n",
    "        \n",
    "    \n",
    "    print()\n",
    "    "
   ]
  },
  {
   "cell_type": "code",
   "execution_count": 134,
   "id": "feb6db05",
   "metadata": {},
   "outputs": [
    {
     "name": "stdout",
     "output_type": "stream",
     "text": [
      "               sudh \n",
      "          sudh sudh sudh \n",
      "     sudh sudh sudh sudh sudh \n",
      "sudh sudh sudh sudh sudh sudh sudh \n"
     ]
    }
   ],
   "source": [
    "n=4\n",
    "\n",
    "\n",
    "for i in range(n):\n",
    "    for j in range(i,n-1):\n",
    "        print(\" \"*len(\"sudh\"),end=\" \")\n",
    "    for j in range(i+1):\n",
    "        print(\"sudh\",end=\" \")\n",
    "    for j in range(i):\n",
    "        print(\"sudh\",e   d=\" \")\n",
    "        \n",
    "    \n",
    "    print()\n",
    "    "
   ]
  },
  {
   "cell_type": "code",
   "execution_count": 152,
   "id": "bbefbdb6",
   "metadata": {},
   "outputs": [
    {
     "name": "stdout",
     "output_type": "stream",
     "text": [
      "     \n",
      "    sudh\n",
      "   sudhsudh\n",
      "  sudhsudhsudh\n",
      " sudhsudhsudhsudh\n"
     ]
    }
   ],
   "source": [
    "n=5\n",
    "for i in range (n):\n",
    "    print(\" \"*(n-i)+\"sudh\"*i)"
   ]
  },
  {
   "cell_type": "code",
   "execution_count": 136,
   "id": "c07d857d",
   "metadata": {},
   "outputs": [
    {
     "name": "stdout",
     "output_type": "stream",
     "text": [
      "0 -----> 1\n",
      "1 -----> 2\n",
      "2 -----> 3\n",
      "3 -----> 4\n",
      "4 -----> 43\n",
      "5 -----> 33\n",
      "6 -----> 212\n"
     ]
    }
   ],
   "source": [
    "t=(1,2,3,4,43,33,212)\n",
    "for i in range(len(t)):\n",
    "    print(i,\"----->\",t[i])"
   ]
  },
  {
   "cell_type": "code",
   "execution_count": 153,
   "id": "bf564b94",
   "metadata": {},
   "outputs": [
    {
     "data": {
      "text/plain": [
       "7"
      ]
     },
     "execution_count": 153,
     "metadata": {},
     "output_type": "execute_result"
    }
   ],
   "source": [
    "len(t)"
   ]
  },
  {
   "cell_type": "code",
   "execution_count": 156,
   "id": "63937c76",
   "metadata": {},
   "outputs": [
    {
     "name": "stdout",
     "output_type": "stream",
     "text": [
      "0 ------> P\n",
      "1 ------> R\n",
      "2 ------> I\n",
      "3 ------> K\n",
      "4 ------> S\n",
      "5 ------> H\n",
      "6 ------> I\n",
      "7 ------> T\n"
     ]
    }
   ],
   "source": [
    "s=\"PRIKSHIT\"\n",
    "for i in range(len(s)):\n",
    "    print(i,\"------>\",s[i])"
   ]
  },
  {
   "cell_type": "code",
   "execution_count": 160,
   "id": "1854e0a7",
   "metadata": {},
   "outputs": [
    {
     "name": "stdout",
     "output_type": "stream",
     "text": [
      "7 ------> T\n",
      "6 ------> I\n",
      "5 ------> H\n",
      "4 ------> S\n",
      "3 ------> K\n",
      "2 ------> I\n",
      "1 ------> R\n",
      "0 ------> P\n"
     ]
    }
   ],
   "source": [
    "#same question but in reverse order\n",
    "s=\"PRIKSHIT\"\n",
    "l=len(s)\n",
    "for i in range(l-1,-1,-1):\n",
    "    print(i,\"------>\",s[i])"
   ]
  },
  {
   "cell_type": "code",
   "execution_count": 161,
   "id": "ddd7563b",
   "metadata": {},
   "outputs": [
    {
     "data": {
      "text/plain": [
       "{'key1': 'sudh', 'contact': 'prikshitsharma8024@gmail.com', 'position': 'csq'}"
      ]
     },
     "execution_count": 161,
     "metadata": {},
     "output_type": "execute_result"
    }
   ],
   "source": [
    "d"
   ]
  },
  {
   "cell_type": "code",
   "execution_count": 164,
   "id": "234c079f",
   "metadata": {},
   "outputs": [
    {
     "data": {
      "text/plain": [
       "dict_items([('key1', 'sudh'), ('contact', 'prikshitsharma8024@gmail.com'), ('position', 'csq')])"
      ]
     },
     "execution_count": 164,
     "metadata": {},
     "output_type": "execute_result"
    }
   ],
   "source": [
    "#print key and value in the form\n",
    "d.items()"
   ]
  },
  {
   "cell_type": "code",
   "execution_count": 169,
   "id": "4d59b73d",
   "metadata": {},
   "outputs": [
    {
     "name": "stdout",
     "output_type": "stream",
     "text": [
      "('key1', 'sudh') <class 'tuple'>    type of value    <class 'str'>\n",
      "('contact', 'prikshitsharma8024@gmail.com') <class 'tuple'>    type of value    <class 'str'>\n",
      "('position', 'csq') <class 'tuple'>    type of value    <class 'str'>\n"
     ]
    }
   ],
   "source": [
    "for i in d.items():\n",
    "    print(i,type(i),\"   type of value   \",type(i[1]))"
   ]
  },
  {
   "cell_type": "code",
   "execution_count": 172,
   "id": "de9c5525",
   "metadata": {},
   "outputs": [
    {
     "name": "stdout",
     "output_type": "stream",
     "text": [
      "[133443434, 345, 23232323]\n"
     ]
    }
   ],
   "source": [
    "# extract only numbers and make a seprate list\n",
    "l=[\"sudh\",\"kumar\",133443434,\"sud923@gmail.com\",345,23232323]\n",
    "new_l=[]\n",
    "for i in l:\n",
    "    if type(i)==int or type(i)==float:\n",
    "        new_l.append(i)\n",
    "\n",
    "    \n",
    "print(new_l)    \n"
   ]
  },
  {
   "cell_type": "code",
   "execution_count": 176,
   "id": "78b2b0c1",
   "metadata": {},
   "outputs": [
    {
     "name": "stdout",
     "output_type": "stream",
     "text": [
      "1 ---------> 31233\n",
      "313 ---------> dasdsd\n",
      "123 ---------> 2233\n"
     ]
    }
   ],
   "source": [
    "#expecting key : value pair whaer key should be numeric one\n",
    "d={1:31233,\"name\":\"sudh\",\"email_id\":\"sudhnshu@ineuron.ai\",313:\"dasdsd\",\"43\":\"adda0\",123:\"2233\"}\n",
    "for i in  d:\n",
    "    if type(i)==int:\n",
    "        print(i,\"--------->\",d[i])"
   ]
  },
  {
   "cell_type": "code",
   "execution_count": 184,
   "id": "36768e22",
   "metadata": {},
   "outputs": [
    {
     "name": "stdout",
     "output_type": "stream",
     "text": [
      "c  occured ------> 2   times\n",
      "d  occured ------> 2   times\n",
      "b  occured ------> 3   times\n",
      "g  occured ------> 1   times\n",
      "h  occured ------> 1   times\n",
      "a  occured ------> 5   times\n",
      "z  occured ------> 16   times\n",
      "f  occured ------> 2   times\n"
     ]
    }
   ],
   "source": [
    "#print the occurance of each element\n",
    "s=\"aaaabbccddzaffghbzzzzzzzzzzzzzzz\"\n",
    "a=set()\n",
    "for i in s:\n",
    "    a.add(i)\n",
    "    \n",
    "for j in list(a):\n",
    "    number=s.count(j)\n",
    "    print(j ,\" occured ------>\",number,\"  times\")\n"
   ]
  },
  {
   "cell_type": "code",
   "execution_count": 187,
   "id": "1f1a0e35",
   "metadata": {},
   "outputs": [
    {
     "name": "stdout",
     "output_type": "stream",
     "text": [
      "1\n",
      "2\n",
      "3\n",
      "1\n",
      "2\n",
      "3\n",
      "2\n",
      "3\n",
      "3\n",
      "2\n",
      "3\n",
      "3\n",
      "1\n",
      "3\n",
      "1\n"
     ]
    }
   ],
   "source": [
    "# extract one by one the integer from i\n",
    "i=123123233233131\n",
    "#typecasting\n",
    "for j in str(i):\n",
    "    print(int(j))"
   ]
  },
  {
   "cell_type": "code",
   "execution_count": 222,
   "id": "d9209cfc",
   "metadata": {},
   "outputs": [
    {
     "name": "stdout",
     "output_type": "stream",
     "text": [
      "3\n",
      "3\n",
      "3\n",
      "3\n",
      "3\n",
      "Total number of times 3 has occured   ------>    5\n"
     ]
    }
   ],
   "source": [
    "#extract int 3\n",
    "a=[]\n",
    "t=(\"sudh\",\"kumar\",[1,2,3,4],(3,34,5),{\"key1\":\"sudh\",\"key2\":\"kumar\",3:3},3)\n",
    "for i in t:\n",
    "    if type(i)==int:\n",
    "        if i==3:\n",
    "            a.append(3)\n",
    "    elif type(i)==list or type(i)==tuple :\n",
    "        if 3 in i:\n",
    "            z=i.count(3)\n",
    "            for j in range(z):\n",
    "                 a.append(3)\n",
    "    elif type(i)==dict:\n",
    "        for j in  i.keys():\n",
    "            if j==3:\n",
    "                a.append(3)\n",
    "        for j in i.values():\n",
    "            if j==3:\n",
    "                a.append(3)\n",
    "        \n",
    "\n",
    "print(*a,sep=\"\\n\")\n",
    "            \n",
    "print(\"Total number of times 3 has occured   ------>   \",len(a))"
   ]
  },
  {
   "cell_type": "code",
   "execution_count": null,
   "id": "ff2c56f1",
   "metadata": {},
   "outputs": [],
   "source": [
    "#questions\n",
    "\n",
    "\"\"\"q1 :\n",
    "ineruon \n",
    "ineruon ineruon \n",
    "ineruon ineruon ineruon\n",
    "ineruon ineruon ineruon ineruon\n",
    "\n",
    "q2 - \n",
    "\n",
    "          ineruon\n",
    "    ineruon      ineruon\n",
    "ineruon\t\tineruon \tineruon\n",
    "\tineruon\t\t ineruon\n",
    "\t\t  ineruon\n",
    "\n",
    "l = [[1,2,3,4] , (2,3,4,5,6) , (3,4,5,6,7) , set([23,4,5,45,4,4,5,45,45,4,5]) , {'k1' :\"sudh\" , \"k2\" : \"ineuron\",\"k3\":\n",
    "            \"kumar\" , 3:6 , 7:8} , [\"ineuron\" , \"data science \"]]\n",
    "\n",
    "q3 : Try to extract all the list entity \n",
    "q4 : Try to extract all the dict enteties\n",
    "q5 : Try to extract all the tuples entities\n",
    "q6 : Try to extract all the numerical data it may b a part of dict key and values \n",
    "q7 : Try to give summation of all the numeric data \n",
    "q8 : Try to filter out all the odd values out all numeric data which is a part of a list \n",
    "q9 : Try to extract \"ineruon\" out of this data\n",
    "q10 :Try to find out a number of occurances of all the data \n",
    "q11 : Try to find out number of keys in dict element\n",
    "q12 : Try to filter out all the string data \n",
    "q13 : Try to Find  out alphanum in data\n",
    "q14 : Try to find out multiplication of all numeric value in  the individual collection inside dataset \n",
    "q15 : Try to unwrape all the collection inside collection and create a flat list \n",
    "    \n",
    "    \n",
    "before 29th may 2022 3 PM IST you have to send an answer to me or to shivan \n",
    "sudhanshu@ineuron.ai\n",
    "shivan@ineuron.ai\"\"\""
   ]
  },
  {
   "cell_type": "code",
   "execution_count": null,
   "id": "0b596b17",
   "metadata": {},
   "outputs": [],
   "source": []
  }
 ],
 "metadata": {
  "kernelspec": {
   "display_name": "Python 3 (ipykernel)",
   "language": "python",
   "name": "python3"
  },
  "language_info": {
   "codemirror_mode": {
    "name": "ipython",
    "version": 3
   },
   "file_extension": ".py",
   "mimetype": "text/x-python",
   "name": "python",
   "nbconvert_exporter": "python",
   "pygments_lexer": "ipython3",
   "version": "3.7.13"
  }
 },
 "nbformat": 4,
 "nbformat_minor": 5
}
