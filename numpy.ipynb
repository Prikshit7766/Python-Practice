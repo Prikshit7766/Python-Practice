{
 "cells": [
  {
   "cell_type": "code",
   "execution_count": 1,
   "id": "65f88b4d",
   "metadata": {},
   "outputs": [],
   "source": [
    "import numpy as np"
   ]
  },
  {
   "cell_type": "code",
   "execution_count": 9,
   "id": "0e001421",
   "metadata": {},
   "outputs": [
    {
     "data": {
      "text/plain": [
       "list"
      ]
     },
     "execution_count": 9,
     "metadata": {},
     "output_type": "execute_result"
    }
   ],
   "source": [
    "l=[1,2,3,4,5,6]\n",
    "type(l)"
   ]
  },
  {
   "cell_type": "markdown",
   "id": "fb2e0377",
   "metadata": {},
   "source": [
    "# generating array"
   ]
  },
  {
   "cell_type": "code",
   "execution_count": 4,
   "id": "195e92ca",
   "metadata": {},
   "outputs": [
    {
     "data": {
      "text/plain": [
       "array([1, 2, 3, 4, 5, 6])"
      ]
     },
     "execution_count": 4,
     "metadata": {},
     "output_type": "execute_result"
    }
   ],
   "source": [
    "np.array(l)"
   ]
  },
  {
   "cell_type": "code",
   "execution_count": 8,
   "id": "6c6f1aa6",
   "metadata": {},
   "outputs": [
    {
     "data": {
      "text/plain": [
       "numpy.ndarray"
      ]
     },
     "execution_count": 8,
     "metadata": {},
     "output_type": "execute_result"
    }
   ],
   "source": [
    "type(np.array(l))"
   ]
  },
  {
   "cell_type": "code",
   "execution_count": 5,
   "id": "03f28a06",
   "metadata": {},
   "outputs": [],
   "source": [
    "l1=[4,5,6,\"sudh\",34.456,True]"
   ]
  },
  {
   "cell_type": "code",
   "execution_count": 14,
   "id": "969721ea",
   "metadata": {},
   "outputs": [],
   "source": [
    "a1=np.array(l1) # converted each and every data type in hiher oder i.e here it is str"
   ]
  },
  {
   "cell_type": "code",
   "execution_count": 7,
   "id": "33dca229",
   "metadata": {},
   "outputs": [],
   "source": [
    "1#differ in data type"
   ]
  },
  {
   "cell_type": "code",
   "execution_count": 10,
   "id": "e0c347d6",
   "metadata": {},
   "outputs": [],
   "source": [
    "# it is called as array but it is similar to list"
   ]
  },
  {
   "cell_type": "code",
   "execution_count": 15,
   "id": "b80ff3f3",
   "metadata": {},
   "outputs": [],
   "source": [
    "a2=np.array([[1,2,3],[4,5,6]])#2d array"
   ]
  },
  {
   "cell_type": "code",
   "execution_count": 16,
   "id": "7adbc804",
   "metadata": {},
   "outputs": [],
   "source": [
    "a3=np.array([[[1,2,3],[4,5,6],[7,8,9]]])"
   ]
  },
  {
   "cell_type": "code",
   "execution_count": 17,
   "id": "4026edbc",
   "metadata": {},
   "outputs": [
    {
     "data": {
      "text/plain": [
       "array(['4', '5', '6', 'sudh', '34.456', 'True'], dtype='<U32')"
      ]
     },
     "execution_count": 17,
     "metadata": {},
     "output_type": "execute_result"
    }
   ],
   "source": [
    "a1"
   ]
  },
  {
   "cell_type": "code",
   "execution_count": 18,
   "id": "1d5ecb16",
   "metadata": {},
   "outputs": [
    {
     "data": {
      "text/plain": [
       "array([[1, 2, 3],\n",
       "       [4, 5, 6]])"
      ]
     },
     "execution_count": 18,
     "metadata": {},
     "output_type": "execute_result"
    }
   ],
   "source": [
    "a2"
   ]
  },
  {
   "cell_type": "code",
   "execution_count": 19,
   "id": "f83585f9",
   "metadata": {},
   "outputs": [
    {
     "data": {
      "text/plain": [
       "array([[[1, 2, 3],\n",
       "        [4, 5, 6],\n",
       "        [7, 8, 9]]])"
      ]
     },
     "execution_count": 19,
     "metadata": {},
     "output_type": "execute_result"
    }
   ],
   "source": [
    "a3"
   ]
  },
  {
   "cell_type": "markdown",
   "id": "b044be90",
   "metadata": {},
   "source": [
    "# find the dimension"
   ]
  },
  {
   "cell_type": "code",
   "execution_count": 21,
   "id": "095b3493",
   "metadata": {},
   "outputs": [
    {
     "data": {
      "text/plain": [
       "1"
      ]
     },
     "execution_count": 21,
     "metadata": {},
     "output_type": "execute_result"
    }
   ],
   "source": [
    "#find the dimension (as we do data manupulation we need same dimension of data )\n",
    "a1.ndim # to plot it we need only one axis"
   ]
  },
  {
   "cell_type": "code",
   "execution_count": 22,
   "id": "8c8e1698",
   "metadata": {},
   "outputs": [
    {
     "data": {
      "text/plain": [
       "2"
      ]
     },
     "execution_count": 22,
     "metadata": {},
     "output_type": "execute_result"
    }
   ],
   "source": [
    "a2.ndim# require 2dimension to represent it"
   ]
  },
  {
   "cell_type": "code",
   "execution_count": 23,
   "id": "4546a270",
   "metadata": {},
   "outputs": [
    {
     "data": {
      "text/plain": [
       "3"
      ]
     },
     "execution_count": 23,
     "metadata": {},
     "output_type": "execute_result"
    }
   ],
   "source": [
    "a3.ndim# 3 axis  are needed to represent the data"
   ]
  },
  {
   "cell_type": "markdown",
   "id": "b36dff37",
   "metadata": {},
   "source": [
    " # size"
   ]
  },
  {
   "cell_type": "code",
   "execution_count": 24,
   "id": "9be8d9d7",
   "metadata": {},
   "outputs": [
    {
     "data": {
      "text/plain": [
       "6"
      ]
     },
     "execution_count": 24,
     "metadata": {},
     "output_type": "execute_result"
    }
   ],
   "source": [
    "a1.size # .size give you the total number of elements"
   ]
  },
  {
   "cell_type": "code",
   "execution_count": 25,
   "id": "694abb9d",
   "metadata": {},
   "outputs": [
    {
     "data": {
      "text/plain": [
       "6"
      ]
     },
     "execution_count": 25,
     "metadata": {},
     "output_type": "execute_result"
    }
   ],
   "source": [
    "a2.size"
   ]
  },
  {
   "cell_type": "code",
   "execution_count": 26,
   "id": "06ca9c46",
   "metadata": {},
   "outputs": [
    {
     "data": {
      "text/plain": [
       "9"
      ]
     },
     "execution_count": 26,
     "metadata": {},
     "output_type": "execute_result"
    }
   ],
   "source": [
    "a3.sizea"
   ]
  },
  {
   "cell_type": "markdown",
   "id": "d21924b4",
   "metadata": {},
   "source": [
    " # shape"
   ]
  },
  {
   "cell_type": "code",
   "execution_count": 27,
   "id": "16fa4417",
   "metadata": {},
   "outputs": [
    {
     "data": {
      "text/plain": [
       "(6,)"
      ]
     },
     "execution_count": 27,
     "metadata": {},
     "output_type": "execute_result"
    }
   ],
   "source": [
    "a1.shape "
   ]
  },
  {
   "cell_type": "code",
   "execution_count": 29,
   "id": "cc18d71c",
   "metadata": {},
   "outputs": [
    {
     "data": {
      "text/plain": [
       "(2, 3)"
      ]
     },
     "execution_count": 29,
     "metadata": {},
     "output_type": "execute_result"
    }
   ],
   "source": [
    "a2.shape# 2 rows and 3 columns\n"
   ]
  },
  {
   "cell_type": "code",
   "execution_count": 30,
   "id": "91178e6b",
   "metadata": {},
   "outputs": [
    {
     "data": {
      "text/plain": [
       "(1, 3, 3)"
      ]
     },
     "execution_count": 30,
     "metadata": {},
     "output_type": "execute_result"
    }
   ],
   "source": [
    "a3.shape #  3X3 one such kind of matrices "
   ]
  },
  {
   "cell_type": "markdown",
   "id": "a72c5fee",
   "metadata": {},
   "source": [
    "# generate radom data"
   ]
  },
  {
   "cell_type": "code",
   "execution_count": 33,
   "id": "b906dd1d",
   "metadata": {},
   "outputs": [
    {
     "data": {
      "text/plain": [
       "4"
      ]
     },
     "execution_count": 33,
     "metadata": {},
     "output_type": "execute_result"
    }
   ],
   "source": [
    "np.random.randint(2,5) # generating random data between 2 to 5"
   ]
  },
  {
   "cell_type": "code",
   "execution_count": 34,
   "id": "2420e026",
   "metadata": {},
   "outputs": [
    {
     "data": {
      "text/plain": [
       "8"
      ]
     },
     "execution_count": 34,
     "metadata": {},
     "output_type": "execute_result"
    }
   ],
   "source": [
    "np.random.randint(2,15)"
   ]
  },
  {
   "cell_type": "code",
   "execution_count": 36,
   "id": "9a061988",
   "metadata": {},
   "outputs": [
    {
     "data": {
      "text/plain": [
       "array([[25, 23, 31, 24],\n",
       "       [ 9, 10, 23, 17],\n",
       "       [41, 10, 11,  4]])"
      ]
     },
     "execution_count": 36,
     "metadata": {},
     "output_type": "execute_result"
    }
   ],
   "source": [
    "#generate data in spectific dimension\n",
    "\n",
    "np.random.randint(2,50,(3,4)) # data with 3 rows and 4 columns"
   ]
  },
  {
   "cell_type": "code",
   "execution_count": 37,
   "id": "6dc78ac6",
   "metadata": {},
   "outputs": [
    {
     "data": {
      "text/plain": [
       "array([[[44, 37, 33, 37],\n",
       "        [ 5,  9, 30,  9],\n",
       "        [12, 26, 28,  5]],\n",
       "\n",
       "       [[ 2, 36, 25, 39],\n",
       "        [ 6, 16,  6, 21],\n",
       "        [39, 16,  4, 34]]])"
      ]
     },
     "execution_count": 37,
     "metadata": {},
     "output_type": "execute_result"
    }
   ],
   "source": [
    "np.random.randint(2,50,(2,3,4)) #3X4 two such kind of matrices "
   ]
  },
  {
   "cell_type": "markdown",
   "id": "83b7856b",
   "metadata": {},
   "source": [
    "# rand"
   ]
  },
  {
   "cell_type": "code",
   "execution_count": 39,
   "id": "54e479a5",
   "metadata": {},
   "outputs": [
    {
     "data": {
      "text/plain": [
       "array([[0.62522626, 0.20497788, 0.28539095],\n",
       "       [0.14039442, 0.19706216, 0.01392393]])"
      ]
     },
     "execution_count": 39,
     "metadata": {},
     "output_type": "execute_result"
    }
   ],
   "source": [
    "np.random.rand(2,3) # generate random number  of  2x3\n",
    "# any kind od mean and any kind of sd"
   ]
  },
  {
   "cell_type": "markdown",
   "id": "6f91b041",
   "metadata": {},
   "source": [
    "# randn"
   ]
  },
  {
   "cell_type": "code",
   "execution_count": 43,
   "id": "198724fc",
   "metadata": {},
   "outputs": [],
   "source": [
    "a4=np.random.randn(4,4) #standard normal distribution  sd=1 ,mean=0"
   ]
  },
  {
   "cell_type": "code",
   "execution_count": 44,
   "id": "dd85329d",
   "metadata": {},
   "outputs": [
    {
     "data": {
      "text/plain": [
       "array([[-0.4711697 , -0.6067999 ,  0.80363903,  0.51133606],\n",
       "       [-0.72060455, -0.19727402, -0.30094835, -1.59781344],\n",
       "       [-0.45436015, -0.50873556, -0.40597073, -0.30616715],\n",
       "       [-1.4775772 ,  0.9564439 , -0.08810383, -0.97138176]])"
      ]
     },
     "execution_count": 44,
     "metadata": {},
     "output_type": "execute_result"
    }
   ],
   "source": [
    "a4\n",
    "# average of a column will be equal to 0"
   ]
  },
  {
   "cell_type": "markdown",
   "id": "6b562fc1",
   "metadata": {},
   "source": [
    "# reshape"
   ]
  },
  {
   "cell_type": "code",
   "execution_count": null,
   "id": "45dcbc10",
   "metadata": {},
   "outputs": [],
   "source": [
    "# number of data points going to remane same ont dimension will change\n"
   ]
  },
  {
   "cell_type": "code",
   "execution_count": 45,
   "id": "34183db3",
   "metadata": {},
   "outputs": [
    {
     "ename": "ValueError",
     "evalue": "cannot reshape array of size 16 into shape (3,4)",
     "output_type": "error",
     "traceback": [
      "\u001b[1;31m---------------------------------------------------------------------------\u001b[0m",
      "\u001b[1;31mValueError\u001b[0m                                Traceback (most recent call last)",
      "\u001b[1;32m~\\AppData\\Local\\Temp\\ipykernel_17776\\238737660.py\u001b[0m in \u001b[0;36m<module>\u001b[1;34m\u001b[0m\n\u001b[1;32m----> 1\u001b[1;33m \u001b[0ma4\u001b[0m\u001b[1;33m.\u001b[0m\u001b[0mreshape\u001b[0m\u001b[1;33m(\u001b[0m\u001b[1;36m3\u001b[0m\u001b[1;33m,\u001b[0m\u001b[1;36m4\u001b[0m\u001b[1;33m)\u001b[0m\u001b[1;33m\u001b[0m\u001b[1;33m\u001b[0m\u001b[0m\n\u001b[0m",
      "\u001b[1;31mValueError\u001b[0m: cannot reshape array of size 16 into shape (3,4)"
     ]
    }
   ],
   "source": [
    "a4.reshape(3,4)"
   ]
  },
  {
   "cell_type": "code",
   "execution_count": 47,
   "id": "669648f2",
   "metadata": {},
   "outputs": [
    {
     "data": {
      "text/plain": [
       "array([[-0.4711697 , -0.6067999 ,  0.80363903,  0.51133606, -0.72060455,\n",
       "        -0.19727402, -0.30094835, -1.59781344],\n",
       "       [-0.45436015, -0.50873556, -0.40597073, -0.30616715, -1.4775772 ,\n",
       "         0.9564439 , -0.08810383, -0.97138176]])"
      ]
     },
     "execution_count": 47,
     "metadata": {},
     "output_type": "execute_result"
    }
   ],
   "source": [
    "# 3x4=12 but 4x4=16\n",
    "a4.reshape(2,8)\n"
   ]
  },
  {
   "cell_type": "code",
   "execution_count": 48,
   "id": "dcc5ea07",
   "metadata": {},
   "outputs": [
    {
     "data": {
      "text/plain": [
       "array([[-0.4711697 , -0.6067999 ],\n",
       "       [ 0.80363903,  0.51133606],\n",
       "       [-0.72060455, -0.19727402],\n",
       "       [-0.30094835, -1.59781344],\n",
       "       [-0.45436015, -0.50873556],\n",
       "       [-0.40597073, -0.30616715],\n",
       "       [-1.4775772 ,  0.9564439 ],\n",
       "       [-0.08810383, -0.97138176]])"
      ]
     },
     "execution_count": 48,
     "metadata": {},
     "output_type": "execute_result"
    }
   ],
   "source": [
    "a4.reshape(8,2)"
   ]
  },
  {
   "cell_type": "code",
   "execution_count": 49,
   "id": "7a2fae9c",
   "metadata": {},
   "outputs": [
    {
     "data": {
      "text/plain": [
       "array([[-0.4711697 ],\n",
       "       [-0.6067999 ],\n",
       "       [ 0.80363903],\n",
       "       [ 0.51133606],\n",
       "       [-0.72060455],\n",
       "       [-0.19727402],\n",
       "       [-0.30094835],\n",
       "       [-1.59781344],\n",
       "       [-0.45436015],\n",
       "       [-0.50873556],\n",
       "       [-0.40597073],\n",
       "       [-0.30616715],\n",
       "       [-1.4775772 ],\n",
       "       [ 0.9564439 ],\n",
       "       [-0.08810383],\n",
       "       [-0.97138176]])"
      ]
     },
     "execution_count": 49,
     "metadata": {},
     "output_type": "execute_result"
    }
   ],
   "source": [
    "a4.reshape(16,1)"
   ]
  },
  {
   "cell_type": "code",
   "execution_count": 51,
   "id": "890e66cc",
   "metadata": {},
   "outputs": [
    {
     "data": {
      "text/plain": [
       "array([[-0.4711697 , -0.6067999 ,  0.80363903,  0.51133606, -0.72060455,\n",
       "        -0.19727402, -0.30094835, -1.59781344],\n",
       "       [-0.45436015, -0.50873556, -0.40597073, -0.30616715, -1.4775772 ,\n",
       "         0.9564439 , -0.08810383, -0.97138176]])"
      ]
     },
     "execution_count": 51,
     "metadata": {},
     "output_type": "execute_result"
    }
   ],
   "source": [
    "a4.reshape(2,-1) # if  we write negative number it will automatically detect the shape"
   ]
  },
  {
   "cell_type": "code",
   "execution_count": 52,
   "id": "7529eb44",
   "metadata": {},
   "outputs": [
    {
     "data": {
      "text/plain": [
       "array([[[-0.4711697 , -0.6067999 ,  0.80363903,  0.51133606],\n",
       "        [-0.72060455, -0.19727402, -0.30094835, -1.59781344]],\n",
       "\n",
       "       [[-0.45436015, -0.50873556, -0.40597073, -0.30616715],\n",
       "        [-1.4775772 ,  0.9564439 , -0.08810383, -0.97138176]]])"
      ]
     },
     "execution_count": 52,
     "metadata": {},
     "output_type": "execute_result"
    }
   ],
   "source": [
    "a4.reshape(2,2,4)"
   ]
  },
  {
   "cell_type": "code",
   "execution_count": 53,
   "id": "0b77ce5d",
   "metadata": {},
   "outputs": [
    {
     "data": {
      "text/plain": [
       "array([[[[-0.4711697 , -0.6067999 ,  0.80363903,  0.51133606],\n",
       "         [-0.72060455, -0.19727402, -0.30094835, -1.59781344]],\n",
       "\n",
       "        [[-0.45436015, -0.50873556, -0.40597073, -0.30616715],\n",
       "         [-1.4775772 ,  0.9564439 , -0.08810383, -0.97138176]]]])"
      ]
     },
     "execution_count": 53,
     "metadata": {},
     "output_type": "execute_result"
    }
   ],
   "source": [
    "a4.reshape(1,2,2,4)"
   ]
  },
  {
   "cell_type": "markdown",
   "id": "f5d478ba",
   "metadata": {},
   "source": [
    "# etract data"
   ]
  },
  {
   "cell_type": "code",
   "execution_count": 58,
   "id": "2a5f9a59",
   "metadata": {},
   "outputs": [
    {
     "data": {
      "text/plain": [
       "array(['4', '5', '6', 'sudh', '34.456', 'True'], dtype='<U32')"
      ]
     },
     "execution_count": 58,
     "metadata": {},
     "output_type": "execute_result"
    }
   ],
   "source": [
    "a1"
   ]
  },
  {
   "cell_type": "code",
   "execution_count": 55,
   "id": "9bacefd1",
   "metadata": {},
   "outputs": [
    {
     "data": {
      "text/plain": [
       "'4'"
      ]
     },
     "execution_count": 55,
     "metadata": {},
     "output_type": "execute_result"
    }
   ],
   "source": [
    "a1[0]"
   ]
  },
  {
   "cell_type": "code",
   "execution_count": 57,
   "id": "b0561684",
   "metadata": {},
   "outputs": [
    {
     "data": {
      "text/plain": [
       "array(['6', 'sudh', '34.456', 'True'], dtype='<U32')"
      ]
     },
     "execution_count": 57,
     "metadata": {},
     "output_type": "execute_result"
    }
   ],
   "source": [
    "a1[2:6] # also it exclude the upper bound"
   ]
  },
  {
   "cell_type": "code",
   "execution_count": 60,
   "id": "66e0d1d6",
   "metadata": {},
   "outputs": [
    {
     "data": {
      "text/plain": [
       "array(['6', '34.456'], dtype='<U32')"
      ]
     },
     "execution_count": 60,
     "metadata": {},
     "output_type": "execute_result"
    }
   ],
   "source": [
    "a1[2:6:2] # start from 2 , end at 6 and take jump of 2"
   ]
  },
  {
   "cell_type": "code",
   "execution_count": 61,
   "id": "fccb7bb5",
   "metadata": {},
   "outputs": [
    {
     "data": {
      "text/plain": [
       "array(['True', '34.456', 'sudh', '6', '5', '4'], dtype='<U32')"
      ]
     },
     "execution_count": 61,
     "metadata": {},
     "output_type": "execute_result"
    }
   ],
   "source": [
    "a1[::-1] # reverse the array"
   ]
  },
  {
   "cell_type": "code",
   "execution_count": 63,
   "id": "ea674b97",
   "metadata": {},
   "outputs": [
    {
     "data": {
      "text/plain": [
       "array([[1, 2, 3],\n",
       "       [4, 5, 6]])"
      ]
     },
     "execution_count": 63,
     "metadata": {},
     "output_type": "execute_result"
    }
   ],
   "source": [
    "a2"
   ]
  },
  {
   "cell_type": "code",
   "execution_count": 64,
   "id": "74fb7bfc",
   "metadata": {},
   "outputs": [
    {
     "data": {
      "text/plain": [
       "array([1, 2, 3])"
      ]
     },
     "execution_count": 64,
     "metadata": {},
     "output_type": "execute_result"
    }
   ],
   "source": [
    "# extract 1,2,3\n",
    "a2[0]"
   ]
  },
  {
   "cell_type": "markdown",
   "id": "49a98379",
   "metadata": {},
   "source": [
    "# slicing "
   ]
  },
  {
   "cell_type": "code",
   "execution_count": 70,
   "id": "ec38d185",
   "metadata": {},
   "outputs": [
    {
     "data": {
      "text/plain": [
       "array([[2, 3],\n",
       "       [5, 6]])"
      ]
     },
     "execution_count": 70,
     "metadata": {},
     "output_type": "execute_result"
    }
   ],
   "source": [
    "a2[:,1:]# slicing "
   ]
  },
  {
   "cell_type": "code",
   "execution_count": 71,
   "id": "6595b43d",
   "metadata": {},
   "outputs": [
    {
     "data": {
      "text/plain": [
       "array([[2, 3],\n",
       "       [5, 6]])"
      ]
     },
     "execution_count": 71,
     "metadata": {},
     "output_type": "execute_result"
    }
   ],
   "source": [
    "a2[:,[1,2]]"
   ]
  },
  {
   "cell_type": "code",
   "execution_count": 74,
   "id": "b5b1f99e",
   "metadata": {},
   "outputs": [
    {
     "data": {
      "text/plain": [
       "array([[2, 3],\n",
       "       [5, 6]])"
      ]
     },
     "execution_count": 74,
     "metadata": {},
     "output_type": "execute_result"
    }
   ],
   "source": [
    "a2[[0,1],1:]"
   ]
  },
  {
   "cell_type": "code",
   "execution_count": 78,
   "id": "dce432e8",
   "metadata": {},
   "outputs": [],
   "source": [
    "a5=np.random.randint(2,90,(6,5))"
   ]
  },
  {
   "cell_type": "code",
   "execution_count": 79,
   "id": "e046e4ad",
   "metadata": {},
   "outputs": [
    {
     "data": {
      "text/plain": [
       "array([[50, 82, 75, 28, 34],\n",
       "       [76, 17, 20, 20, 54],\n",
       "       [57, 38, 22, 65, 62],\n",
       "       [25, 80, 34, 10, 25],\n",
       "       [ 7, 37, 87,  5, 70],\n",
       "       [10, 29, 63, 85, 22]])"
      ]
     },
     "execution_count": 79,
     "metadata": {},
     "output_type": "execute_result"
    }
   ],
   "source": [
    "a5"
   ]
  },
  {
   "cell_type": "code",
   "execution_count": 80,
   "id": "1a5f1ae9",
   "metadata": {},
   "outputs": [
    {
     "data": {
      "text/plain": [
       "array([50, 82, 75, 76, 54, 57, 65, 62, 80, 87, 70, 63, 85])"
      ]
     },
     "execution_count": 80,
     "metadata": {},
     "output_type": "execute_result"
    }
   ],
   "source": [
    "# filter all the records with value more than 40\n",
    "a5[a5>40]"
   ]
  },
  {
   "cell_type": "code",
   "execution_count": 81,
   "id": "10abe0aa",
   "metadata": {},
   "outputs": [
    {
     "data": {
      "text/plain": [
       "array([[50, 82, 75, 28, 34],\n",
       "       [76, 17, 20, 20, 54],\n",
       "       [57, 38, 22, 65, 62],\n",
       "       [25, 80, 34, 10, 25],\n",
       "       [ 7, 37, 87,  5, 70],\n",
       "       [10, 29, 63, 85, 22]])"
      ]
     },
     "execution_count": 81,
     "metadata": {},
     "output_type": "execute_result"
    }
   ],
   "source": [
    "# changing data\n",
    "a5"
   ]
  },
  {
   "cell_type": "code",
   "execution_count": 84,
   "id": "2bc894ce",
   "metadata": {},
   "outputs": [
    {
     "data": {
      "text/plain": [
       "82"
      ]
     },
     "execution_count": 84,
     "metadata": {},
     "output_type": "execute_result"
    }
   ],
   "source": [
    "a5[0][1]"
   ]
  },
  {
   "cell_type": "code",
   "execution_count": 85,
   "id": "7c0d3f6f",
   "metadata": {},
   "outputs": [],
   "source": [
    "a5[0][1]= 100"
   ]
  },
  {
   "cell_type": "code",
   "execution_count": 86,
   "id": "e8d1a920",
   "metadata": {},
   "outputs": [
    {
     "data": {
      "text/plain": [
       "array([[ 50, 100,  75,  28,  34],\n",
       "       [ 76,  17,  20,  20,  54],\n",
       "       [ 57,  38,  22,  65,  62],\n",
       "       [ 25,  80,  34,  10,  25],\n",
       "       [  7,  37,  87,   5,  70],\n",
       "       [ 10,  29,  63,  85,  22]])"
      ]
     },
     "execution_count": 86,
     "metadata": {},
     "output_type": "execute_result"
    }
   ],
   "source": [
    "a5"
   ]
  },
  {
   "cell_type": "code",
   "execution_count": 92,
   "id": "5076a606",
   "metadata": {},
   "outputs": [],
   "source": [
    "a6=np.random.randint(0,3,(3,3))"
   ]
  },
  {
   "cell_type": "code",
   "execution_count": 93,
   "id": "bdc87c2c",
   "metadata": {},
   "outputs": [],
   "source": [
    "a7=np.random.randint(0,3,(3,3))"
   ]
  },
  {
   "cell_type": "code",
   "execution_count": 94,
   "id": "b172a1a1",
   "metadata": {},
   "outputs": [
    {
     "data": {
      "text/plain": [
       "array([[1, 1, 2],\n",
       "       [0, 1, 2],\n",
       "       [0, 0, 0]])"
      ]
     },
     "execution_count": 94,
     "metadata": {},
     "output_type": "execute_result"
    }
   ],
   "source": [
    "a6"
   ]
  },
  {
   "cell_type": "code",
   "execution_count": 95,
   "id": "fd0f6e61",
   "metadata": {},
   "outputs": [
    {
     "data": {
      "text/plain": [
       "array([[2, 0, 1],\n",
       "       [1, 2, 0],\n",
       "       [2, 1, 1]])"
      ]
     },
     "execution_count": 95,
     "metadata": {},
     "output_type": "execute_result"
    }
   ],
   "source": [
    "a7"
   ]
  },
  {
   "cell_type": "markdown",
   "id": "df5b08bb",
   "metadata": {},
   "source": [
    "# operations "
   ]
  },
  {
   "cell_type": "code",
   "execution_count": 96,
   "id": "b502b94b",
   "metadata": {},
   "outputs": [
    {
     "data": {
      "text/plain": [
       "array([[2, 0, 2],\n",
       "       [0, 2, 0],\n",
       "       [0, 0, 0]])"
      ]
     },
     "execution_count": 96,
     "metadata": {},
     "output_type": "execute_result"
    }
   ],
   "source": [
    "a6 * a7  # element  multipication"
   ]
  },
  {
   "cell_type": "code",
   "execution_count": 97,
   "id": "ebe32304",
   "metadata": {},
   "outputs": [
    {
     "data": {
      "text/plain": [
       "array([[7, 4, 3],\n",
       "       [5, 4, 2],\n",
       "       [0, 0, 0]])"
      ]
     },
     "execution_count": 97,
     "metadata": {},
     "output_type": "execute_result"
    }
   ],
   "source": [
    "a6@a7 # matrix multipication"
   ]
  },
  {
   "cell_type": "code",
   "execution_count": 99,
   "id": "e1b2115b",
   "metadata": {},
   "outputs": [
    {
     "data": {
      "text/plain": [
       "array([[1, 1, 2],\n",
       "       [0, 1, 2],\n",
       "       [0, 0, 0]])"
      ]
     },
     "execution_count": 99,
     "metadata": {},
     "output_type": "execute_result"
    }
   ],
   "source": [
    "a6"
   ]
  },
  {
   "cell_type": "code",
   "execution_count": 101,
   "id": "dc220f44",
   "metadata": {},
   "outputs": [
    {
     "data": {
      "text/plain": [
       "array([[101, 101, 102],\n",
       "       [100, 101, 102],\n",
       "       [100, 100, 100]])"
      ]
     },
     "execution_count": 101,
     "metadata": {},
     "output_type": "execute_result"
    }
   ],
   "source": [
    "\n",
    "a6+100 # add 100 with every element"
   ]
  },
  {
   "cell_type": "code",
   "execution_count": 103,
   "id": "6cd9d031",
   "metadata": {},
   "outputs": [
    {
     "data": {
      "text/plain": [
       "array([[ 6,  6, 12],\n",
       "       [ 0,  6, 12],\n",
       "       [ 0,  0,  0]])"
      ]
     },
     "execution_count": 103,
     "metadata": {},
     "output_type": "execute_result"
    }
   ],
   "source": [
    "a6*6"
   ]
  },
  {
   "cell_type": "code",
   "execution_count": 102,
   "id": "ad73139c",
   "metadata": {},
   "outputs": [
    {
     "name": "stderr",
     "output_type": "stream",
     "text": [
      "C:\\Users\\HP\\Anaconda3\\lib\\site-packages\\ipykernel_launcher.py:1: RuntimeWarning: divide by zero encountered in true_divide\n",
      "  \"\"\"Entry point for launching an IPython kernel.\n",
      "C:\\Users\\HP\\Anaconda3\\lib\\site-packages\\ipykernel_launcher.py:1: RuntimeWarning: invalid value encountered in true_divide\n",
      "  \"\"\"Entry point for launching an IPython kernel.\n"
     ]
    },
    {
     "data": {
      "text/plain": [
       "array([[inf, inf, inf],\n",
       "       [nan, inf, inf],\n",
       "       [nan, nan, nan]])"
      ]
     },
     "execution_count": 102,
     "metadata": {},
     "output_type": "execute_result"
    }
   ],
   "source": [
    "a6/0"
   ]
  },
  {
   "cell_type": "code",
   "execution_count": 104,
   "id": "a454ed26",
   "metadata": {},
   "outputs": [
    {
     "data": {
      "text/plain": [
       "array([[1, 1, 2],\n",
       "       [0, 1, 2],\n",
       "       [0, 0, 0]])"
      ]
     },
     "execution_count": 104,
     "metadata": {},
     "output_type": "execute_result"
    }
   ],
   "source": [
    "a6"
   ]
  },
  {
   "cell_type": "code",
   "execution_count": 105,
   "id": "d2decdad",
   "metadata": {},
   "outputs": [
    {
     "data": {
      "text/plain": [
       "array([[ 1,  1, 64],\n",
       "       [ 0,  1, 64],\n",
       "       [ 0,  0,  0]], dtype=int32)"
      ]
     },
     "execution_count": 105,
     "metadata": {},
     "output_type": "execute_result"
    }
   ],
   "source": [
    "# power operation\n",
    "a6**6"
   ]
  },
  {
   "cell_type": "code",
   "execution_count": 110,
   "id": "63a76567",
   "metadata": {},
   "outputs": [],
   "source": [
    "a8=np.zeros((4,4))"
   ]
  },
  {
   "cell_type": "code",
   "execution_count": 111,
   "id": "f368e9ff",
   "metadata": {},
   "outputs": [
    {
     "data": {
      "text/plain": [
       "array([[0., 0., 0., 0.],\n",
       "       [0., 0., 0., 0.],\n",
       "       [0., 0., 0., 0.],\n",
       "       [0., 0., 0., 0.]])"
      ]
     },
     "execution_count": 111,
     "metadata": {},
     "output_type": "execute_result"
    }
   ],
   "source": [
    "a8"
   ]
  },
  {
   "cell_type": "code",
   "execution_count": 113,
   "id": "0c893495",
   "metadata": {},
   "outputs": [],
   "source": [
    "a9=np.ones((4,5))"
   ]
  },
  {
   "cell_type": "code",
   "execution_count": 114,
   "id": "3d03ca1c",
   "metadata": {},
   "outputs": [
    {
     "data": {
      "text/plain": [
       "array([[1., 1., 1., 1., 1.],\n",
       "       [1., 1., 1., 1., 1.],\n",
       "       [1., 1., 1., 1., 1.],\n",
       "       [1., 1., 1., 1., 1.]])"
      ]
     },
     "execution_count": 114,
     "metadata": {},
     "output_type": "execute_result"
    }
   ],
   "source": [
    "a9"
   ]
  },
  {
   "cell_type": "code",
   "execution_count": 115,
   "id": "9855bbb0",
   "metadata": {},
   "outputs": [
    {
     "data": {
      "text/plain": [
       "array([[11., 11., 11., 11., 11.],\n",
       "       [11., 11., 11., 11., 11.],\n",
       "       [11., 11., 11., 11., 11.],\n",
       "       [11., 11., 11., 11., 11.]])"
      ]
     },
     "execution_count": 115,
     "metadata": {},
     "output_type": "execute_result"
    }
   ],
   "source": [
    "a9+10"
   ]
  },
  {
   "cell_type": "code",
   "execution_count": 118,
   "id": "94128fc7",
   "metadata": {},
   "outputs": [
    {
     "data": {
      "text/plain": [
       "array([[2., 3., 4., 5., 6.],\n",
       "       [2., 3., 4., 5., 6.],\n",
       "       [2., 3., 4., 5., 6.],\n",
       "       [2., 3., 4., 5., 6.]])"
      ]
     },
     "execution_count": 118,
     "metadata": {},
     "output_type": "execute_result"
    }
   ],
   "source": [
    "#adding array with array\n",
    "#broadcasting- rowise addition operation\n",
    "a9+np.array([1,2,3,4,5])"
   ]
  },
  {
   "cell_type": "code",
   "execution_count": 119,
   "id": "7197133e",
   "metadata": {},
   "outputs": [
    {
     "ename": "ValueError",
     "evalue": "operands could not be broadcast together with shapes (4,5) (4,) ",
     "output_type": "error",
     "traceback": [
      "\u001b[1;31m---------------------------------------------------------------------------\u001b[0m",
      "\u001b[1;31mValueError\u001b[0m                                Traceback (most recent call last)",
      "\u001b[1;32m~\\AppData\\Local\\Temp\\ipykernel_17776\\2701081959.py\u001b[0m in \u001b[0;36m<module>\u001b[1;34m\u001b[0m\n\u001b[1;32m----> 1\u001b[1;33m \u001b[0ma9\u001b[0m\u001b[1;33m+\u001b[0m\u001b[0mnp\u001b[0m\u001b[1;33m.\u001b[0m\u001b[0marray\u001b[0m\u001b[1;33m(\u001b[0m\u001b[1;33m[\u001b[0m\u001b[1;36m1\u001b[0m\u001b[1;33m,\u001b[0m\u001b[1;36m2\u001b[0m\u001b[1;33m,\u001b[0m\u001b[1;36m3\u001b[0m\u001b[1;33m,\u001b[0m\u001b[1;36m4\u001b[0m\u001b[1;33m]\u001b[0m\u001b[1;33m)\u001b[0m\u001b[1;33m\u001b[0m\u001b[1;33m\u001b[0m\u001b[0m\n\u001b[0m",
      "\u001b[1;31mValueError\u001b[0m: operands could not be broadcast together with shapes (4,5) (4,) "
     ]
    }
   ],
   "source": [
    "a9+np.array([1,2,3,4])"
   ]
  },
  {
   "cell_type": "code",
   "execution_count": 120,
   "id": "1eaa31eb",
   "metadata": {},
   "outputs": [
    {
     "data": {
      "text/plain": [
       "array([[1., 1., 1., 1., 1.],\n",
       "       [1., 1., 1., 1., 1.],\n",
       "       [1., 1., 1., 1., 1.],\n",
       "       [1., 1., 1., 1., 1.]])"
      ]
     },
     "execution_count": 120,
     "metadata": {},
     "output_type": "execute_result"
    }
   ],
   "source": [
    "a9"
   ]
  },
  {
   "cell_type": "code",
   "execution_count": 121,
   "id": "f10d77a4",
   "metadata": {},
   "outputs": [
    {
     "data": {
      "text/plain": [
       "array([1, 2, 3, 4])"
      ]
     },
     "execution_count": 121,
     "metadata": {},
     "output_type": "execute_result"
    }
   ],
   "source": [
    "#broadcasting- columnwise addition operation\n",
    "np.array([1,2,3,4]).T # rotating it column wise first"
   ]
  },
  {
   "cell_type": "code",
   "execution_count": 122,
   "id": "2a890eaa",
   "metadata": {},
   "outputs": [
    {
     "ename": "ValueError",
     "evalue": "operands could not be broadcast together with shapes (4,5) (4,) ",
     "output_type": "error",
     "traceback": [
      "\u001b[1;31m---------------------------------------------------------------------------\u001b[0m",
      "\u001b[1;31mValueError\u001b[0m                                Traceback (most recent call last)",
      "\u001b[1;32m~\\AppData\\Local\\Temp\\ipykernel_17776\\3732421336.py\u001b[0m in \u001b[0;36m<module>\u001b[1;34m\u001b[0m\n\u001b[1;32m----> 1\u001b[1;33m \u001b[0ma9\u001b[0m\u001b[1;33m+\u001b[0m\u001b[0mnp\u001b[0m\u001b[1;33m.\u001b[0m\u001b[0marray\u001b[0m\u001b[1;33m(\u001b[0m\u001b[1;33m[\u001b[0m\u001b[1;36m1\u001b[0m\u001b[1;33m,\u001b[0m\u001b[1;36m2\u001b[0m\u001b[1;33m,\u001b[0m\u001b[1;36m3\u001b[0m\u001b[1;33m,\u001b[0m\u001b[1;36m4\u001b[0m\u001b[1;33m]\u001b[0m\u001b[1;33m)\u001b[0m\u001b[1;33m.\u001b[0m\u001b[0mT\u001b[0m\u001b[1;33m\u001b[0m\u001b[1;33m\u001b[0m\u001b[0m\n\u001b[0m",
      "\u001b[1;31mValueError\u001b[0m: operands could not be broadcast together with shapes (4,5) (4,) "
     ]
    }
   ],
   "source": [
    "a9+np.array([1,2,3,4]).T"
   ]
  },
  {
   "cell_type": "code",
   "execution_count": 123,
   "id": "a7320bf8",
   "metadata": {},
   "outputs": [],
   "source": [
    "#we need 2d data to do transpose operation "
   ]
  },
  {
   "cell_type": "code",
   "execution_count": 126,
   "id": "99bdc141",
   "metadata": {},
   "outputs": [
    {
     "data": {
      "text/plain": [
       "array([[1],\n",
       "       [2],\n",
       "       [3],\n",
       "       [4]])"
      ]
     },
     "execution_count": 126,
     "metadata": {},
     "output_type": "execute_result"
    }
   ],
   "source": [
    "np.array([[1,2,3,4]]).T"
   ]
  },
  {
   "cell_type": "code",
   "execution_count": 124,
   "id": "e48b22d5",
   "metadata": {},
   "outputs": [
    {
     "data": {
      "text/plain": [
       "array([[2., 2., 2., 2., 2.],\n",
       "       [3., 3., 3., 3., 3.],\n",
       "       [4., 4., 4., 4., 4.],\n",
       "       [5., 5., 5., 5., 5.]])"
      ]
     },
     "execution_count": 124,
     "metadata": {},
     "output_type": "execute_result"
    }
   ],
   "source": [
    "a9+np.array([[1,2,3,4]]).T"
   ]
  },
  {
   "cell_type": "code",
   "execution_count": 129,
   "id": "4f52b720",
   "metadata": {},
   "outputs": [
    {
     "data": {
      "text/plain": [
       "array([[1, 1, 2],\n",
       "       [0, 1, 2],\n",
       "       [0, 0, 0]])"
      ]
     },
     "execution_count": 129,
     "metadata": {},
     "output_type": "execute_result"
    }
   ],
   "source": [
    "a6"
   ]
  },
  {
   "cell_type": "code",
   "execution_count": 128,
   "id": "07ac58cf",
   "metadata": {},
   "outputs": [
    {
     "data": {
      "text/plain": [
       "array([[1, 0, 0],\n",
       "       [1, 1, 0],\n",
       "       [2, 2, 0]])"
      ]
     },
     "execution_count": 128,
     "metadata": {},
     "output_type": "execute_result"
    }
   ],
   "source": [
    "a6.T"
   ]
  },
  {
   "cell_type": "code",
   "execution_count": 130,
   "id": "593c45f8",
   "metadata": {},
   "outputs": [
    {
     "data": {
      "text/plain": [
       "array([[ 50, 100,  75,  28,  34],\n",
       "       [ 76,  17,  20,  20,  54],\n",
       "       [ 57,  38,  22,  65,  62],\n",
       "       [ 25,  80,  34,  10,  25],\n",
       "       [  7,  37,  87,   5,  70],\n",
       "       [ 10,  29,  63,  85,  22]])"
      ]
     },
     "execution_count": 130,
     "metadata": {},
     "output_type": "execute_result"
    }
   ],
   "source": [
    "a5"
   ]
  },
  {
   "cell_type": "code",
   "execution_count": 132,
   "id": "40cd1f58",
   "metadata": {},
   "outputs": [
    {
     "data": {
      "text/plain": [
       "array([[ 7.07106781, 10.        ,  8.66025404,  5.29150262,  5.83095189],\n",
       "       [ 8.71779789,  4.12310563,  4.47213595,  4.47213595,  7.34846923],\n",
       "       [ 7.54983444,  6.164414  ,  4.69041576,  8.06225775,  7.87400787],\n",
       "       [ 5.        ,  8.94427191,  5.83095189,  3.16227766,  5.        ],\n",
       "       [ 2.64575131,  6.08276253,  9.32737905,  2.23606798,  8.36660027],\n",
       "       [ 3.16227766,  5.38516481,  7.93725393,  9.21954446,  4.69041576]])"
      ]
     },
     "execution_count": 132,
     "metadata": {},
     "output_type": "execute_result"
    }
   ],
   "source": [
    "np.sqrt(a5)"
   ]
  },
  {
   "cell_type": "code",
   "execution_count": 133,
   "id": "350e20c0",
   "metadata": {},
   "outputs": [
    {
     "data": {
      "text/plain": [
       "array([[5.18470553e+21, 2.68811714e+43, 3.73324200e+32, 1.44625706e+12,\n",
       "        5.83461743e+14],\n",
       "       [1.01480039e+33, 2.41549528e+07, 4.85165195e+08, 4.85165195e+08,\n",
       "        2.83075330e+23],\n",
       "       [5.68572000e+24, 3.18559318e+16, 3.58491285e+09, 1.69488924e+28,\n",
       "        8.43835667e+26],\n",
       "       [7.20048993e+10, 5.54062238e+34, 5.83461743e+14, 2.20264658e+04,\n",
       "        7.20048993e+10],\n",
       "       [1.09663316e+03, 1.17191424e+16, 6.07603023e+37, 1.48413159e+02,\n",
       "        2.51543867e+30],\n",
       "       [2.20264658e+04, 3.93133430e+12, 2.29378316e+27, 8.22301271e+36,\n",
       "        3.58491285e+09]])"
      ]
     },
     "execution_count": 133,
     "metadata": {},
     "output_type": "execute_result"
    }
   ],
   "source": [
    "np.exp(a5)"
   ]
  },
  {
   "cell_type": "code",
   "execution_count": 138,
   "id": "b31de140",
   "metadata": {},
   "outputs": [
    {
     "data": {
      "text/plain": [
       "array([[1.69897   , 2.        , 1.87506126, 1.44715803, 1.53147892],\n",
       "       [1.88081359, 1.23044892, 1.30103   , 1.30103   , 1.73239376],\n",
       "       [1.75587486, 1.5797836 , 1.34242268, 1.81291336, 1.79239169],\n",
       "       [1.39794001, 1.90308999, 1.53147892, 1.        , 1.39794001],\n",
       "       [0.84509804, 1.56820172, 1.93951925, 0.69897   , 1.84509804],\n",
       "       [1.        , 1.462398  , 1.79934055, 1.92941893, 1.34242268]])"
      ]
     },
     "execution_count": 138,
     "metadata": {},
     "output_type": "execute_result"
    }
   ],
   "source": [
    "np.log10(a5)"
   ]
  },
  {
   "cell_type": "code",
   "execution_count": 142,
   "id": "d2f9fbba",
   "metadata": {},
   "outputs": [
    {
     "data": {
      "text/plain": [
       "range(0, 10)"
      ]
     },
     "execution_count": 142,
     "metadata": {},
     "output_type": "execute_result"
    }
   ],
   "source": [
    "range(10)"
   ]
  },
  {
   "cell_type": "code",
   "execution_count": 139,
   "id": "a77e5f61",
   "metadata": {},
   "outputs": [
    {
     "data": {
      "text/plain": [
       "[0, 1, 2, 3, 4, 5, 6, 7, 8, 9]"
      ]
     },
     "execution_count": 139,
     "metadata": {},
     "output_type": "execute_result"
    }
   ],
   "source": [
    "list(range(10))"
   ]
  },
  {
   "cell_type": "code",
   "execution_count": 140,
   "id": "7d1888df",
   "metadata": {},
   "outputs": [
    {
     "ename": "TypeError",
     "evalue": "'float' object cannot be interpreted as an integer",
     "output_type": "error",
     "traceback": [
      "\u001b[1;31m---------------------------------------------------------------------------\u001b[0m",
      "\u001b[1;31mTypeError\u001b[0m                                 Traceback (most recent call last)",
      "\u001b[1;32m~\\AppData\\Local\\Temp\\ipykernel_17776\\1262845132.py\u001b[0m in \u001b[0;36m<module>\u001b[1;34m\u001b[0m\n\u001b[1;32m----> 1\u001b[1;33m \u001b[0mlist\u001b[0m\u001b[1;33m(\u001b[0m\u001b[0mrange\u001b[0m\u001b[1;33m(\u001b[0m\u001b[1;36m0\u001b[0m\u001b[1;33m,\u001b[0m\u001b[1;36m10\u001b[0m\u001b[1;33m,\u001b[0m\u001b[1;36m2.5\u001b[0m\u001b[1;33m)\u001b[0m\u001b[1;33m)\u001b[0m\u001b[1;33m\u001b[0m\u001b[1;33m\u001b[0m\u001b[0m\n\u001b[0m",
      "\u001b[1;31mTypeError\u001b[0m: 'float' object cannot be interpreted as an integer"
     ]
    }
   ],
   "source": [
    "list(range(0,10,2.5))"
   ]
  },
  {
   "cell_type": "markdown",
   "id": "05486cb5",
   "metadata": {},
   "source": [
    "# generating data"
   ]
  },
  {
   "cell_type": "code",
   "execution_count": 141,
   "id": "3c23baaa",
   "metadata": {},
   "outputs": [
    {
     "data": {
      "text/plain": [
       "array([0, 1, 2, 3, 4, 5, 6, 7, 8, 9])"
      ]
     },
     "execution_count": 141,
     "metadata": {},
     "output_type": "execute_result"
    }
   ],
   "source": [
    "np.arange(10)"
   ]
  },
  {
   "cell_type": "code",
   "execution_count": 145,
   "id": "ff819377",
   "metadata": {},
   "outputs": [
    {
     "data": {
      "text/plain": [
       "array([1. , 1.5, 2. , 2.5, 3. , 3.5, 4. , 4.5, 5. , 5.5, 6. , 6.5, 7. ,\n",
       "       7.5, 8. , 8.5, 9. , 9.5])"
      ]
     },
     "execution_count": 145,
     "metadata": {},
     "output_type": "execute_result"
    }
   ],
   "source": [
    "np.arange(1,10,0.5) # accept floating point numbers"
   ]
  },
  {
   "cell_type": "code",
   "execution_count": 148,
   "id": "5ce0e666",
   "metadata": {},
   "outputs": [
    {
     "data": {
      "text/plain": [
       "array([2.        , 2.02040816, 2.04081633, 2.06122449, 2.08163265,\n",
       "       2.10204082, 2.12244898, 2.14285714, 2.16326531, 2.18367347,\n",
       "       2.20408163, 2.2244898 , 2.24489796, 2.26530612, 2.28571429,\n",
       "       2.30612245, 2.32653061, 2.34693878, 2.36734694, 2.3877551 ,\n",
       "       2.40816327, 2.42857143, 2.44897959, 2.46938776, 2.48979592,\n",
       "       2.51020408, 2.53061224, 2.55102041, 2.57142857, 2.59183673,\n",
       "       2.6122449 , 2.63265306, 2.65306122, 2.67346939, 2.69387755,\n",
       "       2.71428571, 2.73469388, 2.75510204, 2.7755102 , 2.79591837,\n",
       "       2.81632653, 2.83673469, 2.85714286, 2.87755102, 2.89795918,\n",
       "       2.91836735, 2.93877551, 2.95918367, 2.97959184, 3.        ])"
      ]
     },
     "execution_count": 148,
     "metadata": {},
     "output_type": "execute_result"
    }
   ],
   "source": [
    "np.linspace(2,3,num=50) # generate 2 and 3 generate 50 numbers (equal segments)"
   ]
  },
  {
   "cell_type": "code",
   "execution_count": 149,
   "id": "9dcceded",
   "metadata": {},
   "outputs": [
    {
     "data": {
      "text/plain": [
       "(array([2.        , 2.02040816, 2.04081633, 2.06122449, 2.08163265,\n",
       "        2.10204082, 2.12244898, 2.14285714, 2.16326531, 2.18367347,\n",
       "        2.20408163, 2.2244898 , 2.24489796, 2.26530612, 2.28571429,\n",
       "        2.30612245, 2.32653061, 2.34693878, 2.36734694, 2.3877551 ,\n",
       "        2.40816327, 2.42857143, 2.44897959, 2.46938776, 2.48979592,\n",
       "        2.51020408, 2.53061224, 2.55102041, 2.57142857, 2.59183673,\n",
       "        2.6122449 , 2.63265306, 2.65306122, 2.67346939, 2.69387755,\n",
       "        2.71428571, 2.73469388, 2.75510204, 2.7755102 , 2.79591837,\n",
       "        2.81632653, 2.83673469, 2.85714286, 2.87755102, 2.89795918,\n",
       "        2.91836735, 2.93877551, 2.95918367, 2.97959184, 3.        ]),\n",
       " 0.02040816326530612)"
      ]
     },
     "execution_count": 149,
     "metadata": {},
     "output_type": "execute_result"
    }
   ],
   "source": [
    "np.linspace(2,3,num=50,retstep=True)"
   ]
  },
  {
   "cell_type": "code",
   "execution_count": 151,
   "id": "4da8fd5e",
   "metadata": {},
   "outputs": [
    {
     "data": {
      "text/plain": [
       "array([ 100.        ,  177.827941  ,  316.22776602,  562.34132519,\n",
       "       1000.        ])"
      ]
     },
     "execution_count": 151,
     "metadata": {},
     "output_type": "execute_result"
    }
   ],
   "source": [
    "np.logspace(2,3,num=5,base=10)"
   ]
  },
  {
   "cell_type": "code",
   "execution_count": 153,
   "id": "dd4abf69",
   "metadata": {},
   "outputs": [
    {
     "data": {
      "text/plain": [
       "array([[1., 0., 0., 0., 0.],\n",
       "       [0., 1., 0., 0., 0.],\n",
       "       [0., 0., 1., 0., 0.],\n",
       "       [0., 0., 0., 1., 0.],\n",
       "       [0., 0., 0., 0., 1.]])"
      ]
     },
     "execution_count": 153,
     "metadata": {},
     "output_type": "execute_result"
    }
   ],
   "source": [
    "np.eye(5) # identity matrix"
   ]
  },
  {
   "cell_type": "code",
   "execution_count": null,
   "id": "6f478ead",
   "metadata": {},
   "outputs": [],
   "source": []
  }
 ],
 "metadata": {
  "kernelspec": {
   "display_name": "Python 3 (ipykernel)",
   "language": "python",
   "name": "python3"
  },
  "language_info": {
   "codemirror_mode": {
    "name": "ipython",
    "version": 3
   },
   "file_extension": ".py",
   "mimetype": "text/x-python",
   "name": "python",
   "nbconvert_exporter": "python",
   "pygments_lexer": "ipython3",
   "version": "3.9.12"
  }
 },
 "nbformat": 4,
 "nbformat_minor": 5
}
