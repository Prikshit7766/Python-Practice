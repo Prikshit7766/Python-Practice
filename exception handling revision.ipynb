{
 "cells": [
  {
   "cell_type": "markdown",
   "id": "510dee6c",
   "metadata": {},
   "source": [
    "# exception handling revision"
   ]
  },
  {
   "cell_type": "code",
   "execution_count": 1,
   "id": "67a89326",
   "metadata": {},
   "outputs": [
    {
     "ename": "ZeroDivisionError",
     "evalue": "division by zero",
     "output_type": "error",
     "traceback": [
      "\u001b[1;31m---------------------------------------------------------------------------\u001b[0m",
      "\u001b[1;31mZeroDivisionError\u001b[0m                         Traceback (most recent call last)",
      "\u001b[1;32m~\\AppData\\Local\\Temp\\ipykernel_14824\\358941512.py\u001b[0m in \u001b[0;36m<module>\u001b[1;34m\u001b[0m\n\u001b[0;32m      1\u001b[0m \u001b[0ma\u001b[0m\u001b[1;33m=\u001b[0m\u001b[1;36m10\u001b[0m\u001b[1;33m\u001b[0m\u001b[1;33m\u001b[0m\u001b[0m\n\u001b[1;32m----> 2\u001b[1;33m \u001b[0ma\u001b[0m\u001b[1;33m/\u001b[0m\u001b[1;36m0\u001b[0m\u001b[1;33m\u001b[0m\u001b[1;33m\u001b[0m\u001b[0m\n\u001b[0m",
      "\u001b[1;31mZeroDivisionError\u001b[0m: division by zero"
     ]
    }
   ],
   "source": [
    "a=10\n",
    "a/0"
   ]
  },
  {
   "cell_type": "code",
   "execution_count": 2,
   "id": "211c4652",
   "metadata": {},
   "outputs": [
    {
     "name": "stdout",
     "output_type": "stream",
     "text": [
      "division by zero\n"
     ]
    }
   ],
   "source": [
    "try:\n",
    "    a=10\n",
    "    b=a/0\n",
    "except Exception as e:\n",
    "    print(e)"
   ]
  },
  {
   "cell_type": "code",
   "execution_count": 4,
   "id": "04636dca",
   "metadata": {},
   "outputs": [
    {
     "ename": "FileNotFoundError",
     "evalue": "[Errno 2] No such file or directory: 'hay.txt'",
     "output_type": "error",
     "traceback": [
      "\u001b[1;31m---------------------------------------------------------------------------\u001b[0m",
      "\u001b[1;31mFileNotFoundError\u001b[0m                         Traceback (most recent call last)",
      "\u001b[1;32m~\\AppData\\Local\\Temp\\ipykernel_14824\\2288145137.py\u001b[0m in \u001b[0;36m<module>\u001b[1;34m\u001b[0m\n\u001b[1;32m----> 1\u001b[1;33m \u001b[0mf\u001b[0m\u001b[1;33m=\u001b[0m \u001b[0mopen\u001b[0m\u001b[1;33m(\u001b[0m\u001b[1;34m\"hay.txt\"\u001b[0m\u001b[1;33m,\u001b[0m\u001b[1;34m\"r\"\u001b[0m\u001b[1;33m)\u001b[0m\u001b[1;33m\u001b[0m\u001b[1;33m\u001b[0m\u001b[0m\n\u001b[0m",
      "\u001b[1;31mFileNotFoundError\u001b[0m: [Errno 2] No such file or directory: 'hay.txt'"
     ]
    }
   ],
   "source": [
    "f= open(\"hay.txt\",\"r\")\n",
    "print(\"this is my code to handel an exception\")"
   ]
  },
  {
   "cell_type": "code",
   "execution_count": 5,
   "id": "ab736b5d",
   "metadata": {},
   "outputs": [
    {
     "name": "stdout",
     "output_type": "stream",
     "text": [
      "[Errno 2] No such file or directory: 'hay.txt'\n"
     ]
    }
   ],
   "source": [
    "try:\n",
    "    \n",
    "    f= open(\"hay.txt\",\"r\")\n",
    "    \n",
    "except FileNotFoundError as e:\n",
    "    print(e)"
   ]
  },
  {
   "cell_type": "code",
   "execution_count": 6,
   "id": "b063dbc4",
   "metadata": {},
   "outputs": [
    {
     "ename": "SyntaxError",
     "evalue": "unexpected EOF while parsing (1569487148.py, line 4)",
     "output_type": "error",
     "traceback": [
      "\u001b[1;36m  File \u001b[1;32m\"C:\\Users\\HP\\AppData\\Local\\Temp\\ipykernel_14824\\1569487148.py\"\u001b[1;36m, line \u001b[1;32m4\u001b[0m\n\u001b[1;33m    \u001b[0m\n\u001b[1;37m    ^\u001b[0m\n\u001b[1;31mSyntaxError\u001b[0m\u001b[1;31m:\u001b[0m unexpected EOF while parsing\n"
     ]
    }
   ],
   "source": [
    "try:\n",
    "    a=10\n",
    "    a/10 # SyntaxError\n",
    "\n",
    "    "
   ]
  },
  {
   "cell_type": "code",
   "execution_count": 8,
   "id": "599a86e4",
   "metadata": {},
   "outputs": [
    {
     "name": "stdout",
     "output_type": "stream",
     "text": [
      "operation is sucessful\n"
     ]
    }
   ],
   "source": [
    "try:\n",
    "    a=10\n",
    "    a/10\n",
    "    print(\"operation is sucessful\")\n",
    "except Exception as e:\n",
    "    print(e)\n",
    "\n",
    "    "
   ]
  },
  {
   "cell_type": "code",
   "execution_count": 11,
   "id": "eb5a9a2a",
   "metadata": {},
   "outputs": [
    {
     "name": "stdout",
     "output_type": "stream",
     "text": [
      "division by zero\n",
      "this will be final  code after handling an exception\n"
     ]
    }
   ],
   "source": [
    "try:\n",
    "    a=10\n",
    "    print(a/0)\n",
    "    \n",
    "    print(\"operation is sucessful\")\n",
    "except Exception as e:\n",
    "    print(e)\n",
    "    print(\"this will be final  code after handling an exception\")\n"
   ]
  },
  {
   "cell_type": "code",
   "execution_count": 12,
   "id": "7f965f67",
   "metadata": {},
   "outputs": [
    {
     "ename": "FileNotFoundError",
     "evalue": "[Errno 2] No such file or directory: 'sudh.txt'",
     "output_type": "error",
     "traceback": [
      "\u001b[1;31m---------------------------------------------------------------------------\u001b[0m",
      "\u001b[1;31mFileNotFoundError\u001b[0m                         Traceback (most recent call last)",
      "\u001b[1;32m~\\AppData\\Local\\Temp\\ipykernel_14824\\3037155695.py\u001b[0m in \u001b[0;36m<module>\u001b[1;34m\u001b[0m\n\u001b[1;32m----> 1\u001b[1;33m \u001b[0mf\u001b[0m \u001b[1;33m=\u001b[0m \u001b[0mopen\u001b[0m\u001b[1;33m(\u001b[0m\u001b[1;34m\"sudh.txt\"\u001b[0m\u001b[1;33m,\u001b[0m\u001b[1;34m\"r\"\u001b[0m\u001b[1;33m)\u001b[0m\u001b[1;33m\u001b[0m\u001b[1;33m\u001b[0m\u001b[0m\n\u001b[0m\u001b[0;32m      2\u001b[0m \u001b[0mf\u001b[0m\u001b[1;33m.\u001b[0m\u001b[0mwrite\u001b[0m\u001b[1;33m(\u001b[0m\u001b[1;34m\"this is my suspicious code\"\u001b[0m\u001b[1;33m)\u001b[0m\u001b[1;33m\u001b[0m\u001b[1;33m\u001b[0m\u001b[0m\n",
      "\u001b[1;31mFileNotFoundError\u001b[0m: [Errno 2] No such file or directory: 'sudh.txt'"
     ]
    }
   ],
   "source": [
    "f = open(\"sudh.txt\",\"r\")\n",
    "f.write(\"this is my suspicious code\")"
   ]
  },
  {
   "cell_type": "code",
   "execution_count": 15,
   "id": "bdad879b",
   "metadata": {},
   "outputs": [
    {
     "name": "stdout",
     "output_type": "stream",
     "text": [
      "[Errno 2] No such file or directory: 'sudh.txt'\n",
      "this is is not my suspicious set of the code\n",
      "this block will be executed anytime\n"
     ]
    }
   ],
   "source": [
    "try:\n",
    "    f = open(\"sudh.txt\",\"r\")\n",
    "    f.write(\"this is my suspicious code\")\n",
    "except  Exception as e:\n",
    "    print(e)\n",
    "    print(\"this is is not my suspicious set of the code\")\n",
    "finally:\n",
    "    print(\"this block will be executed anytime\")"
   ]
  },
  {
   "cell_type": "code",
   "execution_count": 20,
   "id": "2ee60683",
   "metadata": {},
   "outputs": [],
   "source": [
    "def ask_for_int():\n",
    "    try:\n",
    "        val= int(input(\"plz enter an integer\"))\n",
    "    except Exception as e:\n",
    "        print(e)\n",
    "        try:\n",
    "            print(\"try one more time\")\n",
    "            val= int(input(\"plz enter an integer\"))\n",
    "        except Exception as f:\n",
    "                print(f)\n",
    "    finally:\n",
    "        print(\"finally will be executed\")\n",
    "                \n",
    "            \n",
    "        "
   ]
  },
  {
   "cell_type": "code",
   "execution_count": 21,
   "id": "fc36f1ea",
   "metadata": {},
   "outputs": [
    {
     "name": "stdout",
     "output_type": "stream",
     "text": [
      "plz enter an integerasas\n",
      "invalid literal for int() with base 10: 'asas'\n",
      "try one more time\n",
      "plz enter an integersasass\n",
      "invalid literal for int() with base 10: 'sasass'\n",
      "finally will be executed\n"
     ]
    }
   ],
   "source": [
    "ask_for_int()\n"
   ]
  },
  {
   "cell_type": "code",
   "execution_count": 22,
   "id": "eab12e16",
   "metadata": {},
   "outputs": [
    {
     "name": "stdout",
     "output_type": "stream",
     "text": [
      "plz enter an integeras\n",
      "invalid literal for int() with base 10: 'as'\n",
      "try one more time\n",
      "plz enter an integer1212\n",
      "finally will be executed\n"
     ]
    }
   ],
   "source": [
    "ask_for_int()\n"
   ]
  },
  {
   "cell_type": "code",
   "execution_count": 24,
   "id": "7284d91e",
   "metadata": {},
   "outputs": [
    {
     "name": "stdout",
     "output_type": "stream",
     "text": [
      "plz enter an integer--->  sss\n",
      "invalid literal for int() with base 10: 'sss'\n",
      "plz enter an integer--->  xsxx\n",
      "invalid literal for int() with base 10: 'xsxx'\n",
      "plz enter an integer--->  sxsx\n",
      "invalid literal for int() with base 10: 'sxsx'\n",
      "plz enter an integer--->  `121212\n",
      "invalid literal for int() with base 10: '`121212'\n",
      "plz enter an integer--->  2212\n"
     ]
    }
   ],
   "source": [
    "c=\"True\"\n",
    "while c==\"True\":\n",
    "    try :\n",
    "        val= int(input(\"plz enter an integer--->  \"))\n",
    "        c=\"False\"\n",
    "    except Exception as e:\n",
    "        print(e)\n",
    "        \n",
    "    "
   ]
  },
  {
   "cell_type": "code",
   "execution_count": null,
   "id": "b2571fa5",
   "metadata": {},
   "outputs": [],
   "source": []
  }
 ],
 "metadata": {
  "kernelspec": {
   "display_name": "Python 3 (ipykernel)",
   "language": "python",
   "name": "python3"
  },
  "language_info": {
   "codemirror_mode": {
    "name": "ipython",
    "version": 3
   },
   "file_extension": ".py",
   "mimetype": "text/x-python",
   "name": "python",
   "nbconvert_exporter": "python",
   "pygments_lexer": "ipython3",
   "version": "3.7.13"
  }
 },
 "nbformat": 4,
 "nbformat_minor": 5
}
