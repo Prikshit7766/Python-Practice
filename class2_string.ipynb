{
 "cells": [
  {
   "cell_type": "markdown",
   "id": "cadc3c2f",
   "metadata": {},
   "source": [
    "# string"
   ]
  },
  {
   "cell_type": "code",
   "execution_count": 1,
   "id": "f3e81ecf",
   "metadata": {},
   "outputs": [],
   "source": [
    "i=\"i neuon\""
   ]
  },
  {
   "cell_type": "code",
   "execution_count": 2,
   "id": "99962cd9",
   "metadata": {},
   "outputs": [
    {
     "data": {
      "text/plain": [
       "str"
      ]
     },
     "execution_count": 2,
     "metadata": {},
     "output_type": "execute_result"
    }
   ],
   "source": [
    "type(i)"
   ]
  },
  {
   "cell_type": "code",
   "execution_count": 3,
   "id": "8f8758a1",
   "metadata": {},
   "outputs": [
    {
     "data": {
      "text/plain": [
       "'i'"
      ]
     },
     "execution_count": 3,
     "metadata": {},
     "output_type": "execute_result"
    }
   ],
   "source": [
    "i[0]"
   ]
  },
  {
   "cell_type": "code",
   "execution_count": 4,
   "id": "f054adf3",
   "metadata": {},
   "outputs": [
    {
     "data": {
      "text/plain": [
       "' '"
      ]
     },
     "execution_count": 4,
     "metadata": {},
     "output_type": "execute_result"
    }
   ],
   "source": [
    "i[1]"
   ]
  },
  {
   "cell_type": "code",
   "execution_count": 5,
   "id": "2e727ae0",
   "metadata": {},
   "outputs": [
    {
     "name": "stdout",
     "output_type": "stream",
     "text": [
      "i  index 0\n",
      "   index 1\n",
      "n  index 2\n",
      "e  index 3\n",
      "u  index 4\n",
      "o  index 5\n",
      "n  index 6\n"
     ]
    }
   ],
   "source": [
    "index=0\n",
    "for z in range(len(i)):\n",
    "    print(i[z],\" index\",index)\n",
    "    index+=1\n",
    "    "
   ]
  },
  {
   "cell_type": "code",
   "execution_count": 6,
   "id": "7a7bb7db",
   "metadata": {},
   "outputs": [
    {
     "data": {
      "text/plain": [
       "'n'"
      ]
     },
     "execution_count": 6,
     "metadata": {},
     "output_type": "execute_result"
    }
   ],
   "source": [
    "i[-1]"
   ]
  },
  {
   "cell_type": "code",
   "execution_count": 7,
   "id": "32e7c810",
   "metadata": {},
   "outputs": [],
   "source": [
    "z=\"hay boy ,, 'are you good\""
   ]
  },
  {
   "cell_type": "code",
   "execution_count": 8,
   "id": "4dd758af",
   "metadata": {},
   "outputs": [
    {
     "data": {
      "text/plain": [
       "','"
      ]
     },
     "execution_count": 8,
     "metadata": {},
     "output_type": "execute_result"
    }
   ],
   "source": [
    "z[9]"
   ]
  },
  {
   "cell_type": "code",
   "execution_count": 9,
   "id": "a2276513",
   "metadata": {},
   "outputs": [
    {
     "data": {
      "text/plain": [
       "'a o '"
      ]
     },
     "execution_count": 9,
     "metadata": {},
     "output_type": "execute_result"
    }
   ],
   "source": [
    "z[1:8:2]"
   ]
  },
  {
   "cell_type": "code",
   "execution_count": 10,
   "id": "b0e73214",
   "metadata": {},
   "outputs": [
    {
     "data": {
      "text/plain": [
       "''"
      ]
     },
     "execution_count": 10,
     "metadata": {},
     "output_type": "execute_result"
    }
   ],
   "source": [
    "\n",
    "z[1:8:-1]"
   ]
  },
  {
   "cell_type": "code",
   "execution_count": 11,
   "id": "7dda4496",
   "metadata": {},
   "outputs": [
    {
     "data": {
      "text/plain": [
       "\"oy era' ,, yob ya\""
      ]
     },
     "execution_count": 11,
     "metadata": {},
     "output_type": "execute_result"
    }
   ],
   "source": [
    "z[17:0:-1]"
   ]
  },
  {
   "cell_type": "code",
   "execution_count": 12,
   "id": "618eca56",
   "metadata": {},
   "outputs": [
    {
     "data": {
      "text/plain": [
       "\"hay boy ,, 'are you g\""
      ]
     },
     "execution_count": 12,
     "metadata": {},
     "output_type": "execute_result"
    }
   ],
   "source": [
    "z[0:-3]"
   ]
  },
  {
   "cell_type": "code",
   "execution_count": 13,
   "id": "8bafa6ab",
   "metadata": {},
   "outputs": [
    {
     "data": {
      "text/plain": [
       "'od'"
      ]
     },
     "execution_count": 13,
     "metadata": {},
     "output_type": "execute_result"
    }
   ],
   "source": [
    "z[-2:]"
   ]
  },
  {
   "cell_type": "code",
   "execution_count": 14,
   "id": "1c11e1b9",
   "metadata": {},
   "outputs": [
    {
     "data": {
      "text/plain": [
       "\"hay boy ,, 'are you good\""
      ]
     },
     "execution_count": 14,
     "metadata": {},
     "output_type": "execute_result"
    }
   ],
   "source": [
    "z"
   ]
  },
  {
   "cell_type": "code",
   "execution_count": 15,
   "id": "246d4c60",
   "metadata": {},
   "outputs": [
    {
     "data": {
      "text/plain": [
       "''"
      ]
     },
     "execution_count": 15,
     "metadata": {},
     "output_type": "execute_result"
    }
   ],
   "source": [
    "z[-2:-7:1]"
   ]
  },
  {
   "cell_type": "code",
   "execution_count": 16,
   "id": "e1c85253",
   "metadata": {},
   "outputs": [
    {
     "data": {
      "text/plain": [
       "'ou go'"
      ]
     },
     "execution_count": 16,
     "metadata": {},
     "output_type": "execute_result"
    }
   ],
   "source": [
    "z[-7:-2:1]"
   ]
  },
  {
   "cell_type": "code",
   "execution_count": 17,
   "id": "a05bc062",
   "metadata": {},
   "outputs": [
    {
     "ename": "TypeError",
     "evalue": "must be str, not int",
     "output_type": "error",
     "traceback": [
      "\u001b[1;31m---------------------------------------------------------------------------\u001b[0m",
      "\u001b[1;31mTypeError\u001b[0m                                 Traceback (most recent call last)",
      "\u001b[1;32m<ipython-input-17-d0389b19ff05>\u001b[0m in \u001b[0;36m<module>\u001b[1;34m\u001b[0m\n\u001b[1;32m----> 1\u001b[1;33m \u001b[0mz\u001b[0m\u001b[1;33m+\u001b[0m\u001b[1;36m1\u001b[0m\u001b[1;33m\u001b[0m\u001b[1;33m\u001b[0m\u001b[0m\n\u001b[0m",
      "\u001b[1;31mTypeError\u001b[0m: must be str, not int"
     ]
    }
   ],
   "source": [
    "z+1"
   ]
  },
  {
   "cell_type": "code",
   "execution_count": 18,
   "id": "883335b5",
   "metadata": {},
   "outputs": [
    {
     "data": {
      "text/plain": [
       "\"hay boy ,, 'are you good1\""
      ]
     },
     "execution_count": 18,
     "metadata": {},
     "output_type": "execute_result"
    }
   ],
   "source": [
    "z+\"1\""
   ]
  },
  {
   "cell_type": "code",
   "execution_count": 19,
   "id": "efecdaf7",
   "metadata": {},
   "outputs": [
    {
     "data": {
      "text/plain": [
       "\"hay boy ,, 'are you good1\""
      ]
     },
     "execution_count": 19,
     "metadata": {},
     "output_type": "execute_result"
    }
   ],
   "source": [
    "z+str(1)"
   ]
  },
  {
   "cell_type": "code",
   "execution_count": 20,
   "id": "a1cd9ecb",
   "metadata": {},
   "outputs": [
    {
     "data": {
      "text/plain": [
       "\"hay boy ,, 'are you goodhay boy ,, 'are you good\""
      ]
     },
     "execution_count": 20,
     "metadata": {},
     "output_type": "execute_result"
    }
   ],
   "source": [
    "z*2"
   ]
  },
  {
   "cell_type": "code",
   "execution_count": 21,
   "id": "04b1d969",
   "metadata": {},
   "outputs": [
    {
     "data": {
      "text/plain": [
       "3"
      ]
     },
     "execution_count": 21,
     "metadata": {},
     "output_type": "execute_result"
    }
   ],
   "source": [
    "z.count('y')"
   ]
  },
  {
   "cell_type": "code",
   "execution_count": 22,
   "id": "882a6869",
   "metadata": {},
   "outputs": [
    {
     "data": {
      "text/plain": [
       "['ha', ' bo', \" ,, 'are \", 'ou good']"
      ]
     },
     "execution_count": 22,
     "metadata": {},
     "output_type": "execute_result"
    }
   ],
   "source": [
    "z.split(\"y\")"
   ]
  },
  {
   "cell_type": "code",
   "execution_count": 23,
   "id": "4100b7e8",
   "metadata": {},
   "outputs": [
    {
     "data": {
      "text/plain": [
       "['hay', 'boy', ',,', \"'are\", 'you', 'good']"
      ]
     },
     "execution_count": 23,
     "metadata": {},
     "output_type": "execute_result"
    }
   ],
   "source": [
    "z.split(\" \")"
   ]
  },
  {
   "cell_type": "markdown",
   "id": "165f596e",
   "metadata": {},
   "source": [
    "# string case"
   ]
  },
  {
   "cell_type": "code",
   "execution_count": 24,
   "id": "4d7b0448",
   "metadata": {},
   "outputs": [
    {
     "data": {
      "text/plain": [
       "\"HAY BOY ,, 'ARE YOU GOOD\""
      ]
     },
     "execution_count": 24,
     "metadata": {},
     "output_type": "execute_result"
    }
   ],
   "source": [
    "z.upper()"
   ]
  },
  {
   "cell_type": "code",
   "execution_count": 25,
   "id": "409351ba",
   "metadata": {},
   "outputs": [
    {
     "data": {
      "text/plain": [
       "\"hay boy ,, 'are you good\""
      ]
     },
     "execution_count": 25,
     "metadata": {},
     "output_type": "execute_result"
    }
   ],
   "source": [
    "z.lower()"
   ]
  },
  {
   "cell_type": "code",
   "execution_count": 26,
   "id": "09c91bb5",
   "metadata": {},
   "outputs": [
    {
     "data": {
      "text/plain": [
       "\"Hay Boy ,, 'Are You Good\""
      ]
     },
     "execution_count": 26,
     "metadata": {},
     "output_type": "execute_result"
    }
   ],
   "source": [
    "z.title()"
   ]
  },
  {
   "cell_type": "code",
   "execution_count": 28,
   "id": "2e7895c5",
   "metadata": {},
   "outputs": [
    {
     "data": {
      "text/plain": [
       "\"Hay boy ,, 'are you good\""
      ]
     },
     "execution_count": 28,
     "metadata": {},
     "output_type": "execute_result"
    }
   ],
   "source": [
    "z.capitalize()"
   ]
  },
  {
   "cell_type": "code",
   "execution_count": 29,
   "id": "7d38c852",
   "metadata": {},
   "outputs": [
    {
     "data": {
      "text/plain": [
       "\"HAY BOY ,, 'ARE YOU GOOD\""
      ]
     },
     "execution_count": 29,
     "metadata": {},
     "output_type": "execute_result"
    }
   ],
   "source": [
    "z.swapcase()"
   ]
  },
  {
   "cell_type": "code",
   "execution_count": 33,
   "id": "9258c2fb",
   "metadata": {},
   "outputs": [
    {
     "data": {
      "text/plain": [
       "\"doog uoy era' ,, yob yah\""
      ]
     },
     "execution_count": 33,
     "metadata": {},
     "output_type": "execute_result"
    }
   ],
   "source": [
    "\"\".join(reversed(z))"
   ]
  },
  {
   "cell_type": "code",
   "execution_count": 34,
   "id": "f616b6db",
   "metadata": {},
   "outputs": [
    {
     "data": {
      "text/plain": [
       "\"hay boy ,, 'are you good\""
      ]
     },
     "execution_count": 34,
     "metadata": {},
     "output_type": "execute_result"
    }
   ],
   "source": [
    "z.strip()"
   ]
  },
  {
   "cell_type": "code",
   "execution_count": 35,
   "id": "6a346d81",
   "metadata": {},
   "outputs": [],
   "source": [
    "z=\"       hay boy ,, 'are you good      \""
   ]
  },
  {
   "cell_type": "code",
   "execution_count": 36,
   "id": "38eb2a00",
   "metadata": {},
   "outputs": [
    {
     "data": {
      "text/plain": [
       "\"hay boy ,, 'are you good\""
      ]
     },
     "execution_count": 36,
     "metadata": {},
     "output_type": "execute_result"
    }
   ],
   "source": [
    "z.strip()"
   ]
  },
  {
   "cell_type": "code",
   "execution_count": 37,
   "id": "b87c2bbc",
   "metadata": {},
   "outputs": [
    {
     "data": {
      "text/plain": [
       "\"hay boy ,, 'are you good      \""
      ]
     },
     "execution_count": 37,
     "metadata": {},
     "output_type": "execute_result"
    }
   ],
   "source": [
    "z.lstrip()"
   ]
  },
  {
   "cell_type": "code",
   "execution_count": 38,
   "id": "431ef6f8",
   "metadata": {},
   "outputs": [
    {
     "data": {
      "text/plain": [
       "\"       hay boy ,, 'are you good\""
      ]
     },
     "execution_count": 38,
     "metadata": {},
     "output_type": "execute_result"
    }
   ],
   "source": [
    "z.rstrip()"
   ]
  },
  {
   "cell_type": "code",
   "execution_count": 40,
   "id": "6d18aa23",
   "metadata": {},
   "outputs": [],
   "source": [
    "z= \"hay boy ,, 'are you good\""
   ]
  },
  {
   "cell_type": "markdown",
   "id": "71f48097",
   "metadata": {},
   "source": [
    "# join operation"
   ]
  },
  {
   "cell_type": "code",
   "execution_count": 45,
   "id": "12ba7cb1",
   "metadata": {},
   "outputs": [
    {
     "data": {
      "text/plain": [
       "'a????y???? ????b'"
      ]
     },
     "execution_count": 45,
     "metadata": {},
     "output_type": "execute_result"
    }
   ],
   "source": [
    "\"????\".join(z[1:5])"
   ]
  },
  {
   "cell_type": "markdown",
   "id": "62a8d20d",
   "metadata": {},
   "source": [
    "# center operation"
   ]
  },
  {
   "cell_type": "code",
   "execution_count": 48,
   "id": "7cc89b8c",
   "metadata": {},
   "outputs": [
    {
     "data": {
      "text/plain": [
       "\"!!!!!!!!!!!!!hay boy ,, 'are you good!!!!!!!!!!!!!\""
      ]
     },
     "execution_count": 48,
     "metadata": {},
     "output_type": "execute_result"
    }
   ],
   "source": [
    "z.center(50,\"!\")"
   ]
  },
  {
   "cell_type": "markdown",
   "id": "bcba1100",
   "metadata": {},
   "source": [
    "# is"
   ]
  },
  {
   "cell_type": "code",
   "execution_count": 52,
   "id": "e6b7662b",
   "metadata": {},
   "outputs": [
    {
     "data": {
      "text/plain": [
       "\"hay boy ,, 'are you good\""
      ]
     },
     "execution_count": 52,
     "metadata": {},
     "output_type": "execute_result"
    }
   ],
   "source": [
    "z"
   ]
  },
  {
   "cell_type": "code",
   "execution_count": 49,
   "id": "f263d072",
   "metadata": {},
   "outputs": [
    {
     "data": {
      "text/plain": [
       "False"
      ]
     },
     "execution_count": 49,
     "metadata": {},
     "output_type": "execute_result"
    }
   ],
   "source": [
    "z.isupper()"
   ]
  },
  {
   "cell_type": "code",
   "execution_count": 50,
   "id": "e3c0e235",
   "metadata": {},
   "outputs": [
    {
     "data": {
      "text/plain": [
       "True"
      ]
     },
     "execution_count": 50,
     "metadata": {},
     "output_type": "execute_result"
    }
   ],
   "source": [
    "z.islower()"
   ]
  },
  {
   "cell_type": "code",
   "execution_count": 51,
   "id": "8ebac470",
   "metadata": {},
   "outputs": [
    {
     "data": {
      "text/plain": [
       "False"
      ]
     },
     "execution_count": 51,
     "metadata": {},
     "output_type": "execute_result"
    }
   ],
   "source": [
    "z.isspace()"
   ]
  },
  {
   "cell_type": "code",
   "execution_count": 53,
   "id": "9797cc4e",
   "metadata": {},
   "outputs": [],
   "source": [
    "a1=\"112324\"\n"
   ]
  },
  {
   "cell_type": "code",
   "execution_count": 54,
   "id": "f6ed8b59",
   "metadata": {},
   "outputs": [
    {
     "data": {
      "text/plain": [
       "True"
      ]
     },
     "execution_count": 54,
     "metadata": {},
     "output_type": "execute_result"
    }
   ],
   "source": [
    "a1.isdigit()"
   ]
  },
  {
   "cell_type": "code",
   "execution_count": 55,
   "id": "5da03bb7",
   "metadata": {},
   "outputs": [
    {
     "data": {
      "text/plain": [
       "False"
      ]
     },
     "execution_count": 55,
     "metadata": {},
     "output_type": "execute_result"
    }
   ],
   "source": [
    "z.isdigit()"
   ]
  },
  {
   "cell_type": "code",
   "execution_count": 56,
   "id": "fa8caf52",
   "metadata": {},
   "outputs": [
    {
     "data": {
      "text/plain": [
       "False"
      ]
     },
     "execution_count": 56,
     "metadata": {},
     "output_type": "execute_result"
    }
   ],
   "source": [
    "z.isalnum()"
   ]
  },
  {
   "cell_type": "code",
   "execution_count": 57,
   "id": "77788936",
   "metadata": {},
   "outputs": [
    {
     "data": {
      "text/plain": [
       "False"
      ]
     },
     "execution_count": 57,
     "metadata": {},
     "output_type": "execute_result"
    }
   ],
   "source": [
    "z.isalpha()"
   ]
  },
  {
   "cell_type": "code",
   "execution_count": 58,
   "id": "39d25824",
   "metadata": {},
   "outputs": [
    {
     "data": {
      "text/plain": [
       "False"
      ]
     },
     "execution_count": 58,
     "metadata": {},
     "output_type": "execute_result"
    }
   ],
   "source": [
    "a1.isalpha()"
   ]
  },
  {
   "cell_type": "code",
   "execution_count": 59,
   "id": "2ce64bfd",
   "metadata": {},
   "outputs": [
    {
     "data": {
      "text/plain": [
       "True"
      ]
     },
     "execution_count": 59,
     "metadata": {},
     "output_type": "execute_result"
    }
   ],
   "source": [
    "a1.isalnum()"
   ]
  },
  {
   "cell_type": "code",
   "execution_count": 60,
   "id": "60ff33f3",
   "metadata": {},
   "outputs": [
    {
     "data": {
      "text/plain": [
       "True"
      ]
     },
     "execution_count": 60,
     "metadata": {},
     "output_type": "execute_result"
    }
   ],
   "source": [
    "z.startswith(\"h\")"
   ]
  },
  {
   "cell_type": "code",
   "execution_count": 61,
   "id": "a870059c",
   "metadata": {},
   "outputs": [
    {
     "data": {
      "text/plain": [
       "True"
      ]
     },
     "execution_count": 61,
     "metadata": {},
     "output_type": "execute_result"
    }
   ],
   "source": [
    "z.startswith(\"hay\")"
   ]
  },
  {
   "cell_type": "code",
   "execution_count": 62,
   "id": "8e4b966a",
   "metadata": {},
   "outputs": [
    {
     "data": {
      "text/plain": [
       "False"
      ]
     },
     "execution_count": 62,
     "metadata": {},
     "output_type": "execute_result"
    }
   ],
   "source": [
    "z.endswith(\"h\")"
   ]
  },
  {
   "cell_type": "code",
   "execution_count": 66,
   "id": "4e6173b1",
   "metadata": {},
   "outputs": [],
   "source": [
    "s1=\"2323123\"\n",
    "s2=232331"
   ]
  },
  {
   "cell_type": "code",
   "execution_count": 67,
   "id": "37d89e79",
   "metadata": {},
   "outputs": [
    {
     "data": {
      "text/plain": [
       "True"
      ]
     },
     "execution_count": 67,
     "metadata": {},
     "output_type": "execute_result"
    }
   ],
   "source": [
    "s1.isdigit()"
   ]
  },
  {
   "cell_type": "code",
   "execution_count": 68,
   "id": "32a0d8b2",
   "metadata": {},
   "outputs": [
    {
     "ename": "AttributeError",
     "evalue": "'int' object has no attribute 'isdigit'",
     "output_type": "error",
     "traceback": [
      "\u001b[1;31m---------------------------------------------------------------------------\u001b[0m",
      "\u001b[1;31mAttributeError\u001b[0m                            Traceback (most recent call last)",
      "\u001b[1;32m<ipython-input-68-745afbf0f8cd>\u001b[0m in \u001b[0;36m<module>\u001b[1;34m\u001b[0m\n\u001b[1;32m----> 1\u001b[1;33m \u001b[0ms2\u001b[0m\u001b[1;33m.\u001b[0m\u001b[0misdigit\u001b[0m\u001b[1;33m(\u001b[0m\u001b[1;33m)\u001b[0m\u001b[1;33m\u001b[0m\u001b[1;33m\u001b[0m\u001b[0m\n\u001b[0m",
      "\u001b[1;31mAttributeError\u001b[0m: 'int' object has no attribute 'isdigit'"
     ]
    }
   ],
   "source": [
    "s2.isdigit()"
   ]
  },
  {
   "cell_type": "code",
   "execution_count": 69,
   "id": "8d09fd08",
   "metadata": {},
   "outputs": [
    {
     "data": {
      "text/plain": [
       "True"
      ]
     },
     "execution_count": 69,
     "metadata": {},
     "output_type": "execute_result"
    }
   ],
   "source": [
    "s1.isnumeric()"
   ]
  },
  {
   "cell_type": "code",
   "execution_count": 70,
   "id": "c53f9163",
   "metadata": {},
   "outputs": [
    {
     "ename": "AttributeError",
     "evalue": "'int' object has no attribute 'isnumeric'",
     "output_type": "error",
     "traceback": [
      "\u001b[1;31m---------------------------------------------------------------------------\u001b[0m",
      "\u001b[1;31mAttributeError\u001b[0m                            Traceback (most recent call last)",
      "\u001b[1;32m<ipython-input-70-aa5e5d66cb0f>\u001b[0m in \u001b[0;36m<module>\u001b[1;34m\u001b[0m\n\u001b[1;32m----> 1\u001b[1;33m \u001b[0ms2\u001b[0m\u001b[1;33m.\u001b[0m\u001b[0misnumeric\u001b[0m\u001b[1;33m(\u001b[0m\u001b[1;33m)\u001b[0m\u001b[1;33m\u001b[0m\u001b[1;33m\u001b[0m\u001b[0m\n\u001b[0m",
      "\u001b[1;31mAttributeError\u001b[0m: 'int' object has no attribute 'isnumeric'"
     ]
    }
   ],
   "source": [
    "s2.isnumeric()"
   ]
  },
  {
   "cell_type": "code",
   "execution_count": 76,
   "id": "3ff8f032",
   "metadata": {},
   "outputs": [],
   "source": [
    "s=\"hey\\nheloo\\tno\""
   ]
  },
  {
   "cell_type": "code",
   "execution_count": 77,
   "id": "76cf5323",
   "metadata": {},
   "outputs": [
    {
     "name": "stdout",
     "output_type": "stream",
     "text": [
      "hey\n",
      "heloo\tno\n"
     ]
    }
   ],
   "source": [
    "print(s)"
   ]
  },
  {
   "cell_type": "code",
   "execution_count": 75,
   "id": "f4ffe3fd",
   "metadata": {},
   "outputs": [
    {
     "data": {
      "text/plain": [
       "'hey     heloo   no'"
      ]
     },
     "execution_count": 75,
     "metadata": {},
     "output_type": "execute_result"
    }
   ],
   "source": [
    "s.expandtabs()"
   ]
  },
  {
   "cell_type": "code",
   "execution_count": 95,
   "id": "34d3b4dc",
   "metadata": {},
   "outputs": [],
   "source": [
    "s=\"this is my  first prthon programing class and i am learning python string and its function\" "
   ]
  },
  {
   "cell_type": "code",
   "execution_count": null,
   "id": "c64ff381",
   "metadata": {},
   "outputs": [],
   "source": [
    "\"\"\"s = \"this is My First Python programming class and/ i am learNING python string and its function\"\n",
    "1 . Try to extract data from index one to index 300 with a jump of 3 \n",
    "2. Try to reverse a string without using reverse function \n",
    "3. Try to split a string after conversion of entire string in uppercase \n",
    "4. try to convert the whole string into lower case \n",
    "5 . Try to capitalize the whole string \n",
    "6 . Write a diference between isalnum() and isalpha()\n",
    "7. Try to give an example of expand tab\n",
    "8 . Give an example of strip , lstrip and rstrip \n",
    "9.  Replace a string charecter by another charector by taking your own example \n",
    "\"sudhanshu\"\n",
    "10 . Try  to give a defination of string center function with and exmple \n",
    "11 . Write your own definition of compiler and interpretor without copy paste form internet in your own language\n",
    "12 . Python is a interpreted of compiled language give a clear ans with your understanding \n",
    "13 . Try to write a usecase of python with your understanding . \"\"\""
   ]
  },
  {
   "cell_type": "code",
   "execution_count": 82,
   "id": "05ca690c",
   "metadata": {},
   "outputs": [
    {
     "data": {
      "text/plain": [
       "'h   itropgmglsnimengyosi dtfco'"
      ]
     },
     "execution_count": 82,
     "metadata": {},
     "output_type": "execute_result"
    }
   ],
   "source": [
    "#1\n",
    "s[1:300:3]"
   ]
  },
  {
   "cell_type": "code",
   "execution_count": 84,
   "id": "6d2e3aad",
   "metadata": {},
   "outputs": [
    {
     "data": {
      "text/plain": [
       "'noitcnuf sti dna gnirts nohtyp gninrael ma i dna ssalc gnimargorp nohtrp tsrif  ym si siht'"
      ]
     },
     "execution_count": 84,
     "metadata": {},
     "output_type": "execute_result"
    }
   ],
   "source": [
    "#2\n",
    "s[::-1]"
   ]
  },
  {
   "cell_type": "code",
   "execution_count": 96,
   "id": "e48fffa1",
   "metadata": {},
   "outputs": [
    {
     "data": {
      "text/plain": [
       "['THIS',\n",
       " 'IS',\n",
       " 'MY',\n",
       " '',\n",
       " 'FIRST',\n",
       " 'PRTHON',\n",
       " 'PROGRAMING',\n",
       " 'CLASS',\n",
       " 'AND',\n",
       " 'I',\n",
       " 'AM',\n",
       " 'LEARNING',\n",
       " 'PYTHON',\n",
       " 'STRING',\n",
       " 'AND',\n",
       " 'ITS',\n",
       " 'FUNCTION']"
      ]
     },
     "execution_count": 96,
     "metadata": {},
     "output_type": "execute_result"
    }
   ],
   "source": [
    "#3\n",
    "s=s.upper()\n",
    "s=s.split(\" \")\n",
    "\n",
    "s"
   ]
  },
  {
   "cell_type": "code",
   "execution_count": 98,
   "id": "48a2e86a",
   "metadata": {},
   "outputs": [
    {
     "data": {
      "text/plain": [
       "'this is my  first prthon programing class and i am learning python string and its function'"
      ]
     },
     "execution_count": 98,
     "metadata": {},
     "output_type": "execute_result"
    }
   ],
   "source": [
    "#4\n",
    "s=\"this is my  first prthon programing class and i am learning python string and its function\" \n",
    "s.lower()"
   ]
  },
  {
   "cell_type": "code",
   "execution_count": 100,
   "id": "89e18dee",
   "metadata": {},
   "outputs": [
    {
     "data": {
      "text/plain": [
       "'This is my  first prthon programing class and i am learning python string and its function'"
      ]
     },
     "execution_count": 100,
     "metadata": {},
     "output_type": "execute_result"
    }
   ],
   "source": [
    "#5\n",
    "s.capitalize()\n"
   ]
  },
  {
   "cell_type": "markdown",
   "id": "47549492",
   "metadata": {},
   "source": [
    "#6\n",
    "\n",
    "isalnum()-\n",
    "Return True if all characters in string variable  are alphanumeric\n",
    "          and there is at least one character in S, False otherwise.\n",
    "          \n",
    "          \n",
    "isalpha()-\n",
    "Return True if all characters in in string variable S are alphabetic\n",
    "          and there is at least one character in S, False otherwise."
   ]
  },
  {
   "cell_type": "code",
   "execution_count": 106,
   "id": "80429a18",
   "metadata": {},
   "outputs": [
    {
     "name": "stdout",
     "output_type": "stream",
     "text": [
      "hi\twhy\tit\tme\tttttt\n"
     ]
    },
    {
     "data": {
      "text/plain": [
       "'hi      why     it      me      ttttt'"
      ]
     },
     "execution_count": 106,
     "metadata": {},
     "output_type": "execute_result"
    }
   ],
   "source": [
    "#7\n",
    "s=\"hi\\twhy\\tit\\tme\\tttttt\"\n",
    "print(s)\n",
    "s.expandtabs()"
   ]
  },
  {
   "cell_type": "code",
   "execution_count": 107,
   "id": "3ef5d51b",
   "metadata": {},
   "outputs": [
    {
     "data": {
      "text/plain": [
       "'cckmdcodoc'"
      ]
     },
     "execution_count": 107,
     "metadata": {},
     "output_type": "execute_result"
    }
   ],
   "source": [
    "#8\n",
    "\n",
    "e= \"   cckmdcodoc          \"\n",
    "e.strip()"
   ]
  },
  {
   "cell_type": "code",
   "execution_count": 104,
   "id": "1d48c2d0",
   "metadata": {},
   "outputs": [
    {
     "data": {
      "text/plain": [
       "'   cckmdcodoc'"
      ]
     },
     "execution_count": 104,
     "metadata": {},
     "output_type": "execute_result"
    }
   ],
   "source": [
    "e.rstrip()"
   ]
  },
  {
   "cell_type": "code",
   "execution_count": 105,
   "id": "7c0cd776",
   "metadata": {},
   "outputs": [
    {
     "data": {
      "text/plain": [
       "'cckmdcodoc          '"
      ]
     },
     "execution_count": 105,
     "metadata": {},
     "output_type": "execute_result"
    }
   ],
   "source": [
    "e.lstrip()"
   ]
  },
  {
   "cell_type": "code",
   "execution_count": 110,
   "id": "b676d467",
   "metadata": {},
   "outputs": [
    {
     "data": {
      "text/plain": [
       "'zi zow are you'"
      ]
     },
     "execution_count": 110,
     "metadata": {},
     "output_type": "execute_result"
    }
   ],
   "source": [
    "#9\n",
    "\n",
    "s=\"hi how are you\"\n",
    "result = s.replace(\"h\", \"z\")\n",
    "result"
   ]
  },
  {
   "cell_type": "code",
   "execution_count": 111,
   "id": "c5c4629e",
   "metadata": {},
   "outputs": [
    {
     "data": {
      "text/plain": [
       "'!!!!!!!!!!!!!!!!!!hi how are you!!!!!!!!!!!!!!!!!!'"
      ]
     },
     "execution_count": 111,
     "metadata": {},
     "output_type": "execute_result"
    }
   ],
   "source": [
    "#10\n",
    "s.center(50,\"!\")\n"
   ]
  },
  {
   "cell_type": "markdown",
   "id": "0f1ed3b6",
   "metadata": {},
   "source": [
    "#11\n",
    "\n",
    "\n",
    "comipler   -   compiler is the one which complie the code like python compiler ,c compiler\n",
    "\n",
    "interpretor --\n"
   ]
  },
  {
   "cell_type": "code",
   "execution_count": null,
   "id": "73cee2c8",
   "metadata": {},
   "outputs": [],
   "source": [
    "#12\n"
   ]
  },
  {
   "cell_type": "markdown",
   "id": "b865d3a0",
   "metadata": {},
   "source": [
    "#13\n",
    "\n",
    "\n",
    " python is a programming language , it can be used for game development , in ai , software development ,etc "
   ]
  },
  {
   "cell_type": "code",
   "execution_count": null,
   "id": "a9b0d7b0",
   "metadata": {},
   "outputs": [],
   "source": []
  }
 ],
 "metadata": {
  "kernelspec": {
   "display_name": "Python 3",
   "language": "python",
   "name": "python3"
  },
  "language_info": {
   "codemirror_mode": {
    "name": "ipython",
    "version": 3
   },
   "file_extension": ".py",
   "mimetype": "text/x-python",
   "name": "python",
   "nbconvert_exporter": "python",
   "pygments_lexer": "ipython3",
   "version": "3.6.13"
  }
 },
 "nbformat": 4,
 "nbformat_minor": 5
}
