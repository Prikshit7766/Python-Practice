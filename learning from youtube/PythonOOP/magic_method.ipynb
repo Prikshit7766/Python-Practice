{
 "cells": [
  {
   "cell_type": "markdown",
   "metadata": {},
   "source": [
    "#### Differences between `__str__` to `__repr__`"
   ]
  },
  {
   "cell_type": "markdown",
   "metadata": {},
   "source": [
    "#### `__str__`"
   ]
  },
  {
   "cell_type": "code",
   "execution_count": null,
   "metadata": {},
   "outputs": [],
   "source": [
    "# we can over write the behaviour of your object when you convert them to string"
   ]
  },
  {
   "cell_type": "code",
   "execution_count": 8,
   "metadata": {},
   "outputs": [
    {
     "name": "stdout",
     "output_type": "stream",
     "text": [
      "<__main__.CustomizedInteger object at 0x00000167EBCEC390>\n"
     ]
    }
   ],
   "source": [
    "class CustomizedInteger:\n",
    "    def __init__(self,integer):\n",
    "        self.integer  = integer\n",
    "\n",
    "\n",
    "\n",
    "int1 = CustomizedInteger(4)\n",
    "print(int1)"
   ]
  },
  {
   "cell_type": "code",
   "execution_count": 18,
   "metadata": {},
   "outputs": [
    {
     "name": "stdout",
     "output_type": "stream",
     "text": [
      "CustomizedInteger 4\n"
     ]
    }
   ],
   "source": [
    "class CustomizedInteger:\n",
    "    def __init__(self,integer):\n",
    "        self.integer  = integer\n",
    "\n",
    "    def __str__(self):\n",
    "        return f'CustomizedInteger {self.integer}'\n",
    "\n",
    "int1 = CustomizedInteger(4)\n",
    "print(int1)"
   ]
  },
  {
   "cell_type": "markdown",
   "metadata": {},
   "source": [
    "#### `__repr__`"
   ]
  },
  {
   "cell_type": "code",
   "execution_count": 17,
   "metadata": {},
   "outputs": [
    {
     "name": "stdout",
     "output_type": "stream",
     "text": [
      "CustomizedInteger 4\n"
     ]
    }
   ],
   "source": [
    "class CustomizedInteger:\n",
    "    def __init__(self,integer):\n",
    "        self.integer  = integer\n",
    "\n",
    "    def __repr__(self):\n",
    "        return f'CustomizedInteger {self.integer}'\n",
    "\n",
    "int1 = CustomizedInteger(4)\n",
    "print(int1)  \n",
    "# first it tries to search for __str__ method then if there is no __str__ method then it see the __repr__ method in the class "
   ]
  },
  {
   "cell_type": "code",
   "execution_count": 19,
   "metadata": {},
   "outputs": [
    {
     "name": "stdout",
     "output_type": "stream",
     "text": [
      "CustomizedInteger(4)\n"
     ]
    }
   ],
   "source": [
    "class CustomizedInteger:\n",
    "    def __init__(self,integer):\n",
    "        self.integer  = integer\n",
    "\n",
    "    def __repr__(self):\n",
    "        return f'CustomizedInteger({self.integer})'\n",
    "\n",
    "int1 = CustomizedInteger(4)\n",
    "print(int1) "
   ]
  },
  {
   "cell_type": "markdown",
   "metadata": {},
   "source": [
    "#### Differences between `__str__` to `__repr__`"
   ]
  },
  {
   "cell_type": "code",
   "execution_count": 30,
   "metadata": {},
   "outputs": [
    {
     "name": "stdout",
     "output_type": "stream",
     "text": [
      "four\n"
     ]
    }
   ],
   "source": [
    "class CustomizedInteger:\n",
    "    def __init__(self,integer):\n",
    "        self.integer  = integer\n",
    "\n",
    "    def __str__(self):\n",
    "        if self.integer==4:\n",
    "            return 'four'\n",
    "\n",
    "    def __repr__(self):\n",
    "        return f'CustomizedInteger({self.integer})'\n",
    "\n",
    "int1 = CustomizedInteger(4)\n",
    "print(int1) \n"
   ]
  },
  {
   "cell_type": "code",
   "execution_count": 31,
   "metadata": {},
   "outputs": [
    {
     "data": {
      "text/plain": [
       "CustomizedInteger(4)"
      ]
     },
     "execution_count": 31,
     "metadata": {},
     "output_type": "execute_result"
    }
   ],
   "source": [
    "int1"
   ]
  },
  {
   "cell_type": "code",
   "execution_count": null,
   "metadata": {},
   "outputs": [],
   "source": []
  }
 ],
 "metadata": {
  "kernelspec": {
   "display_name": "lll",
   "language": "python",
   "name": "python3"
  },
  "language_info": {
   "codemirror_mode": {
    "name": "ipython",
    "version": 3
   },
   "file_extension": ".py",
   "mimetype": "text/x-python",
   "name": "python",
   "nbconvert_exporter": "python",
   "pygments_lexer": "ipython3",
   "version": "3.11.4"
  }
 },
 "nbformat": 4,
 "nbformat_minor": 2
}
