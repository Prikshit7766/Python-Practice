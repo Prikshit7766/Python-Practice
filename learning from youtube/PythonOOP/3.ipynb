{
 "cells": [
  {
   "cell_type": "markdown",
   "metadata": {},
   "source": [
    "# Class Methods and Static Methods in Python\n",
    "In Python, class methods and static methods are two types of methods that can be defined within a class. They serve different purposes and have different use cases."
   ]
  },
  {
   "cell_type": "markdown",
   "metadata": {},
   "source": [
    "## Class Methods\n",
    "A class method is a method that is bound to the class and not the instance of the class. It can modify class state that applies across all instances of the class.\n",
    "\n",
    "### Definition\n",
    "Class methods are defined using the `@classmethod` decorator. The first parameter is always `cls`, which refers to the class itself.\n",
    "\n",
    "### Use Cases\n",
    "- Factory methods that instantiate objects in different ways.\n",
    "- Methods that need to access or modify class-level data.\n",
    "- Overloading methods to create instances from different data sources (e.g., CSV, JSON)."
   ]
  },
  {
   "cell_type": "code",
   "execution_count": 21,
   "metadata": {},
   "outputs": [],
   "source": [
    "class Item:\n",
    "    pay_rate = 0.8  \n",
    "    all = []\n",
    "\n",
    "    def __init__(self, name: str, price: float, quantity: int): \n",
    "        assert price >= 0, f\"Price `{price}` is not greater than zero!\"\n",
    "        assert quantity >= 0, f\"Quantity `{quantity}` is not greater than zero!\"\n",
    "        self.name = name\n",
    "        self.price = price\n",
    "        self.quantity = quantity\n",
    "        Item.all.append(self)  \n",
    "\n",
    "    @classmethod\n",
    "    def instantiate_from_csv(cls):\n",
    "        import csv\n",
    "        with open('items.csv', 'r') as f:\n",
    "            reader = csv.DictReader(f)\n",
    "            items = list(reader)\n",
    "        for item in items:\n",
    "            cls(\n",
    "                name=item.get('name'),\n",
    "                price=float(item.get('price')),\n",
    "                quantity=int(item.get('quantity')),\n",
    "            )"
   ]
  },
  {
   "cell_type": "code",
   "execution_count": 22,
   "metadata": {},
   "outputs": [
    {
     "name": "stdout",
     "output_type": "stream",
     "text": [
      "[<__main__.Item object at 0x000002A43B719660>]\n"
     ]
    }
   ],
   "source": [
    "item1 = Item(\"Sample Item\", 10.0, 5)\n",
    "print(Item.all)  # Accessing all items\n",
    "\n",
    "# Using class method to instantiate from CSV\n",
    "Item.instantiate_from_csv()"
   ]
  },
  {
   "cell_type": "code",
   "execution_count": 25,
   "metadata": {},
   "outputs": [
    {
     "name": "stdout",
     "output_type": "stream",
     "text": [
      "[Item('Phone', 100.0, 1), Item('Laptop', 1000.0, 3), Item('Cable', 10.0, 5), Item('Mouse', 50.0, 5), Item('Keyboard', 75.0, 5)]\n"
     ]
    }
   ],
   "source": [
    "import csv\n",
    "\n",
    "class Item:\n",
    "    pay_rate = 0.8\n",
    "    all = []\n",
    "\n",
    "    def __init__(self, name: str, price: float, quantity: int):\n",
    "        assert price >= 0, f\"Price {price} is not greater than or equal to zero!\"\n",
    "        assert quantity >= 0, f\"Quantity {quantity} is not greater than or equal to zero!\"\n",
    "        self.name = name\n",
    "        self.price = price\n",
    "        self.quantity = quantity\n",
    "        Item.all.append(self)\n",
    "\n",
    "    def calculate_total_price(self):\n",
    "        return self.price * self.quantity\n",
    "\n",
    "    def apply_discount(self):\n",
    "        self.price = self.price * self.pay_rate\n",
    "        return self.price\n",
    "\n",
    "    @classmethod\n",
    "    def instantiate_from_csv(cls):\n",
    "        with open('items.csv', 'r') as f:\n",
    "            reader = csv.DictReader(f)\n",
    "            items = list(reader)\n",
    "\n",
    "        for item in items:\n",
    "            cls(\n",
    "                name=item.get('name'),\n",
    "                price=float(item.get('price')),\n",
    "                quantity=int(item.get('quantity')),\n",
    "            )\n",
    "\n",
    "    def __repr__(self):\n",
    "        return f\"Item({self.name!r}, {self.price!r}, {self.quantity!r})\"\n",
    "\n",
    "# Usage\n",
    "Item.instantiate_from_csv()\n",
    "print(Item.all)\n"
   ]
  },
  {
   "cell_type": "markdown",
   "metadata": {},
   "source": [
    "## Static Methods\n",
    "A static method is a method that does not modify class or instance state. It is defined using the `@staticmethod` decorator and does not take `self` or `cls` as the first parameter.\n",
    "\n",
    "### Definition\n",
    "Static methods behave like plain functions but belong to the class's namespace.\n",
    "\n",
    "### Use Cases\n",
    "- Utility functions that perform a task in isolation.\n",
    "- Functions that are related to the class but do not need access to class or instance data."
   ]
  },
  {
   "cell_type": "code",
   "execution_count": 26,
   "metadata": {},
   "outputs": [
    {
     "name": "stdout",
     "output_type": "stream",
     "text": [
      "True\n",
      "False\n"
     ]
    }
   ],
   "source": [
    "class Item:\n",
    "    @staticmethod\n",
    "    def is_integer(num):\n",
    "        if isinstance(num, float):\n",
    "            return num.is_integer()\n",
    "        elif isinstance(num, int):\n",
    "            return True\n",
    "        else:\n",
    "            return False\n",
    "\n",
    "# Usage\n",
    "print(Item.is_integer(2.0))  # True\n",
    "print(Item.is_integer(2.5))  # False\n"
   ]
  },
  {
   "cell_type": "markdown",
   "metadata": {},
   "source": [
    "## When to Use Class Methods vs. Static Methods\n",
    "- Class Methods: Use class methods when you need to access or modify the class state, or when you want to create factory methods for instantiating the class.\n",
    "- Static Methods: Use static methods for utility functions that perform a task related to the class but do not require access to class or instance-specific data"
   ]
  },
  {
   "cell_type": "markdown",
   "metadata": {},
   "source": [
    "## Constructor Overloading with Class Methods"
   ]
  },
  {
   "cell_type": "markdown",
   "metadata": {},
   "source": [
    "Class methods can be used to provide multiple ways of creating instances of a class, effectively overloading the constructor."
   ]
  },
  {
   "cell_type": "code",
   "execution_count": 27,
   "metadata": {},
   "outputs": [
    {
     "name": "stdout",
     "output_type": "stream",
     "text": [
      "Laptop 999.99 10\n"
     ]
    }
   ],
   "source": [
    "class Item:\n",
    "    def __init__(self, name, price, quantity):\n",
    "        self.name = name\n",
    "        self.price = price\n",
    "        self.quantity = quantity\n",
    "\n",
    "    @classmethod\n",
    "    def from_string(cls, item_str):\n",
    "        name, price, quantity = item_str.split(',')\n",
    "        return cls(name, float(price), int(quantity))\n",
    "\n",
    "# Usage\n",
    "item = Item.from_string(\"Laptop,999.99,10\")\n",
    "print(item.name, item.price, item.quantity)\n"
   ]
  },
  {
   "cell_type": "code",
   "execution_count": 28,
   "metadata": {},
   "outputs": [
    {
     "data": {
      "text/plain": [
       "<__main__.Item at 0x2a43b7b95a0>"
      ]
     },
     "execution_count": 28,
     "metadata": {},
     "output_type": "execute_result"
    }
   ],
   "source": [
    "item"
   ]
  },
  {
   "cell_type": "code",
   "execution_count": null,
   "metadata": {},
   "outputs": [],
   "source": []
  }
 ],
 "metadata": {
  "kernelspec": {
   "display_name": "lll",
   "language": "python",
   "name": "python3"
  },
  "language_info": {
   "codemirror_mode": {
    "name": "ipython",
    "version": 3
   },
   "file_extension": ".py",
   "mimetype": "text/x-python",
   "name": "python",
   "nbconvert_exporter": "python",
   "pygments_lexer": "ipython3",
   "version": "3.11.4"
  }
 },
 "nbformat": 4,
 "nbformat_minor": 2
}
