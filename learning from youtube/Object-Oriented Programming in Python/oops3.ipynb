{
 "cells": [
  {
   "attachments": {},
   "cell_type": "markdown",
   "metadata": {},
   "source": [
    "### Python's Init Function"
   ]
  },
  {
   "cell_type": "code",
   "execution_count": 4,
   "metadata": {},
   "outputs": [
    {
     "name": "stdout",
     "output_type": "stream",
     "text": [
      "<__main__.Person object at 0x000001E471AE9708>\n"
     ]
    }
   ],
   "source": [
    "class Person:\n",
    "    pass\n",
    "\n",
    "if __name__ == \"__main__\":\n",
    "    person= Person()\n",
    "    print(person)\n",
    "\n",
    "# here we have not mentioned __new__ method and __init__ method but still the object is created \n",
    "# because of the default __new__ method and __init__ method in the object class\n",
    "    "
   ]
  },
  {
   "cell_type": "code",
   "execution_count": 8,
   "metadata": {},
   "outputs": [
    {
     "name": "stdout",
     "output_type": "stream",
     "text": [
      "Person name:sai kumar\n"
     ]
    }
   ],
   "source": [
    "class Person:\n",
    "    def __init__(self,id_number,first_name,last_name,dob) -> None:\n",
    "        self.id_number=id_number\n",
    "        self.f_name=first_name  # it is not mandatory to use the same name as the variable name\n",
    "        self.last_name=last_name\n",
    "        self.don=dob\n",
    "   \n",
    "\n",
    "if __name__ == \"__main__\":\n",
    "    person= Person(1,\"sai\",\"kumar\",\"12-12-1999\")\n",
    "    print(f\"Person name:{person.f_name} {person.last_name}\")\n",
    "\n"
   ]
  },
  {
   "cell_type": "code",
   "execution_count": 9,
   "metadata": {},
   "outputs": [
    {
     "name": "stdout",
     "output_type": "stream",
     "text": [
      "object is created\n",
      "Person name:sai kumar\n"
     ]
    }
   ],
   "source": [
    "# if want to defin the __new__ method  from the object class \n",
    "\n",
    "class Person:\n",
    "\n",
    "    def __new__(cls,*args,**kwargs):  # in this way we can have more control over the object creation\n",
    "        print(\"object is created\")\n",
    "        return super().__new__(cls) \n",
    "    def __init__(self,id_number,first_name,last_name,dob) -> None:\n",
    "        self.id_number=id_number\n",
    "        self.f_name=first_name  # it is not mandatory to use the same name as the variable name\n",
    "        self.last_name=last_name\n",
    "        self.don=dob\n",
    "   \n",
    "\n",
    "if __name__ == \"__main__\":\n",
    "    person= Person(1,\"sai\",\"kumar\",\"12-12-1999\")\n",
    "    print(f\"Person name:{person.f_name} {person.last_name}\")"
   ]
  },
  {
   "cell_type": "code",
   "execution_count": null,
   "metadata": {},
   "outputs": [],
   "source": []
  }
 ],
 "metadata": {
  "kernelspec": {
   "display_name": "all",
   "language": "python",
   "name": "python3"
  },
  "language_info": {
   "codemirror_mode": {
    "name": "ipython",
    "version": 3
   },
   "file_extension": ".py",
   "mimetype": "text/x-python",
   "name": "python",
   "nbconvert_exporter": "python",
   "pygments_lexer": "ipython3",
   "version": "3.7.15"
  },
  "orig_nbformat": 4
 },
 "nbformat": 4,
 "nbformat_minor": 2
}
