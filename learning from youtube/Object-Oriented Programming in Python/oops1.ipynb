{
 "cells": [
  {
   "cell_type": "code",
   "execution_count": 2,
   "id": "8a6789a3",
   "metadata": {},
   "outputs": [],
   "source": [
    "name =\"Prikshit\" # storing string  "
   ]
  },
  {
   "cell_type": "code",
   "execution_count": 3,
   "id": "15c25c0f",
   "metadata": {},
   "outputs": [
    {
     "data": {
      "text/plain": [
       "str"
      ]
     },
     "execution_count": 3,
     "metadata": {},
     "output_type": "execute_result"
    }
   ],
   "source": [
    "type(name) # builtin data Type"
   ]
  },
  {
   "cell_type": "code",
   "execution_count": 4,
   "id": "90018615",
   "metadata": {},
   "outputs": [],
   "source": [
    "class Demo: # derived data Type  made from bultin data Type\n",
    "    pass"
   ]
  },
  {
   "cell_type": "code",
   "execution_count": 5,
   "id": "6b4861f9",
   "metadata": {},
   "outputs": [],
   "source": [
    " # creating blueprint of the custom data type\n",
    "class Student:\n",
    "    def __init__(self,name,roll_no,student_div):\n",
    "        self.name=name\n",
    "        self.roll_no=roll_no\n",
    "        self.student_div=student_div\n",
    "\n",
    "\n",
    "# class basically defines the structure of the data type"
   ]
  },
  {
   "cell_type": "code",
   "execution_count": 6,
   "id": "04fb4d1c",
   "metadata": {},
   "outputs": [],
   "source": [
    "student =Student(name=\"Prikshit\",roll_no=1,student_div=\"A\")"
   ]
  },
  {
   "cell_type": "code",
   "execution_count": 8,
   "id": "d67c2cfd",
   "metadata": {},
   "outputs": [
    {
     "data": {
      "text/plain": [
       "'Prikshit'"
      ]
     },
     "execution_count": 8,
     "metadata": {},
     "output_type": "execute_result"
    }
   ],
   "source": [
    "student.name"
   ]
  },
  {
   "cell_type": "code",
   "execution_count": 9,
   "id": "9bd39220",
   "metadata": {},
   "outputs": [
    {
     "data": {
      "text/plain": [
       "str"
      ]
     },
     "execution_count": 9,
     "metadata": {},
     "output_type": "execute_result"
    }
   ],
   "source": [
    "type(student.name)"
   ]
  },
  {
   "cell_type": "code",
   "execution_count": 10,
   "id": "c653055a",
   "metadata": {},
   "outputs": [],
   "source": [
    "class Student:\n",
    "    def __init__(self,name,roll_no,student_div):\n",
    "        self.name=name\n",
    "        self.roll_no=roll_no\n",
    "        self.student_div=student_div\n",
    "    \n",
    "    def get_student_info(self):\n",
    "        return {\n",
    "                \"name\":self.name,\n",
    "                \"roll_no\":self.roll_no,\n",
    "                \"student_div\":self.student_div\n",
    "                }\n"
   ]
  },
  {
   "cell_type": "code",
   "execution_count": 11,
   "id": "ac6c9ba2",
   "metadata": {},
   "outputs": [],
   "source": [
    "student =Student(name=\"Prikshit\",roll_no=1,student_div=\"A\")"
   ]
  },
  {
   "cell_type": "code",
   "execution_count": 13,
   "id": "881c0fa2",
   "metadata": {},
   "outputs": [
    {
     "data": {
      "text/plain": [
       "{'name': 'Prikshit', 'roll_no': 1, 'student_div': 'A'}"
      ]
     },
     "execution_count": 13,
     "metadata": {},
     "output_type": "execute_result"
    }
   ],
   "source": [
    "student.get_student_info()"
   ]
  },
  {
   "cell_type": "code",
   "execution_count": null,
   "id": "6a8b7fe1",
   "metadata": {},
   "outputs": [],
   "source": []
  }
 ],
 "metadata": {
  "kernelspec": {
   "display_name": "Python 3 (ipykernel)",
   "language": "python",
   "name": "python3"
  },
  "language_info": {
   "codemirror_mode": {
    "name": "ipython",
    "version": 3
   },
   "file_extension": ".py",
   "mimetype": "text/x-python",
   "name": "python",
   "nbconvert_exporter": "python",
   "pygments_lexer": "ipython3",
   "version": "3.7.15"
  }
 },
 "nbformat": 4,
 "nbformat_minor": 5
}
