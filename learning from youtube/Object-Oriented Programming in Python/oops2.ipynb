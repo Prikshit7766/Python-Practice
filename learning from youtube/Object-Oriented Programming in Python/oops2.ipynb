{
 "cells": [
  {
   "attachments": {},
   "cell_type": "markdown",
   "metadata": {},
   "source": [
    "### Python Constructors: Creating Objects with new Method"
   ]
  },
  {
   "cell_type": "code",
   "execution_count": 6,
   "metadata": {},
   "outputs": [],
   "source": [
    "class ConstructorDemo(object):\n",
    "    pass\n",
    "\n",
    "# ConstructorDemo class is inherited from object class \n",
    "# If you see the definition of object class, it has a constructor defined in it \n",
    "# So, ConstructorDemo class also has a constructor defined in it\n",
    "\n",
    "# all methods  that start with __ are called dunder methods.\n",
    "# id mention this object class or not , it will be there in the background\n",
    "\n",
    "if __name__ == '__main__':\n",
    "    cd = ConstructorDemo()"
   ]
  },
  {
   "attachments": {},
   "cell_type": "markdown",
   "metadata": {},
   "source": [
    "1. `__new__`:\n",
    "\n",
    "- __new__ is a static method that is responsible for creating a new instance of a class before it gets initialized.\n",
    "- It is called first when an object is being created and is responsible for returning a new instance of the class.\n",
    "- The primary purpose of `__new__` is to handle the creation of the object itself, and it is usually used in cases where you need more control over the object creation process or want to create a subclass of an immutable type.\n",
    "2. `__init__`:\n",
    "\n",
    "- __init__ is an instance method that is responsible for initializing the created instance after it has been created by `__new__`.\n",
    "- It is called after `__new__` and takes the newly created object (self) as the first argument along with any additional arguments passed during instantiation.\n",
    "T- he primary purpose of `__init__` is to set up the initial state of the object, such as initializing instance variables, performing additional setup logic, or configuring the object's properties."
   ]
  },
  {
   "cell_type": "code",
   "execution_count": 8,
   "metadata": {},
   "outputs": [
    {
     "name": "stdout",
     "output_type": "stream",
     "text": [
      "Creating object of the class\n"
     ]
    }
   ],
   "source": [
    "# constructor in python is __new__ method ans it is responsible for creating the object of the class\n",
    "\n",
    "class ConstructorDemo(object):\n",
    "    def __new__(cls): # this function is responsible for creating the object of the ConstructorDemo class \n",
    "        # new is the static method of the class \n",
    "        print(\"Creating object of the class\")\n",
    "\n",
    "\n",
    "\n",
    "if __name__ == '__main__':\n",
    "    cd = ConstructorDemo()"
   ]
  },
  {
   "cell_type": "code",
   "execution_count": 9,
   "metadata": {},
   "outputs": [
    {
     "name": "stdout",
     "output_type": "stream",
     "text": [
      "Creating object of the class\n"
     ]
    }
   ],
   "source": [
    "# constructor in python is __new__ method ans it is responsible for creating the object of the class\n",
    "\n",
    "class ConstructorDemo(object):\n",
    "    def __new__(cls): # this function is responsible for creating the object of the ConstructorDemo class \n",
    "        print(\"Creating object of the class\")\n",
    "\n",
    "    def __init__(self): # this is not a constructor, it is an initializer\n",
    "        # so what happen when ever our object is created from __new__ method, \n",
    "        # it return that object to self keyword of __init__ method\n",
    "        # and then self will be used to initialize the object\n",
    "\n",
    "if __name__ == '__main__':\n",
    "    cd = ConstructorDemo()"
   ]
  },
  {
   "cell_type": "code",
   "execution_count": 10,
   "metadata": {},
   "outputs": [
    {
     "name": "stdout",
     "output_type": "stream",
     "text": [
      "Creating object of the class\n",
      "Initializing the object\n"
     ]
    }
   ],
   "source": [
    "# constructor in python is __new__ method ans it is responsible for creating the object of the class\n",
    "\n",
    "class ConstructorDemo(object):\n",
    "    def __new__(cls): \n",
    "        print(\"Creating object of the class\")\n",
    "        return object.__new__(cls) # new is static method of the class, so we need to call it using class name\n",
    "\n",
    "    def __init__(self) -> None:   # this will be triggered when the object is created \n",
    "        print(\"Initializing the object\") \n",
    "\n",
    "\n",
    "if __name__ == '__main__':\n",
    "    cd = ConstructorDemo()"
   ]
  },
  {
   "cell_type": "code",
   "execution_count": 12,
   "metadata": {},
   "outputs": [
    {
     "name": "stdout",
     "output_type": "stream",
     "text": [
      "Creating object of the class\n",
      "Initializing the object\n"
     ]
    }
   ],
   "source": [
    "# super keyword is used to call the constructor of the parent class \n",
    "\n",
    "# constructor in python is __new__ method ans it is responsible for creating the object of the class\n",
    "\n",
    "class ConstructorDemo(object):\n",
    "    def __new__(cls): \n",
    "        print(\"Creating object of the class\")\n",
    "        return super().__new__(cls)  # instead of object we can use super keyword to call the constructor of the parent class\n",
    "        # becasue object is the parent class of all the classes in python\n",
    "    def __init__(self) -> None:   # this will be triggered when the object is created \n",
    "        print(\"Initializing the object\") \n",
    "\n",
    "\n",
    "if __name__ == '__main__':\n",
    "    cd = ConstructorDemo()"
   ]
  },
  {
   "cell_type": "code",
   "execution_count": null,
   "metadata": {},
   "outputs": [],
   "source": [
    "class ConstructorDemo(object):\n",
    "    def __new__(cls): \n",
    "        print(\"Creating object of the class\")\n",
    "        return super(ConstructorDemo, cls).__new__(cls)  # instead of object we can use super keyword to call the constructor of the parent class\n",
    "        \n",
    "    def __init__(self) -> None:   # this will be triggered when the object is created \n",
    "        print(\"Initializing the object\") \n",
    "\n",
    "\n",
    "if __name__ == '__main__':\n",
    "    cd = ConstructorDemo()"
   ]
  },
  {
   "attachments": {},
   "cell_type": "markdown",
   "metadata": {},
   "source": [
    "##### summary to create an object with constructor"
   ]
  },
  {
   "cell_type": "code",
   "execution_count": 13,
   "metadata": {},
   "outputs": [
    {
     "name": "stdout",
     "output_type": "stream",
     "text": [
      "Creating object of the class\n",
      "Initializing the object\n"
     ]
    }
   ],
   "source": [
    "\n",
    "class ConstructorDemo(object):\n",
    "    def __new__(cls): \n",
    "        print(\"Creating object of the class\")\n",
    "        return object.__new__(cls)\n",
    "        #return super().__new__(cls)\n",
    "        #return super(ConstructorDemo, cls).__new__(cls)  \n",
    "     \n",
    "        \n",
    "    def __init__(self) -> None:   # this will be triggered when the object is created \n",
    "        print(\"Initializing the object\") \n",
    "\n",
    "\n",
    "if __name__ == '__main__':\n",
    "    cd = ConstructorDemo()"
   ]
  },
  {
   "attachments": {},
   "cell_type": "markdown",
   "metadata": {},
   "source": [
    "- __init__ is not a constructor, it is an initializer\n",
    "- __new__ is the constructor in python\n",
    "- __new__ is responsible for creating the object of the class\n",
    "- __new__ is a static method of the class\n",
    "- __new__ is inherited from object class\n",
    "- __new__ is responsible for returning the object of the class\n",
    "- __init__ is responsible for initializing the data attributes of the object\n",
    "- actual object creation happens in __new__ method"
   ]
  }
 ],
 "metadata": {
  "kernelspec": {
   "display_name": "all",
   "language": "python",
   "name": "python3"
  },
  "language_info": {
   "codemirror_mode": {
    "name": "ipython",
    "version": 3
   },
   "file_extension": ".py",
   "mimetype": "text/x-python",
   "name": "python",
   "nbconvert_exporter": "python",
   "pygments_lexer": "ipython3",
   "version": "3.7.15"
  },
  "orig_nbformat": 4
 },
 "nbformat": 4,
 "nbformat_minor": 2
}
