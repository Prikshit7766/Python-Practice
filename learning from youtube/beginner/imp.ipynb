{
 "cells": [
  {
   "cell_type": "code",
   "execution_count": 1,
   "metadata": {},
   "outputs": [
    {
     "name": "stdout",
     "output_type": "stream",
     "text": [
      "<class 'str'>\n"
     ]
    }
   ],
   "source": [
    "name= \"sam\"\n",
    "print(type(name))"
   ]
  },
  {
   "cell_type": "code",
   "execution_count": 2,
   "metadata": {},
   "outputs": [
    {
     "data": {
      "text/plain": [
       "True"
      ]
     },
     "execution_count": 2,
     "metadata": {},
     "output_type": "execute_result"
    }
   ],
   "source": [
    "# check on type\n",
    "isinstance(name,str)"
   ]
  },
  {
   "cell_type": "code",
   "execution_count": null,
   "metadata": {},
   "outputs": [],
   "source": [
    "def is_adult1(age):\n",
    "    if age>18:\n",
    "        return True\n",
    "    else:\n",
    "        return False\n",
    "\n",
    "\n",
    "# second way \n",
    "\n",
    "\n",
    "def is_adult2(age):\n",
    "    return True if age >18 else False\n",
    "\n"
   ]
  },
  {
   "cell_type": "code",
   "execution_count": 1,
   "metadata": {},
   "outputs": [
    {
     "name": "stdout",
     "output_type": "stream",
     "text": [
      "True\n"
     ]
    }
   ],
   "source": [
    "a=True\n",
    "b=False \n",
    "c = any([a,b])  # Return True if one of the value in the list is true \n",
    "print (c)"
   ]
  },
  {
   "cell_type": "code",
   "execution_count": 3,
   "metadata": {},
   "outputs": [
    {
     "name": "stdout",
     "output_type": "stream",
     "text": [
      "False\n"
     ]
    }
   ],
   "source": [
    "a=True\n",
    "b=False \n",
    "c = all([a,b])  # Return True if all of the value in the list is true\n",
    "print (c)"
   ]
  },
  {
   "cell_type": "code",
   "execution_count": 4,
   "metadata": {},
   "outputs": [
    {
     "name": "stdout",
     "output_type": "stream",
     "text": [
      "(2+3j)\n",
      "(2+3j)\n"
     ]
    }
   ],
   "source": [
    "com = 2+3j\n",
    "\n",
    "num =complex(2,3)\n",
    "\n",
    "\n",
    "print(com)\n",
    "print(num)"
   ]
  },
  {
   "cell_type": "code",
   "execution_count": 5,
   "metadata": {},
   "outputs": [
    {
     "data": {
      "text/plain": [
       "5.5"
      ]
     },
     "execution_count": 5,
     "metadata": {},
     "output_type": "execute_result"
    }
   ],
   "source": [
    "# abs\n",
    "\n",
    "abs(-5.5)"
   ]
  },
  {
   "cell_type": "code",
   "execution_count": 6,
   "metadata": {},
   "outputs": [
    {
     "data": {
      "text/plain": [
       "5"
      ]
     },
     "execution_count": 6,
     "metadata": {},
     "output_type": "execute_result"
    }
   ],
   "source": [
    "round(4.77)"
   ]
  },
  {
   "cell_type": "code",
   "execution_count": 7,
   "metadata": {},
   "outputs": [
    {
     "data": {
      "text/plain": [
       "4.8"
      ]
     },
     "execution_count": 7,
     "metadata": {},
     "output_type": "execute_result"
    }
   ],
   "source": [
    "round(4.77,1)  # one decimal point "
   ]
  },
  {
   "cell_type": "markdown",
   "metadata": {},
   "source": [
    "## Enum"
   ]
  },
  {
   "cell_type": "code",
   "execution_count": 15,
   "metadata": {},
   "outputs": [],
   "source": [
    "from enum  import Enum # used to create constants \n",
    "\n",
    "\n",
    "\n",
    "class State(Enum):\n",
    "    INACTIVE=0\n",
    "    ACTIVE=1"
   ]
  },
  {
   "cell_type": "code",
   "execution_count": 17,
   "metadata": {},
   "outputs": [
    {
     "name": "stdout",
     "output_type": "stream",
     "text": [
      "State.ACTIVE\n"
     ]
    }
   ],
   "source": [
    "print(State.ACTIVE)"
   ]
  },
  {
   "cell_type": "code",
   "execution_count": 18,
   "metadata": {},
   "outputs": [
    {
     "name": "stdout",
     "output_type": "stream",
     "text": [
      "1\n"
     ]
    }
   ],
   "source": [
    "print(State.ACTIVE.value)"
   ]
  },
  {
   "cell_type": "code",
   "execution_count": 23,
   "metadata": {},
   "outputs": [
    {
     "name": "stdout",
     "output_type": "stream",
     "text": [
      "State.ACTIVE\n"
     ]
    }
   ],
   "source": [
    "print(State(1))"
   ]
  },
  {
   "cell_type": "code",
   "execution_count": 24,
   "metadata": {},
   "outputs": [
    {
     "name": "stdout",
     "output_type": "stream",
     "text": [
      "1\n"
     ]
    }
   ],
   "source": [
    "print(State(1).value)"
   ]
  },
  {
   "cell_type": "code",
   "execution_count": 21,
   "metadata": {},
   "outputs": [
    {
     "name": "stdout",
     "output_type": "stream",
     "text": [
      "State.INACTIVE\n"
     ]
    }
   ],
   "source": [
    "print(State(0))"
   ]
  },
  {
   "cell_type": "markdown",
   "metadata": {},
   "source": [
    "### sorting a list"
   ]
  },
  {
   "cell_type": "code",
   "execution_count": 25,
   "metadata": {},
   "outputs": [
    {
     "name": "stdout",
     "output_type": "stream",
     "text": [
      "['gg', 'hi', 'jb', 'ubu']\n",
      "['hi', 'jb', 'gg', 'ubu']\n"
     ]
    }
   ],
   "source": [
    "item = [\"hi\",\"jb\",\"gg\",\"ubu\"]\n",
    "\n",
    "itemcopy = item[:]\n",
    "\n",
    "item.sort(key=str.lower)\n",
    "\n",
    "print(item)  # here it is changing the list\n",
    "\n",
    "print(itemcopy)"
   ]
  },
  {
   "cell_type": "code",
   "execution_count": 29,
   "metadata": {},
   "outputs": [
    {
     "name": "stdout",
     "output_type": "stream",
     "text": [
      "['gg', 'hi', 'jb', 'ubu']\n",
      "['hi', 'jb', 'gg', 'ubu']\n"
     ]
    }
   ],
   "source": [
    "item = [\"hi\",\"jb\",\"gg\",\"ubu\"]\n",
    "\n",
    "# using sorted gloabl functon\n",
    "print(sorted(item,key=str.lower)) # here it is not modifying the original list  \n",
    "print(item)"
   ]
  },
  {
   "cell_type": "markdown",
   "metadata": {},
   "source": [
    "### some dictionary operations"
   ]
  },
  {
   "cell_type": "code",
   "execution_count": 33,
   "metadata": {},
   "outputs": [
    {
     "name": "stdout",
     "output_type": "stream",
     "text": [
      "Teacher\n",
      "{'name': 'sam', 'age': 14}\n"
     ]
    }
   ],
   "source": [
    "d= {\"name\":\"sam\",\"age\":14}\n",
    "\n",
    "print(d.get(\"aim\",\"Teacher\")) # it does not find the key in side the dictionary then it will take the default value for that key \n",
    "# this change won't affect the dictionary \n",
    "\n",
    "\n",
    "print(d)"
   ]
  },
  {
   "cell_type": "code",
   "execution_count": 34,
   "metadata": {},
   "outputs": [
    {
     "name": "stdout",
     "output_type": "stream",
     "text": [
      "sam\n",
      "{'age': 14}\n"
     ]
    }
   ],
   "source": [
    "# delete value from dictionary \n",
    "print(d.pop(\"name\")) # pop will return the value and delete the item \n",
    "print(d)"
   ]
  },
  {
   "cell_type": "code",
   "execution_count": 35,
   "metadata": {},
   "outputs": [
    {
     "name": "stdout",
     "output_type": "stream",
     "text": [
      "('age', 14)\n",
      "{'name': 'sam'}\n"
     ]
    }
   ],
   "source": [
    "d= {\"name\":\"sam\",\"age\":14}\n",
    "print(d.popitem()) # pop will return the last item and delete the item \n",
    "print(d)"
   ]
  },
  {
   "cell_type": "markdown",
   "metadata": {},
   "source": [
    "### some set operations"
   ]
  },
  {
   "cell_type": "code",
   "execution_count": 38,
   "metadata": {},
   "outputs": [
    {
     "name": "stdout",
     "output_type": "stream",
     "text": [
      "intersection {2, 3}\n",
      "mode {1, 2, 3, 4}\n",
      "difference {1, 4}\n",
      "s2 subset of s1 True\n"
     ]
    }
   ],
   "source": [
    "# intersection\n",
    "\n",
    "s1={1,2,3,4}   #all the elements in the sets are unique\n",
    "s2={2,3}\n",
    "\n",
    "intersection = s1 & s2   # commen\n",
    "mod = s1|s2      # unique\n",
    "dif= s1-s2\n",
    "\n",
    "issub_for_s1=s1>s2\n",
    "\n",
    "print(\"intersection\",intersection)\n",
    "print(\"mode\",mod)\n",
    "print(\"difference\",dif)\n",
    "print(\"s2 subset of s1\",issub_for_s1)"
   ]
  },
  {
   "cell_type": "markdown",
   "metadata": {},
   "source": [
    "### some important things related to functions"
   ]
  },
  {
   "cell_type": "code",
   "execution_count": 39,
   "metadata": {},
   "outputs": [
    {
     "name": "stdout",
     "output_type": "stream",
     "text": [
      "1\n"
     ]
    }
   ],
   "source": [
    "# functions\n",
    "\n",
    "def  change(value):\n",
    "    value=2\n",
    "    \n",
    "val=1             \n",
    "change(val)\n",
    "print(val)"
   ]
  },
  {
   "cell_type": "code",
   "execution_count": 41,
   "metadata": {},
   "outputs": [
    {
     "name": "stdout",
     "output_type": "stream",
     "text": [
      "{'name': 'ra'}\n"
     ]
    }
   ],
   "source": [
    "\n",
    "def  change(value):\n",
    "    value[\"name\"]= \"ra\"\n",
    "    \n",
    "val={\"name\":\"sam\"}  # dictionary is mutable\n",
    "change(val)\n",
    "print(val)"
   ]
  },
  {
   "cell_type": "code",
   "execution_count": 42,
   "metadata": {},
   "outputs": [
    {
     "name": "stdout",
     "output_type": "stream",
     "text": [
      "2\n",
      "2\n"
     ]
    }
   ],
   "source": [
    "def test():\n",
    "    print(age)\n",
    "\n",
    "age=2\n",
    "print(age)\n",
    "test()"
   ]
  },
  {
   "cell_type": "code",
   "execution_count": 44,
   "metadata": {},
   "outputs": [
    {
     "ename": "NameError",
     "evalue": "name 'a1' is not defined",
     "output_type": "error",
     "traceback": [
      "\u001b[1;31m---------------------------------------------------------------------------\u001b[0m",
      "\u001b[1;31mNameError\u001b[0m                                 Traceback (most recent call last)",
      "Cell \u001b[1;32mIn[44], line 6\u001b[0m\n\u001b[0;32m      2\u001b[0m     a1\u001b[39m=\u001b[39m\u001b[39m2\u001b[39m\n\u001b[0;32m      3\u001b[0m     \u001b[39mprint\u001b[39m(age)\n\u001b[1;32m----> 6\u001b[0m \u001b[39mprint\u001b[39m(a1)\n\u001b[0;32m      7\u001b[0m test()\n",
      "\u001b[1;31mNameError\u001b[0m: name 'a1' is not defined"
     ]
    }
   ],
   "source": [
    "def test():\n",
    "    a1=2\n",
    "    print(age)\n",
    "\n",
    "\n",
    "print(a1)\n",
    "test()"
   ]
  },
  {
   "cell_type": "code",
   "execution_count": 46,
   "metadata": {},
   "outputs": [
    {
     "name": "stdout",
     "output_type": "stream",
     "text": [
      "2\n",
      "2\n"
     ]
    }
   ],
   "source": [
    "\n",
    "def test():\n",
    "    global a1\n",
    "    a1=2\n",
    "    print(age)\n",
    "\n",
    "test()\n",
    "print(a1)\n"
   ]
  },
  {
   "cell_type": "code",
   "execution_count": 47,
   "metadata": {},
   "outputs": [
    {
     "name": "stdout",
     "output_type": "stream",
     "text": [
      "hi\n",
      "how\n",
      "are\n",
      "you\n",
      "\n"
     ]
    }
   ],
   "source": [
    "# function inside function\n",
    "\n",
    "def talk(phrase):\n",
    "    def say(word):\n",
    "        print(word)\n",
    "\n",
    "\n",
    "    words =phrase.split(\" \")\n",
    "    for word in words:\n",
    "        say(word)\n",
    "\n",
    "\n",
    "talk(\"hi how are you \")"
   ]
  },
  {
   "cell_type": "code",
   "execution_count": 70,
   "metadata": {},
   "outputs": [
    {
     "name": "stdout",
     "output_type": "stream",
     "text": [
      "1\n",
      "1\n",
      "1\n"
     ]
    }
   ],
   "source": [
    "def count():\n",
    "    count =0\n",
    "\n",
    "    def increment():\n",
    "        nonlocal count   # used if you want to acces the varibale which is dicleared in outer function\n",
    "        count =count+1\n",
    "        return count\n",
    "\n",
    "    return increment()\n",
    "print(count())\n",
    "print(count())\n",
    "print(count())"
   ]
  },
  {
   "cell_type": "code",
   "execution_count": 66,
   "metadata": {},
   "outputs": [
    {
     "name": "stdout",
     "output_type": "stream",
     "text": [
      "1\n",
      "2\n",
      "3\n"
     ]
    }
   ],
   "source": [
    "# closures\n",
    "\n",
    "def counter():\n",
    "    count =0\n",
    "\n",
    "    def increment():\n",
    "        nonlocal count   \n",
    "        count =count+1\n",
    "        return count\n",
    "\n",
    "    return increment\n",
    "\n",
    "\n",
    "increment =counter()\n",
    "print(increment())\n",
    "print(increment())\n",
    "print(increment())\n",
    "# when return increment function ,it still have the  acess to the state of count variable even though the counter function has ended"
   ]
  },
  {
   "cell_type": "markdown",
   "metadata": {},
   "source": [
    "### objects"
   ]
  },
  {
   "cell_type": "markdown",
   "metadata": {},
   "source": [
    "object have attributes and methods ,\n",
    "everything in python is object even data types like int, float, complex , list , etc"
   ]
  },
  {
   "cell_type": "code",
   "execution_count": 74,
   "metadata": {},
   "outputs": [
    {
     "name": "stdout",
     "output_type": "stream",
     "text": [
      "8\n",
      "8\n",
      "0\n",
      "4\n"
     ]
    }
   ],
   "source": [
    "age =8\n",
    "\n",
    "print(age)\n",
    "print(age.real)\n",
    "print(age.imag)\n",
    "print(age.bit_length())"
   ]
  },
  {
   "cell_type": "code",
   "execution_count": 76,
   "metadata": {},
   "outputs": [],
   "source": [
    "items =[1,2]\n",
    "\n",
    "item.append(3)"
   ]
  },
  {
   "cell_type": "code",
   "execution_count": 77,
   "metadata": {},
   "outputs": [
    {
     "data": {
      "text/plain": [
       "3"
      ]
     },
     "execution_count": 77,
     "metadata": {},
     "output_type": "execute_result"
    }
   ],
   "source": [
    "item.pop()"
   ]
  },
  {
   "cell_type": "code",
   "execution_count": 78,
   "metadata": {},
   "outputs": [
    {
     "name": "stdout",
     "output_type": "stream",
     "text": [
      "2742797969728\n"
     ]
    }
   ],
   "source": [
    "print(id(item))"
   ]
  },
  {
   "cell_type": "code",
   "execution_count": 80,
   "metadata": {},
   "outputs": [
    {
     "name": "stdout",
     "output_type": "stream",
     "text": [
      "0 hi\n",
      "1 22\n",
      "2 yohoo\n"
     ]
    }
   ],
   "source": [
    "# loop\n",
    "\n",
    "items = [\"hi\",\"22\",\"yohoo\"]\n",
    "\n",
    "for index , item in enumerate(items):\n",
    "    print(index, item)\n"
   ]
  },
  {
   "cell_type": "markdown",
   "metadata": {},
   "source": [
    "#### clasees"
   ]
  },
  {
   "cell_type": "code",
   "execution_count": 81,
   "metadata": {},
   "outputs": [
    {
     "name": "stdout",
     "output_type": "stream",
     "text": [
      "<class '__main__.Dog'>\n"
     ]
    }
   ],
   "source": [
    "# object is an instance of class \n",
    "\n",
    "class Dog:\n",
    "\n",
    "    def  bark(self):\n",
    "        print(\"woof!\")\n",
    "\n",
    "\n",
    "r= Dog()\n",
    "print(type(r))\n"
   ]
  },
  {
   "cell_type": "code",
   "execution_count": 84,
   "metadata": {},
   "outputs": [
    {
     "name": "stdout",
     "output_type": "stream",
     "text": [
      "8\n"
     ]
    },
    {
     "data": {
      "text/plain": [
       "'woof!'"
      ]
     },
     "execution_count": 84,
     "metadata": {},
     "output_type": "execute_result"
    }
   ],
   "source": [
    "class Dog:\n",
    "    def __init__(self, name,age):    # creating a constructor\n",
    "        self.name=name\n",
    "        self.age=age\n",
    "    def  bark(self):\n",
    "        return (\"woof!\")\n",
    "\n",
    "\n",
    "r= Dog(\"ho\",8)\n",
    "print(r.age)\n",
    "\n",
    "r.bark()\n"
   ]
  },
  {
   "cell_type": "markdown",
   "metadata": {},
   "source": [
    "# some modules"
   ]
  },
  {
   "cell_type": "code",
   "execution_count": 3,
   "metadata": {},
   "outputs": [
    {
     "data": {
      "text/plain": [
       "2.0"
      ]
     },
     "execution_count": 3,
     "metadata": {},
     "output_type": "execute_result"
    }
   ],
   "source": [
    "import math\n",
    "\n",
    "math.sqrt(4)"
   ]
  },
  {
   "cell_type": "code",
   "execution_count": 2,
   "metadata": {},
   "outputs": [
    {
     "data": {
      "text/plain": [
       "2.0"
      ]
     },
     "execution_count": 2,
     "metadata": {},
     "output_type": "execute_result"
    }
   ],
   "source": [
    "from math import sqrt\n",
    "sqrt(4)"
   ]
  },
  {
   "cell_type": "code",
   "execution_count": null,
   "metadata": {},
   "outputs": [],
   "source": [
    "import sys\n",
    "\n",
    "print(sys.argv)  # it will print the list arguments that we write in cmd\n",
    "\n",
    "# write this code in a py file and and run the code in cmd  like  (  python main.py beau 39)  -> output is like [\"main.py\",\"beau\",\"39\" )"
   ]
  },
  {
   "cell_type": "code",
   "execution_count": null,
   "metadata": {},
   "outputs": [],
   "source": [
    "import argparse\n",
    "\n",
    "parser = argparse.ArgumentParser(\n",
    "    description=\"This program prints the name of my dogs\"\n",
    ")\n",
    "\n",
    "parser.add_argument(\"-c\",\"--color\",metavar=\"color\",\n",
    "                    required=True, help=\"the color to search for\",\n",
    "                    choices={\"red\",\"yellow\"}\n",
    "                    \n",
    "                    )\n",
    "\n",
    "args =parser.parse_args()\n",
    "\n",
    "print(args.color)\n",
    "\n",
    "# run -- >  python try-argparse.py -c red"
   ]
  },
  {
   "cell_type": "code",
   "execution_count": 8,
   "metadata": {},
   "outputs": [],
   "source": [
    "# lambda\n",
    "mul = lambda num : num*2\n"
   ]
  },
  {
   "cell_type": "code",
   "execution_count": 9,
   "metadata": {},
   "outputs": [
    {
     "data": {
      "text/plain": [
       "4"
      ]
     },
     "execution_count": 9,
     "metadata": {},
     "output_type": "execute_result"
    }
   ],
   "source": [
    "mul(2)"
   ]
  },
  {
   "cell_type": "code",
   "execution_count": 10,
   "metadata": {},
   "outputs": [
    {
     "name": "stdout",
     "output_type": "stream",
     "text": [
      "[2, 4, 6]\n"
     ]
    }
   ],
   "source": [
    "# map() \n",
    "number = [1,2,3]\n",
    "\n",
    "def double(a):\n",
    "    return a*2\n",
    "\n",
    "\n",
    "result = map(double,number)\n",
    "\n",
    "print(list(result))\n",
    "\n"
   ]
  },
  {
   "cell_type": "code",
   "execution_count": 12,
   "metadata": {},
   "outputs": [
    {
     "name": "stdout",
     "output_type": "stream",
     "text": [
      "[2, 4, 6]\n"
     ]
    }
   ],
   "source": [
    "number = [1,2,3]\n",
    "\n",
    "mul = lambda num : num*2\n",
    "\n",
    "\n",
    "result = map(mul,number)\n",
    "\n",
    "print(list(result))"
   ]
  },
  {
   "cell_type": "code",
   "execution_count": 13,
   "metadata": {},
   "outputs": [
    {
     "name": "stdout",
     "output_type": "stream",
     "text": [
      "[2, 4, 6]\n"
     ]
    }
   ],
   "source": [
    "number = [1,2,3]\n",
    "\n",
    "\n",
    "\n",
    "result = map(lambda num : num*2,number)\n",
    "\n",
    "print(list(result))"
   ]
  },
  {
   "cell_type": "code",
   "execution_count": 14,
   "metadata": {},
   "outputs": [
    {
     "name": "stdout",
     "output_type": "stream",
     "text": [
      "[2]\n"
     ]
    }
   ],
   "source": [
    "#filer()\n",
    "\n",
    "number = [1,2,3]\n",
    "\n",
    "def iseven(a):\n",
    "    return a%2==0\n",
    "\n",
    "\n",
    "result =filter(iseven,number)\n",
    "\n",
    "print(list(result))"
   ]
  },
  {
   "cell_type": "code",
   "execution_count": 15,
   "metadata": {},
   "outputs": [
    {
     "name": "stdout",
     "output_type": "stream",
     "text": [
      "[2]\n"
     ]
    }
   ],
   "source": [
    "number = [1,2,3]\n",
    "\n",
    "def iseven(a):\n",
    "    return a%2==0\n",
    "\n",
    "\n",
    "result =filter(lambda n : n%2 ==0 ,number)\n",
    "\n",
    "print(list(result))"
   ]
  },
  {
   "cell_type": "code",
   "execution_count": 16,
   "metadata": {},
   "outputs": [
    {
     "name": "stdout",
     "output_type": "stream",
     "text": [
      "200\n"
     ]
    }
   ],
   "source": [
    "# reduce()\n",
    "\n",
    "expenses = [\n",
    "    ('Dinner', 80),\n",
    "    ('car repair', 120)\n",
    "]\n",
    "\n",
    "sum=0\n",
    "for expense in expenses:\n",
    "    sum+=expense[1]\n",
    "\n",
    "print(sum)"
   ]
  },
  {
   "cell_type": "code",
   "execution_count": 19,
   "metadata": {},
   "outputs": [
    {
     "name": "stdout",
     "output_type": "stream",
     "text": [
      "200\n"
     ]
    }
   ],
   "source": [
    "# second way \n",
    "\n",
    "from functools import reduce\n",
    "\n",
    "expenses = [\n",
    "    ('Dinner', 80),\n",
    "    ('car repair', 120)\n",
    "]\n",
    "\n",
    "sum=reduce(lambda a,b:a[1]+b[1],expenses)\n",
    "\n",
    "print(sum)"
   ]
  },
  {
   "cell_type": "code",
   "execution_count": 20,
   "metadata": {},
   "outputs": [
    {
     "name": "stdout",
     "output_type": "stream",
     "text": [
      "120\n",
      "24\n",
      "6\n"
     ]
    }
   ],
   "source": [
    "# recursion\n",
    "\n",
    "def factorial(n):\n",
    "    if n==1:\n",
    "        return 1\n",
    "    else:\n",
    "        return n*factorial(n-1)\n",
    "\n",
    "\n",
    "print(factorial(5))\n",
    "print(factorial(4))\n",
    "print(factorial(3))"
   ]
  },
  {
   "cell_type": "code",
   "execution_count": 21,
   "metadata": {},
   "outputs": [
    {
     "name": "stdout",
     "output_type": "stream",
     "text": [
      "befor\n",
      "hello\n",
      "after\n"
     ]
    }
   ],
   "source": [
    "# Decorators\n",
    "def logtime(func):\n",
    "    def wrapper():\n",
    "        print(\"befor\")\n",
    "        val = func()\n",
    "        print(\"after\")\n",
    "        return val\n",
    "    return wrapper\n",
    "\n",
    "@logtime \n",
    "def hello():\n",
    "    print(\"hello\")\n",
    "\n",
    "# Decorators  -> so wehen eber we call hello functon then the decorators will be called that takes  function as a parameter ,\n",
    "# wraps the function in an inner function  that performs the job , job that he has to do and return the inner function \n",
    "\n",
    "\n",
    "hello()\n",
    "\n",
    "# so when you want to chnage the behaviour of the function without modifying the function then we use decorators"
   ]
  },
  {
   "cell_type": "code",
   "execution_count": 22,
   "metadata": {},
   "outputs": [
    {
     "data": {
      "text/plain": [
       "'This is a docstring'"
      ]
     },
     "execution_count": 22,
     "metadata": {},
     "output_type": "execute_result"
    }
   ],
   "source": [
    "# docstring \n",
    "\n",
    "def Doc():\n",
    "    \"\"\"This is a docstring\"\"\"\n",
    "    print(\"hi\")\n",
    "\n",
    "Doc.__doc__"
   ]
  },
  {
   "cell_type": "code",
   "execution_count": 23,
   "metadata": {},
   "outputs": [
    {
     "name": "stdout",
     "output_type": "stream",
     "text": [
      "Help on function Doc in module __main__:\n",
      "\n",
      "Doc()\n",
      "    This is a docstring\n",
      "\n"
     ]
    }
   ],
   "source": [
    "help(Doc)"
   ]
  },
  {
   "cell_type": "code",
   "execution_count": 24,
   "metadata": {},
   "outputs": [
    {
     "data": {
      "text/plain": [
       "5"
      ]
     },
     "execution_count": 24,
     "metadata": {},
     "output_type": "execute_result"
    }
   ],
   "source": [
    "# Annotations\n",
    "\n",
    "\n",
    "def add(a:int,b:int)->int:\n",
    "    return a+b\n",
    "\n",
    "add(2,3)\n"
   ]
  },
  {
   "cell_type": "code",
   "execution_count": 25,
   "metadata": {},
   "outputs": [
    {
     "name": "stdout",
     "output_type": "stream",
     "text": [
      "an error occured\n"
     ]
    }
   ],
   "source": [
    "try:\n",
    "    raise Exception(\"an error occured\")\n",
    "except Exception as e:\n",
    "    print(e)"
   ]
  },
  {
   "cell_type": "code",
   "execution_count": 28,
   "metadata": {},
   "outputs": [
    {
     "name": "stdout",
     "output_type": "stream",
     "text": [
      "inside\n",
      "dognotfound\n"
     ]
    }
   ],
   "source": [
    "class DognotfoundException(Exception):\n",
    "    print(\"inside\")\n",
    "    pass\n",
    "\n",
    "\n",
    "\n",
    "try:\n",
    "    raise DognotfoundException()\n",
    "except DognotfoundException :\n",
    "    print('dognotfound')\n"
   ]
  },
  {
   "cell_type": "code",
   "execution_count": null,
   "metadata": {},
   "outputs": [],
   "source": [
    "file_name= \"\"\n",
    "\n",
    "try:\n",
    "    file = open(file_name,'r')\n",
    "    content = file.read()\n",
    "    print(content)\n",
    "\n",
    "finally:\n",
    "    file.close()\n",
    "\n",
    "\n"
   ]
  },
  {
   "cell_type": "code",
   "execution_count": 30,
   "metadata": {},
   "outputs": [
    {
     "name": "stdout",
     "output_type": "stream",
     "text": [
      "[2, 4, 6, 8, 10]\n"
     ]
    }
   ],
   "source": [
    "# list compression\n",
    "\n",
    "numbers=[1,2,3,4,5]\n",
    "\n",
    "double = [num*2 for num in numbers]\n",
    "\n",
    "print(double)"
   ]
  },
  {
   "cell_type": "code",
   "execution_count": 32,
   "metadata": {},
   "outputs": [
    {
     "name": "stdout",
     "output_type": "stream",
     "text": [
      "False\n"
     ]
    }
   ],
   "source": [
    "# operator overloads\n",
    "\n",
    "class Dog:\n",
    "    def __init__(self,name,age):\n",
    "        self.name=name\n",
    "        self.age=age\n",
    "    \n",
    "    def __gt__(self,other):\n",
    "        return self.age > other.age\n",
    "\n",
    "\n",
    "roger =  Dog(\"roger\",5)\n",
    "syd=  Dog(\"syd\",6)\n",
    "\n",
    "print(roger>syd)\n",
    "\n"
   ]
  },
  {
   "cell_type": "code",
   "execution_count": null,
   "metadata": {},
   "outputs": [],
   "source": [
    "__add__() #repond to the + operator\n",
    "__sub__() #repond to the - operator\n",
    "__mul__() #repond to the * operator\n",
    "__truediv__() #repond to the / operator\n",
    "__floordiv__() #repond to the // operator\n",
    "__mod__() #repond to the % operator\n",
    "__pow__() #repond to the ** operator\n",
    "__and__() #repond to the & operator\n",
    "__xor__() #repond to the ^ operator\n",
    "__or__() #repond to the | operator\n",
    "__lt__() #repond to the < operator\n",
    "__le__() #repond to the <= operator\n",
    "__eq__() #repond to the == operator\n",
    "__ne__() #repond to the != operator\n",
    "__gt__() #repond to the > operator\n",
    "__ge__() #repond to the >= operator\n",
    "__lshift__() #repond to the << operator\n",
    "__rshift__() #repond to the >> operator\n",
    "__str__() # is called when print is called on the object of class"
   ]
  },
  {
   "cell_type": "code",
   "execution_count": 43,
   "metadata": {},
   "outputs": [
    {
     "name": "stdout",
     "output_type": "stream",
     "text": [
      "['spades', {'rank': '9', 'value': 9}]\n"
     ]
    }
   ],
   "source": [
    "# project - > black jack game\n",
    "import random\n",
    "\n",
    "class Deck:\n",
    "    def __init__(self,):\n",
    "        self.cards = []\n",
    "        self.suits = [\"spades\", \"clubs\", \"hearts\", \"diamonds\"]\n",
    "        self.ranks = [\n",
    "                {\"rank\": \"A\", \"value\": 11},\n",
    "                {\"rank\": \"2\", \"value\": 2},\n",
    "                {\"rank\": \"3\", \"value\": 3},\n",
    "                {\"rank\": \"4\", \"value\": 4},\n",
    "                {\"rank\": \"5\", \"value\": 5},\n",
    "                {\"rank\": \"6\", \"value\": 6},\n",
    "                {\"rank\": \"7\", \"value\": 7},\n",
    "                {\"rank\": \"8\", \"value\": 8},\n",
    "                {\"rank\": \"9\", \"value\": 9},\n",
    "                {\"rank\": \"10\", \"value\": 10},\n",
    "                {\"rank\": \"J\", \"value\": 10},\n",
    "                {\"rank\": \"Q\", \"value\": 10},\n",
    "                {\"rank\": \"K\", \"value\": 10},\n",
    "            ]\n",
    "\n",
    "        for suit in suits:\n",
    "            for rank in ranks:\n",
    "                self.cards.append([suit,rank])\n",
    "\n",
    "    def shuffle(self):\n",
    "        if len(self.cards)>1:\n",
    "            random.shuffle(self.cards)\n",
    "\n",
    "    def deal(self,number):\n",
    "        cards_dealt=[]\n",
    "        for x in range(number):\n",
    "            if len(self.cards)>0:\n",
    "                card = self.cards.pop()\n",
    "                cards_dealt.append(card)\n",
    "        return cards_dealt\n",
    "\n",
    "\n",
    "deck =Deck()\n",
    "deck.shuffle()\n",
    "card=deck.deal(2)[0]\n",
    "print(card)"
   ]
  },
  {
   "cell_type": "code",
   "execution_count": null,
   "metadata": {},
   "outputs": [],
   "source": []
  }
 ],
 "metadata": {
  "kernelspec": {
   "display_name": "base",
   "language": "python",
   "name": "python3"
  },
  "language_info": {
   "codemirror_mode": {
    "name": "ipython",
    "version": 3
   },
   "file_extension": ".py",
   "mimetype": "text/x-python",
   "name": "python",
   "nbconvert_exporter": "python",
   "pygments_lexer": "ipython3",
   "version": "3.11.3"
  },
  "orig_nbformat": 4
 },
 "nbformat": 4,
 "nbformat_minor": 2
}
