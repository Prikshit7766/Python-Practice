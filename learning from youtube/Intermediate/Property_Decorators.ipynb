{
 "cells": [
  {
   "cell_type": "markdown",
   "metadata": {},
   "source": [
    "# Property Decorators: Getters, Setters, and Deleters\n",
    "\n",
    "## Introduction to Property Decorators\n",
    "In Python, property decorators allow us to manage the access to class attributes. They provide a way to use methods as attributes, enabling us to add logic when getting, setting, or deleting an attribute."
   ]
  },
  {
   "cell_type": "code",
   "execution_count": 12,
   "metadata": {},
   "outputs": [],
   "source": [
    "## Getters\n",
    "# A getter is a method that allows you to access the value of a private attribute. \n",
    "# It is defined using the @property decorator.\n",
    "\n",
    "class Course:\n",
    "    def __init__(self, course_price, course_name):\n",
    "        self.__course_price = course_price  # Private attribute\n",
    "        self.course_name = course_name\n",
    "\n",
    "    @property\n",
    "    def course_price(self):\n",
    "        return self.__course_price  # Getter method\n",
    "\n",
    "## Setters\n",
    "# A setter is a method that allows you to set the value of a private attribute. \n",
    "# It is defined using the @<property_name>.setter decorator.\n",
    "\n",
    "    @course_price.setter\n",
    "    def course_price(self, price):\n",
    "        if price <= 0:\n",
    "            raise ValueError(\"Price must be positive.\")\n",
    "        self.__course_price = price  # Setter method\n",
    "\n",
    "## Deleters\n",
    "# A deleter is a method that allows you to delete a private attribute. \n",
    "# It is defined using the @<property_name>.deleter decorator.\n",
    "\n",
    "    @course_price.deleter\n",
    "    def course_price(self):\n",
    "        print(\"Deleting course price...\")\n",
    "        del self.__course_price  # Deleter method"
   ]
  },
  {
   "cell_type": "code",
   "execution_count": 13,
   "metadata": {},
   "outputs": [
    {
     "name": "stdout",
     "output_type": "stream",
     "text": [
      "4000\n"
     ]
    }
   ],
   "source": [
    "course = Course(4000, \"Python Programming\")\n",
    "print(course.course_price)  # Accessing the price using the getter"
   ]
  },
  {
   "cell_type": "code",
   "execution_count": 14,
   "metadata": {},
   "outputs": [
    {
     "name": "stdout",
     "output_type": "stream",
     "text": [
      "4500\n"
     ]
    }
   ],
   "source": [
    "course.course_price = 4500  # Setting a new price using the setter\n",
    "print(course.course_price)"
   ]
  },
  {
   "cell_type": "code",
   "execution_count": 15,
   "metadata": {},
   "outputs": [
    {
     "ename": "ValueError",
     "evalue": "Price must be positive.",
     "output_type": "error",
     "traceback": [
      "\u001b[1;31m---------------------------------------------------------------------------\u001b[0m",
      "\u001b[1;31mValueError\u001b[0m                                Traceback (most recent call last)",
      "Cell \u001b[1;32mIn[15], line 1\u001b[0m\n\u001b[1;32m----> 1\u001b[0m \u001b[43mcourse\u001b[49m\u001b[38;5;241;43m.\u001b[39;49m\u001b[43mcourse_price\u001b[49m \u001b[38;5;241m=\u001b[39m \u001b[38;5;241m-\u001b[39m\u001b[38;5;241m1\u001b[39m  \u001b[38;5;66;03m# Setting a new price using the setter\u001b[39;00m\n\u001b[0;32m      2\u001b[0m \u001b[38;5;28mprint\u001b[39m(course\u001b[38;5;241m.\u001b[39mcourse_price)\n",
      "Cell \u001b[1;32mIn[12], line 21\u001b[0m, in \u001b[0;36mCourse.course_price\u001b[1;34m(self, price)\u001b[0m\n\u001b[0;32m     18\u001b[0m \u001b[38;5;129m@course_price\u001b[39m\u001b[38;5;241m.\u001b[39msetter\n\u001b[0;32m     19\u001b[0m \u001b[38;5;28;01mdef\u001b[39;00m\u001b[38;5;250m \u001b[39m\u001b[38;5;21mcourse_price\u001b[39m(\u001b[38;5;28mself\u001b[39m, price):\n\u001b[0;32m     20\u001b[0m     \u001b[38;5;28;01mif\u001b[39;00m price \u001b[38;5;241m<\u001b[39m\u001b[38;5;241m=\u001b[39m \u001b[38;5;241m0\u001b[39m:\n\u001b[1;32m---> 21\u001b[0m         \u001b[38;5;28;01mraise\u001b[39;00m \u001b[38;5;167;01mValueError\u001b[39;00m(\u001b[38;5;124m\"\u001b[39m\u001b[38;5;124mPrice must be positive.\u001b[39m\u001b[38;5;124m\"\u001b[39m)\n\u001b[0;32m     22\u001b[0m     \u001b[38;5;28mself\u001b[39m\u001b[38;5;241m.\u001b[39m__course_price \u001b[38;5;241m=\u001b[39m price\n",
      "\u001b[1;31mValueError\u001b[0m: Price must be positive."
     ]
    }
   ],
   "source": [
    "course.course_price = -1  # Setting a new price using the setter\n",
    "print(course.course_price)"
   ]
  },
  {
   "cell_type": "code",
   "execution_count": 16,
   "metadata": {},
   "outputs": [
    {
     "name": "stdout",
     "output_type": "stream",
     "text": [
      "Deleting course price...\n"
     ]
    }
   ],
   "source": [
    "del course.course_price  # Deleting the price using the deleter"
   ]
  },
  {
   "cell_type": "code",
   "execution_count": 17,
   "metadata": {},
   "outputs": [
    {
     "ename": "AttributeError",
     "evalue": "'Course' object has no attribute '_Course__course_price'",
     "output_type": "error",
     "traceback": [
      "\u001b[1;31m---------------------------------------------------------------------------\u001b[0m",
      "\u001b[1;31mAttributeError\u001b[0m                            Traceback (most recent call last)",
      "Cell \u001b[1;32mIn[17], line 1\u001b[0m\n\u001b[1;32m----> 1\u001b[0m \u001b[43mcourse\u001b[49m\u001b[38;5;241;43m.\u001b[39;49m\u001b[43mcourse_price\u001b[49m\n",
      "Cell \u001b[1;32mIn[12], line 12\u001b[0m, in \u001b[0;36mCourse.course_price\u001b[1;34m(self)\u001b[0m\n\u001b[0;32m     10\u001b[0m \u001b[38;5;129m@property\u001b[39m\n\u001b[0;32m     11\u001b[0m \u001b[38;5;28;01mdef\u001b[39;00m\u001b[38;5;250m \u001b[39m\u001b[38;5;21mcourse_price\u001b[39m(\u001b[38;5;28mself\u001b[39m):\n\u001b[1;32m---> 12\u001b[0m     \u001b[38;5;28;01mreturn\u001b[39;00m \u001b[38;5;28;43mself\u001b[39;49m\u001b[38;5;241;43m.\u001b[39;49m\u001b[43m__course_price\u001b[49m\n",
      "\u001b[1;31mAttributeError\u001b[0m: 'Course' object has no attribute '_Course__course_price'"
     ]
    }
   ],
   "source": [
    "course.course_price"
   ]
  },
  {
   "cell_type": "code",
   "execution_count": null,
   "metadata": {},
   "outputs": [],
   "source": []
  }
 ],
 "metadata": {
  "kernelspec": {
   "display_name": "lll",
   "language": "python",
   "name": "python3"
  },
  "language_info": {
   "codemirror_mode": {
    "name": "ipython",
    "version": 3
   },
   "file_extension": ".py",
   "mimetype": "text/x-python",
   "name": "python",
   "nbconvert_exporter": "python",
   "pygments_lexer": "ipython3",
   "version": "3.10.16"
  }
 },
 "nbformat": 4,
 "nbformat_minor": 2
}
