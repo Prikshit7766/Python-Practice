{
 "cells": [
  {
   "cell_type": "markdown",
   "metadata": {},
   "source": [
    "## Exception and  Error"
   ]
  },
  {
   "cell_type": "markdown",
   "metadata": {},
   "source": [
    "# Errors"
   ]
  },
  {
   "cell_type": "code",
   "execution_count": 2,
   "metadata": {},
   "outputs": [
    {
     "ename": "SyntaxError",
     "evalue": "unterminated string literal (detected at line 2) (1645323975.py, line 2)",
     "output_type": "error",
     "traceback": [
      "\u001b[1;36m  Cell \u001b[1;32mIn[2], line 2\u001b[1;36m\u001b[0m\n\u001b[1;33m    print(\"Hello World)\u001b[0m\n\u001b[1;37m          ^\u001b[0m\n\u001b[1;31mSyntaxError\u001b[0m\u001b[1;31m:\u001b[0m unterminated string literal (detected at line 2)\n"
     ]
    }
   ],
   "source": [
    "## syntax Error\n",
    "print(\"Hello World)"
   ]
  },
  {
   "cell_type": "code",
   "execution_count": 3,
   "metadata": {},
   "outputs": [
    {
     "ename": "ZeroDivisionError",
     "evalue": "division by zero",
     "output_type": "error",
     "traceback": [
      "\u001b[1;31m---------------------------------------------------------------------------\u001b[0m",
      "\u001b[1;31mZeroDivisionError\u001b[0m                         Traceback (most recent call last)",
      "\u001b[1;32md:\\full_stack\\MyPractice\\Python\\learning from youtube\\Intermediate\\exception_and _error.ipynb Cell 4\u001b[0m line \u001b[0;36m4\n\u001b[0;32m      <a href='vscode-notebook-cell:/d%3A/full_stack/MyPractice/Python/learning%20from%20youtube/Intermediate/exception_and%20_error.ipynb#W3sZmlsZQ%3D%3D?line=1'>2</a>\u001b[0m a \u001b[39m=\u001b[39m \u001b[39m5\u001b[39m\n\u001b[0;32m      <a href='vscode-notebook-cell:/d%3A/full_stack/MyPractice/Python/learning%20from%20youtube/Intermediate/exception_and%20_error.ipynb#W3sZmlsZQ%3D%3D?line=2'>3</a>\u001b[0m b \u001b[39m=\u001b[39m \u001b[39m0\u001b[39m\n\u001b[1;32m----> <a href='vscode-notebook-cell:/d%3A/full_stack/MyPractice/Python/learning%20from%20youtube/Intermediate/exception_and%20_error.ipynb#W3sZmlsZQ%3D%3D?line=3'>4</a>\u001b[0m \u001b[39mprint\u001b[39m(a\u001b[39m/\u001b[39;49mb)\n",
      "\u001b[1;31mZeroDivisionError\u001b[0m: division by zero"
     ]
    }
   ],
   "source": [
    "# Logic error\n",
    "a = 5\n",
    "b = 0\n",
    "print(a/b)\n"
   ]
  },
  {
   "cell_type": "code",
   "execution_count": 5,
   "metadata": {},
   "outputs": [
    {
     "ename": "TypeError",
     "evalue": "unsupported operand type(s) for +: 'int' and 'str'",
     "output_type": "error",
     "traceback": [
      "\u001b[1;31m---------------------------------------------------------------------------\u001b[0m",
      "\u001b[1;31mTypeError\u001b[0m                                 Traceback (most recent call last)",
      "\u001b[1;32md:\\full_stack\\MyPractice\\Python\\learning from youtube\\Intermediate\\exception_and _error.ipynb Cell 5\u001b[0m line \u001b[0;36m3\n\u001b[0;32m      <a href='vscode-notebook-cell:/d%3A/full_stack/MyPractice/Python/learning%20from%20youtube/Intermediate/exception_and%20_error.ipynb#W4sZmlsZQ%3D%3D?line=0'>1</a>\u001b[0m a \u001b[39m=\u001b[39m \u001b[39m5\u001b[39m\n\u001b[0;32m      <a href='vscode-notebook-cell:/d%3A/full_stack/MyPractice/Python/learning%20from%20youtube/Intermediate/exception_and%20_error.ipynb#W4sZmlsZQ%3D%3D?line=1'>2</a>\u001b[0m b \u001b[39m=\u001b[39m \u001b[39m\"\u001b[39m\u001b[39mas\u001b[39m\u001b[39m\"\u001b[39m\n\u001b[1;32m----> <a href='vscode-notebook-cell:/d%3A/full_stack/MyPractice/Python/learning%20from%20youtube/Intermediate/exception_and%20_error.ipynb#W4sZmlsZQ%3D%3D?line=2'>3</a>\u001b[0m \u001b[39mprint\u001b[39m(a\u001b[39m+\u001b[39;49mb)\n",
      "\u001b[1;31mTypeError\u001b[0m: unsupported operand type(s) for +: 'int' and 'str'"
     ]
    }
   ],
   "source": [
    "a = 5\n",
    "b = \"as\"\n",
    "print(a+b)\n"
   ]
  },
  {
   "cell_type": "code",
   "execution_count": 8,
   "metadata": {},
   "outputs": [
    {
     "ename": "ModuleNotFoundError",
     "evalue": "No module named 'module_not_exist'",
     "output_type": "error",
     "traceback": [
      "\u001b[1;31m---------------------------------------------------------------------------\u001b[0m",
      "\u001b[1;31mModuleNotFoundError\u001b[0m                       Traceback (most recent call last)",
      "\u001b[1;32md:\\full_stack\\MyPractice\\Python\\learning from youtube\\Intermediate\\exception_and _error.ipynb Cell 6\u001b[0m line \u001b[0;36m1\n\u001b[1;32m----> <a href='vscode-notebook-cell:/d%3A/full_stack/MyPractice/Python/learning%20from%20youtube/Intermediate/exception_and%20_error.ipynb#W5sZmlsZQ%3D%3D?line=0'>1</a>\u001b[0m \u001b[39mimport\u001b[39;00m \u001b[39mmodule_not_exist\u001b[39;00m\n",
      "\u001b[1;31mModuleNotFoundError\u001b[0m: No module named 'module_not_exist'"
     ]
    }
   ],
   "source": [
    "import module_not_exist"
   ]
  },
  {
   "cell_type": "code",
   "execution_count": 9,
   "metadata": {},
   "outputs": [
    {
     "ename": "NameError",
     "evalue": "name 'c' is not defined",
     "output_type": "error",
     "traceback": [
      "\u001b[1;31m---------------------------------------------------------------------------\u001b[0m",
      "\u001b[1;31mNameError\u001b[0m                                 Traceback (most recent call last)",
      "\u001b[1;32md:\\full_stack\\MyPractice\\Python\\learning from youtube\\Intermediate\\exception_and _error.ipynb Cell 7\u001b[0m line \u001b[0;36m2\n\u001b[0;32m      <a href='vscode-notebook-cell:/d%3A/full_stack/MyPractice/Python/learning%20from%20youtube/Intermediate/exception_and%20_error.ipynb#W6sZmlsZQ%3D%3D?line=0'>1</a>\u001b[0m a \u001b[39m=\u001b[39m \u001b[39m5\u001b[39m \n\u001b[1;32m----> <a href='vscode-notebook-cell:/d%3A/full_stack/MyPractice/Python/learning%20from%20youtube/Intermediate/exception_and%20_error.ipynb#W6sZmlsZQ%3D%3D?line=1'>2</a>\u001b[0m b \u001b[39m=\u001b[39m c \n",
      "\u001b[1;31mNameError\u001b[0m: name 'c' is not defined"
     ]
    }
   ],
   "source": [
    "a = 5 \n",
    "b = c "
   ]
  },
  {
   "cell_type": "code",
   "execution_count": 10,
   "metadata": {},
   "outputs": [
    {
     "ename": "FileNotFoundError",
     "evalue": "[Errno 2] No such file or directory: 'file_not_exist.txt'",
     "output_type": "error",
     "traceback": [
      "\u001b[1;31m---------------------------------------------------------------------------\u001b[0m",
      "\u001b[1;31mFileNotFoundError\u001b[0m                         Traceback (most recent call last)",
      "\u001b[1;32md:\\full_stack\\MyPractice\\Python\\learning from youtube\\Intermediate\\exception_and _error.ipynb Cell 8\u001b[0m line \u001b[0;36m1\n\u001b[1;32m----> <a href='vscode-notebook-cell:/d%3A/full_stack/MyPractice/Python/learning%20from%20youtube/Intermediate/exception_and%20_error.ipynb#X10sZmlsZQ%3D%3D?line=0'>1</a>\u001b[0m f \u001b[39m=\u001b[39m \u001b[39mopen\u001b[39;49m(\u001b[39m\"\u001b[39;49m\u001b[39mfile_not_exist.txt\u001b[39;49m\u001b[39m\"\u001b[39;49m)\n",
      "File \u001b[1;32mc:\\Users\\HP\\anaconda3\\envs\\ge\\Lib\\site-packages\\IPython\\core\\interactiveshell.py:284\u001b[0m, in \u001b[0;36m_modified_open\u001b[1;34m(file, *args, **kwargs)\u001b[0m\n\u001b[0;32m    277\u001b[0m \u001b[39mif\u001b[39;00m file \u001b[39min\u001b[39;00m {\u001b[39m0\u001b[39m, \u001b[39m1\u001b[39m, \u001b[39m2\u001b[39m}:\n\u001b[0;32m    278\u001b[0m     \u001b[39mraise\u001b[39;00m \u001b[39mValueError\u001b[39;00m(\n\u001b[0;32m    279\u001b[0m         \u001b[39mf\u001b[39m\u001b[39m\"\u001b[39m\u001b[39mIPython won\u001b[39m\u001b[39m'\u001b[39m\u001b[39mt let you open fd=\u001b[39m\u001b[39m{\u001b[39;00mfile\u001b[39m}\u001b[39;00m\u001b[39m by default \u001b[39m\u001b[39m\"\u001b[39m\n\u001b[0;32m    280\u001b[0m         \u001b[39m\"\u001b[39m\u001b[39mas it is likely to crash IPython. If you know what you are doing, \u001b[39m\u001b[39m\"\u001b[39m\n\u001b[0;32m    281\u001b[0m         \u001b[39m\"\u001b[39m\u001b[39myou can use builtins\u001b[39m\u001b[39m'\u001b[39m\u001b[39m open.\u001b[39m\u001b[39m\"\u001b[39m\n\u001b[0;32m    282\u001b[0m     )\n\u001b[1;32m--> 284\u001b[0m \u001b[39mreturn\u001b[39;00m io_open(file, \u001b[39m*\u001b[39;49margs, \u001b[39m*\u001b[39;49m\u001b[39m*\u001b[39;49mkwargs)\n",
      "\u001b[1;31mFileNotFoundError\u001b[0m: [Errno 2] No such file or directory: 'file_not_exist.txt'"
     ]
    }
   ],
   "source": [
    "f = open(\"file_not_exist.txt\")"
   ]
  },
  {
   "cell_type": "code",
   "execution_count": 11,
   "metadata": {},
   "outputs": [
    {
     "ename": "ValueError",
     "evalue": "list.remove(x): x not in list",
     "output_type": "error",
     "traceback": [
      "\u001b[1;31m---------------------------------------------------------------------------\u001b[0m",
      "\u001b[1;31mValueError\u001b[0m                                Traceback (most recent call last)",
      "\u001b[1;32md:\\full_stack\\MyPractice\\Python\\learning from youtube\\Intermediate\\exception_and _error.ipynb Cell 9\u001b[0m line \u001b[0;36m3\n\u001b[0;32m      <a href='vscode-notebook-cell:/d%3A/full_stack/MyPractice/Python/learning%20from%20youtube/Intermediate/exception_and%20_error.ipynb#X11sZmlsZQ%3D%3D?line=0'>1</a>\u001b[0m a \u001b[39m=\u001b[39m  [\u001b[39m1\u001b[39m,\u001b[39m2\u001b[39m,\u001b[39m3\u001b[39m,\u001b[39m4\u001b[39m,\u001b[39m5\u001b[39m]\n\u001b[1;32m----> <a href='vscode-notebook-cell:/d%3A/full_stack/MyPractice/Python/learning%20from%20youtube/Intermediate/exception_and%20_error.ipynb#X11sZmlsZQ%3D%3D?line=2'>3</a>\u001b[0m a\u001b[39m.\u001b[39;49mremove(\u001b[39m6\u001b[39;49m)\n",
      "\u001b[1;31mValueError\u001b[0m: list.remove(x): x not in list"
     ]
    }
   ],
   "source": [
    "a =  [1,2,3,4,5]\n",
    "\n",
    "a.remove(6)"
   ]
  },
  {
   "cell_type": "code",
   "execution_count": 14,
   "metadata": {},
   "outputs": [
    {
     "ename": "IndexError",
     "evalue": "list index out of range",
     "output_type": "error",
     "traceback": [
      "\u001b[1;31m---------------------------------------------------------------------------\u001b[0m",
      "\u001b[1;31mIndexError\u001b[0m                                Traceback (most recent call last)",
      "\u001b[1;32md:\\full_stack\\MyPractice\\Python\\learning from youtube\\Intermediate\\exception_and _error.ipynb Cell 10\u001b[0m line \u001b[0;36m3\n\u001b[0;32m      <a href='vscode-notebook-cell:/d%3A/full_stack/MyPractice/Python/learning%20from%20youtube/Intermediate/exception_and%20_error.ipynb#X12sZmlsZQ%3D%3D?line=0'>1</a>\u001b[0m a \u001b[39m=\u001b[39m  [\u001b[39m1\u001b[39m,\u001b[39m2\u001b[39m,\u001b[39m3\u001b[39m,\u001b[39m4\u001b[39m,\u001b[39m5\u001b[39m]\n\u001b[1;32m----> <a href='vscode-notebook-cell:/d%3A/full_stack/MyPractice/Python/learning%20from%20youtube/Intermediate/exception_and%20_error.ipynb#X12sZmlsZQ%3D%3D?line=2'>3</a>\u001b[0m a[\u001b[39m6\u001b[39;49m]\n",
      "\u001b[1;31mIndexError\u001b[0m: list index out of range"
     ]
    }
   ],
   "source": [
    "a =  [1,2,3,4,5]\n",
    "\n",
    "a[6]"
   ]
  },
  {
   "cell_type": "code",
   "execution_count": 15,
   "metadata": {},
   "outputs": [
    {
     "ename": "KeyError",
     "evalue": "'address'",
     "output_type": "error",
     "traceback": [
      "\u001b[1;31m---------------------------------------------------------------------------\u001b[0m",
      "\u001b[1;31mKeyError\u001b[0m                                  Traceback (most recent call last)",
      "\u001b[1;32md:\\full_stack\\MyPractice\\Python\\learning from youtube\\Intermediate\\exception_and _error.ipynb Cell 11\u001b[0m line \u001b[0;36m3\n\u001b[0;32m      <a href='vscode-notebook-cell:/d%3A/full_stack/MyPractice/Python/learning%20from%20youtube/Intermediate/exception_and%20_error.ipynb#X13sZmlsZQ%3D%3D?line=0'>1</a>\u001b[0m my_dict \u001b[39m=\u001b[39m {\u001b[39m\"\u001b[39m\u001b[39mname\u001b[39m\u001b[39m\"\u001b[39m:\u001b[39m\"\u001b[39m\u001b[39mJohn\u001b[39m\u001b[39m\"\u001b[39m, \u001b[39m\"\u001b[39m\u001b[39mage\u001b[39m\u001b[39m\"\u001b[39m: \u001b[39m25\u001b[39m}\n\u001b[1;32m----> <a href='vscode-notebook-cell:/d%3A/full_stack/MyPractice/Python/learning%20from%20youtube/Intermediate/exception_and%20_error.ipynb#X13sZmlsZQ%3D%3D?line=2'>3</a>\u001b[0m my_dict[\u001b[39m\"\u001b[39;49m\u001b[39maddress\u001b[39;49m\u001b[39m\"\u001b[39;49m]\n",
      "\u001b[1;31mKeyError\u001b[0m: 'address'"
     ]
    }
   ],
   "source": [
    "my_dict = {\"name\":\"John\", \"age\": 25}\n",
    "\n",
    "my_dict[\"address\"]"
   ]
  },
  {
   "cell_type": "markdown",
   "metadata": {},
   "source": [
    "## Rasing Exceptions"
   ]
  },
  {
   "cell_type": "code",
   "execution_count": 17,
   "metadata": {},
   "outputs": [
    {
     "ename": "Exception",
     "evalue": "Sorry, no numbers below zero",
     "output_type": "error",
     "traceback": [
      "\u001b[1;31m---------------------------------------------------------------------------\u001b[0m",
      "\u001b[1;31mException\u001b[0m                                 Traceback (most recent call last)",
      "\u001b[1;32md:\\full_stack\\MyPractice\\Python\\learning from youtube\\Intermediate\\exception_and _error.ipynb Cell 13\u001b[0m line \u001b[0;36m3\n\u001b[0;32m      <a href='vscode-notebook-cell:/d%3A/full_stack/MyPractice/Python/learning%20from%20youtube/Intermediate/exception_and%20_error.ipynb#X15sZmlsZQ%3D%3D?line=0'>1</a>\u001b[0m x \u001b[39m=\u001b[39m  \u001b[39m-\u001b[39m \u001b[39m5\u001b[39m \n\u001b[0;32m      <a href='vscode-notebook-cell:/d%3A/full_stack/MyPractice/Python/learning%20from%20youtube/Intermediate/exception_and%20_error.ipynb#X15sZmlsZQ%3D%3D?line=1'>2</a>\u001b[0m \u001b[39mif\u001b[39;00m x \u001b[39m<\u001b[39m \u001b[39m0\u001b[39m :\n\u001b[1;32m----> <a href='vscode-notebook-cell:/d%3A/full_stack/MyPractice/Python/learning%20from%20youtube/Intermediate/exception_and%20_error.ipynb#X15sZmlsZQ%3D%3D?line=2'>3</a>\u001b[0m     \u001b[39mraise\u001b[39;00m \u001b[39mException\u001b[39;00m(\u001b[39m\"\u001b[39m\u001b[39mSorry, no numbers below zero\u001b[39m\u001b[39m\"\u001b[39m)\n",
      "\u001b[1;31mException\u001b[0m: Sorry, no numbers below zero"
     ]
    }
   ],
   "source": [
    "x =  - 5 \n",
    "if x < 0 :\n",
    "    raise Exception(\"Sorry, no numbers below zero\")"
   ]
  },
  {
   "cell_type": "code",
   "execution_count": 19,
   "metadata": {},
   "outputs": [
    {
     "ename": "AssertionError",
     "evalue": "x is negative",
     "output_type": "error",
     "traceback": [
      "\u001b[1;31m---------------------------------------------------------------------------\u001b[0m",
      "\u001b[1;31mAssertionError\u001b[0m                            Traceback (most recent call last)",
      "\u001b[1;32md:\\full_stack\\MyPractice\\Python\\learning from youtube\\Intermediate\\exception_and _error.ipynb Cell 14\u001b[0m line \u001b[0;36m1\n\u001b[1;32m----> <a href='vscode-notebook-cell:/d%3A/full_stack/MyPractice/Python/learning%20from%20youtube/Intermediate/exception_and%20_error.ipynb#X21sZmlsZQ%3D%3D?line=0'>1</a>\u001b[0m \u001b[39massert\u001b[39;00m(x \u001b[39m>\u001b[39m\u001b[39m=\u001b[39m\u001b[39m0\u001b[39m ),\u001b[39m\"\u001b[39m\u001b[39mx is negative\u001b[39m\u001b[39m\"\u001b[39m\n",
      "\u001b[1;31mAssertionError\u001b[0m: x is negative"
     ]
    }
   ],
   "source": [
    "assert(x >=0 ),\"x is negative\"   # asertion error\n"
   ]
  },
  {
   "cell_type": "markdown",
   "metadata": {},
   "source": [
    "# Handle exception"
   ]
  },
  {
   "cell_type": "code",
   "execution_count": 21,
   "metadata": {},
   "outputs": [
    {
     "name": "stdout",
     "output_type": "stream",
     "text": [
      "division by zero\n"
     ]
    }
   ],
   "source": [
    "try:\n",
    "    a = 5/0\n",
    "    print(a)\n",
    "\n",
    "except Exception as e:\n",
    "    print(e)"
   ]
  },
  {
   "cell_type": "code",
   "execution_count": 23,
   "metadata": {},
   "outputs": [
    {
     "name": "stdout",
     "output_type": "stream",
     "text": [
      "unsupported operand type(s) for +: 'int' and 'str'\n"
     ]
    }
   ],
   "source": [
    "# if yor know which trye of error you are going to face in future \n",
    "\n",
    "try:\n",
    "    a = 5 + \"ddd\"\n",
    "    print(a)\n",
    "\n",
    "except ZeroDivisionError as e:\n",
    "    print(e)\n",
    "\n",
    "except TypeError as e:\n",
    "    print(e)"
   ]
  },
  {
   "cell_type": "code",
   "execution_count": 25,
   "metadata": {},
   "outputs": [
    {
     "name": "stdout",
     "output_type": "stream",
     "text": [
      "5\n",
      "Everything is fine\n"
     ]
    }
   ],
   "source": [
    "try:\n",
    "    a = 5 \n",
    "    print(a)\n",
    "\n",
    "except ZeroDivisionError as e:\n",
    "    print(e)\n",
    "\n",
    "except TypeError as e:\n",
    "    print(e)\n",
    "\n",
    "else:\n",
    "    # run if no exception is raised\n",
    "    print(\"Everything is fine\")"
   ]
  },
  {
   "cell_type": "code",
   "execution_count": 26,
   "metadata": {},
   "outputs": [
    {
     "name": "stdout",
     "output_type": "stream",
     "text": [
      "5\n",
      "Everything is fine\n",
      "I will run no matter what\n"
     ]
    }
   ],
   "source": [
    "try:\n",
    "    a = 5 \n",
    "    print(a)\n",
    "\n",
    "except ZeroDivisionError as e:\n",
    "    print(e)\n",
    "\n",
    "except TypeError as e:\n",
    "    print(e)\n",
    "\n",
    "else:\n",
    "    # run if no exception is raised\n",
    "    print(\"Everything is fine\")\n",
    "finally:\n",
    "    print(\"I will run no matter what\")\n",
    "    "
   ]
  },
  {
   "cell_type": "code",
   "execution_count": 27,
   "metadata": {},
   "outputs": [
    {
     "name": "stdout",
     "output_type": "stream",
     "text": [
      "division by zero\n",
      "I will run no matter what\n"
     ]
    }
   ],
   "source": [
    "try:\n",
    "    a = 5/0 \n",
    "    print(a)\n",
    "\n",
    "except ZeroDivisionError as e:\n",
    "    print(e)\n",
    "\n",
    "except TypeError as e:\n",
    "    print(e)\n",
    "\n",
    "else:\n",
    "    # run if no exception is raised\n",
    "    print(\"Everything is fine\")\n",
    "finally:\n",
    "    print(\"I will run no matter what\")"
   ]
  },
  {
   "cell_type": "markdown",
   "metadata": {},
   "source": [
    "## Defining our own Exception"
   ]
  },
  {
   "cell_type": "code",
   "execution_count": 28,
   "metadata": {},
   "outputs": [],
   "source": [
    "class ValueToolsHighError(Exception):\n",
    "    pass\n",
    "\n",
    "\n",
    "def test_value(x):\n",
    "    if x > 100:\n",
    "        raise ValueToolsHighError(\"Value is too high\")"
   ]
  },
  {
   "cell_type": "code",
   "execution_count": 29,
   "metadata": {},
   "outputs": [
    {
     "ename": "ValueToolsHighError",
     "evalue": "Value is too high",
     "output_type": "error",
     "traceback": [
      "\u001b[1;31m---------------------------------------------------------------------------\u001b[0m",
      "\u001b[1;31mValueToolsHighError\u001b[0m                       Traceback (most recent call last)",
      "\u001b[1;32md:\\full_stack\\MyPractice\\Python\\learning from youtube\\Intermediate\\exception_and _error.ipynb Cell 23\u001b[0m line \u001b[0;36m1\n\u001b[1;32m----> <a href='vscode-notebook-cell:/d%3A/full_stack/MyPractice/Python/learning%20from%20youtube/Intermediate/exception_and%20_error.ipynb#X34sZmlsZQ%3D%3D?line=0'>1</a>\u001b[0m test_value(\u001b[39m111\u001b[39;49m)\n",
      "\u001b[1;32md:\\full_stack\\MyPractice\\Python\\learning from youtube\\Intermediate\\exception_and _error.ipynb Cell 23\u001b[0m line \u001b[0;36m7\n\u001b[0;32m      <a href='vscode-notebook-cell:/d%3A/full_stack/MyPractice/Python/learning%20from%20youtube/Intermediate/exception_and%20_error.ipynb#X34sZmlsZQ%3D%3D?line=4'>5</a>\u001b[0m \u001b[39mdef\u001b[39;00m \u001b[39mtest_value\u001b[39m(x):\n\u001b[0;32m      <a href='vscode-notebook-cell:/d%3A/full_stack/MyPractice/Python/learning%20from%20youtube/Intermediate/exception_and%20_error.ipynb#X34sZmlsZQ%3D%3D?line=5'>6</a>\u001b[0m     \u001b[39mif\u001b[39;00m x \u001b[39m>\u001b[39m \u001b[39m100\u001b[39m:\n\u001b[1;32m----> <a href='vscode-notebook-cell:/d%3A/full_stack/MyPractice/Python/learning%20from%20youtube/Intermediate/exception_and%20_error.ipynb#X34sZmlsZQ%3D%3D?line=6'>7</a>\u001b[0m         \u001b[39mraise\u001b[39;00m ValueToolsHighError(\u001b[39m\"\u001b[39m\u001b[39mValue is too high\u001b[39m\u001b[39m\"\u001b[39m)\n",
      "\u001b[1;31mValueToolsHighError\u001b[0m: Value is too high"
     ]
    }
   ],
   "source": [
    "test_value(111)"
   ]
  },
  {
   "cell_type": "code",
   "execution_count": 30,
   "metadata": {},
   "outputs": [
    {
     "name": "stdout",
     "output_type": "stream",
     "text": [
      "Value is too high\n"
     ]
    }
   ],
   "source": [
    "try:\n",
    "    test_value(111)\n",
    "except ValueToolsHighError as e:\n",
    "    print(e)\n",
    "    "
   ]
  },
  {
   "cell_type": "code",
   "execution_count": 31,
   "metadata": {},
   "outputs": [
    {
     "name": "stdout",
     "output_type": "stream",
     "text": [
      "Value is too high\n"
     ]
    }
   ],
   "source": [
    "try:\n",
    "    test_value(111)\n",
    "except Exception as e:\n",
    "    print(e)"
   ]
  },
  {
   "cell_type": "code",
   "execution_count": 1,
   "metadata": {},
   "outputs": [],
   "source": [
    "class ValueToolsHighError(Exception):\n",
    "    pass\n",
    "\n",
    "class ValueTooSmallError(Exception):\n",
    "    def __init__(self, message, value):\n",
    "        self.message = message\n",
    "        self.value = value\n",
    "\n",
    "def test_value(x):\n",
    "    if x > 100:\n",
    "        raise ValueToolsHighError(\"Value is too high\")\n",
    "    if x < 5:\n",
    "        raise ValueTooSmallError(\"Value is too small\",x)\n",
    "    \n",
    "    "
   ]
  },
  {
   "cell_type": "code",
   "execution_count": 2,
   "metadata": {},
   "outputs": [
    {
     "name": "stdout",
     "output_type": "stream",
     "text": [
      "Value is too high\n"
     ]
    }
   ],
   "source": [
    "try:\n",
    "    test_value(10000)\n",
    "except ValueToolsHighError as e:\n",
    "    print(e)\n",
    "except ValueTooSmallError as e :\n",
    "    print(e.message , e.value)"
   ]
  },
  {
   "cell_type": "code",
   "execution_count": null,
   "metadata": {},
   "outputs": [],
   "source": []
  }
 ],
 "metadata": {
  "kernelspec": {
   "display_name": "ge",
   "language": "python",
   "name": "python3"
  },
  "language_info": {
   "codemirror_mode": {
    "name": "ipython",
    "version": 3
   },
   "file_extension": ".py",
   "mimetype": "text/x-python",
   "name": "python",
   "nbconvert_exporter": "python",
   "pygments_lexer": "ipython3",
   "version": "3.11.4"
  },
  "orig_nbformat": 4
 },
 "nbformat": 4,
 "nbformat_minor": 2
}
