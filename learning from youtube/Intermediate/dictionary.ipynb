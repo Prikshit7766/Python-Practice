{
 "cells": [
  {
   "cell_type": "markdown",
   "metadata": {},
   "source": [
    "## Dictionaries"
   ]
  },
  {
   "cell_type": "code",
   "execution_count": null,
   "metadata": {},
   "outputs": [],
   "source": [
    "# Dictionaries: key-value pairs, unordered, mutable\n"
   ]
  },
  {
   "cell_type": "code",
   "execution_count": 1,
   "metadata": {},
   "outputs": [
    {
     "name": "stdout",
     "output_type": "stream",
     "text": [
      "{'name': 'Max', 'age': 32, 'city': 'New Yock'}\n",
      "{'name': 'Mary', 'age': 27, 'city': 'Bostom'}\n"
     ]
    }
   ],
   "source": [
    "mydict = {\"name\":\"Max\",\"age\":32,\"city\":\"New Yock\"}\n",
    "\n",
    "print(mydict)\n",
    "\n",
    "\n",
    "mydict2=dict(name= \"Mary\",age=27,city=\"Bostom\")\n",
    "print(mydict2)\n"
   ]
  },
  {
   "cell_type": "code",
   "execution_count": 3,
   "metadata": {},
   "outputs": [
    {
     "data": {
      "text/plain": [
       "'Max'"
      ]
     },
     "execution_count": 3,
     "metadata": {},
     "output_type": "execute_result"
    }
   ],
   "source": [
    "value= mydict[\"name\"]\n",
    "value"
   ]
  },
  {
   "cell_type": "code",
   "execution_count": 4,
   "metadata": {},
   "outputs": [
    {
     "ename": "NameError",
     "evalue": "name 'lastname' is not defined",
     "output_type": "error",
     "traceback": [
      "\u001b[1;31m---------------------------------------------------------------------------\u001b[0m",
      "\u001b[1;31mNameError\u001b[0m                                 Traceback (most recent call last)",
      "\u001b[1;32md:\\full_stack\\MyPractice\\Python\\learning from youtube\\Intermediate\\dictionary.ipynb Cell 4\u001b[0m line \u001b[0;36m1\n\u001b[1;32m----> <a href='vscode-notebook-cell:/d%3A/full_stack/MyPractice/Python/learning%20from%20youtube/Intermediate/dictionary.ipynb#W3sZmlsZQ%3D%3D?line=0'>1</a>\u001b[0m value\u001b[39m=\u001b[39m mydict[lastname]\n\u001b[0;32m      <a href='vscode-notebook-cell:/d%3A/full_stack/MyPractice/Python/learning%20from%20youtube/Intermediate/dictionary.ipynb#W3sZmlsZQ%3D%3D?line=1'>2</a>\u001b[0m value\n",
      "\u001b[1;31mNameError\u001b[0m: name 'lastname' is not defined"
     ]
    }
   ],
   "source": [
    "value= mydict[lastname]\n",
    "value\n",
    "# raise exception"
   ]
  },
  {
   "cell_type": "code",
   "execution_count": 5,
   "metadata": {},
   "outputs": [
    {
     "name": "stdout",
     "output_type": "stream",
     "text": [
      "<class 'dict'>\n"
     ]
    }
   ],
   "source": [
    "mydict[\"email\"]=\"max@xyz.com\"\n",
    "\n",
    "print(mydict)"
   ]
  },
  {
   "cell_type": "code",
   "execution_count": 6,
   "metadata": {},
   "outputs": [
    {
     "data": {
      "text/plain": [
       "{'name': 'Max', 'age': 32, 'city': 'New Yock', 'email': 'max111xyz.com'}"
      ]
     },
     "execution_count": 6,
     "metadata": {},
     "output_type": "execute_result"
    }
   ],
   "source": [
    "mydict[\"email\"]=\"max111xyz.com\"\n",
    "mydict"
   ]
  },
  {
   "cell_type": "markdown",
   "metadata": {},
   "source": [
    "#### delete items"
   ]
  },
  {
   "cell_type": "code",
   "execution_count": 8,
   "metadata": {},
   "outputs": [
    {
     "data": {
      "text/plain": [
       "{'age': 32, 'city': 'New Yock', 'email': 'max111xyz.com'}"
      ]
     },
     "execution_count": 8,
     "metadata": {},
     "output_type": "execute_result"
    }
   ],
   "source": [
    "# delete items\n",
    "\n",
    "del mydict[\"name\"]  # reomves the name\n",
    "\n",
    "mydict"
   ]
  },
  {
   "cell_type": "code",
   "execution_count": 10,
   "metadata": {},
   "outputs": [
    {
     "data": {
      "text/plain": [
       "{'city': 'New Yock', 'email': 'max111xyz.com'}"
      ]
     },
     "execution_count": 10,
     "metadata": {},
     "output_type": "execute_result"
    }
   ],
   "source": [
    "mydict.pop(\"age\")  # removes the age \n",
    "mydict"
   ]
  },
  {
   "cell_type": "code",
   "execution_count": 11,
   "metadata": {},
   "outputs": [
    {
     "data": {
      "text/plain": [
       "{'city': 'New Yock'}"
      ]
     },
     "execution_count": 11,
     "metadata": {},
     "output_type": "execute_result"
    }
   ],
   "source": [
    "mydict.popitem()   # removes the last item\n",
    "mydict"
   ]
  },
  {
   "cell_type": "markdown",
   "metadata": {},
   "source": [
    "#### iteratiing over dictionary"
   ]
  },
  {
   "cell_type": "code",
   "execution_count": 12,
   "metadata": {},
   "outputs": [
    {
     "name": "stdout",
     "output_type": "stream",
     "text": [
      "Max\n"
     ]
    }
   ],
   "source": [
    "mydict = {\"name\":\"Max\",\"age\":32,\"city\":\"New Yock\"}\n",
    "\n",
    "if \"name\" in mydict:\n",
    "    print(mydict[\"name\"])"
   ]
  },
  {
   "cell_type": "code",
   "execution_count": 15,
   "metadata": {},
   "outputs": [
    {
     "name": "stdout",
     "output_type": "stream",
     "text": [
      "error\n"
     ]
    }
   ],
   "source": [
    "mydict = {\"name\":\"Max\",\"age\":32,\"city\":\"New Yock\"}\n",
    "\n",
    "try:\n",
    "    print(mydict[\"last_name\"])\n",
    "except:\n",
    "    print(\"error\")"
   ]
  },
  {
   "cell_type": "code",
   "execution_count": 16,
   "metadata": {},
   "outputs": [
    {
     "name": "stdout",
     "output_type": "stream",
     "text": [
      "name\n",
      "age\n",
      "city\n"
     ]
    }
   ],
   "source": [
    "# loop through a dict\n",
    "\n",
    "for i in  mydict:\n",
    "    print(i)"
   ]
  },
  {
   "cell_type": "code",
   "execution_count": 17,
   "metadata": {},
   "outputs": [
    {
     "name": "stdout",
     "output_type": "stream",
     "text": [
      "('name', 'Max')\n",
      "('age', 32)\n",
      "('city', 'New Yock')\n"
     ]
    }
   ],
   "source": [
    "for i in  mydict.items():\n",
    "    print(i)"
   ]
  },
  {
   "cell_type": "code",
   "execution_count": 18,
   "metadata": {},
   "outputs": [
    {
     "name": "stdout",
     "output_type": "stream",
     "text": [
      "name\n",
      "age\n",
      "city\n"
     ]
    }
   ],
   "source": [
    "for i in  mydict.keys():\n",
    "    print(i)"
   ]
  },
  {
   "cell_type": "code",
   "execution_count": 20,
   "metadata": {},
   "outputs": [
    {
     "name": "stdout",
     "output_type": "stream",
     "text": [
      "Max\n",
      "32\n",
      "New Yock\n"
     ]
    }
   ],
   "source": [
    "for i in  mydict.values():\n",
    "    print(i)"
   ]
  },
  {
   "cell_type": "markdown",
   "metadata": {},
   "source": [
    "#### copying a dictiobary"
   ]
  },
  {
   "cell_type": "code",
   "execution_count": 21,
   "metadata": {},
   "outputs": [
    {
     "name": "stdout",
     "output_type": "stream",
     "text": [
      "{'name': 'Max', 'age': 32, 'city': 'New Yock', 'email': 'am@gmail.com'}\n",
      "{'name': 'Max', 'age': 32, 'city': 'New Yock', 'email': 'am@gmail.com'}\n"
     ]
    }
   ],
   "source": [
    "# copy\n",
    "\n",
    "mydict_copy = mydict\n",
    "\n",
    "mydict_copy[\"email\"]=\"am@gmail.com\"\n",
    "print(mydict_copy)\n",
    "print(mydict)"
   ]
  },
  {
   "cell_type": "code",
   "execution_count": 23,
   "metadata": {},
   "outputs": [
    {
     "name": "stdout",
     "output_type": "stream",
     "text": [
      "{'name': 'Max', 'age': 32, 'city': 'New Yock', 'email': 'am@gmail.com'}\n",
      "{'name': 'Max', 'age': 32, 'city': 'New Yock'}\n"
     ]
    }
   ],
   "source": [
    "mydict = {\"name\":\"Max\",\"age\":32,\"city\":\"New Yock\"}\n",
    "\n",
    "mydict_copy = mydict.copy()\n",
    "\n",
    "mydict_copy[\"email\"]=\"am@gmail.com\"\n",
    "print(mydict_copy)\n",
    "print(mydict)"
   ]
  },
  {
   "cell_type": "code",
   "execution_count": 24,
   "metadata": {},
   "outputs": [
    {
     "name": "stdout",
     "output_type": "stream",
     "text": [
      "{'name': 'Max', 'age': 32, 'city': 'New Yock', 'email': 'am@gmail.com'}\n",
      "{'name': 'Max', 'age': 32, 'city': 'New Yock'}\n"
     ]
    }
   ],
   "source": [
    "mydict = {\"name\":\"Max\",\"age\":32,\"city\":\"New Yock\"}\n",
    "\n",
    "mydict_copy = dict(mydict)\n",
    "\n",
    "mydict_copy[\"email\"]=\"am@gmail.com\"\n",
    "print(mydict_copy)\n",
    "print(mydict)"
   ]
  },
  {
   "cell_type": "code",
   "execution_count": 26,
   "metadata": {},
   "outputs": [
    {
     "data": {
      "text/plain": [
       "{'name': 'marry', 'age': 27, 'city': 'aa', 'email': 'am@gmail.com'}"
      ]
     },
     "execution_count": 26,
     "metadata": {},
     "output_type": "execute_result"
    }
   ],
   "source": [
    "# merage two dict\n",
    "mydict1 = {\"name\":\"Max\",\"age\":32,\"city\":\"New Yock\"}\n",
    "mydict2={'name': 'marry', 'age': 27, 'city': 'aa', 'email': 'am@gmail.com'}\n",
    "\n",
    "mydict1.update(mydict2)  # here if the keys exist in both the dict then it will get updated\n",
    "\n",
    "mydict1"
   ]
  },
  {
   "cell_type": "code",
   "execution_count": 28,
   "metadata": {},
   "outputs": [
    {
     "name": "stdout",
     "output_type": "stream",
     "text": [
      "{2: 9, 9: 10}\n"
     ]
    }
   ],
   "source": [
    "my_dict={2:9,9:10}\n",
    "print(my_dict)"
   ]
  },
  {
   "cell_type": "code",
   "execution_count": 29,
   "metadata": {},
   "outputs": [
    {
     "ename": "KeyError",
     "evalue": "0",
     "output_type": "error",
     "traceback": [
      "\u001b[1;31m---------------------------------------------------------------------------\u001b[0m",
      "\u001b[1;31mKeyError\u001b[0m                                  Traceback (most recent call last)",
      "\u001b[1;32md:\\full_stack\\MyPractice\\Python\\learning from youtube\\Intermediate\\dictionary.ipynb Cell 21\u001b[0m line \u001b[0;36m1\n\u001b[1;32m----> <a href='vscode-notebook-cell:/d%3A/full_stack/MyPractice/Python/learning%20from%20youtube/Intermediate/dictionary.ipynb#X26sZmlsZQ%3D%3D?line=0'>1</a>\u001b[0m my_dict[\u001b[39m0\u001b[39;49m]\n",
      "\u001b[1;31mKeyError\u001b[0m: 0"
     ]
    }
   ],
   "source": [
    "my_dict[0]"
   ]
  },
  {
   "cell_type": "code",
   "execution_count": 30,
   "metadata": {},
   "outputs": [
    {
     "data": {
      "text/plain": [
       "9"
      ]
     },
     "execution_count": 30,
     "metadata": {},
     "output_type": "execute_result"
    }
   ],
   "source": [
    "my_dict[2]"
   ]
  },
  {
   "cell_type": "markdown",
   "metadata": {},
   "source": [
    "#### typle and list in dictionary"
   ]
  },
  {
   "cell_type": "code",
   "execution_count": 33,
   "metadata": {},
   "outputs": [
    {
     "name": "stdout",
     "output_type": "stream",
     "text": [
      "{(8, 7): 15}\n"
     ]
    }
   ],
   "source": [
    "# tuple can be used as dictionary key\n",
    "my_tuple = (8,7)\n",
    "\n",
    "my_dict={my_tuple:15}\n",
    "print(my_dict)"
   ]
  },
  {
   "cell_type": "code",
   "execution_count": 34,
   "metadata": {},
   "outputs": [
    {
     "ename": "TypeError",
     "evalue": "unhashable type: 'list'",
     "output_type": "error",
     "traceback": [
      "\u001b[1;31m---------------------------------------------------------------------------\u001b[0m",
      "\u001b[1;31mTypeError\u001b[0m                                 Traceback (most recent call last)",
      "\u001b[1;32md:\\full_stack\\MyPractice\\Python\\learning from youtube\\Intermediate\\dictionary.ipynb Cell 24\u001b[0m line \u001b[0;36m3\n\u001b[0;32m      <a href='vscode-notebook-cell:/d%3A/full_stack/MyPractice/Python/learning%20from%20youtube/Intermediate/dictionary.ipynb#X33sZmlsZQ%3D%3D?line=0'>1</a>\u001b[0m my_list \u001b[39m=\u001b[39m [\u001b[39m8\u001b[39m,\u001b[39m7\u001b[39m]\n\u001b[1;32m----> <a href='vscode-notebook-cell:/d%3A/full_stack/MyPractice/Python/learning%20from%20youtube/Intermediate/dictionary.ipynb#X33sZmlsZQ%3D%3D?line=2'>3</a>\u001b[0m my_dict\u001b[39m=\u001b[39m{my_list:\u001b[39m15\u001b[39m}\n\u001b[0;32m      <a href='vscode-notebook-cell:/d%3A/full_stack/MyPractice/Python/learning%20from%20youtube/Intermediate/dictionary.ipynb#X33sZmlsZQ%3D%3D?line=3'>4</a>\u001b[0m \u001b[39mprint\u001b[39m(my_dict)\n",
      "\u001b[1;31mTypeError\u001b[0m: unhashable type: 'list'"
     ]
    }
   ],
   "source": [
    "# list cannot be used as key\n",
    "\n",
    "my_list = [8,7]\n",
    "\n",
    "my_dict={my_list:15}\n",
    "print(my_dict)   "
   ]
  },
  {
   "cell_type": "code",
   "execution_count": null,
   "metadata": {},
   "outputs": [],
   "source": []
  }
 ],
 "metadata": {
  "kernelspec": {
   "display_name": "ge",
   "language": "python",
   "name": "python3"
  },
  "language_info": {
   "codemirror_mode": {
    "name": "ipython",
    "version": 3
   },
   "file_extension": ".py",
   "mimetype": "text/x-python",
   "name": "python",
   "nbconvert_exporter": "python",
   "pygments_lexer": "ipython3",
   "version": "3.11.4"
  },
  "orig_nbformat": 4
 },
 "nbformat": 4,
 "nbformat_minor": 2
}
