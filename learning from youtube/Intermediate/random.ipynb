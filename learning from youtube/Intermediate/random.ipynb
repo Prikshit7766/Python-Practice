{
 "cells": [
  {
   "cell_type": "code",
   "execution_count": 1,
   "metadata": {},
   "outputs": [
    {
     "data": {
      "text/plain": [
       "0.6600341089166547"
      ]
     },
     "execution_count": 1,
     "metadata": {},
     "output_type": "execute_result"
    }
   ],
   "source": [
    "import random\n",
    "\n",
    "random.random() # random.random returns a random number between 0 and 1"
   ]
  },
  {
   "cell_type": "code",
   "execution_count": 4,
   "metadata": {},
   "outputs": [
    {
     "data": {
      "text/plain": [
       "3.543208968550143"
      ]
     },
     "execution_count": 4,
     "metadata": {},
     "output_type": "execute_result"
    }
   ],
   "source": [
    "random.uniform(1, 10)  # random.uniform (1, 10) returns a random floating number between 1 and 10"
   ]
  },
  {
   "cell_type": "code",
   "execution_count": 5,
   "metadata": {},
   "outputs": [
    {
     "data": {
      "text/plain": [
       "1"
      ]
     },
     "execution_count": 5,
     "metadata": {},
     "output_type": "execute_result"
    }
   ],
   "source": [
    "random.randint(1, 10) # random.randint will return a random integer N such that a <= N <= b"
   ]
  },
  {
   "cell_type": "code",
   "execution_count": 6,
   "metadata": {},
   "outputs": [
    {
     "data": {
      "text/plain": [
       "1"
      ]
     },
     "execution_count": 6,
     "metadata": {},
     "output_type": "execute_result"
    }
   ],
   "source": [
    "random.randrange(1, 10) # random.randrange returns a random integer N such that a <= N < b"
   ]
  },
  {
   "cell_type": "code",
   "execution_count": 7,
   "metadata": {},
   "outputs": [
    {
     "data": {
      "text/plain": [
       "0.32131960134575466"
      ]
     },
     "execution_count": 7,
     "metadata": {},
     "output_type": "execute_result"
    }
   ],
   "source": [
    "random.normalvariate(0,1) # random.normalvariate returns a random floating point number N with mean as 0 and standard deviation as 1"
   ]
  },
  {
   "cell_type": "code",
   "execution_count": 9,
   "metadata": {},
   "outputs": [
    {
     "name": "stdout",
     "output_type": "stream",
     "text": [
      "A\n",
      "['D', 'F', 'A']\n"
     ]
    }
   ],
   "source": [
    "mylist =   list(\"ABCDEFGH\")\n",
    "a = random.choice(mylist) # random.choice returns a random element from a sequence\n",
    "print(a)\n",
    "\n",
    "b = random.sample(mylist, 3) # random.sample returns a list of unique elements chosen from the list, sequence, or set, we passed as an argument\n",
    "print(b)\n",
    "\n"
   ]
  },
  {
   "cell_type": "code",
   "execution_count": 14,
   "metadata": {},
   "outputs": [
    {
     "data": {
      "text/plain": [
       "['H', 'E', 'F']"
      ]
     },
     "execution_count": 14,
     "metadata": {},
     "output_type": "execute_result"
    }
   ],
   "source": [
    "random.choices(mylist,k=3) # random.choices (mylist,3) returns a list of elements chosen from the list, sequence, or set, we passed as an argument.\n",
    "#The elements can be repeated from the list, sequence, or set."
   ]
  },
  {
   "cell_type": "code",
   "execution_count": 15,
   "metadata": {},
   "outputs": [],
   "source": [
    "random.shuffle(mylist) # random.shuffle shuffles the elements in the list in place"
   ]
  },
  {
   "cell_type": "code",
   "execution_count": 16,
   "metadata": {},
   "outputs": [
    {
     "data": {
      "text/plain": [
       "['A', 'B', 'H', 'G', 'F', 'E', 'C', 'D']"
      ]
     },
     "execution_count": 16,
     "metadata": {},
     "output_type": "execute_result"
    }
   ],
   "source": [
    "mylist"
   ]
  },
  {
   "cell_type": "code",
   "execution_count": 22,
   "metadata": {},
   "outputs": [
    {
     "name": "stdout",
     "output_type": "stream",
     "text": [
      "0.5714025946899135\n",
      "7\n",
      "0.5714025946899135\n",
      "7\n"
     ]
    }
   ],
   "source": [
    "random.seed(10) # random.seed will generate the same random number every time we run the code\n",
    "print(random.random())\n",
    "print(random.randint(1, 10))\n",
    "random.seed(10)\n",
    "print(random.random())\n",
    "print(random.randint(1, 10))"
   ]
  },
  {
   "cell_type": "code",
   "execution_count": 24,
   "metadata": {},
   "outputs": [
    {
     "name": "stdout",
     "output_type": "stream",
     "text": [
      "0.9560342718892494\n",
      "1\n",
      "0.9560342718892494\n",
      "1\n"
     ]
    }
   ],
   "source": [
    "random.seed(2) \n",
    "print(random.random())\n",
    "print(random.randint(1, 10))\n",
    "random.seed(2)\n",
    "print(random.random())\n",
    "print(random.randint(1, 10))"
   ]
  },
  {
   "cell_type": "markdown",
   "metadata": {},
   "source": [
    "## mylist"
   ]
  },
  {
   "cell_type": "code",
   "execution_count": 35,
   "metadata": {},
   "outputs": [
    {
     "name": "stdout",
     "output_type": "stream",
     "text": [
      "0\n",
      "1\n",
      "E\n"
     ]
    }
   ],
   "source": [
    "# these number are reproducible so it is not used for security purposes\n",
    "\n",
    "import secrets\n",
    "mylist = list(\"ABCDEFGH\")\n",
    "print(secrets.randbelow(10)) # secrets.randbelow returns a random integer N such that 0 <= N < 10\n",
    "\n",
    "print(secrets.randbits(4)) # secrets.randbits returns an integer with k random bits example: 4 random bits values from 0 to 15\n",
    "\n",
    "print(secrets.choice(mylist)) # secrets.choice returns a random element from a sequence\n",
    "\n",
    "\n"
   ]
  },
  {
   "cell_type": "markdown",
   "metadata": {},
   "source": [
    "## numpy"
   ]
  },
  {
   "cell_type": "code",
   "execution_count": 36,
   "metadata": {},
   "outputs": [
    {
     "data": {
      "text/plain": [
       "array([[0.66209333, 0.36237417],\n",
       "       [0.13945055, 0.627853  ],\n",
       "       [0.56264914, 0.13770174]])"
      ]
     },
     "execution_count": 36,
     "metadata": {},
     "output_type": "execute_result"
    }
   ],
   "source": [
    "import numpy as np\n",
    "\n",
    "np.random.rand(3,2) # np.random.rand returns an array of specified shape and fills it with random values as per standard normal distribution"
   ]
  },
  {
   "cell_type": "code",
   "execution_count": 37,
   "metadata": {},
   "outputs": [
    {
     "data": {
      "text/plain": [
       "array([[4, 1, 4],\n",
       "       [9, 2, 6],\n",
       "       [8, 4, 5]])"
      ]
     },
     "execution_count": 37,
     "metadata": {},
     "output_type": "execute_result"
    }
   ],
   "source": [
    "np.random.randint(0, 10, size=(3, 3)) # np.random.randint returns an array of specified shape and fills it with random values as per uniform distribution over [low, high)"
   ]
  },
  {
   "cell_type": "code",
   "execution_count": 38,
   "metadata": {},
   "outputs": [],
   "source": [
    "mylist = list(\"ABCDEFGH\")\n",
    "np.random.shuffle(mylist) # np.random.shuffle shuffles the elements in the list in place"
   ]
  },
  {
   "cell_type": "code",
   "execution_count": 39,
   "metadata": {},
   "outputs": [
    {
     "data": {
      "text/plain": [
       "['B', 'E', 'A', 'H', 'D', 'F', 'C', 'G']"
      ]
     },
     "execution_count": 39,
     "metadata": {},
     "output_type": "execute_result"
    }
   ],
   "source": [
    "mylist"
   ]
  },
  {
   "cell_type": "code",
   "execution_count": 43,
   "metadata": {},
   "outputs": [],
   "source": [
    "arr =np.array([[0.66209333, 0.36237417],\n",
    "       [0.13945055, 0.627853  ],\n",
    "       [0.56264914, 0.13770174]])\n",
    "\n",
    "np.random.shuffle(arr) # np.random.shuffle shuffles the elements in the array in place. "
   ]
  },
  {
   "cell_type": "code",
   "execution_count": 44,
   "metadata": {},
   "outputs": [
    {
     "data": {
      "text/plain": [
       "array([[0.56264914, 0.13770174],\n",
       "       [0.66209333, 0.36237417],\n",
       "       [0.13945055, 0.627853  ]])"
      ]
     },
     "execution_count": 44,
     "metadata": {},
     "output_type": "execute_result"
    }
   ],
   "source": [
    "arr"
   ]
  },
  {
   "cell_type": "code",
   "execution_count": 45,
   "metadata": {},
   "outputs": [
    {
     "name": "stdout",
     "output_type": "stream",
     "text": [
      "[[0.77132064 0.02075195]\n",
      " [0.63364823 0.74880388]\n",
      " [0.49850701 0.22479665]]\n",
      "[[1 8 9]\n",
      " [0 8 6]\n",
      " [4 3 0]]\n",
      "[[0.77132064 0.02075195]\n",
      " [0.63364823 0.74880388]\n",
      " [0.49850701 0.22479665]]\n",
      "[[1 8 9]\n",
      " [0 8 6]\n",
      " [4 3 0]]\n"
     ]
    }
   ],
   "source": [
    "np.random.seed(10) # np.random.seed will generate the same random number every time we run the code\n",
    "\n",
    "print(np.random.rand(3,2))\n",
    "print(np.random.randint(0, 10, size=(3, 3)))\n",
    "np.random.seed(10)\n",
    "print(np.random.rand(3,2))\n",
    "print(np.random.randint(0, 10, size=(3, 3)))\n"
   ]
  },
  {
   "cell_type": "code",
   "execution_count": null,
   "metadata": {},
   "outputs": [],
   "source": []
  }
 ],
 "metadata": {
  "kernelspec": {
   "display_name": "ge",
   "language": "python",
   "name": "python3"
  },
  "language_info": {
   "codemirror_mode": {
    "name": "ipython",
    "version": 3
   },
   "file_extension": ".py",
   "mimetype": "text/x-python",
   "name": "python",
   "nbconvert_exporter": "python",
   "pygments_lexer": "ipython3",
   "version": "3.11.4"
  }
 },
 "nbformat": 4,
 "nbformat_minor": 2
}
