{
 "cells": [
  {
   "cell_type": "markdown",
   "metadata": {},
   "source": [
    "### The Asterisk (*) in Python and its use cases\n",
    "The asterisk sign (*) can be used for different cases in Python:\n",
    "\n",
    "- Multiplication and power operations\n",
    "- Creation of list, tuple, or string with repeated elements\n",
    "- *args , **kwargs , and keyword-only parameters\n",
    "- Unpacking lists/tuples/dictionaries for function arguments\n",
    "- Unpacking containers\n",
    "- Merging containers into list / Merge dictionaries"
   ]
  },
  {
   "cell_type": "markdown",
   "metadata": {},
   "source": [
    "### Multiplication and power operations"
   ]
  },
  {
   "cell_type": "code",
   "execution_count": 1,
   "metadata": {},
   "outputs": [
    {
     "name": "stdout",
     "output_type": "stream",
     "text": [
      "35\n",
      "16\n"
     ]
    }
   ],
   "source": [
    "# multiplication\n",
    "result = 7 * 5\n",
    "print(result)\n",
    "\n",
    "# power operation\n",
    "result = 2 ** 4\n",
    "print(result)"
   ]
  },
  {
   "cell_type": "markdown",
   "metadata": {},
   "source": [
    "### Creation of list, tuple, or string with repeated elements"
   ]
  },
  {
   "cell_type": "code",
   "execution_count": 2,
   "metadata": {},
   "outputs": [
    {
     "name": "stdout",
     "output_type": "stream",
     "text": [
      "[0, 0, 0, 0, 0, 0, 0, 0, 0, 0]\n",
      "[1, 2, 1, 2, 1, 2, 1, 2, 1, 2]\n",
      "(0, 0, 0, 0, 0, 0, 0, 0, 0, 0)\n",
      "(1, 2, 1, 2, 1, 2, 1, 2, 1, 2)\n",
      "AAAAAAAAAA\n",
      "ABABABABAB\n"
     ]
    }
   ],
   "source": [
    "# list\n",
    "zeros = [0] * 10\n",
    "onetwos = [1, 2] * 5\n",
    "print(zeros)\n",
    "print(onetwos)\n",
    "\n",
    "# tuple\n",
    "zeros = (0,) * 10\n",
    "onetwos = (1, 2) * 5\n",
    "print(zeros)\n",
    "print(onetwos)\n",
    "\n",
    "# string\n",
    "A_string = \"A\" * 10\n",
    "AB_string = \"AB\" * 5\n",
    "print(A_string)\n",
    "print(AB_string)"
   ]
  },
  {
   "cell_type": "markdown",
   "metadata": {},
   "source": [
    "## *args , **kwargs , and keyword-only arguments\n",
    "- Use *args for variable-length arguments\n",
    "- Use **kwargs for variable-length keyword arguments\n",
    "- Use *, followed by more function parameters to enforce keyword-only arguments"
   ]
  },
  {
   "cell_type": "code",
   "execution_count": 4,
   "metadata": {},
   "outputs": [
    {
     "name": "stdout",
     "output_type": "stream",
     "text": [
      "Hey\n",
      "3\n",
      "[0, 1, 2]\n",
      "name Alex\n",
      "age 8\n",
      "Michael\n",
      "5\n"
     ]
    }
   ],
   "source": [
    "def my_function(*args, **kwargs):\n",
    "    for arg in args:\n",
    "        print(arg)\n",
    "    for key in kwargs:\n",
    "        print(key, kwargs[key])\n",
    "        \n",
    "my_function(\"Hey\", 3, [0, 1, 2], name=\"Alex\", age=8)\n",
    "\n",
    "# Parameters after '*' or '*identifier' are keyword-only parameters and may only be passed using keyword arguments.\n",
    "def my_function2(name, *, age):\n",
    "    print(name)\n",
    "    print(age)\n",
    "\n",
    "# my_function2(\"Michael\", 5) --> this would raise a TypeError\n",
    "my_function2(\"Michael\", age=5)"
   ]
  },
  {
   "cell_type": "markdown",
   "metadata": {},
   "source": [
    "### Unpacking containers\n",
    "Unpack the elements of a list, tuple, or set into single and multiple remaining elements. Note that multiple elements are combined in a list, even if the unpacked container is a tuple or a set."
   ]
  },
  {
   "cell_type": "code",
   "execution_count": 5,
   "metadata": {},
   "outputs": [
    {
     "name": "stdout",
     "output_type": "stream",
     "text": [
      "[1, 2, 3, 4, 5, 6, 7]\n",
      "8\n",
      "\n",
      "1\n",
      "[2, 3, 4, 5, 6, 7, 8]\n",
      "\n",
      "1\n",
      "[2, 3, 4, 5, 6, 7]\n",
      "8\n"
     ]
    }
   ],
   "source": [
    "numbers = (1, 2, 3, 4, 5, 6, 7, 8)\n",
    "\n",
    "*beginning, last = numbers\n",
    "print(beginning)\n",
    "print(last)\n",
    "\n",
    "print()\n",
    "\n",
    "first, *end = numbers\n",
    "print(first)\n",
    "print(end)\n",
    "\n",
    "print()\n",
    "first, *middle, last = numbers\n",
    "print(first)\n",
    "print(middle)\n",
    "print(last)"
   ]
  },
  {
   "cell_type": "markdown",
   "metadata": {},
   "source": [
    "## Merge iterables into a list / Merge dictionaries\n",
    "This is possible since Python 3.5 thanks to PEP 448 (https://www.python.org/dev/peps/pep-0448/)."
   ]
  },
  {
   "cell_type": "code",
   "execution_count": 6,
   "metadata": {},
   "outputs": [
    {
     "name": "stdout",
     "output_type": "stream",
     "text": [
      "[1, 2, 3, 4, 5, 6]\n",
      "{'one': 1, 'two': 2, 'three': 3, 'four': 4}\n"
     ]
    }
   ],
   "source": [
    "# dump iterables into a list and merge them\n",
    "my_tuple = (1, 2, 3)\n",
    "my_set = {4, 5, 6}\n",
    "my_list = [*my_tuple, *my_set]\n",
    "print(my_list)\n",
    "\n",
    "# merge two dictionaries with dict unpacking\n",
    "dict_a = {'one': 1, 'two': 2}\n",
    "dict_b = {'three': 3, 'four': 4}\n",
    "dict_c = {**dict_a, **dict_b}\n",
    "print(dict_c)"
   ]
  },
  {
   "cell_type": "code",
   "execution_count": 7,
   "metadata": {},
   "outputs": [
    {
     "name": "stdout",
     "output_type": "stream",
     "text": [
      "[1, 2, 3, 4, 5, 6]\n",
      "{'one': 1, 'two': 2, 'three': 3, 'four': 4}\n"
     ]
    }
   ],
   "source": [
    "# dump iterables into a list and merge them\n",
    "my_tuple = (1, 2, 3)\n",
    "my_set = {4, 5, 6}\n",
    "my_list = [*my_tuple, *my_set]\n",
    "print(my_list)\n",
    "\n",
    "# merge two dictionaries with dict unpacking\n",
    "dict_a = {'one': 1, 'two': 2}\n",
    "dict_b = {'three': 3, 'four': 4}\n",
    "dict_c = {**dict_a, **dict_b}\n",
    "print(dict_c)"
   ]
  },
  {
   "cell_type": "markdown",
   "metadata": {},
   "source": [
    "But be careful with the following merging solution. It does not work if the dictionary has any non-string keys:"
   ]
  },
  {
   "cell_type": "code",
   "execution_count": 9,
   "metadata": {},
   "outputs": [
    {
     "ename": "TypeError",
     "evalue": "keywords must be strings",
     "output_type": "error",
     "traceback": [
      "\u001b[1;31m---------------------------------------------------------------------------\u001b[0m",
      "\u001b[1;31mTypeError\u001b[0m                                 Traceback (most recent call last)",
      "\u001b[1;32md:\\full_stack\\MyPractice\\Python\\learning from youtube\\Intermediate\\The Asterisk.ipynb Cell 14\u001b[0m line \u001b[0;36m3\n\u001b[0;32m      <a href='vscode-notebook-cell:/d%3A/full_stack/MyPractice/Python/learning%20from%20youtube/Intermediate/The%20Asterisk.ipynb#X15sZmlsZQ%3D%3D?line=0'>1</a>\u001b[0m dict_a \u001b[39m=\u001b[39m {\u001b[39m'\u001b[39m\u001b[39mone\u001b[39m\u001b[39m'\u001b[39m: \u001b[39m1\u001b[39m, \u001b[39m'\u001b[39m\u001b[39mtwo\u001b[39m\u001b[39m'\u001b[39m: \u001b[39m2\u001b[39m}\n\u001b[0;32m      <a href='vscode-notebook-cell:/d%3A/full_stack/MyPractice/Python/learning%20from%20youtube/Intermediate/The%20Asterisk.ipynb#X15sZmlsZQ%3D%3D?line=1'>2</a>\u001b[0m dict_b \u001b[39m=\u001b[39m {\u001b[39m3\u001b[39m: \u001b[39m3\u001b[39m, \u001b[39m'\u001b[39m\u001b[39mfour\u001b[39m\u001b[39m'\u001b[39m: \u001b[39m4\u001b[39m}\n\u001b[1;32m----> <a href='vscode-notebook-cell:/d%3A/full_stack/MyPractice/Python/learning%20from%20youtube/Intermediate/The%20Asterisk.ipynb#X15sZmlsZQ%3D%3D?line=2'>3</a>\u001b[0m dict_c \u001b[39m=\u001b[39m \u001b[39mdict\u001b[39;49m(\u001b[39m*\u001b[39;49m\u001b[39m*\u001b[39;49mdict_a, \u001b[39m*\u001b[39;49m\u001b[39m*\u001b[39;49mdict_b)\n\u001b[0;32m      <a href='vscode-notebook-cell:/d%3A/full_stack/MyPractice/Python/learning%20from%20youtube/Intermediate/The%20Asterisk.ipynb#X15sZmlsZQ%3D%3D?line=3'>4</a>\u001b[0m \u001b[39mprint\u001b[39m(dict_c)\n\u001b[0;32m      <a href='vscode-notebook-cell:/d%3A/full_stack/MyPractice/Python/learning%20from%20youtube/Intermediate/The%20Asterisk.ipynb#X15sZmlsZQ%3D%3D?line=5'>6</a>\u001b[0m \u001b[39m# this works:\u001b[39;00m\n\u001b[0;32m      <a href='vscode-notebook-cell:/d%3A/full_stack/MyPractice/Python/learning%20from%20youtube/Intermediate/The%20Asterisk.ipynb#X15sZmlsZQ%3D%3D?line=6'>7</a>\u001b[0m \u001b[39m# dict_c = {**dict_a, **dict_b}\u001b[39;00m\n",
      "\u001b[1;31mTypeError\u001b[0m: keywords must be strings"
     ]
    }
   ],
   "source": [
    "dict_a = {'one': 1, 'two': 2}\n",
    "dict_b = {3: 3, 'four': 4}\n",
    "dict_c = dict(**dict_a, **dict_b)\n",
    "print(dict_c)\n",
    "\n",
    "# this works:\n",
    "# dict_c = {**dict_a, **dict_b}"
   ]
  },
  {
   "cell_type": "markdown",
   "metadata": {},
   "source": [
    "Recommended further readings:\n",
    "\n",
    "https://treyhunner.com/2018/10/asterisks-in-python-what-they-are-and-how-to-use-them/\n",
    "\n",
    "https://treyhunner.com/2016/02/how-to-merge-dictionaries-in-python/"
   ]
  }
 ],
 "metadata": {
  "kernelspec": {
   "display_name": "ge",
   "language": "python",
   "name": "python3"
  },
  "language_info": {
   "codemirror_mode": {
    "name": "ipython",
    "version": 3
   },
   "file_extension": ".py",
   "mimetype": "text/x-python",
   "name": "python",
   "nbconvert_exporter": "python",
   "pygments_lexer": "ipython3",
   "version": "3.11.4"
  }
 },
 "nbformat": 4,
 "nbformat_minor": 2
}
