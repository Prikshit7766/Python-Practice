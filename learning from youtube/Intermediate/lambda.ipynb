{
 "cells": [
  {
   "cell_type": "markdown",
   "metadata": {},
   "source": [
    "## Lambda function\n",
    "A lambda function, also known as an anonymous function or a lambda expression, is a compact way to define small, unnamed functions in programming languages that support them. Lambda functions are often used for short, simple operations that can be expressed concisely. \n",
    "\n",
    "lambda arugument : expression"
   ]
  },
  {
   "cell_type": "code",
   "execution_count": 3,
   "metadata": {},
   "outputs": [
    {
     "data": {
      "text/plain": [
       "[11, 12, 13, 14]"
      ]
     },
     "execution_count": 3,
     "metadata": {},
     "output_type": "execute_result"
    }
   ],
   "source": [
    "add10  = lambda x : x+10\n",
    "\n",
    "list(map(add10,[1,2,3,4]))\n"
   ]
  },
  {
   "cell_type": "code",
   "execution_count": 4,
   "metadata": {},
   "outputs": [
    {
     "data": {
      "text/plain": [
       "28"
      ]
     },
     "execution_count": 4,
     "metadata": {},
     "output_type": "execute_result"
    }
   ],
   "source": [
    "add10(18)"
   ]
  },
  {
   "cell_type": "code",
   "execution_count": 8,
   "metadata": {},
   "outputs": [
    {
     "data": {
      "text/plain": [
       "45"
      ]
     },
     "execution_count": 8,
     "metadata": {},
     "output_type": "execute_result"
    }
   ],
   "source": [
    "multi_arg =  lambda x,y :  x*y\n",
    "\n",
    "multi_arg(5,9)"
   ]
  },
  {
   "cell_type": "markdown",
   "metadata": {},
   "source": [
    "Lambda functions are often used in situations where you need a small function for a short duration and don't want to define a full-fledged named function. Common use cases for lambda functions include:\n",
    "\n",
    "- Sorting: Lambda functions are often used as the key parameter in sorting functions to customize the sorting criteria. For example, you can sort a list of dictionaries based on a specific key using a lambda function.\n",
    "- Filtering: You can use lambda functions with filter functions to selectively filter elements from a collection based on a condition.\n",
    "\n",
    "- Mapping: Lambda functions can be used with map functions to apply a transformation to each element in a collection.\n",
    "\n",
    "- Reducing: In functional programming, you can use lambda functions with reduce functions to aggregate or reduce a collection of values to a single result.\n"
   ]
  },
  {
   "cell_type": "markdown",
   "metadata": {},
   "source": [
    "## Sorting"
   ]
  },
  {
   "cell_type": "code",
   "execution_count": 11,
   "metadata": {},
   "outputs": [
    {
     "name": "stdout",
     "output_type": "stream",
     "text": [
      "[(1, 2), (5, 6), (2, 3), (5, 1), (19, 2), (1, 1)]\n",
      "[(1, 1), (1, 2), (2, 3), (5, 1), (5, 6), (19, 2)]\n"
     ]
    }
   ],
   "source": [
    "point2d  = [(1,2),(5,6),(2,3),(5,1),(19,2),(1,1)]\n",
    "\n",
    "\n",
    "point2d_sorted = sorted(point2d)   # list is sorted according to x index\n",
    "\n",
    "print(point2d )\n",
    "print(point2d_sorted)"
   ]
  },
  {
   "cell_type": "code",
   "execution_count": 12,
   "metadata": {},
   "outputs": [
    {
     "name": "stdout",
     "output_type": "stream",
     "text": [
      "[(1, 2), (5, 6), (2, 3), (5, 1), (19, 2), (1, 1)]\n",
      "[(5, 1), (1, 1), (1, 2), (19, 2), (2, 3), (5, 6)]\n"
     ]
    }
   ],
   "source": [
    "point2d  = [(1,2),(5,6),(2,3),(5,1),(19,2),(1,1)]\n",
    "\n",
    "\n",
    "point2d_sorted = sorted(point2d,key= lambda x: x[1]) # list is sorted according to y index\n",
    "\n",
    "print(point2d )\n",
    "print(point2d_sorted)"
   ]
  },
  {
   "cell_type": "code",
   "execution_count": 13,
   "metadata": {},
   "outputs": [
    {
     "name": "stdout",
     "output_type": "stream",
     "text": [
      "[(1, 2), (5, 6), (2, 3), (5, 1), (19, 2), (1, 1)]\n",
      "[(1, 1), (1, 2), (2, 3), (5, 1), (5, 6), (19, 2)]\n"
     ]
    }
   ],
   "source": [
    "point2d  = [(1,2),(5,6),(2,3),(5,1),(19,2),(1,1)]\n",
    "\n",
    "\n",
    "point2d_sorted = sorted(point2d,key= lambda x: sum(x)) # list is sorted according to sum of each\n",
    "\n",
    "print(point2d )\n",
    "print(point2d_sorted)"
   ]
  },
  {
   "cell_type": "code",
   "execution_count": 14,
   "metadata": {},
   "outputs": [
    {
     "name": "stdout",
     "output_type": "stream",
     "text": [
      "[{'name': 'Bob', 'age': 25}, {'name': 'Alice', 'age': 30}, {'name': 'Charlie', 'age': 35}]\n"
     ]
    }
   ],
   "source": [
    "people = [\n",
    "    {\"name\": \"Alice\", \"age\": 30},\n",
    "    {\"name\": \"Bob\", \"age\": 25},\n",
    "    {\"name\": \"Charlie\", \"age\": 35}\n",
    "]\n",
    "\n",
    "# Sort the list of dictionaries by age using a lambda function\n",
    "sorted_people = sorted(people, key=lambda x: x[\"age\"])\n",
    "\n",
    "print(sorted_people)\n"
   ]
  },
  {
   "cell_type": "markdown",
   "metadata": {},
   "source": [
    "## map "
   ]
  },
  {
   "cell_type": "code",
   "execution_count": 17,
   "metadata": {},
   "outputs": [
    {
     "data": {
      "text/plain": [
       "[2, 4, 6, 8, 10]"
      ]
     },
     "execution_count": 17,
     "metadata": {},
     "output_type": "execute_result"
    }
   ],
   "source": [
    "# map(func , seq)\n",
    "\n",
    "a = [1,2,3,4,5]\n",
    "\n",
    "b = map(lambda x: x*2 , a)\n",
    "list(b)"
   ]
  },
  {
   "cell_type": "code",
   "execution_count": 18,
   "metadata": {},
   "outputs": [
    {
     "name": "stdout",
     "output_type": "stream",
     "text": [
      "[2, 4, 6, 8, 10]\n"
     ]
    }
   ],
   "source": [
    "# list comprehensions\n",
    "\n",
    "a = [1,2,3,4,5]\n",
    "b = [x*2 for x in a]\n",
    "print(b)"
   ]
  },
  {
   "cell_type": "markdown",
   "metadata": {},
   "source": [
    "## Filter "
   ]
  },
  {
   "cell_type": "code",
   "execution_count": 19,
   "metadata": {},
   "outputs": [
    {
     "data": {
      "text/plain": [
       "[3, 4, 5]"
      ]
     },
     "execution_count": 19,
     "metadata": {},
     "output_type": "execute_result"
    }
   ],
   "source": [
    "# fileter (func , seq)\n",
    "\n",
    "a = [1,2,3,4,5]\n",
    "# here we have to evaluate that it True or False based on some condition \n",
    "# It will return the value where the condition is True\n",
    "b = filter(lambda x: x>2 , a)\n",
    "list(b)"
   ]
  },
  {
   "cell_type": "code",
   "execution_count": 20,
   "metadata": {},
   "outputs": [
    {
     "name": "stdout",
     "output_type": "stream",
     "text": [
      "[3, 4, 5]\n"
     ]
    }
   ],
   "source": [
    "# list comprehension\n",
    "\n",
    "a = [1,2,3,4,5]\n",
    "b = [x for x in a if x>2]\n",
    "print(b)"
   ]
  },
  {
   "cell_type": "markdown",
   "metadata": {},
   "source": [
    "## Reduce"
   ]
  },
  {
   "cell_type": "code",
   "execution_count": 21,
   "metadata": {},
   "outputs": [
    {
     "name": "stdout",
     "output_type": "stream",
     "text": [
      "15\n"
     ]
    }
   ],
   "source": [
    "# reduce(func , seq)\n",
    "\n",
    "from functools import reduce\n",
    "\n",
    "a = [1,2,3,4,5]\n",
    "b = reduce(lambda x,y: x+y , a)\n",
    "print(b)\n"
   ]
  },
  {
   "cell_type": "code",
   "execution_count": null,
   "metadata": {},
   "outputs": [],
   "source": []
  }
 ],
 "metadata": {
  "kernelspec": {
   "display_name": "ge",
   "language": "python",
   "name": "python3"
  },
  "language_info": {
   "codemirror_mode": {
    "name": "ipython",
    "version": 3
   },
   "file_extension": ".py",
   "mimetype": "text/x-python",
   "name": "python",
   "nbconvert_exporter": "python",
   "pygments_lexer": "ipython3",
   "version": "3.11.4"
  },
  "orig_nbformat": 4
 },
 "nbformat": 4,
 "nbformat_minor": 2
}
