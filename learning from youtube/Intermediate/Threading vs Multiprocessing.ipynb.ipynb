{
 "cells": [
  {
   "cell_type": "markdown",
   "metadata": {},
   "source": [
    "## Threading vs Multiprocessing\n",
    "We have two common approaches to run code in parallel (achieve multitasking and speed up your program) : via threads or via multiple processes."
   ]
  },
  {
   "cell_type": "markdown",
   "metadata": {},
   "source": [
    "## Multiprocessing:\n",
    "Multiprocessing is a technique where you create multiple processes, each with its own Python interpreter and memory space, to achieve true parallelism. Python's multiprocessing module allows you to create and manage multiple processes. Since each process runs in its own memory space, the GIL doesn't affect multiprocessing. This makes it suitable for CPU-bound tasks, where multiple processes can run on different CPU cores in parallel."
   ]
  },
  {
   "cell_type": "markdown",
   "metadata": {},
   "source": [
    "\n",
    "## Process\n",
    "\n",
    "Program: A program is a set of instructions and code stored in a file or memory that defines a specific task or set of tasks to be carried out by a computer. It is essentially a passive entity, a series of instructions waiting to be executed.\n",
    "\n",
    "Process: A process, on the other hand, is the active execution of a program. It represents a running instance of a program in a computer's memory. A process includes not only the program's code but also various resources like memory, registers, and system resources that are allocated to that program while it's running. Each process is isolated from other processes, meaning that they cannot directly access each other's memory or resources without proper inter-process communication mechanisms.\n",
    "\n",
    "Key facts:\n",
    "\n",
    "- A new process is started independently from the first process\n",
    "\n",
    "    Each process is created as an independent instance of the program, meaning it has its own execution flow and memory space. Processes do not directly influence or interact with each other.\n",
    "\n",
    "- Takes advantage of multiple CPUs and cores\n",
    "\n",
    "    Processes can run in parallel on different CPU cores, which allows them to take full advantage of a multi-core CPU. This is especially beneficial for CPU-bound tasks that require a lot of computational power.\n",
    "\n",
    "- Separate memory space\n",
    "    Each process has its own isolated memory space. Changes made to memory in one process do not affect other processes. This isolation is crucial for maintaining data integrity and avoiding conflicts.\n",
    "\n",
    "- Memory is not shared between processes\n",
    "\n",
    "    Processes do not share memory by default. If you want to share data between processes, you need to use inter-process communication (IPC) mechanisms explicitly, such as pipes, queues, or shared memory.\n",
    "\n",
    "- One GIL (Global interpreter lock) for each process, i.e. avoids GIL limitation\n",
    "\n",
    "    Python's Global Interpreter Lock (GIL) restricts the execution of multiple threads in a single process. Since each process has its own Python interpreter and memory space, they are not affected by the GIL, allowing true parallel execution in Python.\n",
    "\n",
    "-  Great for CPU-bound processing\n",
    "\n",
    "    Multiprocessing is particularly effective for tasks that require a lot of CPU processing power. It allows these tasks to be distributed across multiple processes and CPU cores.\n",
    "\n",
    "- Child processes are interruptable/killable\n",
    "\n",
    "    You can easily terminate or interrupt a child process without affecting the main process or other child processes. This provides a way to manage and control the execution of processes.\n",
    "- Starting a process is slower that starting a thread\n",
    "\n",
    "    Creating a new process is a more resource-intensive operation than starting a thread. This is due to the overhead of setting up separate memory spaces and resources for each process.\n",
    "\n",
    "- Larger memory footprint\n",
    "\n",
    "    Each process consumes additional memory for its separate memory space and resources, making them heavier in terms of memory usage compared to threads.\n",
    "\n",
    "- IPC (inter-process communication) is more complicated\n",
    "\n",
    "    Communicating between processes requires the use of IPC mechanisms like pipes, queues, or shared memory. This complexity arises from the need to manage data sharing between isolated memory spaces."
   ]
  },
  {
   "cell_type": "markdown",
   "metadata": {},
   "source": [
    "## Threads\n",
    "\n",
    "A thread is an entity within a process that can be scheduled for execution (Also known as \"leightweight process\"). A Process can spawn multiple threads. The main difference is that all threads within a process share the same memory.\n",
    "\n",
    "Key facts:\n",
    "\n",
    "- Multiple threads can be spawned within one process:\n",
    "\n",
    "    A single process can create and manage multiple threads. These threads can execute concurrently within the same memory space of the process.\n",
    "\n",
    "- Memory is shared between all threads:\n",
    "\n",
    "    Threads within a process share the same memory space. This shared memory can be both an advantage and a source of potential issues, such as race conditions.\n",
    "\n",
    "- Starting a thread is faster than starting a process:\n",
    "\n",
    "    Creating a new thread is a faster and less resource-intensive operation compared to creating a new process. Threads share the same resources and memory space of the parent process, making them more lightweight.\n",
    "\n",
    "- Great for I/O-bound tasks:\n",
    "\n",
    "    Threads are suitable for I/O-bound tasks that spend a significant amount of time waiting for input/output operations, such as reading/writing files or making network requests. Multiple threads can work together to handle concurrent I/O operations efficiently.\n",
    "\n",
    "- Lightweight - low memory footprint:\n",
    "\n",
    "    Threads are lightweight because they share the memory and resources of the parent process. This makes them more memory-efficient compared to processes.\n",
    "\n",
    "- One GIL for all threads, i.e. threads are limited by GIL:\n",
    "\n",
    "    In CPython, the Global Interpreter Lock (GIL) allows only one thread to execute Python bytecode at a time, even in a multi-threaded program. This means that multithreading has no effect on CPU-bound tasks in Python, as only one thread can execute Python code at any given moment.\n",
    "\n",
    "- Not interruptible/killable -> be careful with memory leaks:\n",
    "\n",
    "    Threads are not as easily interruptible or killable as processes. This means you need to be cautious when managing threads to avoid potential memory leaks or unclean resource handling.\n",
    "\n",
    "- Increased potential for race conditions:\n",
    "\n",
    "    Because threads share the same memory space, there's an increased potential for race conditions, which occur when multiple threads access and modify shared data simultaneously. Proper synchronization mechanisms, like locks or semaphores, are needed to prevent race conditions."
   ]
  },
  {
   "cell_type": "markdown",
   "metadata": {},
   "source": [
    "## Multiprocessing\n",
    "\n",
    "Use the multiprocessing module. The syntax is very similar to above."
   ]
  },
  {
   "cell_type": "code",
   "execution_count": 1,
   "metadata": {},
   "outputs": [],
   "source": [
    "from multiprocessing import Process\n",
    "import os\n",
    "\n",
    "\n",
    "def square_numbers():\n",
    "    for i in range(1000):\n",
    "        result = i * i\n",
    "\n",
    "\n",
    "if __name__ == \"__main__\":\n",
    "    processes = []\n",
    "    num_processes = os.cpu_count()\n",
    "\n",
    "    # create processes and asign a function for each process\n",
    "    for i in range(num_processes):\n",
    "        process = Process(target=square_numbers)  # if i have argumenst we can assign like   args = (a,b)  \n",
    "        processes.append(process)\n",
    "\n",
    "    # start all processes\n",
    "    for process in processes:\n",
    "        process.start()\n",
    "\n",
    "    # wait for all processes to finish\n",
    "    # block the main thread until these processes are finished\n",
    "    for process in processes:\n",
    "        process.join()"
   ]
  },
  {
   "cell_type": "markdown",
   "metadata": {},
   "source": [
    "## When is Multiprocessing useful\n",
    "It is useful for CPU-bound tasks that have to do a lot of CPU operations for a large amount of data and require a lot of computation time. With multiprocessing you can split the data into equal parts an do parallel computing on different CPUs.\n",
    "\n",
    "Example: Calculate the square numbers for all numbers from 1 to 1000000. Divide the numbers into equal sized parts and use a process for each subset."
   ]
  },
  {
   "cell_type": "markdown",
   "metadata": {},
   "source": [
    "## Threading in Python"
   ]
  },
  {
   "cell_type": "markdown",
   "metadata": {},
   "source": [
    "Use the threading module.\n",
    "\n",
    "Note: The following example usually won't benefit from multiple threads since it is CPU-bound. It should just show the example of how to use threads."
   ]
  },
  {
   "cell_type": "code",
   "execution_count": 2,
   "metadata": {},
   "outputs": [],
   "source": [
    "from threading import Thread\n",
    "\n",
    "def square_numbers():\n",
    "    for i in range(1000):\n",
    "        result = i * i\n",
    "\n",
    "        \n",
    "if __name__ == \"__main__\":        \n",
    "    threads = []\n",
    "    num_threads = 10\n",
    "\n",
    "    # create threads and asign a function for each thread\n",
    "    for i in range(num_threads):\n",
    "        thread = Thread(target=square_numbers)\n",
    "        threads.append(thread)\n",
    "\n",
    "    # start all threads\n",
    "    for thread in threads:\n",
    "        thread.start()\n",
    "\n",
    "    # wait for all threads to finish\n",
    "    # block the main thread until these threads are finished\n",
    "    for thread in threads:\n",
    "        thread.join()"
   ]
  },
  {
   "cell_type": "markdown",
   "metadata": {},
   "source": [
    "## When is Threading useful\n",
    "Despite the GIL it is useful for I/O-bound tasks when your program has to talk to slow devices, like a hard drive or a network connection. With threading the program can use the time waiting for these devices and intelligently do other tasks in the meantime.\n",
    "\n",
    "Example: Download website information from multiple sites. Use a thread for each site."
   ]
  },
  {
   "cell_type": "markdown",
   "metadata": {},
   "source": [
    "## GIL - Global interpreter lock\n",
    "\n",
    "This is a mutex (or a lock) that allows only one thread to hold control of the Python interpreter. This means that the GIL allows only one thread to execute at a time even in a multi-threaded architecture.\n",
    "\n",
    "### Why is it needed?\n",
    "It is needed because CPython's (reference implementation of Python) memory management is not thread-safe. Python uses reference counting for memory management. It means that objects created in Python have a reference count variable that keeps track of the number of references that point to the object. When this count reaches zero, the memory occupied by the object is released. The problem was that this reference count variable needed protection from race conditions where two threads increase or decrease its value simultaneously. If this happens, it can cause either leaked memory that is never released or incorrectly release the memory while a reference to that object still exists.\n",
    "\n",
    "### How to avoid the GIL\n",
    "The GIL is very controversial in the Python community. The main way to avoid the GIL is by using multiprocessing instead of threading. Another (however uncomfortable) solution would be to avoid the CPython implementation and use a free-threaded Python implementation like Jython or IronPython. A third option is to move parts of the application out into binary extensions modules, i.e. use Python as a wrapper for third party libraries (e.g. in C/C++). This is the path taken by numypy and scipy."
   ]
  }
 ],
 "metadata": {
  "kernelspec": {
   "display_name": "ge",
   "language": "python",
   "name": "python3"
  },
  "language_info": {
   "codemirror_mode": {
    "name": "ipython",
    "version": 3
   },
   "file_extension": ".py",
   "mimetype": "text/x-python",
   "name": "python",
   "nbconvert_exporter": "python",
   "pygments_lexer": "ipython3",
   "version": "3.11.4"
  }
 },
 "nbformat": 4,
 "nbformat_minor": 2
}
