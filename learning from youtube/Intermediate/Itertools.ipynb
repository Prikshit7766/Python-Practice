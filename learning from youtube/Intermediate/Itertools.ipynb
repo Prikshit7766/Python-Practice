{
 "cells": [
  {
   "cell_type": "markdown",
   "metadata": {},
   "source": [
    "## Itertools"
   ]
  },
  {
   "cell_type": "code",
   "execution_count": 1,
   "metadata": {},
   "outputs": [],
   "source": [
    "## Itertools: Product, Permutations, Combinations, accumulate, groupby, and infinite iterators"
   ]
  },
  {
   "cell_type": "markdown",
   "metadata": {},
   "source": [
    "## product"
   ]
  },
  {
   "cell_type": "markdown",
   "metadata": {},
   "source": [
    "product(iterable1, iterable2, ...):\n",
    "\n",
    "- Generates the Cartesian product of input iterables.\n",
    "- Useful for generating combinations of items from multiple sets."
   ]
  },
  {
   "cell_type": "code",
   "execution_count": 2,
   "metadata": {},
   "outputs": [
    {
     "name": "stdout",
     "output_type": "stream",
     "text": [
      "[(1, 3), (1, 4), (2, 3), (2, 4)]\n"
     ]
    }
   ],
   "source": [
    "from itertools import product\n",
    "\n",
    "# Product: Cartesian product of input iterables\n",
    "#A X B = {(a, b) |a ∈  A, b ∈ B}\n",
    "\n",
    "a= [1,2]\n",
    "b= [3,4]\n",
    "prod = product(a,b)\n",
    "print(list(prod))"
   ]
  },
  {
   "cell_type": "code",
   "execution_count": 4,
   "metadata": {},
   "outputs": [
    {
     "name": "stdout",
     "output_type": "stream",
     "text": [
      "[(1, 3, 1, 3), (1, 3, 2, 3), (2, 3, 1, 3), (2, 3, 2, 3)]\n"
     ]
    }
   ],
   "source": [
    "a= [1,2]\n",
    "b= [3]\n",
    "prod = product(a,b,repeat=2)\n",
    "print(list(prod))"
   ]
  },
  {
   "cell_type": "code",
   "execution_count": 5,
   "metadata": {},
   "outputs": [
    {
     "name": "stdout",
     "output_type": "stream",
     "text": [
      "(1, 'a')\n",
      "(1, 'b')\n",
      "(2, 'a')\n",
      "(2, 'b')\n"
     ]
    }
   ],
   "source": [
    "for p in product([1, 2], ['a', 'b']):\n",
    "    print(p)"
   ]
  },
  {
   "cell_type": "markdown",
   "metadata": {},
   "source": [
    "## permutations\n",
    "\n",
    "permutations(iterable, r):\n",
    "\n",
    "\n",
    "- Generates all possible r-length tuples of elements from the input iterable.\n",
    "- The order of elements matters in permutations."
   ]
  },
  {
   "cell_type": "code",
   "execution_count": 6,
   "metadata": {},
   "outputs": [
    {
     "name": "stdout",
     "output_type": "stream",
     "text": [
      "[(1, 2, 3), (1, 3, 2), (2, 1, 3), (2, 3, 1), (3, 1, 2), (3, 2, 1)]\n"
     ]
    }
   ],
   "source": [
    "from itertools import permutations\n",
    "\n",
    "a = [1,2,3]\n",
    "perm = permutations(a)\n",
    "print(list(perm))\n"
   ]
  },
  {
   "cell_type": "code",
   "execution_count": 7,
   "metadata": {},
   "outputs": [
    {
     "name": "stdout",
     "output_type": "stream",
     "text": [
      "[(1, 2), (1, 3), (2, 1), (2, 3), (3, 1), (3, 2)]\n"
     ]
    }
   ],
   "source": [
    "perm = permutations(a,2) # 2 is the length of the permutation\n",
    "print(list(perm))\n"
   ]
  },
  {
   "cell_type": "markdown",
   "metadata": {},
   "source": [
    "## combinations\n",
    "\n",
    "combinations(iterable, r):\n",
    "\n",
    "Generates all possible r-length combinations of elements from the input iterable.\n",
    "The order of elements does not matter in combinations."
   ]
  },
  {
   "cell_type": "code",
   "execution_count": 9,
   "metadata": {},
   "outputs": [
    {
     "name": "stdout",
     "output_type": "stream",
     "text": [
      "[(1, 2), (1, 3), (2, 3)]\n",
      "[(1, 1), (1, 2), (1, 3), (2, 2), (2, 3), (3, 3)]\n"
     ]
    }
   ],
   "source": [
    "from itertools import combinations, combinations_with_replacement\n",
    "\n",
    "a = [1,2,3]\n",
    "comb = combinations(a,2)\n",
    "print(list(comb))\n",
    "\n",
    "\n",
    "comb_wr = combinations_with_replacement(a,2)\n",
    "print(list(comb_wr))"
   ]
  },
  {
   "cell_type": "markdown",
   "metadata": {},
   "source": [
    "## accumulate\n",
    "\n",
    "accumulate(iterable, func=None):\n",
    "\n",
    "Returns an iterator that yields accumulated sums of elements in the input iterable.\n",
    "You can provide a custom function to accumulate elements differently (e.g., multiplication)."
   ]
  },
  {
   "cell_type": "code",
   "execution_count": 15,
   "metadata": {},
   "outputs": [
    {
     "name": "stdout",
     "output_type": "stream",
     "text": [
      "[1, 2, 3, 4]\n",
      "[1, 3, 6, 10]\n"
     ]
    }
   ],
   "source": [
    "from itertools import accumulate\n",
    "\n",
    "a = [1,2,3,4]\n",
    "acc = accumulate(a) # by default it computes the sum\n",
    "print(a)\n",
    "print((list(acc)))\n"
   ]
  },
  {
   "cell_type": "code",
   "execution_count": 17,
   "metadata": {},
   "outputs": [
    {
     "name": "stdout",
     "output_type": "stream",
     "text": [
      "[1, 2, 3, 4]\n",
      "[1, 2, 6, 24]\n"
     ]
    }
   ],
   "source": [
    "import operator\n",
    "a = [1,2,3,4]\n",
    "acc = accumulate(a, func=operator.mul) \n",
    "print(a)\n",
    "print((list(acc)))"
   ]
  },
  {
   "cell_type": "code",
   "execution_count": 20,
   "metadata": {},
   "outputs": [
    {
     "name": "stdout",
     "output_type": "stream",
     "text": [
      "[1, 2, 1, 5, 3, 4]\n",
      "[1, 2, 2, 5, 5, 5]\n"
     ]
    }
   ],
   "source": [
    "a = [1,2,1,5,3,4]\n",
    "acc = accumulate(a, func=max)  # max of the elements seen so far\n",
    "print(a)\n",
    "print((list(acc)))"
   ]
  },
  {
   "cell_type": "markdown",
   "metadata": {},
   "source": [
    "## groupby\n",
    "\n",
    "groupby(iterable, keyfunc=None):\n",
    "\n",
    "Groups consecutive elements of an iterable by a common key (determined by keyfunc).\n",
    "Requires the input iterable to be sorted by the key."
   ]
  },
  {
   "cell_type": "code",
   "execution_count": 22,
   "metadata": {},
   "outputs": [
    {
     "name": "stdout",
     "output_type": "stream",
     "text": [
      "True [1, 2, 3]\n",
      "False [4, 5, 6, 7, 8]\n"
     ]
    }
   ],
   "source": [
    "from itertools import groupby\n",
    "\n",
    "def samaler_than_4(x):\n",
    "    return x<4\n",
    "\n",
    "a=[1,2,3,4,5,6,7,8] \n",
    "\n",
    "group_obj = groupby(a,key=samaler_than_4)\n",
    "\n",
    "for key , value in group_obj:\n",
    "    \n",
    "    print(key , list(value))\n",
    "\n"
   ]
  },
  {
   "cell_type": "code",
   "execution_count": 24,
   "metadata": {},
   "outputs": [
    {
     "name": "stdout",
     "output_type": "stream",
     "text": [
      "True [1, 2, 3]\n",
      "False [4, 5, 6, 7, 8]\n"
     ]
    }
   ],
   "source": [
    "from itertools import groupby\n",
    "\n",
    "a=[1,2,3,4,5,6,7,8] \n",
    "\n",
    "group_obj = groupby(a,key=lambda x: x<4)\n",
    "\n",
    "for key , value in group_obj:\n",
    "    \n",
    "    print(key , list(value))"
   ]
  },
  {
   "cell_type": "code",
   "execution_count": 28,
   "metadata": {},
   "outputs": [
    {
     "name": "stdout",
     "output_type": "stream",
     "text": [
      "25 [{'name': 'Tim', 'age': 25}, {'name': 'ram', 'age': 25}]\n",
      "27 [{'name': 'bob', 'age': 27}]\n",
      "28 [{'name': 'Jim', 'age': 28}]\n"
     ]
    }
   ],
   "source": [
    "from itertools import groupby\n",
    "\n",
    "persons = [{\"name\":\"Tim\",\"age\":25},\n",
    "           {\"name\":\"ram\",\"age\":25},\n",
    "           {\"name\":\"bob\",\"age\":27},\n",
    "           {\"name\":\"Jim\",\"age\":28}]\n",
    "\n",
    "group_obj = groupby(persons,key=lambda x: x[\"age\"])\n",
    "\n",
    "for key , value in group_obj:\n",
    "    \n",
    "    print(key , list(value))"
   ]
  },
  {
   "cell_type": "markdown",
   "metadata": {},
   "source": [
    "## Infinite Iterators\n",
    "\n",
    "Infinite Iterators:\n",
    "\n",
    "Itertools also provides some infinite iterators like count, cycle, and repeat that can be used for various purposes."
   ]
  },
  {
   "cell_type": "code",
   "execution_count": 30,
   "metadata": {},
   "outputs": [],
   "source": [
    "from itertools import count, cycle, repeat"
   ]
  },
  {
   "cell_type": "markdown",
   "metadata": {},
   "source": [
    "## count\n",
    "\n",
    "count(start=0, step=1):\n",
    "\n",
    "The count function generates an infinite sequence of numbers starting from the start value and incrementing by the step value.\n",
    "By default, it starts from 0 and increments by 1."
   ]
  },
  {
   "cell_type": "code",
   "execution_count": 31,
   "metadata": {},
   "outputs": [
    {
     "name": "stdout",
     "output_type": "stream",
     "text": [
      "10\n",
      "11\n",
      "12\n",
      "13\n",
      "14\n",
      "15\n"
     ]
    }
   ],
   "source": [
    "for i in count(10): \n",
    "    print(i)\n",
    "    if i ==15:\n",
    "        break"
   ]
  },
  {
   "cell_type": "markdown",
   "metadata": {},
   "source": [
    "## cycle\n",
    "\n",
    "cycle(iterable):\n",
    "\n",
    "The cycle function infinitely repeats the elements from the input iterable.\n",
    "It cycles through the elements of the iterable, starting from the beginning each time it reaches the end."
   ]
  },
  {
   "cell_type": "code",
   "execution_count": 32,
   "metadata": {},
   "outputs": [
    {
     "name": "stdout",
     "output_type": "stream",
     "text": [
      "red\n",
      "green\n",
      "blue\n",
      "red\n",
      "green\n"
     ]
    }
   ],
   "source": [
    "colors = cycle(['red', 'green', 'blue'])\n",
    "for _ in range(5):  \n",
    "    print(next(colors))"
   ]
  },
  {
   "cell_type": "markdown",
   "metadata": {},
   "source": [
    "## repeat\n",
    "repeat(elem, times=None):\n",
    "\n",
    "The repeat function generates an iterator that repeats the specified element elem indefinitely or for a specified number of times."
   ]
  },
  {
   "cell_type": "code",
   "execution_count": null,
   "metadata": {},
   "outputs": [],
   "source": [
    "from itertools import repeat\n",
    "\n",
    "for i in repeat('Hello', 3):\n",
    "    print(i)\n",
    "\n",
    "\n",
    "for j in repeat(10):\n",
    "    if j > 15:\n",
    "        break\n",
    "    print(j)"
   ]
  },
  {
   "cell_type": "code",
   "execution_count": null,
   "metadata": {},
   "outputs": [],
   "source": []
  }
 ],
 "metadata": {
  "kernelspec": {
   "display_name": "ge",
   "language": "python",
   "name": "python3"
  },
  "language_info": {
   "codemirror_mode": {
    "name": "ipython",
    "version": 3
   },
   "file_extension": ".py",
   "mimetype": "text/x-python",
   "name": "python",
   "nbconvert_exporter": "python",
   "pygments_lexer": "ipython3",
   "version": "3.11.4"
  },
  "orig_nbformat": 4
 },
 "nbformat": 4,
 "nbformat_minor": 2
}
